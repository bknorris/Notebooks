{
 "cells": [
  {
   "cell_type": "markdown",
   "id": "b7d56e71",
   "metadata": {},
   "source": [
    "# Working with Emails in Python\n",
    "\n",
    "* Here we'll explore how to send emails as well as check our inbox for recieved messages.\n"
   ]
  },
  {
   "cell_type": "markdown",
   "id": "c9ea1287",
   "metadata": {},
   "source": [
    "## Sending Emails with Python\n",
    "\n",
    "<b>Steps:</b>\n",
    "1. Manually connect to an email server.\n",
    "2. Confirm the connection.\n",
    "3. Set a protocol.\n",
    "4. Log on.\n",
    "5. Send the message.\n",
    "\n",
    "Use the built-in library <code>smtplib</code> to do this."
   ]
  },
  {
   "cell_type": "code",
   "execution_count": 1,
   "id": "52838bb0",
   "metadata": {},
   "outputs": [],
   "source": [
    "import smtplib"
   ]
  },
  {
   "cell_type": "markdown",
   "id": "db466db0",
   "metadata": {},
   "source": [
    "Create an SMTP object for a server. Here are the main Server Domain Name for the top email services. If you don't see your email server here, you may need to do a quick Google Search to see if there SMTP server domain name is available:\n",
    "\n",
    "<table>\n",
    "\n",
    "<tr>\n",
    "    <th>Provider</th>\n",
    "    <th>SMTP server domain name </th>    \n",
    "</tr>\n",
    "\n",
    "<tr>\n",
    "    <td>Gmail (will need App Password)</td>\n",
    "    <td>smtp.gmail.com</td>\n",
    "</tr>\n",
    "<tr>\n",
    "    <td>Yahoo Mail</td>\n",
    "    <td>smtp.mail.yahoo.com</td>\n",
    "</tr>\n",
    "<tr>\n",
    "    <td>Outlook.com/Hotmail.com</td>\n",
    "    <td>smtp-mail.outlook.com</td>\n",
    "    \n",
    "</tr>\n",
    "\n",
    "<tr>\n",
    "    <td>AT&T</td>\n",
    "    <td>smpt.mail.att.net (Use port 465)</td>\n",
    "</tr>\n",
    "\n",
    "\n",
    "<tr>\n",
    "    <td>Verizon</td>\n",
    "    <td>smtp.verizon.net (Use port 465) </td>\n",
    "</tr>\n",
    "\n",
    "<tr>\n",
    "    <td>Comcast</td>\n",
    "    <td>smtp.comcast.net</td>\n",
    "</tr>\n",
    "\n",
    "</table>"
   ]
  },
  {
   "cell_type": "code",
   "execution_count": 2,
   "id": "807e6fe0",
   "metadata": {},
   "outputs": [],
   "source": [
    "smtpobj = smtplib.SMTP('smtp.gmail.com',587) #smtp server and port number"
   ]
  },
  {
   "cell_type": "code",
   "execution_count": 3,
   "id": "f39bfd31",
   "metadata": {},
   "outputs": [
    {
     "data": {
      "text/plain": [
       "(250,\n",
       " b'smtp.gmail.com at your service, [71.198.90.241]\\nSIZE 35882577\\n8BITMIME\\nSTARTTLS\\nENHANCEDSTATUSCODES\\nPIPELINING\\nCHUNKING\\nSMTPUTF8')"
      ]
     },
     "execution_count": 3,
     "metadata": {},
     "output_type": "execute_result"
    }
   ],
   "source": [
    "# Greet server and establish connection\n",
    "smtpobj.ehlo()"
   ]
  },
  {
   "cell_type": "code",
   "execution_count": 4,
   "id": "65a0fde3",
   "metadata": {},
   "outputs": [
    {
     "data": {
      "text/plain": [
       "(220, b'2.0.0 Ready to start TLS')"
      ]
     },
     "execution_count": 4,
     "metadata": {},
     "output_type": "execute_result"
    }
   ],
   "source": [
    "smtpobj.starttls()"
   ]
  },
  {
   "cell_type": "code",
   "execution_count": 5,
   "id": "76e1e6ab",
   "metadata": {},
   "outputs": [
    {
     "name": "stdout",
     "output_type": "stream",
     "text": [
      "Please enter a password: ········\n"
     ]
    }
   ],
   "source": [
    "# Email and password. You can use getpass to anonymize the password characters. It works like 'input'\n",
    "import getpass\n",
    "password = getpass.getpass('Please enter a password: ')"
   ]
  },
  {
   "cell_type": "code",
   "execution_count": 6,
   "id": "928c4e9d",
   "metadata": {},
   "outputs": [
    {
     "data": {
      "text/plain": [
       "'abcd'"
      ]
     },
     "execution_count": 6,
     "metadata": {},
     "output_type": "execute_result"
    }
   ],
   "source": [
    "password"
   ]
  },
  {
   "cell_type": "markdown",
   "id": "77e00282",
   "metadata": {},
   "source": [
    "* It might seem obvious, but don't save passwords on python scripts!\n",
    "* For gmail, generate app password to access gmail via a script\n",
    "    * https://support.google.com/accounts/answer/185833?hl=en\n",
    "    * Turn on two-factor identification on GMAIL\n",
    "    * Go to above link, create app password.\n",
    "    * Pass this password in for your own password to enter the GMAIL account.\n"
   ]
  },
  {
   "cell_type": "code",
   "execution_count": null,
   "id": "8ec9af76",
   "metadata": {},
   "outputs": [],
   "source": [
    "email = getpass.getpass('Email :')\n",
    "password = getpass.getpass('Password: ')\n",
    "smtp_object.login(email,password)"
   ]
  },
  {
   "cell_type": "code",
   "execution_count": 1,
   "id": "6eb6891a",
   "metadata": {},
   "outputs": [
    {
     "ename": "NameError",
     "evalue": "name 'email' is not defined",
     "output_type": "error",
     "traceback": [
      "\u001b[0;31m---------------------------------------------------------------------------\u001b[0m",
      "\u001b[0;31mNameError\u001b[0m                                 Traceback (most recent call last)",
      "\u001b[0;32m/tmp/ipykernel_551/3481968981.py\u001b[0m in \u001b[0;36m<module>\u001b[0;34m\u001b[0m\n\u001b[1;32m      1\u001b[0m \u001b[0;31m# Sending email\u001b[0m\u001b[0;34m\u001b[0m\u001b[0;34m\u001b[0m\u001b[0;34m\u001b[0m\u001b[0m\n\u001b[0;32m----> 2\u001b[0;31m \u001b[0mfrom_address\u001b[0m \u001b[0;34m=\u001b[0m \u001b[0memail\u001b[0m\u001b[0;34m\u001b[0m\u001b[0;34m\u001b[0m\u001b[0m\n\u001b[0m\u001b[1;32m      3\u001b[0m \u001b[0mto_address\u001b[0m \u001b[0;34m=\u001b[0m \u001b[0mrecipient\u001b[0m\u001b[0;34m\u001b[0m\u001b[0;34m\u001b[0m\u001b[0m\n\u001b[1;32m      4\u001b[0m \u001b[0msubject\u001b[0m \u001b[0;34m=\u001b[0m \u001b[0minput\u001b[0m\u001b[0;34m(\u001b[0m\u001b[0;34m'Enter email subject: '\u001b[0m\u001b[0;34m)\u001b[0m\u001b[0;34m\u001b[0m\u001b[0;34m\u001b[0m\u001b[0m\n\u001b[1;32m      5\u001b[0m \u001b[0mmessage\u001b[0m \u001b[0;34m=\u001b[0m \u001b[0minput\u001b[0m\u001b[0;34m(\u001b[0m\u001b[0;34m'Enter email body: '\u001b[0m\u001b[0;34m)\u001b[0m\u001b[0;34m\u001b[0m\u001b[0;34m\u001b[0m\u001b[0m\n",
      "\u001b[0;31mNameError\u001b[0m: name 'email' is not defined"
     ]
    }
   ],
   "source": [
    "# Sending email -- note I haven't run the cell above so email isn't defined.\n",
    "from_address = email\n",
    "to_address = recipient\n",
    "subject = input('Enter email subject: ')\n",
    "message = input('Enter email body: ')\n",
    "msg = \"Subject: \"+subject+'\\n'+message\n",
    "smtpobj.sendmail(from_address,to_address,msg)"
   ]
  },
  {
   "cell_type": "code",
   "execution_count": 3,
   "id": "826d4c28",
   "metadata": {},
   "outputs": [
    {
     "ename": "NameError",
     "evalue": "name 'smtpobj' is not defined",
     "output_type": "error",
     "traceback": [
      "\u001b[0;31m---------------------------------------------------------------------------\u001b[0m",
      "\u001b[0;31mNameError\u001b[0m                                 Traceback (most recent call last)",
      "\u001b[0;32m/tmp/ipykernel_551/2355648765.py\u001b[0m in \u001b[0;36m<module>\u001b[0;34m\u001b[0m\n\u001b[1;32m      1\u001b[0m \u001b[0;31m# Close session\u001b[0m\u001b[0;34m\u001b[0m\u001b[0;34m\u001b[0m\u001b[0;34m\u001b[0m\u001b[0m\n\u001b[0;32m----> 2\u001b[0;31m \u001b[0msmtpobj\u001b[0m\u001b[0;34m.\u001b[0m\u001b[0mquit\u001b[0m\u001b[0;34m(\u001b[0m\u001b[0;34m)\u001b[0m\u001b[0;34m\u001b[0m\u001b[0;34m\u001b[0m\u001b[0m\n\u001b[0m",
      "\u001b[0;31mNameError\u001b[0m: name 'smtpobj' is not defined"
     ]
    }
   ],
   "source": [
    "# Close session\n",
    "smtpobj.quit()"
   ]
  },
  {
   "cell_type": "markdown",
   "id": "8fb04a6b",
   "metadata": {},
   "source": [
    "## Receiving emails with Python\n",
    "\n",
    "* To receive emails with Python, we can use the built in <code>imaplib</code> and email libraries in Python. "
   ]
  },
  {
   "cell_type": "code",
   "execution_count": null,
   "id": "557aa902",
   "metadata": {},
   "outputs": [],
   "source": [
    "import imaplib"
   ]
  },
  {
   "cell_type": "markdown",
   "id": "e775a5f2",
   "metadata": {},
   "source": [
    "### Searching for mail\n",
    "\n",
    "https://docs.python.org/3/library/imaplib.html#module-imaplib"
   ]
  },
  {
   "cell_type": "code",
   "execution_count": null,
   "id": "37062b73",
   "metadata": {},
   "outputs": [],
   "source": [
    "M = imaplib.IMAP4_SSL('imap.gmail.com')"
   ]
  },
  {
   "cell_type": "code",
   "execution_count": null,
   "id": "c8984bf9",
   "metadata": {},
   "outputs": [],
   "source": [
    "import getpass\n",
    "email = getpass.getpass('Email: ')\n",
    "password = getpass.getpass('Password: ')"
   ]
  },
  {
   "cell_type": "code",
   "execution_count": null,
   "id": "287361ce",
   "metadata": {},
   "outputs": [],
   "source": [
    "M.login(email,password)"
   ]
  },
  {
   "cell_type": "code",
   "execution_count": null,
   "id": "ba6ac8a5",
   "metadata": {},
   "outputs": [],
   "source": [
    "M.list() # Lists email details"
   ]
  },
  {
   "cell_type": "code",
   "execution_count": null,
   "id": "817f0c84",
   "metadata": {},
   "outputs": [],
   "source": [
    "M.select('inbox') # Selects inbox"
   ]
  },
  {
   "cell_type": "code",
   "execution_count": null,
   "id": "9083aa87",
   "metadata": {},
   "outputs": [],
   "source": [
    "# Search inbox for some mail, for example, before 11/01/2000\n",
    "typ, data = M.search(None,'BEFORE 01-NOV-2000')"
   ]
  },
  {
   "cell_type": "code",
   "execution_count": null,
   "id": "ee4da440",
   "metadata": {},
   "outputs": [],
   "source": [
    "# Search inbox for some mail, for example, by subject called NEW TEST PYTHON\n",
    "typ, data = M.search(None,'SUBJECT \"NEW TEST PYTHON\"')\n",
    "# typ = OK\n",
    "# data = email ID"
   ]
  },
  {
   "cell_type": "code",
   "execution_count": null,
   "id": "01df949f",
   "metadata": {},
   "outputs": [],
   "source": [
    "email_id = data[0]\n",
    "result, email_data = M.fetch(email_id,'(RFC822)')\n",
    "# This receives the email with the subject NEW TEST PYTHON and includes the subject and message text"
   ]
  },
  {
   "cell_type": "code",
   "execution_count": null,
   "id": "662a1320",
   "metadata": {},
   "outputs": [],
   "source": [
    "email_str = email_data[0][1].decode('utf-8') #get the message string. This is an iterator and needs decoding..."
   ]
  },
  {
   "cell_type": "code",
   "execution_count": null,
   "id": "745b68af",
   "metadata": {},
   "outputs": [],
   "source": [
    "# Process message text. Requires a for loop...\n",
    "import email\n",
    "email_message = email.message_from_string(email_str) \n",
    "for part in email_message.walk():\n",
    "    if part.get_content_type() == 'text/plain': #can also use text/html\n",
    "        body = part.get_payload(decode=True)\n",
    "        print(body)"
   ]
  },
  {
   "cell_type": "code",
   "execution_count": null,
   "id": "b10199a3",
   "metadata": {},
   "outputs": [],
   "source": [
    "# Hopefully, the above will extract the body of the email text. \n",
    "# There are other methods for extracting email text. Maybe check the Python software repo."
   ]
  }
 ],
 "metadata": {
  "kernelspec": {
   "display_name": "Python 3 (ipykernel)",
   "language": "python",
   "name": "python3"
  },
  "language_info": {
   "codemirror_mode": {
    "name": "ipython",
    "version": 3
   },
   "file_extension": ".py",
   "mimetype": "text/x-python",
   "name": "python",
   "nbconvert_exporter": "python",
   "pygments_lexer": "ipython3",
   "version": "3.8.10"
  }
 },
 "nbformat": 4,
 "nbformat_minor": 5
}
