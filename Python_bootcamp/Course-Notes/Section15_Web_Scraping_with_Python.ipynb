{
 "cells": [
  {
   "cell_type": "markdown",
   "id": "6008db04",
   "metadata": {},
   "source": [
    "# Web Scraping with Python\n",
    "\n",
    "* In order to web scrape with Python, we need to understand the basic concepts of how a website works.\n",
    "* When a browser loads a website, the user gets to see what is known as the \"front-end\" of that website.\n",
    "* Main things we need to understand:\n",
    "    * \"Rules\" of web scraping\n",
    "    * Limitations of web scraping\n",
    "    * Basic HTML, CSS, and JavaScript\n"
   ]
  },
  {
   "cell_type": "markdown",
   "id": "f464799c",
   "metadata": {},
   "source": [
    "### Some rules of web scraping:\n",
    "\n",
    "* Always try to get permission. \n",
    "* Using too many scraping attempts or requests could get your IP address blocked.\n",
    "\n",
    "### Limitations:\n",
    "* Every website is unique, which means every scraping script is unique.\n",
    "* A slight change or update to a website may (likely) break your script."
   ]
  },
  {
   "cell_type": "markdown",
   "id": "1af012b7",
   "metadata": {},
   "source": [
    "### Main front end components of a website\n",
    "\n",
    "HTML + CSS + JS"
   ]
  },
  {
   "cell_type": "markdown",
   "id": "03a7066c",
   "metadata": {},
   "source": [
    "* HTML is used to create the basic structure and content of a webpage.\n",
    "* CSS is used for design and style of a web page, where elements are placed and how it looks.\n",
    "* JS is used to define the interactive elements of a website."
   ]
  },
  {
   "cell_type": "markdown",
   "id": "77b38e58",
   "metadata": {},
   "source": [
    "To web scrape with Python, we can use the <code>BeautifulSoup</code> and <code>requests</code> libraries. These are external libraries outside of Python and so you need to install them with either conda or pip at the command line."
   ]
  },
  {
   "cell_type": "markdown",
   "id": "f5bb762e",
   "metadata": {},
   "source": [
    "Since my Python installation is on C:/ using Conda/Spyder, I can't use Jupyter-Notebooks--which is installed on the Ubuntu distribution--to code with the web scraping modules. Please refer to the .py script <i>web_scraping_demo.py</i> under Python_bootcamp/Test-Scripts/"
   ]
  },
  {
   "cell_type": "markdown",
   "id": "63c45af7",
   "metadata": {},
   "source": [
    "## Grabbing a Class\n",
    "\n",
    "<table>\n",
    "\n",
    "<thead >\n",
    "<tr>\n",
    "<th>\n",
    "<p>Syntax to pass to the .select() method</p>\n",
    "</th>\n",
    "<th>\n",
    "<p>Match Results</p>\n",
    "</th>\n",
    "</tr>\n",
    "</thead>\n",
    "<tbody>\n",
    "<tr>\n",
    "<td>\n",
    "<p><code>soup.select('div')</code></p>\n",
    "</td>\n",
    "<td>\n",
    "<p>All elements with the <code>&lt;div&gt;</code> tag</p>\n",
    "</td>\n",
    "</tr>\n",
    "<tr>\n",
    "<td>\n",
    "<p><code>soup.select('#some_id')</code></p>\n",
    "</td>\n",
    "<td>\n",
    "<p>The HTML element containing the <code>id</code> attribute of <code>some_id</code></p>\n",
    "</td>\n",
    "</tr>\n",
    "<tr>\n",
    "<td>\n",
    "<p><code>soup.select('.notice')</code></p>\n",
    "</td>\n",
    "<td>\n",
    "<p>All the HTML elements with the CSS <code>class</code> named <code>notice</code></p>\n",
    "</td>\n",
    "</tr>\n",
    "<tr>\n",
    "<td>\n",
    "<p><code>soup.select('div span')</code></p>\n",
    "</td>\n",
    "<td>\n",
    "<p>Any elements named <code>&lt;span&gt;</code> that are within an element named <code>&lt;div&gt;</code></p>\n",
    "</td>\n",
    "</tr>\n",
    "<tr>\n",
    "<td>\n",
    "<p><code>soup.select('div &gt; span')</code></p>\n",
    "</td>\n",
    "<td>\n",
    "<p>Any elements named <code class=\"literal2\">&lt;span&gt;</code> that are <span><em >directly</em></span> within an element named <code class=\"literal2\">&lt;div&gt;</code>, with no other element in between</p>\n",
    "</td>\n",
    "</tr>\n",
    "<tr>\n",
    "\n",
    "</tr>\n",
    "</tbody>\n",
    "</table>"
   ]
  },
  {
   "cell_type": "code",
   "execution_count": null,
   "id": "c4949d9e",
   "metadata": {},
   "outputs": [],
   "source": []
  }
 ],
 "metadata": {
  "kernelspec": {
   "display_name": "Python 3 (ipykernel)",
   "language": "python",
   "name": "python3"
  },
  "language_info": {
   "codemirror_mode": {
    "name": "ipython",
    "version": 3
   },
   "file_extension": ".py",
   "mimetype": "text/x-python",
   "name": "python",
   "nbconvert_exporter": "python",
   "pygments_lexer": "ipython3",
   "version": "3.8.10"
  }
 },
 "nbformat": 4,
 "nbformat_minor": 5
}
