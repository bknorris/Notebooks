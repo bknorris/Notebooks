{
 "cells": [
  {
   "cell_type": "markdown",
   "id": "6008db04",
   "metadata": {},
   "source": [
    "# Web Scraping with Python\n",
    "\n",
    "* In order to web scrape with Python, we need to understand the basic concepts of how a website works.\n",
    "* When a browser loads a website, the user gets to see what is known as the \"front-end\" of that website.\n",
    "* Main things we need to understand:\n",
    "    * \"Rules\" of web scraping\n",
    "    * Limitations of web scraping\n",
    "    * Basic HTML, CSS, and JavaScript\n"
   ]
  },
  {
   "cell_type": "markdown",
   "id": "f464799c",
   "metadata": {},
   "source": [
    "### Some rules of web scraping:\n",
    "\n",
    "* Always try to get permission. \n",
    "* Using too many scraping attempts or requests could get your IP address blocked.\n",
    "\n",
    "### Limitations:\n",
    "* Every website is unique, which means every scraping script is unique.\n",
    "* A slight change or update to a website may (likely) break your script."
   ]
  },
  {
   "cell_type": "markdown",
   "id": "1af012b7",
   "metadata": {},
   "source": [
    "### Main front end components of a website\n",
    "\n",
    "HTML + CSS + JS"
   ]
  },
  {
   "cell_type": "markdown",
   "id": "03a7066c",
   "metadata": {},
   "source": [
    "* HTML is used to create the basic structure and content of a webpage.\n",
    "* CSS is used for design and style of a web page, where elements are placed and how it looks.\n",
    "* JS is used to define the interactive elements of a website."
   ]
  },
  {
   "cell_type": "markdown",
   "id": "77b38e58",
   "metadata": {},
   "source": [
    "To web scrape with Python, we can use the <code>BeautifulSoup</code> and <code>requests</code> libraries. These are external libraries outside of Python and so you need to install them with either conda or pip at the command line."
   ]
  },
  {
   "cell_type": "markdown",
   "id": "d9a1b901",
   "metadata": {},
   "source": [
    "Since my Python installation is on C:/ using Conda/Spyder, I can't use Jupyter-Notebooks--which is installed on the Ubuntu distribution--to code with the web scraping modules. Please refer to the .py script <i>web_scraping_demo.py</i> under Python_bootcamp/Test-Scripts/"
   ]
  },
  {
   "cell_type": "code",
   "execution_count": null,
   "id": "be4eb54b",
   "metadata": {},
   "outputs": [],
   "source": []
  }
 ],
 "metadata": {
  "kernelspec": {
   "display_name": "Python 3 (ipykernel)",
   "language": "python",
   "name": "python3"
  },
  "language_info": {
   "codemirror_mode": {
    "name": "ipython",
    "version": 3
   },
   "file_extension": ".py",
   "mimetype": "text/x-python",
   "name": "python",
   "nbconvert_exporter": "python",
   "pygments_lexer": "ipython3",
   "version": "3.8.10"
  }
 },
 "nbformat": 4,
 "nbformat_minor": 5
}
