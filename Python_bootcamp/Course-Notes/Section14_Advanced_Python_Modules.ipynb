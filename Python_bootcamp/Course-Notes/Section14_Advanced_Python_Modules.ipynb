{
 "cells": [
  {
   "cell_type": "markdown",
   "id": "232a78ab",
   "metadata": {},
   "source": [
    "## Advanced Python Modules"
   ]
  },
  {
   "cell_type": "markdown",
   "id": "37844058",
   "metadata": {},
   "source": [
    "The modules we will cover in this section of the course are:\n",
    "* Collections\n",
    "* Os module and Datetime\n",
    "* Math and Random\n",
    "* Python Debugger\n",
    "* Timeit\n",
    "* Regular Expressions\n",
    "* Unzipping and Zipping modules"
   ]
  },
  {
   "cell_type": "markdown",
   "id": "3180a9dc",
   "metadata": {},
   "source": [
    "### Python Collections Module"
   ]
  },
  {
   "cell_type": "code",
   "execution_count": 2,
   "id": "9cff62b4",
   "metadata": {},
   "outputs": [],
   "source": [
    "# The counter class\n",
    "from collections import Counter"
   ]
  },
  {
   "cell_type": "code",
   "execution_count": 4,
   "id": "7b81d970",
   "metadata": {},
   "outputs": [
    {
     "data": {
      "text/plain": [
       "Counter({1: 1, 2: 1, 4: 3, 5: 3, 6: 4, 7: 1, 8: 1})"
      ]
     },
     "execution_count": 4,
     "metadata": {},
     "output_type": "execute_result"
    }
   ],
   "source": [
    "mylist = [1,2,4,4,4,5,5,5,6,6,6,6,7,8]\n",
    "#Now count how many 1,2,4,etc.?\n",
    "\n",
    "Counter(mylist)"
   ]
  },
  {
   "cell_type": "code",
   "execution_count": 8,
   "id": "976cf84d",
   "metadata": {},
   "outputs": [
    {
     "data": {
      "text/plain": [
       "3"
      ]
     },
     "execution_count": 8,
     "metadata": {},
     "output_type": "execute_result"
    }
   ],
   "source": [
    "#So Counter \"counts\" the number of occurences of items in a list.\n",
    "\n",
    "#This code for curiosity, can I access an item in the Counter list...\n",
    "c = Counter(mylist)\n",
    "c[5]"
   ]
  },
  {
   "cell_type": "code",
   "execution_count": 9,
   "id": "65147cc0",
   "metadata": {},
   "outputs": [
    {
     "name": "stdout",
     "output_type": "stream",
     "text": [
      "[1, 2, 4, 5, 6, 7, 8]\n"
     ]
    }
   ],
   "source": [
    "print(list(c.keys()))"
   ]
  },
  {
   "cell_type": "code",
   "execution_count": 10,
   "id": "c2c8f3b4",
   "metadata": {},
   "outputs": [
    {
     "name": "stdout",
     "output_type": "stream",
     "text": [
      "[1, 1, 3, 3, 4, 1, 1]\n"
     ]
    }
   ],
   "source": [
    "print(list(c.values()))"
   ]
  },
  {
   "cell_type": "markdown",
   "id": "20d18b1a",
   "metadata": {},
   "source": [
    "Neat. This is basically like the \"hist\" command in MATLAB."
   ]
  },
  {
   "cell_type": "code",
   "execution_count": 12,
   "id": "cc62afbe",
   "metadata": {},
   "outputs": [
    {
     "name": "stdout",
     "output_type": "stream",
     "text": [
      "Counter({'b': 5, 'a': 4, 'c': 4, 'f': 3, 'h': 3, 'd': 2, 'e': 2, 'g': 2})\n"
     ]
    }
   ],
   "source": [
    "#Here's another example\n",
    "letters = 'aaaabbbbbccccddeefffgghhh'\n",
    "c = Counter(letters)\n",
    "print(c)"
   ]
  },
  {
   "cell_type": "code",
   "execution_count": 14,
   "id": "eb29e5ed",
   "metadata": {},
   "outputs": [
    {
     "data": {
      "text/plain": [
       "[('b', 5),\n",
       " ('a', 4),\n",
       " ('c', 4),\n",
       " ('f', 3),\n",
       " ('h', 3),\n",
       " ('d', 2),\n",
       " ('e', 2),\n",
       " ('g', 2)]"
      ]
     },
     "execution_count": 14,
     "metadata": {},
     "output_type": "execute_result"
    }
   ],
   "source": [
    "# This sorts the items in the counter dict\n",
    "c.most_common()"
   ]
  },
  {
   "cell_type": "markdown",
   "id": "c77843bb",
   "metadata": {},
   "source": [
    "#### Common patterns when using the Counter() object"
   ]
  },
  {
   "cell_type": "markdown",
   "id": "0bc174cd",
   "metadata": {},
   "source": [
    "    sum(c.values())                 # total of all counts\n",
    "    c.clear()                       # reset all counts\n",
    "    list(c)                         # list unique elements\n",
    "    set(c)                          # convert to a set\n",
    "    dict(c)                         # convert to a regular dictionary\n",
    "    c.items()                       # convert to a list of (elem, cnt) pairs\n",
    "    Counter(dict(list_of_pairs))    # convert from a list of (elem, cnt) pairs\n",
    "    c.most_common()[:-n-1:-1]       # n least common elements\n",
    "    c += Counter()                  # remove zero and negative counts"
   ]
  },
  {
   "cell_type": "code",
   "execution_count": 16,
   "id": "36977284",
   "metadata": {},
   "outputs": [],
   "source": [
    "# Now onto defaultdict\n",
    "from collections import defaultdict"
   ]
  },
  {
   "cell_type": "code",
   "execution_count": 19,
   "id": "3089cb87",
   "metadata": {},
   "outputs": [],
   "source": [
    "d = {'a':10} # a normal dict"
   ]
  },
  {
   "cell_type": "code",
   "execution_count": 20,
   "id": "b743c0e5",
   "metadata": {},
   "outputs": [
    {
     "data": {
      "text/plain": [
       "10"
      ]
     },
     "execution_count": 20,
     "metadata": {},
     "output_type": "execute_result"
    }
   ],
   "source": [
    "d['a']"
   ]
  },
  {
   "cell_type": "code",
   "execution_count": 22,
   "id": "3b030c2a",
   "metadata": {},
   "outputs": [
    {
     "ename": "KeyError",
     "evalue": "'b'",
     "output_type": "error",
     "traceback": [
      "\u001b[0;31m---------------------------------------------------------------------------\u001b[0m",
      "\u001b[0;31mKeyError\u001b[0m                                  Traceback (most recent call last)",
      "\u001b[0;32m/tmp/ipykernel_2026/1194781086.py\u001b[0m in \u001b[0;36m<module>\u001b[0;34m\u001b[0m\n\u001b[0;32m----> 1\u001b[0;31m \u001b[0md\u001b[0m\u001b[0;34m[\u001b[0m\u001b[0;34m'b'\u001b[0m\u001b[0;34m]\u001b[0m \u001b[0;31m# this doesnt exist in d as of yet\u001b[0m\u001b[0;34m\u001b[0m\u001b[0;34m\u001b[0m\u001b[0m\n\u001b[0m",
      "\u001b[0;31mKeyError\u001b[0m: 'b'"
     ]
    }
   ],
   "source": [
    "d['b'] # this doesnt exist in d as of yet"
   ]
  },
  {
   "cell_type": "code",
   "execution_count": 28,
   "id": "b323dba8",
   "metadata": {},
   "outputs": [],
   "source": [
    "# using defaultdict\n",
    "# You use a lambda expression as a single instance to assign a default value to a dictionary, \n",
    "# so that way if a key is asked for that does not currently exist, a default value is added.\n",
    "d = defaultdict(lambda: 0)"
   ]
  },
  {
   "cell_type": "code",
   "execution_count": 24,
   "id": "42ba80a1",
   "metadata": {},
   "outputs": [],
   "source": [
    "d['a'] = 100"
   ]
  },
  {
   "cell_type": "code",
   "execution_count": 25,
   "id": "7f0bad20",
   "metadata": {},
   "outputs": [
    {
     "data": {
      "text/plain": [
       "0"
      ]
     },
     "execution_count": 25,
     "metadata": {},
     "output_type": "execute_result"
    }
   ],
   "source": [
    "d['b']"
   ]
  },
  {
   "cell_type": "code",
   "execution_count": 26,
   "id": "6e27f588",
   "metadata": {},
   "outputs": [
    {
     "name": "stdout",
     "output_type": "stream",
     "text": [
      "defaultdict(<function <lambda> at 0x7efff7a8caf0>, {'a': 100, 'b': 0})\n"
     ]
    }
   ],
   "source": [
    "print(d)"
   ]
  },
  {
   "cell_type": "code",
   "execution_count": 29,
   "id": "e3302478",
   "metadata": {},
   "outputs": [],
   "source": [
    "# Now onto namedtuple\n",
    "my_tuple = (10,20,30)"
   ]
  },
  {
   "cell_type": "code",
   "execution_count": 30,
   "id": "bafc7aa8",
   "metadata": {},
   "outputs": [
    {
     "data": {
      "text/plain": [
       "10"
      ]
     },
     "execution_count": 30,
     "metadata": {},
     "output_type": "execute_result"
    }
   ],
   "source": [
    "my_tuple[0]"
   ]
  },
  {
   "cell_type": "code",
   "execution_count": 31,
   "id": "d6cbf353",
   "metadata": {},
   "outputs": [],
   "source": [
    "from collections import namedtuple"
   ]
  },
  {
   "cell_type": "code",
   "execution_count": 32,
   "id": "9ab0aaf9",
   "metadata": {},
   "outputs": [],
   "source": [
    "Dog = namedtuple('Dog',['age','breed','name'])"
   ]
  },
  {
   "cell_type": "code",
   "execution_count": 33,
   "id": "033e3308",
   "metadata": {},
   "outputs": [],
   "source": [
    "sammy = Dog(age=5,breed='Husky',name='Sammy')"
   ]
  },
  {
   "cell_type": "code",
   "execution_count": 36,
   "id": "eeba9b23",
   "metadata": {},
   "outputs": [
    {
     "data": {
      "text/plain": [
       "Dog(age=5, breed='Husky', name='Sammy')"
      ]
     },
     "execution_count": 36,
     "metadata": {},
     "output_type": "execute_result"
    }
   ],
   "source": [
    "sammy"
   ]
  },
  {
   "cell_type": "code",
   "execution_count": 39,
   "id": "45de9451",
   "metadata": {},
   "outputs": [
    {
     "data": {
      "text/plain": [
       "5"
      ]
     },
     "execution_count": 39,
     "metadata": {},
     "output_type": "execute_result"
    }
   ],
   "source": [
    "sammy.age"
   ]
  },
  {
   "cell_type": "code",
   "execution_count": 40,
   "id": "a56fd89d",
   "metadata": {},
   "outputs": [
    {
     "data": {
      "text/plain": [
       "5"
      ]
     },
     "execution_count": 40,
     "metadata": {},
     "output_type": "execute_result"
    }
   ],
   "source": [
    "sammy[0]"
   ]
  },
  {
   "cell_type": "markdown",
   "id": "e3b021d2",
   "metadata": {},
   "source": [
    "This latter case is really useful for large tuples where you might not remember where a specific value is. Here with namedtuple, you can assign names to the values, making them easier to reference later on."
   ]
  },
  {
   "cell_type": "code",
   "execution_count": null,
   "id": "a90174ce",
   "metadata": {},
   "outputs": [],
   "source": []
  }
 ],
 "metadata": {
  "kernelspec": {
   "display_name": "Python 3 (ipykernel)",
   "language": "python",
   "name": "python3"
  },
  "language_info": {
   "codemirror_mode": {
    "name": "ipython",
    "version": 3
   },
   "file_extension": ".py",
   "mimetype": "text/x-python",
   "name": "python",
   "nbconvert_exporter": "python",
   "pygments_lexer": "ipython3",
   "version": "3.8.10"
  }
 },
 "nbformat": 4,
 "nbformat_minor": 5
}
