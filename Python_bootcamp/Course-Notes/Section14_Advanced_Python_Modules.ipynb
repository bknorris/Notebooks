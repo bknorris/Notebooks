{
 "cells": [
  {
   "cell_type": "markdown",
   "id": "232a78ab",
   "metadata": {},
   "source": [
    "## Advanced Python Modules"
   ]
  },
  {
   "cell_type": "markdown",
   "id": "37844058",
   "metadata": {},
   "source": [
    "The modules we will cover in this section of the course are:\n",
    "* Collections\n",
    "* Os module and Datetime\n",
    "* Math and Random\n",
    "* Python Debugger\n",
    "* Timeit\n",
    "* Regular Expressions\n",
    "* Unzipping and Zipping modules"
   ]
  },
  {
   "cell_type": "markdown",
   "id": "3180a9dc",
   "metadata": {},
   "source": [
    "### Python Collections Module"
   ]
  },
  {
   "cell_type": "code",
   "execution_count": 2,
   "id": "9cff62b4",
   "metadata": {},
   "outputs": [],
   "source": [
    "# The counter class\n",
    "from collections import Counter"
   ]
  },
  {
   "cell_type": "code",
   "execution_count": 4,
   "id": "7b81d970",
   "metadata": {},
   "outputs": [
    {
     "data": {
      "text/plain": [
       "Counter({1: 1, 2: 1, 4: 3, 5: 3, 6: 4, 7: 1, 8: 1})"
      ]
     },
     "execution_count": 4,
     "metadata": {},
     "output_type": "execute_result"
    }
   ],
   "source": [
    "mylist = [1,2,4,4,4,5,5,5,6,6,6,6,7,8]\n",
    "#Now count how many 1,2,4,etc.?\n",
    "\n",
    "Counter(mylist)"
   ]
  },
  {
   "cell_type": "code",
   "execution_count": 8,
   "id": "976cf84d",
   "metadata": {},
   "outputs": [
    {
     "data": {
      "text/plain": [
       "3"
      ]
     },
     "execution_count": 8,
     "metadata": {},
     "output_type": "execute_result"
    }
   ],
   "source": [
    "#So Counter \"counts\" the number of occurences of items in a list.\n",
    "\n",
    "#This code for curiosity, can I access an item in the Counter list...\n",
    "c = Counter(mylist)\n",
    "c[5]"
   ]
  },
  {
   "cell_type": "code",
   "execution_count": 9,
   "id": "65147cc0",
   "metadata": {},
   "outputs": [
    {
     "name": "stdout",
     "output_type": "stream",
     "text": [
      "[1, 2, 4, 5, 6, 7, 8]\n"
     ]
    }
   ],
   "source": [
    "print(list(c.keys()))"
   ]
  },
  {
   "cell_type": "code",
   "execution_count": 10,
   "id": "c2c8f3b4",
   "metadata": {},
   "outputs": [
    {
     "name": "stdout",
     "output_type": "stream",
     "text": [
      "[1, 1, 3, 3, 4, 1, 1]\n"
     ]
    }
   ],
   "source": [
    "print(list(c.values()))"
   ]
  },
  {
   "cell_type": "markdown",
   "id": "20d18b1a",
   "metadata": {},
   "source": [
    "Neat. This is basically like the \"hist\" command in MATLAB."
   ]
  },
  {
   "cell_type": "code",
   "execution_count": 12,
   "id": "cc62afbe",
   "metadata": {},
   "outputs": [
    {
     "name": "stdout",
     "output_type": "stream",
     "text": [
      "Counter({'b': 5, 'a': 4, 'c': 4, 'f': 3, 'h': 3, 'd': 2, 'e': 2, 'g': 2})\n"
     ]
    }
   ],
   "source": [
    "#Here's another example\n",
    "letters = 'aaaabbbbbccccddeefffgghhh'\n",
    "c = Counter(letters)\n",
    "print(c)"
   ]
  },
  {
   "cell_type": "code",
   "execution_count": 14,
   "id": "eb29e5ed",
   "metadata": {},
   "outputs": [
    {
     "data": {
      "text/plain": [
       "[('b', 5),\n",
       " ('a', 4),\n",
       " ('c', 4),\n",
       " ('f', 3),\n",
       " ('h', 3),\n",
       " ('d', 2),\n",
       " ('e', 2),\n",
       " ('g', 2)]"
      ]
     },
     "execution_count": 14,
     "metadata": {},
     "output_type": "execute_result"
    }
   ],
   "source": [
    "# This sorts the items in the counter dict\n",
    "c.most_common()"
   ]
  },
  {
   "cell_type": "markdown",
   "id": "c77843bb",
   "metadata": {},
   "source": [
    "#### Common patterns when using the Counter() object"
   ]
  },
  {
   "cell_type": "markdown",
   "id": "0bc174cd",
   "metadata": {},
   "source": [
    "    sum(c.values())                 # total of all counts\n",
    "    c.clear()                       # reset all counts\n",
    "    list(c)                         # list unique elements\n",
    "    set(c)                          # convert to a set\n",
    "    dict(c)                         # convert to a regular dictionary\n",
    "    c.items()                       # convert to a list of (elem, cnt) pairs\n",
    "    Counter(dict(list_of_pairs))    # convert from a list of (elem, cnt) pairs\n",
    "    c.most_common()[:-n-1:-1]       # n least common elements\n",
    "    c += Counter()                  # remove zero and negative counts"
   ]
  },
  {
   "cell_type": "code",
   "execution_count": 16,
   "id": "36977284",
   "metadata": {},
   "outputs": [],
   "source": [
    "# Now onto defaultdict\n",
    "from collections import defaultdict"
   ]
  },
  {
   "cell_type": "code",
   "execution_count": 19,
   "id": "3089cb87",
   "metadata": {},
   "outputs": [],
   "source": [
    "d = {'a':10} # a normal dict"
   ]
  },
  {
   "cell_type": "code",
   "execution_count": 20,
   "id": "b743c0e5",
   "metadata": {},
   "outputs": [
    {
     "data": {
      "text/plain": [
       "10"
      ]
     },
     "execution_count": 20,
     "metadata": {},
     "output_type": "execute_result"
    }
   ],
   "source": [
    "d['a']"
   ]
  },
  {
   "cell_type": "code",
   "execution_count": 22,
   "id": "3b030c2a",
   "metadata": {},
   "outputs": [
    {
     "ename": "KeyError",
     "evalue": "'b'",
     "output_type": "error",
     "traceback": [
      "\u001b[0;31m---------------------------------------------------------------------------\u001b[0m",
      "\u001b[0;31mKeyError\u001b[0m                                  Traceback (most recent call last)",
      "\u001b[0;32m/tmp/ipykernel_2026/1194781086.py\u001b[0m in \u001b[0;36m<module>\u001b[0;34m\u001b[0m\n\u001b[0;32m----> 1\u001b[0;31m \u001b[0md\u001b[0m\u001b[0;34m[\u001b[0m\u001b[0;34m'b'\u001b[0m\u001b[0;34m]\u001b[0m \u001b[0;31m# this doesnt exist in d as of yet\u001b[0m\u001b[0;34m\u001b[0m\u001b[0;34m\u001b[0m\u001b[0m\n\u001b[0m",
      "\u001b[0;31mKeyError\u001b[0m: 'b'"
     ]
    }
   ],
   "source": [
    "d['b'] # this doesnt exist in d as of yet"
   ]
  },
  {
   "cell_type": "code",
   "execution_count": 28,
   "id": "b323dba8",
   "metadata": {},
   "outputs": [],
   "source": [
    "# using defaultdict\n",
    "# You use a lambda expression as a single instance to assign a default value to a dictionary, \n",
    "# so that way if a key is asked for that does not currently exist, a default value is added.\n",
    "d = defaultdict(lambda: 0)"
   ]
  },
  {
   "cell_type": "code",
   "execution_count": 24,
   "id": "42ba80a1",
   "metadata": {},
   "outputs": [],
   "source": [
    "d['a'] = 100"
   ]
  },
  {
   "cell_type": "code",
   "execution_count": 25,
   "id": "7f0bad20",
   "metadata": {},
   "outputs": [
    {
     "data": {
      "text/plain": [
       "0"
      ]
     },
     "execution_count": 25,
     "metadata": {},
     "output_type": "execute_result"
    }
   ],
   "source": [
    "d['b']"
   ]
  },
  {
   "cell_type": "code",
   "execution_count": 26,
   "id": "6e27f588",
   "metadata": {},
   "outputs": [
    {
     "name": "stdout",
     "output_type": "stream",
     "text": [
      "defaultdict(<function <lambda> at 0x7efff7a8caf0>, {'a': 100, 'b': 0})\n"
     ]
    }
   ],
   "source": [
    "print(d)"
   ]
  },
  {
   "cell_type": "code",
   "execution_count": 29,
   "id": "e3302478",
   "metadata": {},
   "outputs": [],
   "source": [
    "# Now onto namedtuple\n",
    "my_tuple = (10,20,30)"
   ]
  },
  {
   "cell_type": "code",
   "execution_count": 30,
   "id": "bafc7aa8",
   "metadata": {},
   "outputs": [
    {
     "data": {
      "text/plain": [
       "10"
      ]
     },
     "execution_count": 30,
     "metadata": {},
     "output_type": "execute_result"
    }
   ],
   "source": [
    "my_tuple[0]"
   ]
  },
  {
   "cell_type": "code",
   "execution_count": 31,
   "id": "d6cbf353",
   "metadata": {},
   "outputs": [],
   "source": [
    "from collections import namedtuple"
   ]
  },
  {
   "cell_type": "code",
   "execution_count": 32,
   "id": "9ab0aaf9",
   "metadata": {},
   "outputs": [],
   "source": [
    "Dog = namedtuple('Dog',['age','breed','name'])"
   ]
  },
  {
   "cell_type": "code",
   "execution_count": 33,
   "id": "033e3308",
   "metadata": {},
   "outputs": [],
   "source": [
    "sammy = Dog(age=5,breed='Husky',name='Sammy')"
   ]
  },
  {
   "cell_type": "code",
   "execution_count": 36,
   "id": "eeba9b23",
   "metadata": {},
   "outputs": [
    {
     "data": {
      "text/plain": [
       "Dog(age=5, breed='Husky', name='Sammy')"
      ]
     },
     "execution_count": 36,
     "metadata": {},
     "output_type": "execute_result"
    }
   ],
   "source": [
    "sammy"
   ]
  },
  {
   "cell_type": "code",
   "execution_count": 39,
   "id": "45de9451",
   "metadata": {},
   "outputs": [
    {
     "data": {
      "text/plain": [
       "5"
      ]
     },
     "execution_count": 39,
     "metadata": {},
     "output_type": "execute_result"
    }
   ],
   "source": [
    "sammy.age"
   ]
  },
  {
   "cell_type": "code",
   "execution_count": 40,
   "id": "a56fd89d",
   "metadata": {},
   "outputs": [
    {
     "data": {
      "text/plain": [
       "5"
      ]
     },
     "execution_count": 40,
     "metadata": {},
     "output_type": "execute_result"
    }
   ],
   "source": [
    "sammy[0]"
   ]
  },
  {
   "cell_type": "markdown",
   "id": "e3b021d2",
   "metadata": {},
   "source": [
    "This latter case is really useful for large tuples where you might not remember where a specific value is. Here with namedtuple, you can assign names to the values, making them easier to reference later on."
   ]
  },
  {
   "cell_type": "markdown",
   "id": "c45c9f06",
   "metadata": {},
   "source": [
    "### Shutil and OS Modules\n",
    "\n",
    "Opening and reading files and folders"
   ]
  },
  {
   "cell_type": "code",
   "execution_count": 1,
   "id": "574d1517",
   "metadata": {},
   "outputs": [
    {
     "data": {
      "text/plain": [
       "'/mnt/c/Users/bknorris/Documents/Scripts/Python/Python_bootcamp/Course-Notes'"
      ]
     },
     "execution_count": 1,
     "metadata": {},
     "output_type": "execute_result"
    }
   ],
   "source": [
    "pwd"
   ]
  },
  {
   "cell_type": "code",
   "execution_count": 3,
   "id": "88356e35",
   "metadata": {},
   "outputs": [],
   "source": [
    "# Create a practice file to work with\n",
    "f = open('practice.txt','w+')\n",
    "f.write('This is a test!')\n",
    "f.close()"
   ]
  },
  {
   "cell_type": "code",
   "execution_count": 4,
   "id": "343344a4",
   "metadata": {},
   "outputs": [
    {
     "name": "stdout",
     "output_type": "stream",
     "text": [
      "\u001b[0m\u001b[01;32mSection10_Errors_and_exception_handling.ipynb\u001b[0m*\r\n",
      "\u001b[01;32mSection11_MilestoneProject2.ipynb\u001b[0m*\r\n",
      "\u001b[01;32mSection12_Python_Decorators.ipynb\u001b[0m*\r\n",
      "\u001b[01;32mSection13_Generators_with_Python.ipynb\u001b[0m*\r\n",
      "\u001b[01;32mSection14_Advanced_Python_Modules.ipynb\u001b[0m*\r\n",
      "\u001b[01;32mSection3_PythonObject_and_DataStructrue_Basics.ipynb\u001b[0m*\r\n",
      "\u001b[01;32mSection4_Python_Comparison_Operators.ipynb\u001b[0m*\r\n",
      "\u001b[01;32mSection5_PythonStatements.ipynb\u001b[0m*\r\n",
      "\u001b[01;32mSection6_MethodsAndFunctions.ipynb\u001b[0m*\r\n",
      "\u001b[01;32mSection7_MilestoneProject1.ipynb\u001b[0m*\r\n",
      "\u001b[01;32mSection8_Object_Oriented_Programming.ipynb\u001b[0m*\r\n",
      "\u001b[01;32mSection9_Modules_and_Packages.ipynb\u001b[0m*\r\n",
      "\u001b[01;32mmy_first_notebook.ipynb\u001b[0m*\r\n",
      "\u001b[01;32mmyfile.txt\u001b[0m*\r\n",
      "\u001b[01;32mpractice.txt\u001b[0m*\r\n",
      "\u001b[01;32mtestfile\u001b[0m*\r\n"
     ]
    }
   ],
   "source": [
    "ls"
   ]
  },
  {
   "cell_type": "code",
   "execution_count": 5,
   "id": "b57a3810",
   "metadata": {},
   "outputs": [
    {
     "data": {
      "text/plain": [
       "'/mnt/c/Users/bknorris/Documents/Scripts/Python/Python_bootcamp/Course-Notes'"
      ]
     },
     "execution_count": 5,
     "metadata": {},
     "output_type": "execute_result"
    }
   ],
   "source": [
    "# The OS module is useful because you can get the current dir or list files in a directory\n",
    "# NOTE: commands like 'pwd' and 'ls' work in Jupyter but won't necessarily work across all Python distros.\n",
    "# This is where the OS module comes into play.\n",
    "\n",
    "import os\n",
    "os.getcwd()"
   ]
  },
  {
   "cell_type": "code",
   "execution_count": 6,
   "id": "c7f6c40d",
   "metadata": {},
   "outputs": [
    {
     "data": {
      "text/plain": [
       "['.ipynb_checkpoints',\n",
       " 'myfile.txt',\n",
       " 'my_first_notebook.ipynb',\n",
       " 'practice.txt',\n",
       " 'Section10_Errors_and_exception_handling.ipynb',\n",
       " 'Section11_MilestoneProject2.ipynb',\n",
       " 'Section12_Python_Decorators.ipynb',\n",
       " 'Section13_Generators_with_Python.ipynb',\n",
       " 'Section14_Advanced_Python_Modules.ipynb',\n",
       " 'Section3_PythonObject_and_DataStructrue_Basics.ipynb',\n",
       " 'Section4_Python_Comparison_Operators.ipynb',\n",
       " 'Section5_PythonStatements.ipynb',\n",
       " 'Section6_MethodsAndFunctions.ipynb',\n",
       " 'Section7_MilestoneProject1.ipynb',\n",
       " 'Section8_Object_Oriented_Programming.ipynb',\n",
       " 'Section9_Modules_and_Packages.ipynb',\n",
       " 'testfile']"
      ]
     },
     "execution_count": 6,
     "metadata": {},
     "output_type": "execute_result"
    }
   ],
   "source": [
    "os.listdir()"
   ]
  },
  {
   "cell_type": "code",
   "execution_count": 7,
   "id": "1f2d8ff3",
   "metadata": {},
   "outputs": [
    {
     "data": {
      "text/plain": [
       "['Adobe',\n",
       " 'ArcGIS',\n",
       " 'Custom Office Templates',\n",
       " 'Data',\n",
       " 'desktop.ini',\n",
       " 'Documents',\n",
       " 'Downloads',\n",
       " 'FME',\n",
       " 'IPDS',\n",
       " 'MATLAB',\n",
       " 'Models',\n",
       " 'My Music',\n",
       " 'My Pictures',\n",
       " 'My Videos',\n",
       " 'Papers',\n",
       " 'Presentations',\n",
       " 'Scripts',\n",
       " 'Software',\n",
       " 'VisIt',\n",
       " 'Writing',\n",
       " 'Zoom']"
      ]
     },
     "execution_count": 7,
     "metadata": {},
     "output_type": "execute_result"
    }
   ],
   "source": [
    "# Look at a different directory\n",
    "os.listdir('/mnt/c/Users/bknorris/Documents/')"
   ]
  },
  {
   "cell_type": "code",
   "execution_count": 10,
   "id": "5f193d73",
   "metadata": {},
   "outputs": [
    {
     "data": {
      "text/plain": [
       "'/mnt/c/Users/bknorris/Documents/Scripts/Python/Python_bootcamp/Test-Scripts/practice.txt'"
      ]
     },
     "execution_count": 10,
     "metadata": {},
     "output_type": "execute_result"
    }
   ],
   "source": [
    "# Moving files in Python\n",
    "import shutil\n",
    "file='practice.txt'\n",
    "dest = '/mnt/c/Users/bknorris/Documents/Scripts/Python/Python_bootcamp/Test-Scripts'\n",
    "shutil.move(file,dest)"
   ]
  },
  {
   "cell_type": "code",
   "execution_count": 11,
   "id": "65f28cfd",
   "metadata": {},
   "outputs": [
    {
     "data": {
      "text/plain": [
       "['cap_text.py',\n",
       " 'hello.py',\n",
       " 'linter_test.py',\n",
       " 'practice.txt',\n",
       " 'test.py',\n",
       " 'test2',\n",
       " 'test2.py',\n",
       " 'TestCSV.csv',\n",
       " 'test_cap.py',\n",
       " '__pycache__']"
      ]
     },
     "execution_count": 11,
     "metadata": {},
     "output_type": "execute_result"
    }
   ],
   "source": [
    "os.listdir(dest)"
   ]
  },
  {
   "cell_type": "markdown",
   "id": "3ee59a9e",
   "metadata": {},
   "source": [
    "#### Deleting a file\n",
    "\n",
    "The course recommends installing send2trash with <code>pip install send2trash</code> because it is the least risky method of removing files from the OS. Other methods:\n",
    "\n",
    "**NOTE: The os module provides 3 methods for deleting files:**\n",
    "* os.unlink(path) which deletes a file at the path your provide\n",
    "* os.rmdir(path) which deletes a folder (folder must be empty) at the path your provide\n",
    "* shutil.rmtree(path) this is the most dangerous, as it will remove all files and folders contained in the path.\n",
    "**All of these methods can not be reversed! Which means if you make a mistake you won't be able to recover the file. Instead we will use the send2trash module. A safer alternative that sends deleted files to the trash bin instead of permanent removal.**"
   ]
  },
  {
   "cell_type": "code",
   "execution_count": 13,
   "id": "647ba4a5",
   "metadata": {},
   "outputs": [],
   "source": [
    "os.unlink(dest + \"/\" + file)"
   ]
  },
  {
   "cell_type": "code",
   "execution_count": 14,
   "id": "dd4dcf30",
   "metadata": {},
   "outputs": [
    {
     "data": {
      "text/plain": [
       "['cap_text.py',\n",
       " 'hello.py',\n",
       " 'linter_test.py',\n",
       " 'test.py',\n",
       " 'test2',\n",
       " 'test2.py',\n",
       " 'TestCSV.csv',\n",
       " 'test_cap.py',\n",
       " '__pycache__']"
      ]
     },
     "execution_count": 14,
     "metadata": {},
     "output_type": "execute_result"
    }
   ],
   "source": [
    "os.listdir(dest)"
   ]
  },
  {
   "cell_type": "code",
   "execution_count": 20,
   "id": "32a9d6a4",
   "metadata": {},
   "outputs": [
    {
     "name": "stdout",
     "output_type": "stream",
     "text": [
      "Current looking at /mnt/c/Users/bknorris/Documents/Scripts/Python\n",
      "\n",
      "The subdirectories are: \n",
      ".git\n",
      "Notebooks\n",
      "Postdoc\n",
      "Python_bootcamp\n",
      "\n",
      "\n",
      "The files are: \n",
      "\n",
      "\n",
      "Current looking at /mnt/c/Users/bknorris/Documents/Scripts/Python/.git\n",
      "\n",
      "The subdirectories are: \n",
      "branches\n",
      "hooks\n",
      "info\n",
      "logs\n",
      "objects\n",
      "refs\n",
      "\n",
      "\n",
      "The files are: \n",
      "File: COMMIT_EDITMSG\n",
      "File: config\n",
      "File: description\n",
      "File: HEAD\n",
      "File: index\n",
      "\n",
      "\n",
      "Current looking at /mnt/c/Users/bknorris/Documents/Scripts/Python/.git/branches\n",
      "\n",
      "The subdirectories are: \n",
      "\n",
      "\n",
      "The files are: \n",
      "\n",
      "\n",
      "Current looking at /mnt/c/Users/bknorris/Documents/Scripts/Python/.git/hooks\n",
      "\n",
      "The subdirectories are: \n",
      "\n",
      "\n",
      "The files are: \n",
      "File: applypatch-msg.sample\n",
      "File: commit-msg.sample\n",
      "File: fsmonitor-watchman.sample\n",
      "File: post-update.sample\n",
      "File: pre-applypatch.sample\n",
      "File: pre-commit.sample\n",
      "File: pre-merge-commit.sample\n",
      "File: pre-push.sample\n",
      "File: pre-rebase.sample\n",
      "File: pre-receive.sample\n",
      "File: prepare-commit-msg.sample\n",
      "File: update.sample\n",
      "\n",
      "\n",
      "Current looking at /mnt/c/Users/bknorris/Documents/Scripts/Python/.git/info\n",
      "\n",
      "The subdirectories are: \n",
      "\n",
      "\n",
      "The files are: \n",
      "File: exclude\n",
      "\n",
      "\n",
      "Current looking at /mnt/c/Users/bknorris/Documents/Scripts/Python/.git/logs\n",
      "\n",
      "The subdirectories are: \n",
      "refs\n",
      "\n",
      "\n",
      "The files are: \n",
      "File: HEAD\n",
      "\n",
      "\n",
      "Current looking at /mnt/c/Users/bknorris/Documents/Scripts/Python/.git/logs/refs\n",
      "\n",
      "The subdirectories are: \n",
      "heads\n",
      "remotes\n",
      "\n",
      "\n",
      "The files are: \n",
      "\n",
      "\n",
      "Current looking at /mnt/c/Users/bknorris/Documents/Scripts/Python/.git/logs/refs/heads\n",
      "\n",
      "The subdirectories are: \n",
      "\n",
      "\n",
      "The files are: \n",
      "File: master\n",
      "\n",
      "\n",
      "Current looking at /mnt/c/Users/bknorris/Documents/Scripts/Python/.git/logs/refs/remotes\n",
      "\n",
      "The subdirectories are: \n",
      "origin\n",
      "\n",
      "\n",
      "The files are: \n",
      "\n",
      "\n",
      "Current looking at /mnt/c/Users/bknorris/Documents/Scripts/Python/.git/logs/refs/remotes/origin\n",
      "\n",
      "The subdirectories are: \n",
      "\n",
      "\n",
      "The files are: \n",
      "File: master\n",
      "\n",
      "\n",
      "Current looking at /mnt/c/Users/bknorris/Documents/Scripts/Python/.git/objects\n",
      "\n",
      "The subdirectories are: \n",
      "05\n",
      "07\n",
      "0a\n",
      "0f\n",
      "12\n",
      "13\n",
      "18\n",
      "1d\n",
      "1f\n",
      "24\n",
      "26\n",
      "30\n",
      "31\n",
      "36\n",
      "37\n",
      "39\n",
      "3a\n",
      "3b\n",
      "3e\n",
      "44\n",
      "47\n",
      "48\n",
      "4b\n",
      "51\n",
      "53\n",
      "56\n",
      "5a\n",
      "64\n",
      "65\n",
      "66\n",
      "70\n",
      "71\n",
      "72\n",
      "74\n",
      "77\n",
      "7d\n",
      "7e\n",
      "85\n",
      "87\n",
      "8e\n",
      "91\n",
      "92\n",
      "96\n",
      "97\n",
      "9f\n",
      "a1\n",
      "a3\n",
      "ae\n",
      "b2\n",
      "bb\n",
      "c2\n",
      "d1\n",
      "da\n",
      "db\n",
      "de\n",
      "df\n",
      "e1\n",
      "e3\n",
      "e4\n",
      "e5\n",
      "eb\n",
      "f4\n",
      "fd\n",
      "info\n",
      "pack\n",
      "\n",
      "\n",
      "The files are: \n",
      "\n",
      "\n",
      "Current looking at /mnt/c/Users/bknorris/Documents/Scripts/Python/.git/objects/05\n",
      "\n",
      "The subdirectories are: \n",
      "\n",
      "\n",
      "The files are: \n",
      "File: dbd4e1f625cc74d1c9c1bfd0056587e4477ed1\n",
      "\n",
      "\n",
      "Current looking at /mnt/c/Users/bknorris/Documents/Scripts/Python/.git/objects/07\n",
      "\n",
      "The subdirectories are: \n",
      "\n",
      "\n",
      "The files are: \n",
      "File: 96d3d4d3933236f402fb6ded71d3eac504c949\n",
      "\n",
      "\n",
      "Current looking at /mnt/c/Users/bknorris/Documents/Scripts/Python/.git/objects/0a\n",
      "\n",
      "The subdirectories are: \n",
      "\n",
      "\n",
      "The files are: \n",
      "File: eee36df98f7521a0df4c1ec1811c3accbe98b3\n",
      "\n",
      "\n",
      "Current looking at /mnt/c/Users/bknorris/Documents/Scripts/Python/.git/objects/0f\n",
      "\n",
      "The subdirectories are: \n",
      "\n",
      "\n",
      "The files are: \n",
      "File: 40a0fc51fc6f019c662e8baa6aab0bbe8d816a\n",
      "\n",
      "\n",
      "Current looking at /mnt/c/Users/bknorris/Documents/Scripts/Python/.git/objects/12\n",
      "\n",
      "The subdirectories are: \n",
      "\n",
      "\n",
      "The files are: \n",
      "File: 40b51174e78c9fd6e7a156eb78993135f617d6\n",
      "\n",
      "\n",
      "Current looking at /mnt/c/Users/bknorris/Documents/Scripts/Python/.git/objects/13\n",
      "\n",
      "The subdirectories are: \n",
      "\n",
      "\n",
      "The files are: \n",
      "File: 77ba5d0496bd770d9338dd463bb21e35a13d35\n",
      "File: d072af774ecf0efa0057a376f3f7340fd7d6ac\n",
      "\n",
      "\n",
      "Current looking at /mnt/c/Users/bknorris/Documents/Scripts/Python/.git/objects/18\n",
      "\n",
      "The subdirectories are: \n",
      "\n",
      "\n",
      "The files are: \n",
      "File: 02fc9865d78fc87bed76c1b8cec407f7c707cf\n",
      "\n",
      "\n",
      "Current looking at /mnt/c/Users/bknorris/Documents/Scripts/Python/.git/objects/1d\n",
      "\n",
      "The subdirectories are: \n",
      "\n",
      "\n",
      "The files are: \n",
      "File: c79cff734e593d487322ff515bdb733f1ebcf1\n",
      "\n",
      "\n",
      "Current looking at /mnt/c/Users/bknorris/Documents/Scripts/Python/.git/objects/1f\n",
      "\n",
      "The subdirectories are: \n",
      "\n",
      "\n",
      "The files are: \n",
      "File: 1db34791be36d0d7b1e29361bb28b38c2b40d1\n",
      "File: 9f6318b9ae6acdcb9c37093e26b47b221743ea\n",
      "\n",
      "\n",
      "Current looking at /mnt/c/Users/bknorris/Documents/Scripts/Python/.git/objects/24\n",
      "\n",
      "The subdirectories are: \n",
      "\n",
      "\n",
      "The files are: \n",
      "File: 9c736866120dda599c917ba766b3f365536559\n",
      "\n",
      "\n",
      "Current looking at /mnt/c/Users/bknorris/Documents/Scripts/Python/.git/objects/26\n",
      "\n",
      "The subdirectories are: \n",
      "\n",
      "\n",
      "The files are: \n",
      "File: a95ef178a15d44c693c3996ee4bc5352c295db\n",
      "\n",
      "\n",
      "Current looking at /mnt/c/Users/bknorris/Documents/Scripts/Python/.git/objects/30\n",
      "\n",
      "The subdirectories are: \n",
      "\n",
      "\n",
      "The files are: \n",
      "File: 6ea486c99a5b425365475fabaca4a01e8651eb\n",
      "\n",
      "\n",
      "Current looking at /mnt/c/Users/bknorris/Documents/Scripts/Python/.git/objects/31\n",
      "\n",
      "The subdirectories are: \n",
      "\n",
      "\n",
      "The files are: \n",
      "File: b407abe664e4b98e8e2a7115a6755edafddb61\n",
      "\n",
      "\n",
      "Current looking at /mnt/c/Users/bknorris/Documents/Scripts/Python/.git/objects/36\n",
      "\n",
      "The subdirectories are: \n",
      "\n",
      "\n",
      "The files are: \n",
      "File: 3fcab7ed6e9634e198cf5555ceb88932c9a245\n",
      "\n",
      "\n",
      "Current looking at /mnt/c/Users/bknorris/Documents/Scripts/Python/.git/objects/37\n",
      "\n",
      "The subdirectories are: \n",
      "\n",
      "\n",
      "The files are: \n",
      "File: c87d37fcc452401291e3d671e65126d700acd4\n",
      "\n",
      "\n",
      "Current looking at /mnt/c/Users/bknorris/Documents/Scripts/Python/.git/objects/39\n",
      "\n",
      "The subdirectories are: \n",
      "\n",
      "\n",
      "The files are: \n",
      "File: 1a153bf14177bce6816fefe7a40e791948f52d\n",
      "\n",
      "\n",
      "Current looking at /mnt/c/Users/bknorris/Documents/Scripts/Python/.git/objects/3a\n",
      "\n",
      "The subdirectories are: \n",
      "\n",
      "\n",
      "The files are: \n",
      "File: 75c087aff9088978ebc40ed37574952d891061\n",
      "\n",
      "\n",
      "Current looking at /mnt/c/Users/bknorris/Documents/Scripts/Python/.git/objects/3b\n",
      "\n",
      "The subdirectories are: \n",
      "\n",
      "\n",
      "The files are: \n",
      "File: dc965ef503ccc708939db3f83304324e8326cb\n",
      "\n",
      "\n",
      "Current looking at /mnt/c/Users/bknorris/Documents/Scripts/Python/.git/objects/3e\n",
      "\n",
      "The subdirectories are: \n",
      "\n",
      "\n",
      "The files are: \n",
      "File: 183ac6656a62d2f5e22977b2a0700bbe6d1e67\n",
      "\n",
      "\n",
      "Current looking at /mnt/c/Users/bknorris/Documents/Scripts/Python/.git/objects/44\n",
      "\n",
      "The subdirectories are: \n",
      "\n",
      "\n",
      "The files are: \n",
      "File: da0f2601958387b82829ff113613d0b50422f9\n",
      "\n",
      "\n",
      "Current looking at /mnt/c/Users/bknorris/Documents/Scripts/Python/.git/objects/47\n",
      "\n",
      "The subdirectories are: \n",
      "\n",
      "\n",
      "The files are: \n",
      "File: d4dc325fa836c8c766c3d51cf327f60989520d\n",
      "\n",
      "\n",
      "Current looking at /mnt/c/Users/bknorris/Documents/Scripts/Python/.git/objects/48\n",
      "\n",
      "The subdirectories are: \n",
      "\n",
      "\n",
      "The files are: \n",
      "File: ac979e02533ac9d49c4a3c548b43baf3ec59c5\n",
      "\n",
      "\n",
      "Current looking at /mnt/c/Users/bknorris/Documents/Scripts/Python/.git/objects/4b\n",
      "\n",
      "The subdirectories are: \n",
      "\n",
      "\n",
      "The files are: \n",
      "File: 446e59e449afed54b05f6b3f958e63f78dfd25\n",
      "\n",
      "\n",
      "Current looking at /mnt/c/Users/bknorris/Documents/Scripts/Python/.git/objects/51\n",
      "\n",
      "The subdirectories are: \n",
      "\n",
      "\n",
      "The files are: \n",
      "File: c3bea5410f4e7e3491b0f06e49149c4755c9a1\n",
      "\n",
      "\n",
      "Current looking at /mnt/c/Users/bknorris/Documents/Scripts/Python/.git/objects/53\n",
      "\n",
      "The subdirectories are: \n",
      "\n",
      "\n",
      "The files are: \n",
      "File: 49d82a5af338341a6c6caab925bf6fc40b1f4c\n",
      "File: e848839d8d10dcaa806ed370058f9856aeb9a9\n",
      "\n",
      "\n",
      "Current looking at /mnt/c/Users/bknorris/Documents/Scripts/Python/.git/objects/56\n",
      "\n",
      "The subdirectories are: \n",
      "\n",
      "\n",
      "The files are: \n",
      "File: 20739f3d389ac0634ebbbfcfd4ff7d95f5bf86\n",
      "\n",
      "\n",
      "Current looking at /mnt/c/Users/bknorris/Documents/Scripts/Python/.git/objects/5a\n",
      "\n",
      "The subdirectories are: \n",
      "\n",
      "\n",
      "The files are: \n",
      "File: 055071b4aa90e8820434a7e206a734c72a7220\n",
      "\n",
      "\n",
      "Current looking at /mnt/c/Users/bknorris/Documents/Scripts/Python/.git/objects/64\n",
      "\n",
      "The subdirectories are: \n",
      "\n",
      "\n",
      "The files are: \n",
      "File: 09fd7f1670217e783ea747432dea1ff83eaff6\n",
      "File: 1db9df589daa54cfaa18f2d3e3ff38d32d8ffb\n",
      "File: aad0edc4352f9d06fc708a6f19e722b19935b1\n",
      "\n",
      "\n",
      "Current looking at /mnt/c/Users/bknorris/Documents/Scripts/Python/.git/objects/65\n",
      "\n",
      "The subdirectories are: \n",
      "\n",
      "\n",
      "The files are: \n",
      "File: 0b7eef686370eeb79cc2e6a396dc3b210b13ac\n",
      "\n",
      "\n",
      "Current looking at /mnt/c/Users/bknorris/Documents/Scripts/Python/.git/objects/66\n",
      "\n",
      "The subdirectories are: \n",
      "\n",
      "\n",
      "The files are: \n",
      "File: dbabcfd6be43952d880da17dfe94453177eb5d\n",
      "\n",
      "\n",
      "Current looking at /mnt/c/Users/bknorris/Documents/Scripts/Python/.git/objects/70\n",
      "\n",
      "The subdirectories are: \n",
      "\n",
      "\n",
      "The files are: \n",
      "File: caa163162a254805d723db01b6856846834d40\n",
      "\n",
      "\n",
      "Current looking at /mnt/c/Users/bknorris/Documents/Scripts/Python/.git/objects/71\n",
      "\n",
      "The subdirectories are: \n",
      "\n",
      "\n",
      "The files are: \n",
      "File: 83adf05523a4fdf79ca20d60b5a2e64ae529f9\n",
      "\n",
      "\n",
      "Current looking at /mnt/c/Users/bknorris/Documents/Scripts/Python/.git/objects/72\n",
      "\n",
      "The subdirectories are: \n",
      "\n",
      "\n",
      "The files are: \n",
      "File: 041b30ce202a3d2cda0139bbe145f73d4c2742\n",
      "\n",
      "\n",
      "Current looking at /mnt/c/Users/bknorris/Documents/Scripts/Python/.git/objects/74\n",
      "\n",
      "The subdirectories are: \n",
      "\n",
      "\n",
      "The files are: \n",
      "File: 0e22443c768e13fe487eab7945f3c3efaa1f4d\n",
      "\n",
      "\n",
      "Current looking at /mnt/c/Users/bknorris/Documents/Scripts/Python/.git/objects/77\n",
      "\n",
      "The subdirectories are: \n",
      "\n",
      "\n",
      "The files are: \n",
      "File: 02017ec2423b53e71d320a48c7a389be0d6d1f\n",
      "\n",
      "\n",
      "Current looking at /mnt/c/Users/bknorris/Documents/Scripts/Python/.git/objects/7d\n",
      "\n",
      "The subdirectories are: \n",
      "\n",
      "\n",
      "The files are: \n",
      "File: dfc8f8590cc02ffa25d601ed760a7429b5d482\n",
      "\n",
      "\n",
      "Current looking at /mnt/c/Users/bknorris/Documents/Scripts/Python/.git/objects/7e\n",
      "\n",
      "The subdirectories are: \n",
      "\n",
      "\n",
      "The files are: \n",
      "File: 18fa4e756d71adcbfd7fb93804c3c4fbf8e312\n",
      "File: 1a54be0b7234df0637cb72293adf47c1491aff\n",
      "File: f1ebb7b43430f69df1b837f0ed824221c00523\n",
      "\n",
      "\n",
      "Current looking at /mnt/c/Users/bknorris/Documents/Scripts/Python/.git/objects/85\n",
      "\n",
      "The subdirectories are: \n",
      "\n",
      "\n",
      "The files are: \n",
      "File: 9f0701114f72f51b9b6076826fc66f83c30499\n",
      "\n",
      "\n",
      "Current looking at /mnt/c/Users/bknorris/Documents/Scripts/Python/.git/objects/87\n",
      "\n",
      "The subdirectories are: \n",
      "\n",
      "\n",
      "The files are: \n",
      "File: 358749a33e556a4845ec8273b22fed2fbffbbb\n",
      "\n",
      "\n",
      "Current looking at /mnt/c/Users/bknorris/Documents/Scripts/Python/.git/objects/8e\n",
      "\n",
      "The subdirectories are: \n",
      "\n",
      "\n",
      "The files are: \n",
      "File: ee994c996256aaf8e78ab85e0e838c260d852b\n",
      "\n",
      "\n",
      "Current looking at /mnt/c/Users/bknorris/Documents/Scripts/Python/.git/objects/91\n",
      "\n",
      "The subdirectories are: \n",
      "\n",
      "\n",
      "The files are: \n",
      "File: f4ccde4bc88a04603e2b6dff6d84a37ce14260\n",
      "\n",
      "\n",
      "Current looking at /mnt/c/Users/bknorris/Documents/Scripts/Python/.git/objects/92\n",
      "\n",
      "The subdirectories are: \n",
      "\n",
      "\n",
      "The files are: \n",
      "File: dbaf649f0146e6a0b477f6f66c5be93bf5f156\n",
      "File: dc5353a129642be56aef55f9b155788364b3c9\n",
      "\n",
      "\n",
      "Current looking at /mnt/c/Users/bknorris/Documents/Scripts/Python/.git/objects/96\n",
      "\n",
      "The subdirectories are: \n",
      "\n",
      "\n",
      "The files are: \n",
      "File: 7e97f191448596c8b578fa2f677c93dc035f5a\n",
      "\n",
      "\n",
      "Current looking at /mnt/c/Users/bknorris/Documents/Scripts/Python/.git/objects/97\n",
      "\n",
      "The subdirectories are: \n",
      "\n",
      "\n",
      "The files are: \n",
      "File: ee709cc826105042e462583c21d66606ae87bb\n",
      "\n",
      "\n",
      "Current looking at /mnt/c/Users/bknorris/Documents/Scripts/Python/.git/objects/9f\n",
      "\n",
      "The subdirectories are: \n",
      "\n",
      "\n",
      "The files are: \n",
      "File: 104caf6bf8fb93a3dc26d4a66bb84e5d53fa6a\n",
      "\n",
      "\n",
      "Current looking at /mnt/c/Users/bknorris/Documents/Scripts/Python/.git/objects/a1\n",
      "\n",
      "The subdirectories are: \n",
      "\n",
      "\n",
      "The files are: \n",
      "File: 0d7f76bbe313112e8cce93bcc6b563d71e5d01\n",
      "\n",
      "\n",
      "Current looking at /mnt/c/Users/bknorris/Documents/Scripts/Python/.git/objects/a3\n",
      "\n",
      "The subdirectories are: \n",
      "\n",
      "\n",
      "The files are: \n",
      "File: e36b0c1165ed4ceebddaa9a859b5b6b6326199\n",
      "\n",
      "\n",
      "Current looking at /mnt/c/Users/bknorris/Documents/Scripts/Python/.git/objects/ae\n",
      "\n",
      "The subdirectories are: \n",
      "\n",
      "\n",
      "The files are: \n",
      "File: 811467420d2af723589b428b566e25e8da1a07\n",
      "File: fd09281fb79cd51394a1757d6fc42a2b437668\n",
      "\n",
      "\n",
      "Current looking at /mnt/c/Users/bknorris/Documents/Scripts/Python/.git/objects/b2\n",
      "\n",
      "The subdirectories are: \n",
      "\n",
      "\n",
      "The files are: \n",
      "File: b3fd58818ea8f7e82e93203151e534dac64a99\n",
      "\n",
      "\n",
      "Current looking at /mnt/c/Users/bknorris/Documents/Scripts/Python/.git/objects/bb\n",
      "\n",
      "The subdirectories are: \n",
      "\n",
      "\n",
      "The files are: \n",
      "File: 74686febb4da34e60f571c62b9354bbe6f4f18\n",
      "\n",
      "\n",
      "Current looking at /mnt/c/Users/bknorris/Documents/Scripts/Python/.git/objects/c2\n",
      "\n",
      "The subdirectories are: \n",
      "\n",
      "\n",
      "The files are: \n",
      "File: 4271ec5a5bd3491824b9f23b313351f4dabe48\n",
      "\n",
      "\n",
      "Current looking at /mnt/c/Users/bknorris/Documents/Scripts/Python/.git/objects/d1\n",
      "\n",
      "The subdirectories are: \n",
      "\n",
      "\n",
      "The files are: \n",
      "File: 36eaef6a392590ef3c87405f8a727188c755ac\n",
      "\n",
      "\n",
      "Current looking at /mnt/c/Users/bknorris/Documents/Scripts/Python/.git/objects/da\n",
      "\n",
      "The subdirectories are: \n",
      "\n",
      "\n",
      "The files are: \n",
      "File: 83f057130ea574adab3fd2ef672f0e480d6388\n",
      "\n",
      "\n",
      "Current looking at /mnt/c/Users/bknorris/Documents/Scripts/Python/.git/objects/db\n",
      "\n",
      "The subdirectories are: \n",
      "\n",
      "\n",
      "The files are: \n",
      "File: 406e9a436d3b1a70e16ba0ece41cb5f18a084b\n",
      "\n",
      "\n",
      "Current looking at /mnt/c/Users/bknorris/Documents/Scripts/Python/.git/objects/de\n",
      "\n",
      "The subdirectories are: \n",
      "\n",
      "\n",
      "The files are: \n",
      "File: c9ee2b2021bdb96d5e78baacda4c28b39c18f3\n",
      "\n",
      "\n",
      "Current looking at /mnt/c/Users/bknorris/Documents/Scripts/Python/.git/objects/df\n",
      "\n",
      "The subdirectories are: \n",
      "\n",
      "\n",
      "The files are: \n",
      "File: 792d334ff943f109ce6c7e898ffc5d9f252804\n",
      "\n",
      "\n",
      "Current looking at /mnt/c/Users/bknorris/Documents/Scripts/Python/.git/objects/e1\n",
      "\n",
      "The subdirectories are: \n",
      "\n",
      "\n",
      "The files are: \n",
      "File: 1bffe43efbc4bd08364b7e39220b7f3cc0be13\n",
      "\n",
      "\n",
      "Current looking at /mnt/c/Users/bknorris/Documents/Scripts/Python/.git/objects/e3\n",
      "\n",
      "The subdirectories are: \n",
      "\n",
      "\n",
      "The files are: \n",
      "File: 25cb0e5e32da950cc7ede59a6dea0978e91778\n",
      "\n",
      "\n",
      "Current looking at /mnt/c/Users/bknorris/Documents/Scripts/Python/.git/objects/e4\n",
      "\n",
      "The subdirectories are: \n",
      "\n",
      "\n",
      "The files are: \n",
      "File: 76245df9845dc3b4dd1357b2f281daf2a2a8eb\n",
      "\n",
      "\n",
      "Current looking at /mnt/c/Users/bknorris/Documents/Scripts/Python/.git/objects/e5\n",
      "\n",
      "The subdirectories are: \n",
      "\n",
      "\n",
      "The files are: \n",
      "File: 1f248f0b0945d7ee7f2994fa1e3c30e9aa8883\n",
      "File: 8fe785b8dfbe981829764d4012809408f6505b\n",
      "\n",
      "\n",
      "Current looking at /mnt/c/Users/bknorris/Documents/Scripts/Python/.git/objects/eb\n",
      "\n",
      "The subdirectories are: \n",
      "\n",
      "\n",
      "The files are: \n",
      "File: c446799e6065d743d547f97710b5b6ea5cefa7\n",
      "\n",
      "\n",
      "Current looking at /mnt/c/Users/bknorris/Documents/Scripts/Python/.git/objects/f4\n",
      "\n",
      "The subdirectories are: \n",
      "\n",
      "\n",
      "The files are: \n",
      "File: a1f9a6ba732a91b7b9f2dd1c8357f6243b6665\n",
      "\n",
      "\n",
      "Current looking at /mnt/c/Users/bknorris/Documents/Scripts/Python/.git/objects/fd\n",
      "\n",
      "The subdirectories are: \n",
      "\n",
      "\n",
      "The files are: \n",
      "File: 6a18051e408295d6addde064f07f290281ba71\n",
      "\n",
      "\n",
      "Current looking at /mnt/c/Users/bknorris/Documents/Scripts/Python/.git/objects/info\n",
      "\n",
      "The subdirectories are: \n",
      "\n",
      "\n",
      "The files are: \n",
      "\n",
      "\n",
      "Current looking at /mnt/c/Users/bknorris/Documents/Scripts/Python/.git/objects/pack\n",
      "\n",
      "The subdirectories are: \n",
      "\n",
      "\n",
      "The files are: \n",
      "\n",
      "\n",
      "Current looking at /mnt/c/Users/bknorris/Documents/Scripts/Python/.git/refs\n",
      "\n",
      "The subdirectories are: \n",
      "heads\n",
      "remotes\n",
      "tags\n",
      "\n",
      "\n",
      "The files are: \n",
      "\n",
      "\n",
      "Current looking at /mnt/c/Users/bknorris/Documents/Scripts/Python/.git/refs/heads\n",
      "\n",
      "The subdirectories are: \n",
      "\n",
      "\n",
      "The files are: \n",
      "File: master\n",
      "\n",
      "\n",
      "Current looking at /mnt/c/Users/bknorris/Documents/Scripts/Python/.git/refs/remotes\n",
      "\n",
      "The subdirectories are: \n",
      "origin\n",
      "\n",
      "\n",
      "The files are: \n",
      "\n",
      "\n",
      "Current looking at /mnt/c/Users/bknorris/Documents/Scripts/Python/.git/refs/remotes/origin\n",
      "\n",
      "The subdirectories are: \n",
      "\n",
      "\n",
      "The files are: \n",
      "File: master\n",
      "\n",
      "\n",
      "Current looking at /mnt/c/Users/bknorris/Documents/Scripts/Python/.git/refs/tags\n",
      "\n",
      "The subdirectories are: \n",
      "\n",
      "\n",
      "The files are: \n",
      "\n",
      "\n",
      "Current looking at /mnt/c/Users/bknorris/Documents/Scripts/Python/Notebooks\n",
      "\n",
      "The subdirectories are: \n",
      ".ipynb_checkpoints\n",
      "\n",
      "\n",
      "The files are: \n",
      "File: Enthought-MATLAB-to-Python-White-Paper.pdf\n",
      "File: Python-for-MATLAB-Users.ipynb\n",
      "\n",
      "\n",
      "Current looking at /mnt/c/Users/bknorris/Documents/Scripts/Python/Notebooks/.ipynb_checkpoints\n",
      "\n",
      "The subdirectories are: \n",
      "\n",
      "\n",
      "The files are: \n",
      "File: Python-for-MATLAB-Users-checkpoint.ipynb\n",
      "\n",
      "\n",
      "Current looking at /mnt/c/Users/bknorris/Documents/Scripts/Python/Postdoc\n",
      "\n",
      "The subdirectories are: \n",
      "\n",
      "\n",
      "The files are: \n",
      "\n",
      "\n",
      "Current looking at /mnt/c/Users/bknorris/Documents/Scripts/Python/Python_bootcamp\n",
      "\n",
      "The subdirectories are: \n",
      ".ipynb_checkpoints\n",
      "Complete-Python-3-Bootcamp\n",
      "Course-Notes\n",
      "Test-Scripts\n",
      "\n",
      "\n",
      "The files are: \n",
      "\n",
      "\n",
      "Current looking at /mnt/c/Users/bknorris/Documents/Scripts/Python/Python_bootcamp/.ipynb_checkpoints\n",
      "\n",
      "The subdirectories are: \n",
      "\n",
      "\n",
      "The files are: \n",
      "\n",
      "\n",
      "Current looking at /mnt/c/Users/bknorris/Documents/Scripts/Python/Python_bootcamp/Complete-Python-3-Bootcamp\n",
      "\n",
      "The subdirectories are: \n",
      ".git\n",
      ".ipynb_checkpoints\n",
      "00-Python Object and Data Structure Basics\n",
      "01-Python Comparison Operators\n",
      "02-Python Statements\n",
      "03-Methods and Functions\n",
      "04-Milestone Project - 1\n",
      "05-Object Oriented Programming\n",
      "06-Modules and Packages\n",
      "07-Errors and Exception Handling\n",
      "08-Milestone Project - 2\n",
      "09-Built-in Functions\n",
      "10-Python Decorators\n",
      "11-Python Generators\n",
      "12-Advanced Python Modules\n",
      "13-Web-Scraping\n",
      "14-Working-with-Images\n",
      "15-PDFs-and-Spreadsheets\n",
      "16-Emailing-with-Python\n",
      "17-Advanced Python Objects and Data Structures\n",
      "18-Milestone Project - 3\n",
      "19-Bonus Material - Introduction to GUIs\n",
      "\n",
      "\n",
      "The files are: \n",
      "File: Jupyter (iPython) Notebooks Guide.ipynb\n",
      "File: Pierian_Data_Logo.png\n",
      "File: README.md\n",
      "\n",
      "\n",
      "Current looking at /mnt/c/Users/bknorris/Documents/Scripts/Python/Python_bootcamp/Complete-Python-3-Bootcamp/.git\n",
      "\n",
      "The subdirectories are: \n",
      "branches\n",
      "hooks\n",
      "info\n",
      "logs\n",
      "objects\n",
      "refs\n",
      "\n",
      "\n",
      "The files are: \n",
      "File: config\n",
      "File: description\n",
      "File: HEAD\n",
      "File: index\n",
      "File: packed-refs\n",
      "\n",
      "\n",
      "Current looking at /mnt/c/Users/bknorris/Documents/Scripts/Python/Python_bootcamp/Complete-Python-3-Bootcamp/.git/branches\n",
      "\n",
      "The subdirectories are: \n",
      "\n",
      "\n",
      "The files are: \n",
      "\n",
      "\n",
      "Current looking at /mnt/c/Users/bknorris/Documents/Scripts/Python/Python_bootcamp/Complete-Python-3-Bootcamp/.git/hooks\n",
      "\n",
      "The subdirectories are: \n",
      "\n",
      "\n",
      "The files are: \n",
      "File: applypatch-msg.sample\n",
      "File: commit-msg.sample\n",
      "File: fsmonitor-watchman.sample\n",
      "File: post-update.sample\n",
      "File: pre-applypatch.sample\n",
      "File: pre-commit.sample\n",
      "File: pre-merge-commit.sample\n",
      "File: pre-push.sample\n",
      "File: pre-rebase.sample\n",
      "File: pre-receive.sample\n",
      "File: prepare-commit-msg.sample\n",
      "File: update.sample\n",
      "\n",
      "\n",
      "Current looking at /mnt/c/Users/bknorris/Documents/Scripts/Python/Python_bootcamp/Complete-Python-3-Bootcamp/.git/info\n",
      "\n",
      "The subdirectories are: \n",
      "\n",
      "\n",
      "The files are: \n",
      "File: exclude\n",
      "\n",
      "\n",
      "Current looking at /mnt/c/Users/bknorris/Documents/Scripts/Python/Python_bootcamp/Complete-Python-3-Bootcamp/.git/logs\n",
      "\n",
      "The subdirectories are: \n",
      "refs\n",
      "\n",
      "\n",
      "The files are: \n",
      "File: HEAD\n",
      "\n",
      "\n",
      "Current looking at /mnt/c/Users/bknorris/Documents/Scripts/Python/Python_bootcamp/Complete-Python-3-Bootcamp/.git/logs/refs\n",
      "\n",
      "The subdirectories are: \n",
      "heads\n",
      "remotes\n",
      "\n",
      "\n",
      "The files are: \n",
      "\n",
      "\n",
      "Current looking at /mnt/c/Users/bknorris/Documents/Scripts/Python/Python_bootcamp/Complete-Python-3-Bootcamp/.git/logs/refs/heads\n",
      "\n",
      "The subdirectories are: \n",
      "\n",
      "\n",
      "The files are: \n",
      "File: master\n",
      "\n",
      "\n",
      "Current looking at /mnt/c/Users/bknorris/Documents/Scripts/Python/Python_bootcamp/Complete-Python-3-Bootcamp/.git/logs/refs/remotes\n",
      "\n",
      "The subdirectories are: \n",
      "origin\n",
      "\n",
      "\n",
      "The files are: \n",
      "\n",
      "\n",
      "Current looking at /mnt/c/Users/bknorris/Documents/Scripts/Python/Python_bootcamp/Complete-Python-3-Bootcamp/.git/logs/refs/remotes/origin\n",
      "\n",
      "The subdirectories are: \n",
      "\n",
      "\n",
      "The files are: \n",
      "File: HEAD\n",
      "\n",
      "\n",
      "Current looking at /mnt/c/Users/bknorris/Documents/Scripts/Python/Python_bootcamp/Complete-Python-3-Bootcamp/.git/objects\n",
      "\n",
      "The subdirectories are: \n",
      "info\n",
      "pack\n",
      "\n",
      "\n",
      "The files are: \n",
      "\n",
      "\n",
      "Current looking at /mnt/c/Users/bknorris/Documents/Scripts/Python/Python_bootcamp/Complete-Python-3-Bootcamp/.git/objects/info\n",
      "\n",
      "The subdirectories are: \n",
      "\n",
      "\n",
      "The files are: \n",
      "\n",
      "\n",
      "Current looking at /mnt/c/Users/bknorris/Documents/Scripts/Python/Python_bootcamp/Complete-Python-3-Bootcamp/.git/objects/pack\n",
      "\n",
      "The subdirectories are: \n",
      "\n",
      "\n",
      "The files are: \n",
      "File: pack-ec118868dbe0252f1c072c28bf2a14f69e325bae.idx\n",
      "File: pack-ec118868dbe0252f1c072c28bf2a14f69e325bae.pack\n",
      "\n",
      "\n",
      "Current looking at /mnt/c/Users/bknorris/Documents/Scripts/Python/Python_bootcamp/Complete-Python-3-Bootcamp/.git/refs\n",
      "\n",
      "The subdirectories are: \n",
      "heads\n",
      "remotes\n",
      "tags\n",
      "\n",
      "\n",
      "The files are: \n",
      "\n",
      "\n",
      "Current looking at /mnt/c/Users/bknorris/Documents/Scripts/Python/Python_bootcamp/Complete-Python-3-Bootcamp/.git/refs/heads\n",
      "\n",
      "The subdirectories are: \n",
      "\n",
      "\n",
      "The files are: \n",
      "File: master\n",
      "\n",
      "\n",
      "Current looking at /mnt/c/Users/bknorris/Documents/Scripts/Python/Python_bootcamp/Complete-Python-3-Bootcamp/.git/refs/remotes\n",
      "\n",
      "The subdirectories are: \n",
      "origin\n",
      "\n",
      "\n",
      "The files are: \n",
      "\n",
      "\n",
      "Current looking at /mnt/c/Users/bknorris/Documents/Scripts/Python/Python_bootcamp/Complete-Python-3-Bootcamp/.git/refs/remotes/origin\n",
      "\n",
      "The subdirectories are: \n",
      "\n",
      "\n",
      "The files are: \n",
      "File: HEAD\n",
      "\n",
      "\n",
      "Current looking at /mnt/c/Users/bknorris/Documents/Scripts/Python/Python_bootcamp/Complete-Python-3-Bootcamp/.git/refs/tags\n",
      "\n",
      "The subdirectories are: \n",
      "\n",
      "\n",
      "The files are: \n",
      "\n",
      "\n",
      "Current looking at /mnt/c/Users/bknorris/Documents/Scripts/Python/Python_bootcamp/Complete-Python-3-Bootcamp/.ipynb_checkpoints\n",
      "\n",
      "The subdirectories are: \n",
      "\n",
      "\n",
      "The files are: \n",
      "File: Untitled-checkpoint.ipynb\n",
      "\n",
      "\n",
      "Current looking at /mnt/c/Users/bknorris/Documents/Scripts/Python/Python_bootcamp/Complete-Python-3-Bootcamp/00-Python Object and Data Structure Basics\n",
      "\n",
      "The subdirectories are: \n",
      ".ipynb_checkpoints\n",
      "\n",
      "\n",
      "The files are: \n",
      "File: 01-Numbers.ipynb\n",
      "File: 01-Variable Assignment.ipynb\n",
      "File: 02-Strings.ipynb\n",
      "File: 03-Print Formatting with Strings.ipynb\n",
      "File: 04-Lists.ipynb\n",
      "File: 05-Dictionaries.ipynb\n",
      "File: 06-Tuples.ipynb\n",
      "File: 07-Sets and Booleans.ipynb\n",
      "File: 08-Files.ipynb\n",
      "File: 09-Objects and Data Structures Assessment Test.ipynb\n",
      "File: 10-Objects and Data Structures Assessment Test-Solution.ipynb\n",
      "File: test.txt\n",
      "\n",
      "\n",
      "Current looking at /mnt/c/Users/bknorris/Documents/Scripts/Python/Python_bootcamp/Complete-Python-3-Bootcamp/00-Python Object and Data Structure Basics/.ipynb_checkpoints\n",
      "\n",
      "The subdirectories are: \n",
      "\n",
      "\n",
      "The files are: \n",
      "File: 01-Numbers-checkpoint.ipynb\n",
      "File: 01-Variable Assignment-checkpoint.ipynb\n",
      "File: 02-Strings-checkpoint.ipynb\n",
      "File: 03-Print Formatting with Strings-checkpoint.ipynb\n",
      "File: 04-Lists-checkpoint.ipynb\n",
      "File: 05-Dictionaries-checkpoint.ipynb\n",
      "File: 06-Tuples-checkpoint.ipynb\n",
      "File: 07-Sets and Booleans-checkpoint.ipynb\n",
      "File: 08-Files-checkpoint.ipynb\n",
      "File: 09-Objects and Data Structures Assessment Test-checkpoint.ipynb\n",
      "File: 10-Objects and Data Structures Assessment Test-Solution-checkpoint.ipynb\n",
      "\n",
      "\n",
      "Current looking at /mnt/c/Users/bknorris/Documents/Scripts/Python/Python_bootcamp/Complete-Python-3-Bootcamp/01-Python Comparison Operators\n",
      "\n",
      "The subdirectories are: \n",
      ".ipynb_checkpoints\n",
      "\n",
      "\n",
      "The files are: \n",
      "File: 01-Comparison Operators.ipynb\n",
      "File: 02-Chained Comparison Operators.ipynb\n",
      "\n",
      "\n",
      "Current looking at /mnt/c/Users/bknorris/Documents/Scripts/Python/Python_bootcamp/Complete-Python-3-Bootcamp/01-Python Comparison Operators/.ipynb_checkpoints\n",
      "\n",
      "The subdirectories are: \n",
      "\n",
      "\n",
      "The files are: \n",
      "File: 01-Comparison Operators-checkpoint.ipynb\n",
      "File: 02-Chained Comparison Operators-checkpoint.ipynb\n",
      "\n",
      "\n",
      "Current looking at /mnt/c/Users/bknorris/Documents/Scripts/Python/Python_bootcamp/Complete-Python-3-Bootcamp/02-Python Statements\n",
      "\n",
      "The subdirectories are: \n",
      ".ipynb_checkpoints\n",
      "\n",
      "\n",
      "The files are: \n",
      "File: 01-Introduction to Python Statements.ipynb\n",
      "File: 02-if, elif, and else Statements.ipynb\n",
      "File: 03-for Loops.ipynb\n",
      "File: 04-while Loops.ipynb\n",
      "File: 05-Useful-Operators.ipynb\n",
      "File: 06-List Comprehensions.ipynb\n",
      "File: 07-Statements Assessment Test.ipynb\n",
      "File: 08-Statements Assessment Test - Solutions.ipynb\n",
      "File: 09-Guessing Game Challenge.ipynb\n",
      "File: 10-Guessing Game Challenge - Solution.ipynb\n",
      "\n",
      "\n",
      "Current looking at /mnt/c/Users/bknorris/Documents/Scripts/Python/Python_bootcamp/Complete-Python-3-Bootcamp/02-Python Statements/.ipynb_checkpoints\n",
      "\n",
      "The subdirectories are: \n",
      "\n",
      "\n",
      "The files are: \n",
      "File: 01-Introduction to Python Statements-checkpoint.ipynb\n",
      "File: 02-if, elif, and else Statements-checkpoint.ipynb\n",
      "File: 03-for Loops-checkpoint.ipynb\n",
      "File: 04-while Loops-checkpoint.ipynb\n",
      "File: 05-range()-checkpoint.ipynb\n",
      "File: 05-Useful-Operators-checkpoint.ipynb\n",
      "File: 06-List Comprehensions-checkpoint.ipynb\n",
      "File: 07-Statements Assessment Test-checkpoint.ipynb\n",
      "File: 08-Statements Assessment Test - Solutions-checkpoint.ipynb\n",
      "File: 09-Guessing Game Challenge-checkpoint.ipynb\n",
      "File: 10-Guessing Game Challenge - Solution-checkpoint.ipynb\n",
      "\n",
      "\n",
      "Current looking at /mnt/c/Users/bknorris/Documents/Scripts/Python/Python_bootcamp/Complete-Python-3-Bootcamp/03-Methods and Functions\n",
      "\n",
      "The subdirectories are: \n",
      ".ipynb_checkpoints\n",
      "\n",
      "\n",
      "The files are: \n",
      "File: 01-Methods.ipynb\n",
      "File: 02-Functions.ipynb\n",
      "File: 03-Function Practice Exercises.ipynb\n",
      "File: 04-Function Practice Exercises - Solutions.ipynb\n",
      "File: 05-Lambda-Expressions-Map-and-Filter.ipynb\n",
      "File: 06-Nested Statements and Scope.ipynb\n",
      "File: 07-args and kwargs.ipynb\n",
      "File: 08-Functions and Methods Homework.ipynb\n",
      "File: 09-Functions and Methods Homework - Solutions.ipynb\n",
      "\n",
      "\n",
      "Current looking at /mnt/c/Users/bknorris/Documents/Scripts/Python/Python_bootcamp/Complete-Python-3-Bootcamp/03-Methods and Functions/.ipynb_checkpoints\n",
      "\n",
      "The subdirectories are: \n",
      "\n",
      "\n",
      "The files are: \n",
      "File: 01-Methods-checkpoint.ipynb\n",
      "File: 02-Functions-checkpoint.ipynb\n",
      "File: 03-Function Practice Exercises-checkpoint.ipynb\n",
      "File: 03-Lambda expressions-checkpoint.ipynb\n",
      "File: 04-Function Practice Exercises - Solutions-checkpoint.ipynb\n",
      "File: 04-Nested Statements and Scope-checkpoint.ipynb\n",
      "File: 05-Functions and Methods Homework-checkpoint.ipynb\n",
      "File: 05-Lambda-Expressions-Map-and-Filter-checkpoint.ipynb\n",
      "File: 06-Functions and Methods Homework - Solutions-checkpoint.ipynb\n",
      "File: 06-Nested Statements and Scope-checkpoint.ipynb\n",
      "File: 07-args and kwargs-checkpoint.ipynb\n",
      "File: 08-Function Practice Exercises-checkpoint.ipynb\n",
      "File: 08-Functions and Methods Homework-checkpoint.ipynb\n",
      "File: 09-Function Practice Exercises - Solutions-checkpoint.ipynb\n",
      "File: 09-Functions and Methods Homework - Solutions-checkpoint.ipynb\n",
      "\n",
      "\n",
      "Current looking at /mnt/c/Users/bknorris/Documents/Scripts/Python/Python_bootcamp/Complete-Python-3-Bootcamp/04-Milestone Project - 1\n",
      "\n",
      "The subdirectories are: \n",
      ".ipynb_checkpoints\n",
      "\n",
      "\n",
      "The files are: \n",
      "File: 00-Warm-Up-Project-Exercises.ipynb\n",
      "File: 01-Milestone Project 1 - Assignment.ipynb\n",
      "File: 02-Milestone Project 1 - Walkthrough Steps Workbook.ipynb\n",
      "File: 03-Milestone Project 1 - Complete Walkthrough Solution.ipynb\n",
      "\n",
      "\n",
      "Current looking at /mnt/c/Users/bknorris/Documents/Scripts/Python/Python_bootcamp/Complete-Python-3-Bootcamp/04-Milestone Project - 1/.ipynb_checkpoints\n",
      "\n",
      "The subdirectories are: \n",
      "\n",
      "\n",
      "The files are: \n",
      "File: 00-Warm-Up-Project-Exercises-checkpoint.ipynb\n",
      "File: 01-Milestone Project 1 - Assignment-checkpoint.ipynb\n",
      "File: 02-Milestone Project 1 - Walkthrough Steps Workbook-checkpoint.ipynb\n",
      "File: 03-Milestone Project 1 - Complete Walkthrough Solution-checkpoint.ipynb\n",
      "\n",
      "\n",
      "Current looking at /mnt/c/Users/bknorris/Documents/Scripts/Python/Python_bootcamp/Complete-Python-3-Bootcamp/05-Object Oriented Programming\n",
      "\n",
      "The subdirectories are: \n",
      ".ipynb_checkpoints\n",
      "\n",
      "\n",
      "The files are: \n",
      "File: 01-Object Oriented Programming.ipynb\n",
      "File: 02-Object Oriented Programming Homework.ipynb\n",
      "File: 03-Object Oriented Programming Homework - Solution.ipynb\n",
      "File: 04-OOP Challenge.ipynb\n",
      "File: 05-OOP Challenge - Solution.ipynb\n",
      "\n",
      "\n",
      "Current looking at /mnt/c/Users/bknorris/Documents/Scripts/Python/Python_bootcamp/Complete-Python-3-Bootcamp/05-Object Oriented Programming/.ipynb_checkpoints\n",
      "\n",
      "The subdirectories are: \n",
      "\n",
      "\n",
      "The files are: \n",
      "File: 01-Object Oriented Programming-checkpoint.ipynb\n",
      "File: 01-Object Oriented Programming-Copy1-checkpoint.ipynb\n",
      "File: 02-Object Oriented Programming Homework-checkpoint.ipynb\n",
      "File: 03-Object Oriented Programming Homework - Solution-checkpoint.ipynb\n",
      "File: 04-OOP Challenge-checkpoint.ipynb\n",
      "File: 05-OOP Challenge - Solution-checkpoint.ipynb\n",
      "\n",
      "\n",
      "Current looking at /mnt/c/Users/bknorris/Documents/Scripts/Python/Python_bootcamp/Complete-Python-3-Bootcamp/06-Modules and Packages\n",
      "\n",
      "The subdirectories are: \n",
      ".ipynb_checkpoints\n",
      "00-Modules_and_Packages\n",
      "01-Name_and_Main\n",
      "\n",
      "\n",
      "The files are: \n",
      "File: Useful_Info_Notebook.ipynb\n",
      "\n",
      "\n",
      "Current looking at /mnt/c/Users/bknorris/Documents/Scripts/Python/Python_bootcamp/Complete-Python-3-Bootcamp/06-Modules and Packages/.ipynb_checkpoints\n",
      "\n",
      "The subdirectories are: \n",
      "\n",
      "\n",
      "The files are: \n",
      "File: 01-Modules and Packages-checkpoint.ipynb\n",
      "File: Useful_Info_Notebook-checkpoint.ipynb\n",
      "\n",
      "\n",
      "Current looking at /mnt/c/Users/bknorris/Documents/Scripts/Python/Python_bootcamp/Complete-Python-3-Bootcamp/06-Modules and Packages/00-Modules_and_Packages\n",
      "\n",
      "The subdirectories are: \n",
      "MyMainPackage\n",
      "\n",
      "\n",
      "The files are: \n",
      "File: mymodule.py\n",
      "File: myprogram.py\n",
      "\n",
      "\n",
      "Current looking at /mnt/c/Users/bknorris/Documents/Scripts/Python/Python_bootcamp/Complete-Python-3-Bootcamp/06-Modules and Packages/00-Modules_and_Packages/MyMainPackage\n",
      "\n",
      "The subdirectories are: \n",
      "SubPackage\n",
      "__pycache__\n",
      "\n",
      "\n",
      "The files are: \n",
      "File: some_main_script.py\n",
      "File: __init__.py\n",
      "\n",
      "\n",
      "Current looking at /mnt/c/Users/bknorris/Documents/Scripts/Python/Python_bootcamp/Complete-Python-3-Bootcamp/06-Modules and Packages/00-Modules_and_Packages/MyMainPackage/SubPackage\n",
      "\n",
      "The subdirectories are: \n",
      "__pycache__\n",
      "\n",
      "\n",
      "The files are: \n",
      "File: mysubscript.py\n",
      "File: __init__.py\n",
      "\n",
      "\n",
      "Current looking at /mnt/c/Users/bknorris/Documents/Scripts/Python/Python_bootcamp/Complete-Python-3-Bootcamp/06-Modules and Packages/00-Modules_and_Packages/MyMainPackage/SubPackage/__pycache__\n",
      "\n",
      "The subdirectories are: \n",
      "\n",
      "\n",
      "The files are: \n",
      "File: mysubscript.cpython-36.pyc\n",
      "File: __init__.cpython-36.pyc\n",
      "\n",
      "\n",
      "Current looking at /mnt/c/Users/bknorris/Documents/Scripts/Python/Python_bootcamp/Complete-Python-3-Bootcamp/06-Modules and Packages/00-Modules_and_Packages/MyMainPackage/__pycache__\n",
      "\n",
      "The subdirectories are: \n",
      "\n",
      "\n",
      "The files are: \n",
      "File: some_main_script.cpython-36.pyc\n",
      "File: __init__.cpython-36.pyc\n",
      "\n",
      "\n",
      "Current looking at /mnt/c/Users/bknorris/Documents/Scripts/Python/Python_bootcamp/Complete-Python-3-Bootcamp/06-Modules and Packages/01-Name_and_Main\n",
      "\n",
      "The subdirectories are: \n",
      "\n",
      "\n",
      "The files are: \n",
      "File: Explanation.txt\n",
      "File: one.py\n",
      "File: two.py\n",
      "\n",
      "\n",
      "Current looking at /mnt/c/Users/bknorris/Documents/Scripts/Python/Python_bootcamp/Complete-Python-3-Bootcamp/07-Errors and Exception Handling\n",
      "\n",
      "The subdirectories are: \n",
      ".ipynb_checkpoints\n",
      "__pycache__\n",
      "\n",
      "\n",
      "The files are: \n",
      "File: 01-Errors and Exceptions Handling.ipynb\n",
      "File: 02-Errors and Exceptions Homework.ipynb\n",
      "File: 03-Errors and Exceptions Homework - Solution.ipynb\n",
      "File: 04-Unit Testing.ipynb\n",
      "File: cap.py\n",
      "File: simple1.py\n",
      "File: simple2.py\n",
      "File: testfile\n",
      "File: test_cap.py\n",
      "\n",
      "\n",
      "Current looking at /mnt/c/Users/bknorris/Documents/Scripts/Python/Python_bootcamp/Complete-Python-3-Bootcamp/07-Errors and Exception Handling/.ipynb_checkpoints\n",
      "\n",
      "The subdirectories are: \n",
      "\n",
      "\n",
      "The files are: \n",
      "File: 01-Errors and Exceptions Handling-checkpoint.ipynb\n",
      "File: 02-Errors and Exceptions Homework-checkpoint.ipynb\n",
      "File: 03-Errors and Exceptions Homework - Solution-checkpoint.ipynb\n",
      "File: 04-Unit Testing-checkpoint.ipynb\n",
      "\n",
      "\n",
      "Current looking at /mnt/c/Users/bknorris/Documents/Scripts/Python/Python_bootcamp/Complete-Python-3-Bootcamp/07-Errors and Exception Handling/__pycache__\n",
      "\n",
      "The subdirectories are: \n",
      "\n",
      "\n",
      "The files are: \n",
      "File: cap.cpython-36.pyc\n",
      "\n",
      "\n",
      "Current looking at /mnt/c/Users/bknorris/Documents/Scripts/Python/Python_bootcamp/Complete-Python-3-Bootcamp/08-Milestone Project - 2\n",
      "\n",
      "The subdirectories are: \n",
      ".ipynb_checkpoints\n",
      "\n",
      "\n",
      "The files are: \n",
      "File: 00-Milestone-2-Warmup-Project.ipynb\n",
      "File: 01-Milestone Project 2 - Assignment.ipynb\n",
      "File: 02-Milestone Project 2 - Walkthrough Steps Workbook.ipynb\n",
      "File: 03-Milestone Project 2 - Complete Walkthrough Solution.ipynb\n",
      "\n",
      "\n",
      "Current looking at /mnt/c/Users/bknorris/Documents/Scripts/Python/Python_bootcamp/Complete-Python-3-Bootcamp/08-Milestone Project - 2/.ipynb_checkpoints\n",
      "\n",
      "The subdirectories are: \n",
      "\n",
      "\n",
      "The files are: \n",
      "File: 00-Milestone-2-Warmup-Project-checkpoint.ipynb\n",
      "File: 01-Milestone Project 2 - Assignment-checkpoint.ipynb\n",
      "File: 02-Milestone Project 2 - Walkthrough Steps Workbook-checkpoint.ipynb\n",
      "File: 03-Milestone Project 2 - Complete Walkthrough Solution-checkpoint.ipynb\n",
      "\n",
      "\n",
      "Current looking at /mnt/c/Users/bknorris/Documents/Scripts/Python/Python_bootcamp/Complete-Python-3-Bootcamp/09-Built-in Functions\n",
      "\n",
      "The subdirectories are: \n",
      ".ipynb_checkpoints\n",
      "\n",
      "\n",
      "The files are: \n",
      "File: 01-Map.ipynb\n",
      "File: 02-Reduce.ipynb\n",
      "File: 03-Filter.ipynb\n",
      "File: 04-Zip.ipynb\n",
      "File: 05-Enumerate.ipynb\n",
      "File: 06-all() and any().ipynb\n",
      "File: 07-Complex.ipynb\n",
      "File: 08-Built-in Functions Assessment Test.ipynb\n",
      "File: 09-Built-in Functions Assessment Test - Solution.ipynb\n",
      "\n",
      "\n",
      "Current looking at /mnt/c/Users/bknorris/Documents/Scripts/Python/Python_bootcamp/Complete-Python-3-Bootcamp/09-Built-in Functions/.ipynb_checkpoints\n",
      "\n",
      "The subdirectories are: \n",
      "\n",
      "\n",
      "The files are: \n",
      "File: 01-Map-checkpoint.ipynb\n",
      "File: 02-Reduce-checkpoint.ipynb\n",
      "File: 03-Filter-checkpoint.ipynb\n",
      "File: 04-Zip-checkpoint.ipynb\n",
      "File: 05-Enumerate-checkpoint.ipynb\n",
      "File: 06-all() and any()-checkpoint.ipynb\n",
      "File: 07-Complex-checkpoint.ipynb\n",
      "File: 08-Built-in Functions Assessment Test-checkpoint.ipynb\n",
      "File: 09-Built-in Functions Assessment Test - Solution-checkpoint.ipynb\n",
      "\n",
      "\n",
      "Current looking at /mnt/c/Users/bknorris/Documents/Scripts/Python/Python_bootcamp/Complete-Python-3-Bootcamp/10-Python Decorators\n",
      "\n",
      "The subdirectories are: \n",
      ".ipynb_checkpoints\n",
      "\n",
      "\n",
      "The files are: \n",
      "File: 01-Decorators.ipynb\n",
      "File: 02-Decorators Homework.ipynb\n",
      "\n",
      "\n",
      "Current looking at /mnt/c/Users/bknorris/Documents/Scripts/Python/Python_bootcamp/Complete-Python-3-Bootcamp/10-Python Decorators/.ipynb_checkpoints\n",
      "\n",
      "The subdirectories are: \n",
      "\n",
      "\n",
      "The files are: \n",
      "File: 01-Decorators-checkpoint.ipynb\n",
      "File: 02-Decorators Homework-checkpoint.ipynb\n",
      "\n",
      "\n",
      "Current looking at /mnt/c/Users/bknorris/Documents/Scripts/Python/Python_bootcamp/Complete-Python-3-Bootcamp/11-Python Generators\n",
      "\n",
      "The subdirectories are: \n",
      ".ipynb_checkpoints\n",
      "\n",
      "\n",
      "The files are: \n",
      "File: 01-Iterators and Generators.ipynb\n",
      "File: 02-Iterators and Generators Homework.ipynb\n",
      "File: 03-Iterators and Generators Homework - Solution.ipynb\n",
      "\n",
      "\n",
      "Current looking at /mnt/c/Users/bknorris/Documents/Scripts/Python/Python_bootcamp/Complete-Python-3-Bootcamp/11-Python Generators/.ipynb_checkpoints\n",
      "\n",
      "The subdirectories are: \n",
      "\n",
      "\n",
      "The files are: \n",
      "File: 01-Iterators and Generators-checkpoint.ipynb\n",
      "File: 02-Iterators and Generators Homework-checkpoint.ipynb\n",
      "File: 03-Iterators and Generators Homework - Solution-checkpoint.ipynb\n",
      "\n",
      "\n",
      "Current looking at /mnt/c/Users/bknorris/Documents/Scripts/Python/Python_bootcamp/Complete-Python-3-Bootcamp/12-Advanced Python Modules\n",
      "\n",
      "The subdirectories are: \n",
      ".ipynb_checkpoints\n",
      "08-Advanced-Python-Module-Exercise\n",
      "Example_Top_Level\n",
      "\n",
      "\n",
      "The files are: \n",
      "File: 00-Collections-Module.ipynb\n",
      "File: 01-Opening-and-Reading-Files-Folders.ipynb\n",
      "File: 02-Datetime-Module.ipynb\n",
      "File: 03-Math-and-Random-Module.ipynb\n",
      "File: 04-Python Debugger (pdb).ipynb\n",
      "File: 05-Overview-of-Regular-Expressions.ipynb\n",
      "File: 06-Timing your code - timeit.ipynb\n",
      "File: 07-Unzipping-and-Zipping-Files.ipynb\n",
      "\n",
      "\n",
      "Current looking at /mnt/c/Users/bknorris/Documents/Scripts/Python/Python_bootcamp/Complete-Python-3-Bootcamp/12-Advanced Python Modules/.ipynb_checkpoints\n",
      "\n",
      "The subdirectories are: \n",
      "\n",
      "\n",
      "The files are: \n",
      "File: 00-Collections-Module-checkpoint.ipynb\n",
      "File: 01-Datetime-Module-checkpoint.ipynb\n",
      "File: 01-Opening-and-Reading-Files-Folders-checkpoint.ipynb\n",
      "File: 02-Datetime-Module-checkpoint.ipynb\n",
      "File: 02-Math-and-Random-Module-checkpoint.ipynb\n",
      "File: 03-Math-and-Random-Module-checkpoint.ipynb\n",
      "File: 03-Python Debugger (pdb)-checkpoint.ipynb\n",
      "File: 04-Python Debugger (pdb)-checkpoint.ipynb\n",
      "File: 04-Timing your code - timeit-checkpoint.ipynb\n",
      "File: 05-Overview-of-Regular-Expressions-checkpoint.ipynb\n",
      "File: 06-Timing your code - timeit-checkpoint.ipynb\n",
      "File: 06-Unzipping-and-Zipping-Files-checkpoint.ipynb\n",
      "File: 07-OS-Module-checkpoint.ipynb\n",
      "File: 07-Unzipping-and-Zipping-Files-checkpoint.ipynb\n",
      "File: 09-Advanced-Modules-Exercise-Solutions-checkpoint.ipynb\n",
      "\n",
      "\n",
      "Current looking at /mnt/c/Users/bknorris/Documents/Scripts/Python/Python_bootcamp/Complete-Python-3-Bootcamp/12-Advanced Python Modules/08-Advanced-Python-Module-Exercise\n",
      "\n",
      "The subdirectories are: \n",
      ".ipynb_checkpoints\n",
      "extracted_content\n",
      "\n",
      "\n",
      "The files are: \n",
      "File: 07-Advanced-Modules-Exercise-Puzzle.ipynb\n",
      "File: 08-Advanced-Modules-Exercise-Solutions.ipynb\n",
      "File: unzip_me_for_instructions.zip\n",
      "\n",
      "\n",
      "Current looking at /mnt/c/Users/bknorris/Documents/Scripts/Python/Python_bootcamp/Complete-Python-3-Bootcamp/12-Advanced Python Modules/08-Advanced-Python-Module-Exercise/.ipynb_checkpoints\n",
      "\n",
      "The subdirectories are: \n",
      "\n",
      "\n",
      "The files are: \n",
      "File: 07-Advanced-Modules-Exercise-Puzzle-checkpoint.ipynb\n",
      "File: 08-Advanced-Modules-Exercise-Solutions-checkpoint.ipynb\n",
      "\n",
      "\n",
      "Current looking at /mnt/c/Users/bknorris/Documents/Scripts/Python/Python_bootcamp/Complete-Python-3-Bootcamp/12-Advanced Python Modules/08-Advanced-Python-Module-Exercise/extracted_content\n",
      "\n",
      "The subdirectories are: \n",
      "Five\n",
      "Four\n",
      "One\n",
      "Three\n",
      "Two\n",
      "\n",
      "\n",
      "The files are: \n",
      "File: Instructions.txt\n",
      "\n",
      "\n",
      "Current looking at /mnt/c/Users/bknorris/Documents/Scripts/Python/Python_bootcamp/Complete-Python-3-Bootcamp/12-Advanced Python Modules/08-Advanced-Python-Module-Exercise/extracted_content/Five\n",
      "\n",
      "The subdirectories are: \n",
      "\n",
      "\n",
      "The files are: \n",
      "File: AEITMYIRQLP.txt\n",
      "File: APJKSRITGGX.txt\n",
      "File: AQKATDFGXTS.txt\n",
      "File: ARLKFCWIAJE.txt\n",
      "File: AXJGVPVEFAS.txt\n",
      "File: BNUQEHCFRTG.txt\n",
      "File: BSKJDRNEZQM.txt\n",
      "File: BTYWAHLHKBM.txt\n",
      "File: BUGKBZWRRVI.txt\n",
      "File: BVBURZZCAPR.txt\n",
      "File: CAHBEVSVDDN.txt\n",
      "File: COMGMZBJAYE.txt\n",
      "File: CRFSDGYFSHA.txt\n",
      "File: CSCLFZCDYYC.txt\n",
      "File: CXBVCTRBBIE.txt\n",
      "File: DDLASODUVPX.txt\n",
      "File: DHZBAAYEADM.txt\n",
      "File: DQPZQLBCJYP.txt\n",
      "File: DYOPIIVMZOO.txt\n",
      "File: DZUWWXYIAEL.txt\n",
      "File: EAAOEPSAWMQ.txt\n",
      "File: EIPWXMQZJKU.txt\n",
      "File: ESIZWBHMGDP.txt\n",
      "File: ETCUEXWNBCF.txt\n",
      "File: EYTCGIOYWIW.txt\n",
      "\n",
      "\n",
      "Current looking at /mnt/c/Users/bknorris/Documents/Scripts/Python/Python_bootcamp/Complete-Python-3-Bootcamp/12-Advanced Python Modules/08-Advanced-Python-Module-Exercise/extracted_content/Four\n",
      "\n",
      "The subdirectories are: \n",
      "\n",
      "\n",
      "The files are: \n",
      "File: ECIOBYCDVFI.txt\n",
      "File: EMTGPSXQEJX.txt\n",
      "File: EPRNUHRSESC.txt\n",
      "File: ESDIZXHYCVY.txt\n",
      "File: EXVQSVBQQQH.txt\n",
      "File: QCTCKDIBBVG.txt\n",
      "File: QCWCFLKNZMN.txt\n",
      "File: QDDETWBHJYC.txt\n",
      "File: QTDYYIFPHAU.txt\n",
      "File: QVNJULGXNUM.txt\n",
      "File: REAXWSOIQDY.txt\n",
      "File: ROICPTWKXDX.txt\n",
      "File: RSXOTNGKBML.txt\n",
      "File: RXDARIDGKBF.txt\n",
      "File: RYNXFYXMKHG.txt\n",
      "File: TAKNAVDMZKV.txt\n",
      "File: THPNEGKTJWI.txt\n",
      "File: TJFMLJODVAD.txt\n",
      "File: TKCZSFQNJTX.txt\n",
      "File: TWUOYFCCYBQ.txt\n",
      "File: WFSKPTXPFCH.txt\n",
      "File: WHTOHQUWXIN.txt\n",
      "File: WNJISWPEBRS.txt\n",
      "File: WXDJDOGZEHN.txt\n",
      "File: WYDLGSGGXKV.txt\n",
      "\n",
      "\n",
      "Current looking at /mnt/c/Users/bknorris/Documents/Scripts/Python/Python_bootcamp/Complete-Python-3-Bootcamp/12-Advanced Python Modules/08-Advanced-Python-Module-Exercise/extracted_content/One\n",
      "\n",
      "The subdirectories are: \n",
      "\n",
      "\n",
      "The files are: \n",
      "File: HDOHZHFSTTK.txt\n",
      "File: HFUTPPAXDIS.txt\n",
      "File: HMNZTLIFGPD.txt\n",
      "File: HRQFTHKVJTL.txt\n",
      "File: HVUTZEVMSBW.txt\n",
      "File: JDLRVFCXYLU.txt\n",
      "File: JEHBLZPUPSP.txt\n",
      "File: JLTXKIGCWDL.txt\n",
      "File: JQUOBKFUACN.txt\n",
      "File: JTHSNBNPQSE.txt\n",
      "File: KCXGNQCZBLO.txt\n",
      "File: KFIUZFERLET.txt\n",
      "File: KMMLGJOWLGI.txt\n",
      "File: KNBSKDREHQU.txt\n",
      "File: KTXDHIOKAUI.txt\n",
      "File: LDGOCUQJNNS.txt\n",
      "File: LFEATJAAYDC.txt\n",
      "File: LHODFIKVTQA.txt\n",
      "File: LIFDHOFKWOI.txt\n",
      "File: LPNDVDXPZIG.txt\n",
      "File: PDJMSMNKIRM.txt\n",
      "File: PHWAVPEKAER.txt\n",
      "File: PLYCGPVEAWO.txt\n",
      "File: PQNVCVJINAR.txt\n",
      "File: PTOBBCJYURJ.txt\n",
      "\n",
      "\n",
      "Current looking at /mnt/c/Users/bknorris/Documents/Scripts/Python/Python_bootcamp/Complete-Python-3-Bootcamp/12-Advanced Python Modules/08-Advanced-Python-Module-Exercise/extracted_content/Three\n",
      "\n",
      "The subdirectories are: \n",
      "\n",
      "\n",
      "The files are: \n",
      "File: VAQIJTDOFUJ.txt\n",
      "File: VCFJCGJFBIH.txt\n",
      "File: VSXFSTABZDY.txt\n",
      "File: VVHFVZUNLOO.txt\n",
      "File: VVKGWLRMHLU.txt\n",
      "File: XAJMCPEWFNI.txt\n",
      "File: XFHJOTNPEJG.txt\n",
      "File: XHZPVUQTXIO.txt\n",
      "File: XJCWENFFGHB.txt\n",
      "File: XVMPVSVYKFR.txt\n",
      "File: YCESZHJDBXH.txt\n",
      "File: YDQFMWXOUMW.txt\n",
      "File: YQBIUHSUEVW.txt\n",
      "File: YQRNCMNFFHW.txt\n",
      "File: YYIZGBTQHZP.txt\n",
      "File: ZEZKKRBIZEB.txt\n",
      "File: ZKQJXAYKPVD.txt\n",
      "File: ZOWVXWPOGWP.txt\n",
      "File: ZXEZRQXZNPG.txt\n",
      "File: ZXIBJMPROKW.txt\n",
      "\n",
      "\n",
      "Current looking at /mnt/c/Users/bknorris/Documents/Scripts/Python/Python_bootcamp/Complete-Python-3-Bootcamp/12-Advanced Python Modules/08-Advanced-Python-Module-Exercise/extracted_content/Two\n",
      "\n",
      "The subdirectories are: \n",
      "\n",
      "\n",
      "The files are: \n",
      "File: GKQBQRCTNNK.txt\n",
      "File: GMMQQUBMJNR.txt\n",
      "File: GQTJJORZBXY.txt\n",
      "File: GTOTCIWMDBY.txt\n",
      "File: GXYSEPAFRTP.txt\n",
      "File: HARDNJGDRBC.txt\n",
      "File: HEORIXOTANT.txt\n",
      "File: HMUTDOVNYTV.txt\n",
      "File: HMZXPBOPRAE.txt\n",
      "File: HTOHSTYXTCO.txt\n",
      "File: LCJZYDHBFRM.txt\n",
      "File: LSQSTGPIGIY.txt\n",
      "File: LULTNYAQEJG.txt\n",
      "File: LVMBINRBJXL.txt\n",
      "File: LYZEQCVYNEZ.txt\n",
      "File: OHZOUOSFJQC.txt\n",
      "File: OIHMLGMWTHL.txt\n",
      "File: OKWFOOYTXFU.txt\n",
      "File: OMWIMVRCMYM.txt\n",
      "File: OYMAGXAGWHJ.txt\n",
      "File: SIKFPPLCJDN.txt\n",
      "File: SJMJLDGPBSJ.txt\n",
      "File: SOFUJYXTIMK.txt\n",
      "File: SPDZYGDHEWO.txt\n",
      "File: SWOFXREEHWA.txt\n",
      "\n",
      "\n",
      "Current looking at /mnt/c/Users/bknorris/Documents/Scripts/Python/Python_bootcamp/Complete-Python-3-Bootcamp/12-Advanced Python Modules/Example_Top_Level\n",
      "\n",
      "The subdirectories are: \n",
      "Mid-Example-One\n",
      "\n",
      "\n",
      "The files are: \n",
      "File: Mid-Example.txt\n",
      "\n",
      "\n",
      "Current looking at /mnt/c/Users/bknorris/Documents/Scripts/Python/Python_bootcamp/Complete-Python-3-Bootcamp/12-Advanced Python Modules/Example_Top_Level/Mid-Example-One\n",
      "\n",
      "The subdirectories are: \n",
      "Bottom-Level-One\n",
      "Bottom-Level-Two\n",
      "\n",
      "\n",
      "The files are: \n",
      "File: Mid-Level-Doc.txt\n",
      "\n",
      "\n",
      "Current looking at /mnt/c/Users/bknorris/Documents/Scripts/Python/Python_bootcamp/Complete-Python-3-Bootcamp/12-Advanced Python Modules/Example_Top_Level/Mid-Example-One/Bottom-Level-One\n",
      "\n",
      "The subdirectories are: \n",
      "\n",
      "\n",
      "The files are: \n",
      "File: One_Text.txt\n",
      "\n",
      "\n",
      "Current looking at /mnt/c/Users/bknorris/Documents/Scripts/Python/Python_bootcamp/Complete-Python-3-Bootcamp/12-Advanced Python Modules/Example_Top_Level/Mid-Example-One/Bottom-Level-Two\n",
      "\n",
      "The subdirectories are: \n",
      "\n",
      "\n",
      "The files are: \n",
      "File: Bottom-Text-Two.txt\n",
      "\n",
      "\n",
      "Current looking at /mnt/c/Users/bknorris/Documents/Scripts/Python/Python_bootcamp/Complete-Python-3-Bootcamp/13-Web-Scraping\n",
      "\n",
      "The subdirectories are: \n",
      ".ipynb_checkpoints\n",
      "\n",
      "\n",
      "The files are: \n",
      "File: 00-Guide-to-Web-Scraping.ipynb\n",
      "File: 01-Web-Scraping-Exercises.ipynb\n",
      "File: 02-Web-Scraping-Exercise-Solutions.ipynb\n",
      "File: my_new_file_name.jpg\n",
      "\n",
      "\n",
      "Current looking at /mnt/c/Users/bknorris/Documents/Scripts/Python/Python_bootcamp/Complete-Python-3-Bootcamp/13-Web-Scraping/.ipynb_checkpoints\n",
      "\n",
      "The subdirectories are: \n",
      "\n",
      "\n",
      "The files are: \n",
      "File: 00-Guide-to-Web-Scraping-checkpoint.ipynb\n",
      "File: 01-Web-Scraping-Exercises-checkpoint.ipynb\n",
      "File: 02-Web-Scraping-Exercise-Solutions-checkpoint.ipynb\n",
      "\n",
      "\n",
      "Current looking at /mnt/c/Users/bknorris/Documents/Scripts/Python/Python_bootcamp/Complete-Python-3-Bootcamp/14-Working-with-Images\n",
      "\n",
      "The subdirectories are: \n",
      ".ipynb_checkpoints\n",
      "\n",
      "\n",
      "The files are: \n",
      "File: 00-Overview-of-Working-with-Images.ipynb\n",
      "File: 01-Image-Exercise.ipynb\n",
      "File: 02-Image-Exercise-Solution.ipynb\n",
      "File: blue_color.png\n",
      "File: example.jpg\n",
      "File: mask.png\n",
      "File: pencils.jpg\n",
      "File: purple.png\n",
      "File: red_color.jpg\n",
      "File: word_matrix.png\n",
      "\n",
      "\n",
      "Current looking at /mnt/c/Users/bknorris/Documents/Scripts/Python/Python_bootcamp/Complete-Python-3-Bootcamp/14-Working-with-Images/.ipynb_checkpoints\n",
      "\n",
      "The subdirectories are: \n",
      "\n",
      "\n",
      "The files are: \n",
      "File: 00-Overview-of-Working-with-Images-checkpoint.ipynb\n",
      "File: 01-Image-Exercise-checkpoint.ipynb\n",
      "File: 02-Image-Exercise-Solution-checkpoint.ipynb\n",
      "\n",
      "\n",
      "Current looking at /mnt/c/Users/bknorris/Documents/Scripts/Python/Python_bootcamp/Complete-Python-3-Bootcamp/15-PDFs-and-Spreadsheets\n",
      "\n",
      "The subdirectories are: \n",
      ".ipynb_checkpoints\n",
      "Exercise_Files\n",
      "\n",
      "\n",
      "The files are: \n",
      "File: 00-Working-with-CSV-Files.ipynb\n",
      "File: 01-Working-with-PDFs.ipynb\n",
      "File: 02-PDFs-Spreadsheets-Puzzle.ipynb\n",
      "File: 03-PDFs-Spreadsheets-Puzzle-Solution.ipynb\n",
      "File: example.csv\n",
      "File: makeup_new.csv\n",
      "File: Some_BrandNew_Doc.pdf\n",
      "File: Some_New_Doc.pdf\n",
      "File: Some_new_file.pdf\n",
      "File: to_save_file.csv\n",
      "File: Working_Business_Proposal.pdf\n",
      "\n",
      "\n",
      "Current looking at /mnt/c/Users/bknorris/Documents/Scripts/Python/Python_bootcamp/Complete-Python-3-Bootcamp/15-PDFs-and-Spreadsheets/.ipynb_checkpoints\n",
      "\n",
      "The subdirectories are: \n",
      "\n",
      "\n",
      "The files are: \n",
      "File: 00-Working-with-CSV-Files-checkpoint.ipynb\n",
      "File: 01-Working-with-PDFs-checkpoint.ipynb\n",
      "File: 02-PDFs-Spreadsheets-Puzzle-checkpoint.ipynb\n",
      "File: 03-PDFs-Spreadsheets-Puzzle-Solution-checkpoint.ipynb\n",
      "\n",
      "\n",
      "Current looking at /mnt/c/Users/bknorris/Documents/Scripts/Python/Python_bootcamp/Complete-Python-3-Bootcamp/15-PDFs-and-Spreadsheets/Exercise_Files\n",
      "\n",
      "The subdirectories are: \n",
      "\n",
      "\n",
      "The files are: \n",
      "File: find_the_link.csv\n",
      "File: Find_the_Phone_Number.pdf\n",
      "\n",
      "\n",
      "Current looking at /mnt/c/Users/bknorris/Documents/Scripts/Python/Python_bootcamp/Complete-Python-3-Bootcamp/16-Emailing-with-Python\n",
      "\n",
      "The subdirectories are: \n",
      ".ipynb_checkpoints\n",
      "\n",
      "\n",
      "The files are: \n",
      "File: 00-Overview-of-Sending-Emails.ipynb\n",
      "File: 01-Overview-of-Received-Emails.ipynb\n",
      "File: 02-Exercise-Ideas.ipynb\n",
      "\n",
      "\n",
      "Current looking at /mnt/c/Users/bknorris/Documents/Scripts/Python/Python_bootcamp/Complete-Python-3-Bootcamp/16-Emailing-with-Python/.ipynb_checkpoints\n",
      "\n",
      "The subdirectories are: \n",
      "\n",
      "\n",
      "The files are: \n",
      "File: 00-Overview-of-Sending-Emails-checkpoint.ipynb\n",
      "File: 01-Overview-of-Received-Emails-checkpoint.ipynb\n",
      "File: 02-Exercise-Ideas-checkpoint.ipynb\n",
      "\n",
      "\n",
      "Current looking at /mnt/c/Users/bknorris/Documents/Scripts/Python/Python_bootcamp/Complete-Python-3-Bootcamp/17-Advanced Python Objects and Data Structures\n",
      "\n",
      "The subdirectories are: \n",
      ".ipynb_checkpoints\n",
      "\n",
      "\n",
      "The files are: \n",
      "File: 01-Advanced Numbers.ipynb\n",
      "File: 02-Advanced Strings.ipynb\n",
      "File: 03-Advanced Sets.ipynb\n",
      "File: 04-Advanced Dictionaries.ipynb\n",
      "File: 05-Advanced Lists.ipynb\n",
      "File: 06-Advanced Python Objects Test.ipynb\n",
      "File: 07-Advanced Python Objects Test - Solutions.ipynb\n",
      "File: 08-BONUS - With Statement Context Managers.ipynb\n",
      "\n",
      "\n",
      "Current looking at /mnt/c/Users/bknorris/Documents/Scripts/Python/Python_bootcamp/Complete-Python-3-Bootcamp/17-Advanced Python Objects and Data Structures/.ipynb_checkpoints\n",
      "\n",
      "The subdirectories are: \n",
      "\n",
      "\n",
      "The files are: \n",
      "File: 01-Advanced Numbers-checkpoint.ipynb\n",
      "File: 02-Advanced Strings-checkpoint.ipynb\n",
      "File: 03-Advanced Sets-checkpoint.ipynb\n",
      "File: 04-Advanced Dictionaries-checkpoint.ipynb\n",
      "File: 05-Advanced Lists-checkpoint.ipynb\n",
      "File: 06-Advanced Python Objects Test-checkpoint.ipynb\n",
      "File: 07-Advanced Python Objects Test - Solutions-checkpoint.ipynb\n",
      "\n",
      "\n",
      "Current looking at /mnt/c/Users/bknorris/Documents/Scripts/Python/Python_bootcamp/Complete-Python-3-Bootcamp/18-Milestone Project - 3\n",
      "\n",
      "The subdirectories are: \n",
      ".ipynb_checkpoints\n",
      "Projects-Solutions\n",
      "\n",
      "\n",
      "The files are: \n",
      "File: 01-Final Capstone Project.ipynb\n",
      "File: 02-Final Capstone Project Ideas.ipynb\n",
      "\n",
      "\n",
      "Current looking at /mnt/c/Users/bknorris/Documents/Scripts/Python/Python_bootcamp/Complete-Python-3-Bootcamp/18-Milestone Project - 3/.ipynb_checkpoints\n",
      "\n",
      "The subdirectories are: \n",
      "\n",
      "\n",
      "The files are: \n",
      "File: 01-Final Capstone Project-checkpoint.ipynb\n",
      "File: 02-Final Capstone Project Ideas-checkpoint.ipynb\n",
      "\n",
      "\n",
      "Current looking at /mnt/c/Users/bknorris/Documents/Scripts/Python/Python_bootcamp/Complete-Python-3-Bootcamp/18-Milestone Project - 3/Projects-Solutions\n",
      "\n",
      "The subdirectories are: \n",
      "\n",
      "\n",
      "The files are: \n",
      "File: Solution Links.md\n",
      "\n",
      "\n",
      "Current looking at /mnt/c/Users/bknorris/Documents/Scripts/Python/Python_bootcamp/Complete-Python-3-Bootcamp/19-Bonus Material - Introduction to GUIs\n",
      "\n",
      "The subdirectories are: \n",
      ".ipynb_checkpoints\n",
      "\n",
      "\n",
      "The files are: \n",
      "File: 01-Interact.ipynb\n",
      "File: 02-Widget Basics.ipynb\n",
      "File: 03-Widget List.ipynb\n",
      "File: 04-Widget Events.ipynb\n",
      "File: 05-Widget Styling.ipynb\n",
      "File: 06-Custom Widget.ipynb\n",
      "File: 07-Advanced Widget List.ipynb\n",
      "File: 08-Advanced Widget Styling with Layout.ipynb\n",
      "\n",
      "\n",
      "Current looking at /mnt/c/Users/bknorris/Documents/Scripts/Python/Python_bootcamp/Complete-Python-3-Bootcamp/19-Bonus Material - Introduction to GUIs/.ipynb_checkpoints\n",
      "\n",
      "The subdirectories are: \n",
      "\n",
      "\n",
      "The files are: \n",
      "File: 01-Interact-checkpoint.ipynb\n",
      "File: 02-Widget Basics-checkpoint.ipynb\n",
      "File: 03-Widget List-checkpoint.ipynb\n",
      "File: 04-Widget Events-checkpoint.ipynb\n",
      "File: 05-Widget Styling-checkpoint.ipynb\n",
      "File: 06-Custom Widget-checkpoint.ipynb\n",
      "File: 07-Advanced Widget List-checkpoint.ipynb\n",
      "File: 08-Advanced Widget Styling with Layout-checkpoint.ipynb\n",
      "\n",
      "\n",
      "Current looking at /mnt/c/Users/bknorris/Documents/Scripts/Python/Python_bootcamp/Course-Notes\n",
      "\n",
      "The subdirectories are: \n",
      ".ipynb_checkpoints\n",
      "\n",
      "\n",
      "The files are: \n",
      "File: myfile.txt\n",
      "File: my_first_notebook.ipynb\n",
      "File: Section10_Errors_and_exception_handling.ipynb\n",
      "File: Section11_MilestoneProject2.ipynb\n",
      "File: Section12_Python_Decorators.ipynb\n",
      "File: Section13_Generators_with_Python.ipynb\n",
      "File: Section14_Advanced_Python_Modules.ipynb\n",
      "File: Section3_PythonObject_and_DataStructrue_Basics.ipynb\n",
      "File: Section4_Python_Comparison_Operators.ipynb\n",
      "File: Section5_PythonStatements.ipynb\n",
      "File: Section6_MethodsAndFunctions.ipynb\n",
      "File: Section7_MilestoneProject1.ipynb\n",
      "File: Section8_Object_Oriented_Programming.ipynb\n",
      "File: Section9_Modules_and_Packages.ipynb\n",
      "File: testfile\n",
      "\n",
      "\n",
      "Current looking at /mnt/c/Users/bknorris/Documents/Scripts/Python/Python_bootcamp/Course-Notes/.ipynb_checkpoints\n",
      "\n",
      "The subdirectories are: \n",
      "\n",
      "\n",
      "The files are: \n",
      "File: my_first_notebook-checkpoint.ipynb\n",
      "File: Section10_Errors_and_exception_handling-checkpoint.ipynb\n",
      "File: Section11_MilestoneProject2-checkpoint.ipynb\n",
      "File: Section12_Python_Decorators-checkpoint.ipynb\n",
      "File: Section13_Generators_with_Python-checkpoint.ipynb\n",
      "File: Section14_Advanced_Python_Modules-checkpoint.ipynb\n",
      "File: Section3_PythonObject_and_DataStructrue_Basics-checkpoint.ipynb\n",
      "File: Section4_Python_Comparison_Operators-checkpoint.ipynb\n",
      "File: Section5_PythonStatements-checkpoint.ipynb\n",
      "File: Section6_MethodsAndFunctions-checkpoint.ipynb\n",
      "File: Section7_MilestoneProject1-checkpoint.ipynb\n",
      "File: Section8_Object_Oriented_Programming-checkpoint.ipynb\n",
      "File: Section9_Modules_and_Packages-checkpoint.ipynb\n",
      "\n",
      "\n",
      "Current looking at /mnt/c/Users/bknorris/Documents/Scripts/Python/Python_bootcamp/Test-Scripts\n",
      "\n",
      "The subdirectories are: \n",
      "__pycache__\n",
      "\n",
      "\n",
      "The files are: \n",
      "File: cap_text.py\n",
      "File: hello.py\n",
      "File: linter_test.py\n",
      "File: test.py\n",
      "File: test2\n",
      "File: test2.py\n",
      "File: TestCSV.csv\n",
      "File: test_cap.py\n",
      "\n",
      "\n",
      "Current looking at /mnt/c/Users/bknorris/Documents/Scripts/Python/Python_bootcamp/Test-Scripts/__pycache__\n",
      "\n",
      "The subdirectories are: \n",
      "\n",
      "\n",
      "The files are: \n"
     ]
    },
    {
     "name": "stdout",
     "output_type": "stream",
     "text": [
      "File: cap_text.cpython-37.pyc\n",
      "\n",
      "\n"
     ]
    }
   ],
   "source": [
    "#os.walk: shows directory trees!\n",
    "\n",
    "for folder, subfolders, files in os.walk('/mnt/c/Users/bknorris/Documents/Scripts/Python'):\n",
    "    \n",
    "    print(f\"Current looking at {folder}\\n\")\n",
    "    print(\"The subdirectories are: \")\n",
    "    for subf in subfolders:\n",
    "        print(f\"{subf}\")\n",
    "    print('\\n')\n",
    "    print(\"The files are: \")\n",
    "    for f in files:\n",
    "          print(f\"File: {f}\")\n",
    "    print('\\n')"
   ]
  },
  {
   "cell_type": "markdown",
   "id": "cba719ed",
   "metadata": {},
   "source": [
    "### The Datetime module"
   ]
  },
  {
   "cell_type": "code",
   "execution_count": 30,
   "id": "85cf8aab",
   "metadata": {},
   "outputs": [],
   "source": [
    "import datetime\n",
    "\n",
    "mytime = datetime.time(1,20)"
   ]
  },
  {
   "cell_type": "code",
   "execution_count": 31,
   "id": "c7889a05",
   "metadata": {},
   "outputs": [
    {
     "data": {
      "text/plain": [
       "1"
      ]
     },
     "execution_count": 31,
     "metadata": {},
     "output_type": "execute_result"
    }
   ],
   "source": [
    "mytime.hour"
   ]
  },
  {
   "cell_type": "code",
   "execution_count": 32,
   "id": "76423751",
   "metadata": {},
   "outputs": [
    {
     "name": "stdout",
     "output_type": "stream",
     "text": [
      "01:20:00\n"
     ]
    }
   ],
   "source": [
    "print(mytime)"
   ]
  },
  {
   "cell_type": "code",
   "execution_count": 33,
   "id": "cde412c7",
   "metadata": {},
   "outputs": [],
   "source": [
    "my_datetime = datetime.datetime(2018,1,25,6,0,0)"
   ]
  },
  {
   "cell_type": "code",
   "execution_count": 34,
   "id": "a619bbb4",
   "metadata": {},
   "outputs": [
    {
     "name": "stdout",
     "output_type": "stream",
     "text": [
      "2018-01-25 06:00:00\n"
     ]
    }
   ],
   "source": [
    "print(my_datetime)"
   ]
  },
  {
   "cell_type": "code",
   "execution_count": 35,
   "id": "bf2dc3ca",
   "metadata": {},
   "outputs": [
    {
     "data": {
      "text/plain": [
       "6"
      ]
     },
     "execution_count": 35,
     "metadata": {},
     "output_type": "execute_result"
    }
   ],
   "source": [
    "my_datetime.hour"
   ]
  },
  {
   "cell_type": "code",
   "execution_count": 36,
   "id": "cb39df17",
   "metadata": {},
   "outputs": [
    {
     "ename": "AttributeError",
     "evalue": "attribute 'hour' of 'datetime.datetime' objects is not writable",
     "output_type": "error",
     "traceback": [
      "\u001b[0;31m---------------------------------------------------------------------------\u001b[0m",
      "\u001b[0;31mAttributeError\u001b[0m                            Traceback (most recent call last)",
      "\u001b[0;32m/tmp/ipykernel_2628/3796981122.py\u001b[0m in \u001b[0;36m<module>\u001b[0;34m\u001b[0m\n\u001b[0;32m----> 1\u001b[0;31m \u001b[0mmy_datetime\u001b[0m\u001b[0;34m.\u001b[0m\u001b[0mhour\u001b[0m \u001b[0;34m=\u001b[0m \u001b[0;36m7\u001b[0m\u001b[0;34m\u001b[0m\u001b[0;34m\u001b[0m\u001b[0m\n\u001b[0m",
      "\u001b[0;31mAttributeError\u001b[0m: attribute 'hour' of 'datetime.datetime' objects is not writable"
     ]
    }
   ],
   "source": [
    "my_datetime.hour = 7"
   ]
  },
  {
   "cell_type": "code",
   "execution_count": 37,
   "id": "7f4b4b97",
   "metadata": {},
   "outputs": [
    {
     "data": {
      "text/plain": [
       "datetime.datetime(2018, 1, 25, 7, 0)"
      ]
     },
     "execution_count": 37,
     "metadata": {},
     "output_type": "execute_result"
    }
   ],
   "source": [
    "my_datetime.replace(hour=7)"
   ]
  },
  {
   "cell_type": "code",
   "execution_count": 38,
   "id": "bc1ce529",
   "metadata": {},
   "outputs": [
    {
     "data": {
      "text/plain": [
       "datetime.timedelta(days=28)"
      ]
     },
     "execution_count": 38,
     "metadata": {},
     "output_type": "execute_result"
    }
   ],
   "source": [
    "# Do some datetime calculations\n",
    "\n",
    "date1 = datetime.date(2021,11,3)\n",
    "date2 = datetime.date(2021,12,1)\n",
    "\n",
    "date2-date1"
   ]
  },
  {
   "cell_type": "markdown",
   "id": "2c36d942",
   "metadata": {},
   "source": [
    "### Python Math and Random Modules"
   ]
  },
  {
   "cell_type": "code",
   "execution_count": 39,
   "id": "79b6755e",
   "metadata": {},
   "outputs": [],
   "source": [
    "import math"
   ]
  },
  {
   "cell_type": "code",
   "execution_count": 40,
   "id": "4838e3f0",
   "metadata": {},
   "outputs": [
    {
     "data": {
      "text/plain": [
       "4"
      ]
     },
     "execution_count": 40,
     "metadata": {},
     "output_type": "execute_result"
    }
   ],
   "source": [
    "value = 4.35\n",
    "math.floor(value)"
   ]
  },
  {
   "cell_type": "code",
   "execution_count": 41,
   "id": "acc30d39",
   "metadata": {},
   "outputs": [
    {
     "data": {
      "text/plain": [
       "5"
      ]
     },
     "execution_count": 41,
     "metadata": {},
     "output_type": "execute_result"
    }
   ],
   "source": [
    "math.ceil(value)"
   ]
  },
  {
   "cell_type": "code",
   "execution_count": 43,
   "id": "4d8ff73f",
   "metadata": {},
   "outputs": [
    {
     "data": {
      "text/plain": [
       "4.0"
      ]
     },
     "execution_count": 43,
     "metadata": {},
     "output_type": "execute_result"
    }
   ],
   "source": [
    "round(value,0)"
   ]
  },
  {
   "cell_type": "code",
   "execution_count": 44,
   "id": "da944851",
   "metadata": {},
   "outputs": [
    {
     "data": {
      "text/plain": [
       "3.141592653589793"
      ]
     },
     "execution_count": 44,
     "metadata": {},
     "output_type": "execute_result"
    }
   ],
   "source": [
    "math.pi"
   ]
  },
  {
   "cell_type": "code",
   "execution_count": 45,
   "id": "dac8941d",
   "metadata": {},
   "outputs": [
    {
     "data": {
      "text/plain": [
       "2.718281828459045"
      ]
     },
     "execution_count": 45,
     "metadata": {},
     "output_type": "execute_result"
    }
   ],
   "source": [
    "math.e"
   ]
  },
  {
   "cell_type": "code",
   "execution_count": 47,
   "id": "56508a3f",
   "metadata": {},
   "outputs": [],
   "source": [
    "a = math.nan"
   ]
  },
  {
   "cell_type": "code",
   "execution_count": 48,
   "id": "c16cd2aa",
   "metadata": {},
   "outputs": [],
   "source": [
    "# Actually, just use numpy"
   ]
  },
  {
   "cell_type": "code",
   "execution_count": 51,
   "id": "6d156045",
   "metadata": {},
   "outputs": [],
   "source": [
    "import random\n",
    "\n",
    "random.seed(101) #starts the random generator "
   ]
  },
  {
   "cell_type": "code",
   "execution_count": 52,
   "id": "b71dcc06",
   "metadata": {},
   "outputs": [
    {
     "data": {
      "text/plain": [
       "74"
      ]
     },
     "execution_count": 52,
     "metadata": {},
     "output_type": "execute_result"
    }
   ],
   "source": [
    "random.randint(0,100)"
   ]
  },
  {
   "cell_type": "code",
   "execution_count": 54,
   "id": "e6adcb4e",
   "metadata": {},
   "outputs": [
    {
     "data": {
      "text/plain": [
       "6"
      ]
     },
     "execution_count": 54,
     "metadata": {},
     "output_type": "execute_result"
    }
   ],
   "source": [
    "# Pick a random value from a list\n",
    "\n",
    "my_list = list(range(0,20))\n",
    "random.choice(my_list)"
   ]
  },
  {
   "cell_type": "code",
   "execution_count": 56,
   "id": "8eef1ca4",
   "metadata": {},
   "outputs": [
    {
     "data": {
      "text/plain": [
       "[18, 10, 7, 0, 10]"
      ]
     },
     "execution_count": 56,
     "metadata": {},
     "output_type": "execute_result"
    }
   ],
   "source": [
    "# What about five random numbers?\n",
    "# Sample with replacement: \n",
    "\n",
    "random.choices(population=my_list,k=5)"
   ]
  },
  {
   "cell_type": "code",
   "execution_count": 57,
   "id": "c8289f55",
   "metadata": {},
   "outputs": [
    {
     "data": {
      "text/plain": [
       "[19, 7, 9, 15, 6]"
      ]
     },
     "execution_count": 57,
     "metadata": {},
     "output_type": "execute_result"
    }
   ],
   "source": [
    "# Sample without replacement:\n",
    "random.sample(population=my_list,k=5)"
   ]
  },
  {
   "cell_type": "markdown",
   "id": "27f4fa8f",
   "metadata": {},
   "source": [
    "### Python Debugger"
   ]
  },
  {
   "cell_type": "code",
   "execution_count": 2,
   "id": "8322a621",
   "metadata": {},
   "outputs": [
    {
     "ename": "TypeError",
     "evalue": "can only concatenate list (not \"int\") to list",
     "output_type": "error",
     "traceback": [
      "\u001b[0;31m---------------------------------------------------------------------------\u001b[0m",
      "\u001b[0;31mTypeError\u001b[0m                                 Traceback (most recent call last)",
      "\u001b[0;32m/tmp/ipykernel_543/2072787133.py\u001b[0m in \u001b[0;36m<module>\u001b[0;34m\u001b[0m\n\u001b[1;32m      4\u001b[0m \u001b[0;34m\u001b[0m\u001b[0m\n\u001b[1;32m      5\u001b[0m \u001b[0mresult\u001b[0m \u001b[0;34m=\u001b[0m \u001b[0my\u001b[0m\u001b[0;34m+\u001b[0m\u001b[0mz\u001b[0m\u001b[0;34m\u001b[0m\u001b[0;34m\u001b[0m\u001b[0m\n\u001b[0;32m----> 6\u001b[0;31m \u001b[0mresult2\u001b[0m \u001b[0;34m=\u001b[0m \u001b[0mx\u001b[0m\u001b[0;34m+\u001b[0m\u001b[0my\u001b[0m \u001b[0;31m#produces an error because you can't concatenate a 1x3 with a 1x1 list\u001b[0m\u001b[0;34m\u001b[0m\u001b[0;34m\u001b[0m\u001b[0m\n\u001b[0m",
      "\u001b[0;31mTypeError\u001b[0m: can only concatenate list (not \"int\") to list"
     ]
    }
   ],
   "source": [
    "x = [1,2,3]\n",
    "y = 2\n",
    "z = 3\n",
    "\n",
    "result = y+z\n",
    "result2 = x+y #produces an error because you can't concatenate a 1x3 with a 1x1 list"
   ]
  },
  {
   "cell_type": "code",
   "execution_count": 4,
   "id": "29a7dafe",
   "metadata": {},
   "outputs": [
    {
     "name": "stdout",
     "output_type": "stream",
     "text": [
      "--Return--\n",
      "None\n",
      "> \u001b[0;32m/tmp/ipykernel_543/3583913907.py\u001b[0m(10)\u001b[0;36m<module>\u001b[0;34m()\u001b[0m\n",
      "\u001b[0;32m      7 \u001b[0;31m\u001b[0;34m\u001b[0m\u001b[0m\n",
      "\u001b[0m\u001b[0;32m      8 \u001b[0;31m\u001b[0mresult\u001b[0m \u001b[0;34m=\u001b[0m \u001b[0my\u001b[0m\u001b[0;34m+\u001b[0m\u001b[0mz\u001b[0m\u001b[0;34m\u001b[0m\u001b[0;34m\u001b[0m\u001b[0m\n",
      "\u001b[0m\u001b[0;32m      9 \u001b[0;31m\u001b[0;34m\u001b[0m\u001b[0m\n",
      "\u001b[0m\u001b[0;32m---> 10 \u001b[0;31m\u001b[0mpdb\u001b[0m\u001b[0;34m.\u001b[0m\u001b[0mset_trace\u001b[0m\u001b[0;34m(\u001b[0m\u001b[0;34m)\u001b[0m \u001b[0;31m#sets the debugger before the line with the error\u001b[0m\u001b[0;34m\u001b[0m\u001b[0;34m\u001b[0m\u001b[0m\n",
      "\u001b[0m\u001b[0;32m     11 \u001b[0;31m\u001b[0mresult2\u001b[0m \u001b[0;34m=\u001b[0m \u001b[0mx\u001b[0m\u001b[0;34m+\u001b[0m\u001b[0my\u001b[0m\u001b[0;34m\u001b[0m\u001b[0;34m\u001b[0m\u001b[0m\n",
      "\u001b[0m\n",
      "ipdb> y+x\n",
      "*** TypeError: unsupported operand type(s) for +: 'int' and 'list'\n",
      "ipdb> x\n",
      "[1, 2, 3]\n",
      "ipdb> y\n",
      "2\n",
      "ipdb> q\n"
     ]
    },
    {
     "ename": "BdbQuit",
     "evalue": "",
     "output_type": "error",
     "traceback": [
      "\u001b[0;31m---------------------------------------------------------------------------\u001b[0m",
      "\u001b[0;31mBdbQuit\u001b[0m                                   Traceback (most recent call last)",
      "\u001b[0;32m/tmp/ipykernel_543/3583913907.py\u001b[0m in \u001b[0;36m<module>\u001b[0;34m\u001b[0m\n\u001b[1;32m      8\u001b[0m \u001b[0mresult\u001b[0m \u001b[0;34m=\u001b[0m \u001b[0my\u001b[0m\u001b[0;34m+\u001b[0m\u001b[0mz\u001b[0m\u001b[0;34m\u001b[0m\u001b[0;34m\u001b[0m\u001b[0m\n\u001b[1;32m      9\u001b[0m \u001b[0;34m\u001b[0m\u001b[0m\n\u001b[0;32m---> 10\u001b[0;31m \u001b[0mpdb\u001b[0m\u001b[0;34m.\u001b[0m\u001b[0mset_trace\u001b[0m\u001b[0;34m(\u001b[0m\u001b[0;34m)\u001b[0m \u001b[0;31m#sets the debugger before the line with the error\u001b[0m\u001b[0;34m\u001b[0m\u001b[0;34m\u001b[0m\u001b[0m\n\u001b[0m\u001b[1;32m     11\u001b[0m \u001b[0mresult2\u001b[0m \u001b[0;34m=\u001b[0m \u001b[0mx\u001b[0m\u001b[0;34m+\u001b[0m\u001b[0my\u001b[0m\u001b[0;34m\u001b[0m\u001b[0;34m\u001b[0m\u001b[0m\n",
      "\u001b[0;32m/usr/lib/python3.8/bdb.py\u001b[0m in \u001b[0;36mtrace_dispatch\u001b[0;34m(self, frame, event, arg)\u001b[0m\n\u001b[1;32m     90\u001b[0m             \u001b[0;32mreturn\u001b[0m \u001b[0mself\u001b[0m\u001b[0;34m.\u001b[0m\u001b[0mdispatch_call\u001b[0m\u001b[0;34m(\u001b[0m\u001b[0mframe\u001b[0m\u001b[0;34m,\u001b[0m \u001b[0marg\u001b[0m\u001b[0;34m)\u001b[0m\u001b[0;34m\u001b[0m\u001b[0;34m\u001b[0m\u001b[0m\n\u001b[1;32m     91\u001b[0m         \u001b[0;32mif\u001b[0m \u001b[0mevent\u001b[0m \u001b[0;34m==\u001b[0m \u001b[0;34m'return'\u001b[0m\u001b[0;34m:\u001b[0m\u001b[0;34m\u001b[0m\u001b[0;34m\u001b[0m\u001b[0m\n\u001b[0;32m---> 92\u001b[0;31m             \u001b[0;32mreturn\u001b[0m \u001b[0mself\u001b[0m\u001b[0;34m.\u001b[0m\u001b[0mdispatch_return\u001b[0m\u001b[0;34m(\u001b[0m\u001b[0mframe\u001b[0m\u001b[0;34m,\u001b[0m \u001b[0marg\u001b[0m\u001b[0;34m)\u001b[0m\u001b[0;34m\u001b[0m\u001b[0;34m\u001b[0m\u001b[0m\n\u001b[0m\u001b[1;32m     93\u001b[0m         \u001b[0;32mif\u001b[0m \u001b[0mevent\u001b[0m \u001b[0;34m==\u001b[0m \u001b[0;34m'exception'\u001b[0m\u001b[0;34m:\u001b[0m\u001b[0;34m\u001b[0m\u001b[0;34m\u001b[0m\u001b[0m\n\u001b[1;32m     94\u001b[0m             \u001b[0;32mreturn\u001b[0m \u001b[0mself\u001b[0m\u001b[0;34m.\u001b[0m\u001b[0mdispatch_exception\u001b[0m\u001b[0;34m(\u001b[0m\u001b[0mframe\u001b[0m\u001b[0;34m,\u001b[0m \u001b[0marg\u001b[0m\u001b[0;34m)\u001b[0m\u001b[0;34m\u001b[0m\u001b[0;34m\u001b[0m\u001b[0m\n",
      "\u001b[0;32m/usr/lib/python3.8/bdb.py\u001b[0m in \u001b[0;36mdispatch_return\u001b[0;34m(self, frame, arg)\u001b[0m\n\u001b[1;32m    152\u001b[0m             \u001b[0;32mfinally\u001b[0m\u001b[0;34m:\u001b[0m\u001b[0;34m\u001b[0m\u001b[0;34m\u001b[0m\u001b[0m\n\u001b[1;32m    153\u001b[0m                 \u001b[0mself\u001b[0m\u001b[0;34m.\u001b[0m\u001b[0mframe_returning\u001b[0m \u001b[0;34m=\u001b[0m \u001b[0;32mNone\u001b[0m\u001b[0;34m\u001b[0m\u001b[0;34m\u001b[0m\u001b[0m\n\u001b[0;32m--> 154\u001b[0;31m             \u001b[0;32mif\u001b[0m \u001b[0mself\u001b[0m\u001b[0;34m.\u001b[0m\u001b[0mquitting\u001b[0m\u001b[0;34m:\u001b[0m \u001b[0;32mraise\u001b[0m \u001b[0mBdbQuit\u001b[0m\u001b[0;34m\u001b[0m\u001b[0;34m\u001b[0m\u001b[0m\n\u001b[0m\u001b[1;32m    155\u001b[0m             \u001b[0;31m# The user issued a 'next' or 'until' command.\u001b[0m\u001b[0;34m\u001b[0m\u001b[0;34m\u001b[0m\u001b[0;34m\u001b[0m\u001b[0m\n\u001b[1;32m    156\u001b[0m             \u001b[0;32mif\u001b[0m \u001b[0mself\u001b[0m\u001b[0;34m.\u001b[0m\u001b[0mstopframe\u001b[0m \u001b[0;32mis\u001b[0m \u001b[0mframe\u001b[0m \u001b[0;32mand\u001b[0m \u001b[0mself\u001b[0m\u001b[0;34m.\u001b[0m\u001b[0mstoplineno\u001b[0m \u001b[0;34m!=\u001b[0m \u001b[0;34m-\u001b[0m\u001b[0;36m1\u001b[0m\u001b[0;34m:\u001b[0m\u001b[0;34m\u001b[0m\u001b[0;34m\u001b[0m\u001b[0m\n",
      "\u001b[0;31mBdbQuit\u001b[0m: "
     ]
    }
   ],
   "source": [
    "# Let's use the debugger!\n",
    "import pdb\n",
    "\n",
    "x = [1,2,3]\n",
    "y = 2\n",
    "z = 3\n",
    "\n",
    "result = y+z\n",
    "\n",
    "pdb.set_trace() #sets the debugger before the line with the error\n",
    "result2 = x+y"
   ]
  },
  {
   "cell_type": "markdown",
   "id": "2ac68ce1",
   "metadata": {},
   "source": [
    "Check out the Python debugger online for more uses!"
   ]
  },
  {
   "cell_type": "markdown",
   "id": "212c35ec",
   "metadata": {},
   "source": [
    "### Regular Expressions!"
   ]
  },
  {
   "cell_type": "code",
   "execution_count": 15,
   "id": "aa541668",
   "metadata": {},
   "outputs": [],
   "source": [
    "sample_text = \"The agent's phone number is 505-353-4565. Call back soon!\""
   ]
  },
  {
   "cell_type": "code",
   "execution_count": 16,
   "id": "a1d82c59",
   "metadata": {},
   "outputs": [],
   "source": [
    "import re\n",
    "\n",
    "pattern = 'phone'\n",
    "reg = re.search(pattern,sample_text)"
   ]
  },
  {
   "cell_type": "code",
   "execution_count": 17,
   "id": "51db4ec8",
   "metadata": {},
   "outputs": [
    {
     "name": "stdout",
     "output_type": "stream",
     "text": [
      "<re.Match object; span=(12, 17), match='phone'>\n"
     ]
    }
   ],
   "source": [
    "print(reg)"
   ]
  },
  {
   "cell_type": "code",
   "execution_count": 18,
   "id": "2d1cb67e",
   "metadata": {},
   "outputs": [
    {
     "data": {
      "text/plain": [
       "(12, 17)"
      ]
     },
     "execution_count": 18,
     "metadata": {},
     "output_type": "execute_result"
    }
   ],
   "source": [
    "reg.span()"
   ]
  },
  {
   "cell_type": "code",
   "execution_count": 19,
   "id": "c560040b",
   "metadata": {},
   "outputs": [
    {
     "data": {
      "text/plain": [
       "12"
      ]
     },
     "execution_count": 19,
     "metadata": {},
     "output_type": "execute_result"
    }
   ],
   "source": [
    "reg.start()"
   ]
  },
  {
   "cell_type": "code",
   "execution_count": 20,
   "id": "ac03a7e9",
   "metadata": {},
   "outputs": [
    {
     "data": {
      "text/plain": [
       "17"
      ]
     },
     "execution_count": 20,
     "metadata": {},
     "output_type": "execute_result"
    }
   ],
   "source": [
    "reg.end()"
   ]
  },
  {
   "cell_type": "code",
   "execution_count": 25,
   "id": "de445d94",
   "metadata": {},
   "outputs": [],
   "source": [
    "# Normal regex search() only returns the first match. \n",
    "# findall() returns all matches\n",
    "sample_text = \"old phones are good but new phones are better.\"\n",
    "\n",
    "reg = re.findall(pattern,sample_text)"
   ]
  },
  {
   "cell_type": "code",
   "execution_count": 26,
   "id": "9c69ca6d",
   "metadata": {},
   "outputs": [
    {
     "data": {
      "text/plain": [
       "2"
      ]
     },
     "execution_count": 26,
     "metadata": {},
     "output_type": "execute_result"
    }
   ],
   "source": [
    "len(reg)"
   ]
  },
  {
   "cell_type": "code",
   "execution_count": 27,
   "id": "a4652c94",
   "metadata": {},
   "outputs": [
    {
     "data": {
      "text/plain": [
       "['phone', 'phone']"
      ]
     },
     "execution_count": 27,
     "metadata": {},
     "output_type": "execute_result"
    }
   ],
   "source": [
    "reg"
   ]
  },
  {
   "cell_type": "code",
   "execution_count": 38,
   "id": "07299c10",
   "metadata": {},
   "outputs": [
    {
     "name": "stdout",
     "output_type": "stream",
     "text": [
      "4\n",
      "9\n",
      "28\n",
      "33\n"
     ]
    }
   ],
   "source": [
    "# To get the indices of these matches, write a for loop\n",
    "for match in re.finditer(pattern,sample_text):\n",
    "    print(match.start())\n",
    "    print(match.end())"
   ]
  },
  {
   "cell_type": "markdown",
   "id": "65ffb2f8",
   "metadata": {},
   "source": [
    "#### Regex Syntax"
   ]
  },
  {
   "cell_type": "markdown",
   "id": "de1ff909",
   "metadata": {},
   "source": [
    "#### Identifiers for Characters in Patterns\n",
    "\n",
    "Characters such as a digit or a single string have different codes that represent them. You can use these to build up a pattern string. Notice how these make heavy use of the backwards slash \\ . Because of this when defining a pattern string for regular expression we use the format:\n",
    "\n",
    "    r'mypattern'\n",
    "    \n",
    "placing the r in front of the string allows python to understand that the \\ in the pattern string are not meant to be escape slashes.\n",
    "\n",
    "Below you can find a table of all the possible identifiers:"
   ]
  },
  {
   "cell_type": "markdown",
   "id": "55407bd8",
   "metadata": {},
   "source": [
    "<table ><tr><th>Character</th><th>Description</th><th>Example Pattern Code</th><th >Exammple Match</th></tr>\n",
    "\n",
    "<tr ><td><span >\\d</span></td><td>A digit</td><td>file_\\d\\d</td><td>file_25</td></tr>\n",
    "\n",
    "<tr ><td><span >\\w</span></td><td>Alphanumeric</td><td>\\w-\\w\\w\\w</td><td>A-b_1</td></tr>\n",
    "\n",
    "\n",
    "\n",
    "<tr ><td><span >\\s</span></td><td>White space</td><td>a\\sb\\sc</td><td>a b c</td></tr>\n",
    "\n",
    "\n",
    "\n",
    "<tr ><td><span >\\D</span></td><td>A non digit</td><td>\\D\\D\\D</td><td>ABC</td></tr>\n",
    "\n",
    "<tr ><td><span >\\W</span></td><td>Non-alphanumeric</td><td>\\W\\W\\W\\W\\W</td><td>*-+=)</td></tr>\n",
    "\n",
    "<tr ><td><span >\\S</span></td><td>Non-whitespace</td><td>\\S\\S\\S\\S</td><td>Yoyo</td></tr></table>"
   ]
  },
  {
   "cell_type": "code",
   "execution_count": 4,
   "id": "497f7cf1",
   "metadata": {},
   "outputs": [],
   "source": [
    "import re\n",
    "\n",
    "sample_text = \"The agent's phone number is 505-353-4565. Call back soon!\"\n",
    "phone = re.search(r'\\d\\d\\d-\\d\\d\\d-\\d\\d\\d\\d',sample_text)"
   ]
  },
  {
   "cell_type": "code",
   "execution_count": 5,
   "id": "e57cb75e",
   "metadata": {},
   "outputs": [
    {
     "data": {
      "text/plain": [
       "28"
      ]
     },
     "execution_count": 5,
     "metadata": {},
     "output_type": "execute_result"
    }
   ],
   "source": [
    "phone.start()"
   ]
  },
  {
   "cell_type": "code",
   "execution_count": 6,
   "id": "1b040f88",
   "metadata": {},
   "outputs": [
    {
     "data": {
      "text/plain": [
       "40"
      ]
     },
     "execution_count": 6,
     "metadata": {},
     "output_type": "execute_result"
    }
   ],
   "source": [
    "phone.end()"
   ]
  },
  {
   "cell_type": "code",
   "execution_count": 11,
   "id": "a5bd09ec",
   "metadata": {},
   "outputs": [
    {
     "data": {
      "text/plain": [
       "'505-353-4565'"
      ]
     },
     "execution_count": 11,
     "metadata": {},
     "output_type": "execute_result"
    }
   ],
   "source": [
    "phone.group()"
   ]
  },
  {
   "cell_type": "markdown",
   "id": "1df62274",
   "metadata": {},
   "source": [
    "#### Quantifiers\n",
    "\n",
    "Now that we know the special character designations, we can use them along with quantifiers to define how many we expect."
   ]
  },
  {
   "cell_type": "markdown",
   "id": "f4b53b42",
   "metadata": {},
   "source": [
    "<table ><tr><th>Character</th><th>Description</th><th>Example Pattern Code</th><th >Exammple Match</th></tr>\n",
    "\n",
    "<tr ><td><span >+</span></td><td>Occurs one or more times</td><td>\tVersion \\w-\\w+</td><td>Version A-b1_1</td></tr>\n",
    "\n",
    "<tr ><td><span >{3}</span></td><td>Occurs exactly 3 times</td><td>\\D{3}</td><td>abc</td></tr>\n",
    "\n",
    "\n",
    "\n",
    "<tr ><td><span >{2,4}</span></td><td>Occurs 2 to 4 times</td><td>\\d{2,4}</td><td>123</td></tr>\n",
    "\n",
    "\n",
    "\n",
    "<tr ><td><span >{3,}</span></td><td>Occurs 3 or more</td><td>\\w{3,}</td><td>anycharacters</td></tr>\n",
    "\n",
    "<tr ><td><span >\\*</span></td><td>Occurs zero or more times</td><td>A\\*B\\*C*</td><td>AAACC</td></tr>\n",
    "\n",
    "<tr ><td><span >?</span></td><td>Once or none</td><td>plurals?</td><td>plural</td></tr></table>"
   ]
  },
  {
   "cell_type": "code",
   "execution_count": 14,
   "id": "d83fc1da",
   "metadata": {},
   "outputs": [],
   "source": [
    "# Let's try the former example with quantifiers\n",
    "pattern = r'\\d{3}-\\d{3}-\\d{4}'\n",
    "phone = re.search(pattern,sample_text)"
   ]
  },
  {
   "cell_type": "code",
   "execution_count": 15,
   "id": "b0d71408",
   "metadata": {},
   "outputs": [
    {
     "data": {
      "text/plain": [
       "'505-353-4565'"
      ]
     },
     "execution_count": 15,
     "metadata": {},
     "output_type": "execute_result"
    }
   ],
   "source": [
    "phone.group()"
   ]
  },
  {
   "cell_type": "code",
   "execution_count": 16,
   "id": "fa11c47c",
   "metadata": {},
   "outputs": [],
   "source": [
    "#another way to do this\n",
    "phone_pattern = re.compile(r'(\\d{3})-(\\d{3})-(\\d{4})')"
   ]
  },
  {
   "cell_type": "code",
   "execution_count": 18,
   "id": "f07c0ab3",
   "metadata": {},
   "outputs": [],
   "source": [
    "results = re.search(phone_pattern,sample_text)"
   ]
  },
  {
   "cell_type": "code",
   "execution_count": 19,
   "id": "30576298",
   "metadata": {},
   "outputs": [
    {
     "data": {
      "text/plain": [
       "'505-353-4565'"
      ]
     },
     "execution_count": 19,
     "metadata": {},
     "output_type": "execute_result"
    }
   ],
   "source": [
    "results.group()"
   ]
  },
  {
   "cell_type": "code",
   "execution_count": 20,
   "id": "52016a25",
   "metadata": {},
   "outputs": [
    {
     "data": {
      "text/plain": [
       "'505'"
      ]
     },
     "execution_count": 20,
     "metadata": {},
     "output_type": "execute_result"
    }
   ],
   "source": [
    "results.group(1)"
   ]
  },
  {
   "cell_type": "code",
   "execution_count": 21,
   "id": "2387b2f9",
   "metadata": {},
   "outputs": [
    {
     "data": {
      "text/plain": [
       "'353'"
      ]
     },
     "execution_count": 21,
     "metadata": {},
     "output_type": "execute_result"
    }
   ],
   "source": [
    "results.group(2)"
   ]
  },
  {
   "cell_type": "code",
   "execution_count": 22,
   "id": "07c1dab7",
   "metadata": {},
   "outputs": [
    {
     "data": {
      "text/plain": [
       "'4565'"
      ]
     },
     "execution_count": 22,
     "metadata": {},
     "output_type": "execute_result"
    }
   ],
   "source": [
    "results.group(3)"
   ]
  },
  {
   "cell_type": "code",
   "execution_count": 23,
   "id": "ea9f3e0a",
   "metadata": {},
   "outputs": [],
   "source": [
    "# Hence, using \"compile\" allows you to subdivide regular expressions by a delimiter!"
   ]
  },
  {
   "cell_type": "markdown",
   "id": "c0cac3e4",
   "metadata": {},
   "source": [
    "#### Some additional regex syntax"
   ]
  },
  {
   "cell_type": "code",
   "execution_count": 24,
   "id": "12a37814",
   "metadata": {},
   "outputs": [
    {
     "data": {
      "text/plain": [
       "<re.Match object; span=(4, 7), match='cat'>"
      ]
     },
     "execution_count": 24,
     "metadata": {},
     "output_type": "execute_result"
    }
   ],
   "source": [
    "# the OR operator '|'\n",
    "re.search(r'cat|dog','The cat is over there')"
   ]
  },
  {
   "cell_type": "code",
   "execution_count": 25,
   "id": "ccae2cd0",
   "metadata": {},
   "outputs": [
    {
     "data": {
      "text/plain": [
       "['cat', 'hat', 'sat']"
      ]
     },
     "execution_count": 25,
     "metadata": {},
     "output_type": "execute_result"
    }
   ],
   "source": [
    "# Wildcard operator '.'\n",
    "re.findall(r'.at','The cat in the hat sat over there')"
   ]
  },
  {
   "cell_type": "code",
   "execution_count": 28,
   "id": "b9720e6a",
   "metadata": {},
   "outputs": [
    {
     "data": {
      "text/plain": [
       "['1']"
      ]
     },
     "execution_count": 28,
     "metadata": {},
     "output_type": "execute_result"
    }
   ],
   "source": [
    "# Starts and ends with '^' '$'\n",
    "re.findall(r'^\\d','1 is the number, the heart is a hunter')"
   ]
  },
  {
   "cell_type": "code",
   "execution_count": 29,
   "id": "9197bc47",
   "metadata": {},
   "outputs": [
    {
     "data": {
      "text/plain": [
       "['2']"
      ]
     },
     "execution_count": 29,
     "metadata": {},
     "output_type": "execute_result"
    }
   ],
   "source": [
    "re.findall(r'\\d$','1 is the number, the heart is a hunter. 2')"
   ]
  },
  {
   "cell_type": "code",
   "execution_count": 32,
   "id": "4a5ab69f",
   "metadata": {},
   "outputs": [
    {
     "data": {
      "text/plain": [
       "['This', 'is', 'a', 'string', 'but', 'it', 'has', 'punctuation']"
      ]
     },
     "execution_count": 32,
     "metadata": {},
     "output_type": "execute_result"
    }
   ],
   "source": [
    "# Remove punctuation and whitespace \n",
    "test_phrase = 'This is a string, but it has punctuation.'\n",
    "re.findall(r'[^,.\\s]+',test_phrase)"
   ]
  },
  {
   "cell_type": "code",
   "execution_count": 34,
   "id": "8a94e4b6",
   "metadata": {},
   "outputs": [
    {
     "data": {
      "text/plain": [
       "['hypen-words', 'long-ish']"
      ]
     },
     "execution_count": 34,
     "metadata": {},
     "output_type": "execute_result"
    }
   ],
   "source": [
    "# Brackets for grouping\n",
    "text = 'Only find the hypen-words in this sentence. But you do not know how long-ish they are'\n",
    "pattern = r'[\\w]+-[\\w]+'\n",
    "re.findall(pattern,text)"
   ]
  },
  {
   "cell_type": "code",
   "execution_count": 35,
   "id": "f5e0b472",
   "metadata": {},
   "outputs": [
    {
     "data": {
      "text/plain": [
       "<re.Match object; span=(27, 34), match='catfish'>"
      ]
     },
     "execution_count": 35,
     "metadata": {},
     "output_type": "execute_result"
    }
   ],
   "source": [
    "# Find words that start with cat and end with one of these options: 'fish','nap', or 'claw'\n",
    "text = 'Hello, would you like some catfish?'\n",
    "texttwo = \"Hello, would you like to take a catnap?\"\n",
    "textthree = \"Hello, have you seen this caterpillar?\"\n",
    "\n",
    "re.search(r'cat(fish|nap|erpillar)',text)"
   ]
  },
  {
   "cell_type": "markdown",
   "id": "f454184c",
   "metadata": {},
   "source": [
    "### Timing Python Code"
   ]
  },
  {
   "cell_type": "code",
   "execution_count": 36,
   "id": "43f6898e",
   "metadata": {},
   "outputs": [],
   "source": [
    "# 1st method\n",
    "\n",
    "def func1(n):\n",
    "    return [str(num) for num in range(n)]"
   ]
  },
  {
   "cell_type": "code",
   "execution_count": 37,
   "id": "5700170f",
   "metadata": {},
   "outputs": [
    {
     "data": {
      "text/plain": [
       "['0', '1', '2', '3', '4', '5', '6', '7', '8', '9']"
      ]
     },
     "execution_count": 37,
     "metadata": {},
     "output_type": "execute_result"
    }
   ],
   "source": [
    "func1(10)"
   ]
  },
  {
   "cell_type": "code",
   "execution_count": 38,
   "id": "e1df2c30",
   "metadata": {},
   "outputs": [],
   "source": [
    "# 2nd method\n",
    "\n",
    "def func2(n):\n",
    "    return list(map(str,range(n)))"
   ]
  },
  {
   "cell_type": "code",
   "execution_count": 40,
   "id": "5b3d60e4",
   "metadata": {},
   "outputs": [
    {
     "data": {
      "text/plain": [
       "['0', '1', '2', '3', '4', '5', '6', '7', '8', '9']"
      ]
     },
     "execution_count": 40,
     "metadata": {},
     "output_type": "execute_result"
    }
   ],
   "source": [
    "func2(10)"
   ]
  },
  {
   "cell_type": "markdown",
   "id": "c1d1f434",
   "metadata": {},
   "source": [
    "One way to time code is with the 'time' module, you would get the current time before a block of code, the current time after a block of code, and then calulate the time elapsed to get dt. This is the \"MATLAB\" way!"
   ]
  },
  {
   "cell_type": "code",
   "execution_count": 41,
   "id": "ef2864bb",
   "metadata": {},
   "outputs": [
    {
     "data": {
      "text/plain": [
       "1.4156416999999237"
      ]
     },
     "execution_count": 41,
     "metadata": {},
     "output_type": "execute_result"
    }
   ],
   "source": [
    "# Another way to time smaller chunks of code is with the timeit module\n",
    "\n",
    "import timeit\n",
    "\n",
    "stmt = '''\n",
    "func1(100)\n",
    "'''\n",
    "\n",
    "setup = '''\n",
    "def func1(n):\n",
    "    return [str(num) for num in range(n)]\n",
    "'''\n",
    "\n",
    "timeit.timeit(stmt,setup,number=100000)"
   ]
  },
  {
   "cell_type": "code",
   "execution_count": 43,
   "id": "5245eb17",
   "metadata": {},
   "outputs": [
    {
     "data": {
      "text/plain": [
       "1.0590990000000602"
      ]
     },
     "execution_count": 43,
     "metadata": {},
     "output_type": "execute_result"
    }
   ],
   "source": [
    "stmt = '''\n",
    "func2(100)\n",
    "'''\n",
    "\n",
    "setup = '''\n",
    "def func2(n):\n",
    "    return list(map(str,range(n)))\n",
    "'''\n",
    "\n",
    "timeit.timeit(stmt,setup,number=100000)"
   ]
  },
  {
   "cell_type": "markdown",
   "id": "d7abe1e9",
   "metadata": {},
   "source": [
    "Clearly, func2 is much more efficient than func1!"
   ]
  },
  {
   "cell_type": "markdown",
   "id": "4f5a3102",
   "metadata": {},
   "source": [
    "## Unzipping and zipping files"
   ]
  },
  {
   "cell_type": "code",
   "execution_count": 46,
   "id": "07ce1ac6",
   "metadata": {},
   "outputs": [],
   "source": [
    "# Create some test files\n",
    "f = open('File1.txt','w+')\n",
    "f.write('One to file')\n",
    "f.close()"
   ]
  },
  {
   "cell_type": "code",
   "execution_count": 45,
   "id": "c837d197",
   "metadata": {},
   "outputs": [
    {
     "name": "stdout",
     "output_type": "stream",
     "text": [
      "\u001b[0m\u001b[01;32mFile1.txt\u001b[0m*\r\n",
      "\u001b[01;32mSection10_Errors_and_exception_handling.ipynb\u001b[0m*\r\n",
      "\u001b[01;32mSection11_MilestoneProject2.ipynb\u001b[0m*\r\n",
      "\u001b[01;32mSection12_Python_Decorators.ipynb\u001b[0m*\r\n",
      "\u001b[01;32mSection13_Generators_with_Python.ipynb\u001b[0m*\r\n",
      "\u001b[01;32mSection14_Advanced_Python_Modules.ipynb\u001b[0m*\r\n",
      "\u001b[01;32mSection3_PythonObject_and_DataStructrue_Basics.ipynb\u001b[0m*\r\n",
      "\u001b[01;32mSection4_Python_Comparison_Operators.ipynb\u001b[0m*\r\n",
      "\u001b[01;32mSection5_PythonStatements.ipynb\u001b[0m*\r\n",
      "\u001b[01;32mSection6_MethodsAndFunctions.ipynb\u001b[0m*\r\n",
      "\u001b[01;32mSection7_MilestoneProject1.ipynb\u001b[0m*\r\n",
      "\u001b[01;32mSection8_Object_Oriented_Programming.ipynb\u001b[0m*\r\n",
      "\u001b[01;32mSection9_Modules_and_Packages.ipynb\u001b[0m*\r\n",
      "\u001b[01;32mmy_first_notebook.ipynb\u001b[0m*\r\n",
      "\u001b[01;32mmyfile.txt\u001b[0m*\r\n",
      "\u001b[01;32mtestfile\u001b[0m*\r\n"
     ]
    }
   ],
   "source": [
    "ls"
   ]
  },
  {
   "cell_type": "code",
   "execution_count": 47,
   "id": "c6de4bdf",
   "metadata": {},
   "outputs": [],
   "source": [
    "f = open('File2.txt','w+')\n",
    "f.write('Two to file')\n",
    "f.close()"
   ]
  },
  {
   "cell_type": "code",
   "execution_count": 57,
   "id": "e4ac3b67",
   "metadata": {},
   "outputs": [],
   "source": [
    "# Let's zip these files\n",
    "import zipfile\n",
    "\n",
    "comb_files = zipfile.ZipFile('comb_file.zip','w')\n",
    "comb_files.write('File1.txt',compress_type=zipfile.ZIP_DEFLATED)"
   ]
  },
  {
   "cell_type": "code",
   "execution_count": 58,
   "id": "95b8bc47",
   "metadata": {},
   "outputs": [
    {
     "name": "stdout",
     "output_type": "stream",
     "text": [
      "\u001b[0m\u001b[01;32mFile1.txt\u001b[0m*\r\n",
      "\u001b[01;32mFile2.txt\u001b[0m*\r\n",
      "\u001b[01;32mSection10_Errors_and_exception_handling.ipynb\u001b[0m*\r\n",
      "\u001b[01;32mSection11_MilestoneProject2.ipynb\u001b[0m*\r\n",
      "\u001b[01;32mSection12_Python_Decorators.ipynb\u001b[0m*\r\n",
      "\u001b[01;32mSection13_Generators_with_Python.ipynb\u001b[0m*\r\n",
      "\u001b[01;32mSection14_Advanced_Python_Modules.ipynb\u001b[0m*\r\n",
      "\u001b[01;32mSection3_PythonObject_and_DataStructrue_Basics.ipynb\u001b[0m*\r\n",
      "\u001b[01;32mSection4_Python_Comparison_Operators.ipynb\u001b[0m*\r\n",
      "\u001b[01;32mSection5_PythonStatements.ipynb\u001b[0m*\r\n",
      "\u001b[01;32mSection6_MethodsAndFunctions.ipynb\u001b[0m*\r\n",
      "\u001b[01;32mSection7_MilestoneProject1.ipynb\u001b[0m*\r\n",
      "\u001b[01;32mSection8_Object_Oriented_Programming.ipynb\u001b[0m*\r\n",
      "\u001b[01;32mSection9_Modules_and_Packages.ipynb\u001b[0m*\r\n",
      "\u001b[01;32mcomb_file.zip\u001b[0m*\r\n",
      "\u001b[34;42mextracted_contents\u001b[0m/\r\n",
      "\u001b[01;32mmy_first_notebook.ipynb\u001b[0m*\r\n",
      "\u001b[01;32mmyfile.txt\u001b[0m*\r\n",
      "\u001b[01;32mtestfile\u001b[0m*\r\n"
     ]
    }
   ],
   "source": [
    "ls"
   ]
  },
  {
   "cell_type": "code",
   "execution_count": 59,
   "id": "eb7a3f1c",
   "metadata": {},
   "outputs": [],
   "source": [
    "comb_files.close()"
   ]
  },
  {
   "cell_type": "code",
   "execution_count": 60,
   "id": "19b56c89",
   "metadata": {},
   "outputs": [],
   "source": [
    "# unzip\n",
    "zip_obj = zipfile.ZipFile('comb_file.zip','r')"
   ]
  },
  {
   "cell_type": "code",
   "execution_count": 61,
   "id": "0483859e",
   "metadata": {},
   "outputs": [],
   "source": [
    "zip_obj.extractall('extracted_contents')"
   ]
  },
  {
   "cell_type": "code",
   "execution_count": 64,
   "id": "1419a59c",
   "metadata": {},
   "outputs": [
    {
     "name": "stdout",
     "output_type": "stream",
     "text": [
      "\u001b[0m\u001b[01;32mFile1.txt\u001b[0m*\r\n",
      "\u001b[01;32mFile2.txt\u001b[0m*\r\n",
      "\u001b[01;32mSection10_Errors_and_exception_handling.ipynb\u001b[0m*\r\n",
      "\u001b[01;32mSection11_MilestoneProject2.ipynb\u001b[0m*\r\n",
      "\u001b[01;32mSection12_Python_Decorators.ipynb\u001b[0m*\r\n",
      "\u001b[01;32mSection13_Generators_with_Python.ipynb\u001b[0m*\r\n",
      "\u001b[01;32mSection14_Advanced_Python_Modules.ipynb\u001b[0m*\r\n",
      "\u001b[01;32mSection3_PythonObject_and_DataStructrue_Basics.ipynb\u001b[0m*\r\n",
      "\u001b[01;32mSection4_Python_Comparison_Operators.ipynb\u001b[0m*\r\n",
      "\u001b[01;32mSection5_PythonStatements.ipynb\u001b[0m*\r\n",
      "\u001b[01;32mSection6_MethodsAndFunctions.ipynb\u001b[0m*\r\n",
      "\u001b[01;32mSection7_MilestoneProject1.ipynb\u001b[0m*\r\n",
      "\u001b[01;32mSection8_Object_Oriented_Programming.ipynb\u001b[0m*\r\n",
      "\u001b[01;32mSection9_Modules_and_Packages.ipynb\u001b[0m*\r\n",
      "\u001b[01;32mcomb_file.zip\u001b[0m*\r\n",
      "\u001b[34;42mextracted_contents\u001b[0m/\r\n",
      "\u001b[01;32mmy_first_notebook.ipynb\u001b[0m*\r\n",
      "\u001b[01;32mmyfile.txt\u001b[0m*\r\n",
      "\u001b[01;32mtestfile\u001b[0m*\r\n"
     ]
    }
   ],
   "source": [
    "ls"
   ]
  },
  {
   "cell_type": "code",
   "execution_count": 65,
   "id": "417d383e",
   "metadata": {},
   "outputs": [
    {
     "data": {
      "text/plain": [
       "'/mnt/c/Users/bknorris/Documents/Scripts/Python/Python_bootcamp/Course-Notes'"
      ]
     },
     "execution_count": 65,
     "metadata": {},
     "output_type": "execute_result"
    }
   ],
   "source": [
    "pwd"
   ]
  },
  {
   "cell_type": "code",
   "execution_count": 66,
   "id": "e2d5668b",
   "metadata": {},
   "outputs": [
    {
     "data": {
      "text/plain": [
       "'/mnt/c/Users/bknorris/Documents/Scripts/Python/Python_bootcamp/Course-Notes/example_zipped.zip'"
      ]
     },
     "execution_count": 66,
     "metadata": {},
     "output_type": "execute_result"
    }
   ],
   "source": [
    "# Now let's use shutil to zip a directory folder\n",
    "import shutil\n",
    "\n",
    "path = '/mnt/c/Users/bknorris/Documents/Scripts/Python/Python_bootcamp/Course-Notes'\n",
    "folder = 'extracted_contents'\n",
    "output_filename = 'example_zipped'\n",
    "\n",
    "shutil.make_archive(output_filename,'zip',path+'/'+folder)"
   ]
  },
  {
   "cell_type": "code",
   "execution_count": 67,
   "id": "c7de9195",
   "metadata": {},
   "outputs": [],
   "source": [
    "# Extract contents with shutil\n",
    "shutil.unpack_archive('example_zipped.zip','final_unzip','zip')"
   ]
  },
  {
   "cell_type": "code",
   "execution_count": 68,
   "id": "88d1b47b",
   "metadata": {},
   "outputs": [
    {
     "name": "stdout",
     "output_type": "stream",
     "text": [
      "\u001b[0m\u001b[01;32mFile1.txt\u001b[0m*\r\n",
      "\u001b[01;32mFile2.txt\u001b[0m*\r\n",
      "\u001b[01;32mSection10_Errors_and_exception_handling.ipynb\u001b[0m*\r\n",
      "\u001b[01;32mSection11_MilestoneProject2.ipynb\u001b[0m*\r\n",
      "\u001b[01;32mSection12_Python_Decorators.ipynb\u001b[0m*\r\n",
      "\u001b[01;32mSection13_Generators_with_Python.ipynb\u001b[0m*\r\n",
      "\u001b[01;32mSection14_Advanced_Python_Modules.ipynb\u001b[0m*\r\n",
      "\u001b[01;32mSection3_PythonObject_and_DataStructrue_Basics.ipynb\u001b[0m*\r\n",
      "\u001b[01;32mSection4_Python_Comparison_Operators.ipynb\u001b[0m*\r\n",
      "\u001b[01;32mSection5_PythonStatements.ipynb\u001b[0m*\r\n",
      "\u001b[01;32mSection6_MethodsAndFunctions.ipynb\u001b[0m*\r\n",
      "\u001b[01;32mSection7_MilestoneProject1.ipynb\u001b[0m*\r\n",
      "\u001b[01;32mSection8_Object_Oriented_Programming.ipynb\u001b[0m*\r\n",
      "\u001b[01;32mSection9_Modules_and_Packages.ipynb\u001b[0m*\r\n",
      "\u001b[01;32mcomb_file.zip\u001b[0m*\r\n",
      "\u001b[01;32mexample_zipped.zip\u001b[0m*\r\n",
      "\u001b[34;42mextracted_contents\u001b[0m/\r\n",
      "\u001b[34;42mfinal_unzip\u001b[0m/\r\n",
      "\u001b[01;32mmy_first_notebook.ipynb\u001b[0m*\r\n",
      "\u001b[01;32mmyfile.txt\u001b[0m*\r\n",
      "\u001b[01;32mtestfile\u001b[0m*\r\n"
     ]
    }
   ],
   "source": [
    "ls"
   ]
  },
  {
   "cell_type": "code",
   "execution_count": null,
   "id": "3d476dc8",
   "metadata": {},
   "outputs": [],
   "source": []
  }
 ],
 "metadata": {
  "kernelspec": {
   "display_name": "Python 3 (ipykernel)",
   "language": "python",
   "name": "python3"
  },
  "language_info": {
   "codemirror_mode": {
    "name": "ipython",
    "version": 3
   },
   "file_extension": ".py",
   "mimetype": "text/x-python",
   "name": "python",
   "nbconvert_exporter": "python",
   "pygments_lexer": "ipython3",
   "version": "3.8.10"
  }
 },
 "nbformat": 4,
 "nbformat_minor": 5
}
