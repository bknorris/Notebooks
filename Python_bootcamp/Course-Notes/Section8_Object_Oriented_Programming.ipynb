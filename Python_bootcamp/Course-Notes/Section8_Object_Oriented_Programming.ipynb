{
 "cells": [
  {
   "cell_type": "markdown",
   "id": "b170a94f",
   "metadata": {},
   "source": [
    "# Object Oriented Programming"
   ]
  },
  {
   "cell_type": "markdown",
   "id": "43ac0754",
   "metadata": {},
   "source": [
    "* Object oriented programming (OOP) allows programmers to create their own objects that have methods and attributes\n",
    "* Recall that after defining a string, list, dictionary, or other objects, you were able to call methods off of them with the .method_name() syntax.\n",
    "* These methods act as functions that use information about the object, as well as the object itself to return results, or change the current object. \n",
    "    * For example, this includes appending to a list, or counting the occurences of an element in a tuple. \n",
    "* OOP allows users to create their own objects. OOP allows us to create code that is repeatable and organized. \n",
    "* For much larger Python scripts, fuctions by themselves aren't enough for organization and repeatability. \n",
    "* Commonly repeated tasks and objects can be defined with OOP to create code that is more usable. \n",
    "* It seems that OOP is used whenever the programmer is dealing with real-world data. It is very similar to a dictionary, except that the information stored in a Class can be manipulated by code inside the class. So for example, if you ask a user to put some data into a class, the class can compute something and export the result. This keeps the code for that particular class and dataset self-contained within the class. "
   ]
  },
  {
   "cell_type": "code",
   "execution_count": 2,
   "id": "7eff4154",
   "metadata": {},
   "outputs": [],
   "source": [
    " #Example\n",
    "class Sample():\n",
    "    pass"
   ]
  },
  {
   "cell_type": "code",
   "execution_count": 5,
   "id": "6c1b6df3",
   "metadata": {},
   "outputs": [],
   "source": [
    "# create an instance of the class\n",
    "my_sample = Sample()"
   ]
  },
  {
   "cell_type": "code",
   "execution_count": 4,
   "id": "135db1cf",
   "metadata": {},
   "outputs": [
    {
     "data": {
      "text/plain": [
       "__main__.Sample"
      ]
     },
     "execution_count": 4,
     "metadata": {},
     "output_type": "execute_result"
    }
   ],
   "source": [
    "type(my_sample)"
   ]
  },
  {
   "cell_type": "code",
   "execution_count": 14,
   "id": "b4059c9b",
   "metadata": {},
   "outputs": [],
   "source": [
    "#Here's an actual example\n",
    "class Dog():\n",
    "    #init is the constructor for a class. \"self\" is the instance of the object of itself. \n",
    "    #Attributes\n",
    "    #We take in the argument ('breed'), then assign it using self.attribute_name\n",
    "    def __init__(self,breed,name,spots):\n",
    "        #strings\n",
    "        self.breed = breed\n",
    "        self.name = name\n",
    "        \n",
    "        #expect boolean (true/false)\n",
    "        self.spots = spots"
   ]
  },
  {
   "cell_type": "code",
   "execution_count": 15,
   "id": "3879f953",
   "metadata": {},
   "outputs": [],
   "source": [
    "my_dog = Dog(breed='Lab',name='Sammy',spots=False)"
   ]
  },
  {
   "cell_type": "code",
   "execution_count": 16,
   "id": "fdbe0c8f",
   "metadata": {},
   "outputs": [
    {
     "data": {
      "text/plain": [
       "__main__.Dog"
      ]
     },
     "execution_count": 16,
     "metadata": {},
     "output_type": "execute_result"
    }
   ],
   "source": [
    "type(my_dog)"
   ]
  },
  {
   "cell_type": "code",
   "execution_count": 20,
   "id": "1fd3662f",
   "metadata": {},
   "outputs": [
    {
     "name": "stdout",
     "output_type": "stream",
     "text": [
      "Sammy\n"
     ]
    },
    {
     "data": {
      "text/plain": [
       "False"
      ]
     },
     "execution_count": 20,
     "metadata": {},
     "output_type": "execute_result"
    }
   ],
   "source": [
    "print(my_dog.name)\n",
    "my_dog.spots"
   ]
  },
  {
   "cell_type": "markdown",
   "id": "734d45f0",
   "metadata": {},
   "source": [
    "## Checking inputs into object classes"
   ]
  },
  {
   "cell_type": "code",
   "execution_count": 21,
   "id": "7354693f",
   "metadata": {},
   "outputs": [],
   "source": [
    "class Dog():\n",
    "    \n",
    "    # CLASS OBJECT ATTRIBUTE\n",
    "    # THE SAME FOR ANY INSTANCE OF A CLASS\n",
    "    species = 'Canine'\n",
    "    \n",
    "    def __init__(self,breed,name,spots):\n",
    "        self.breed = breed\n",
    "        self.name = name\n",
    "        self.spots = spots"
   ]
  },
  {
   "cell_type": "code",
   "execution_count": 22,
   "id": "6f4a9753",
   "metadata": {},
   "outputs": [],
   "source": [
    "my_dog = Dog(breed='Lab',name='Sam',spots=False)"
   ]
  },
  {
   "cell_type": "code",
   "execution_count": 23,
   "id": "3d782a9f",
   "metadata": {},
   "outputs": [
    {
     "data": {
      "text/plain": [
       "'Canine'"
      ]
     },
     "execution_count": 23,
     "metadata": {},
     "output_type": "execute_result"
    }
   ],
   "source": [
    "my_dog.species"
   ]
  },
  {
   "cell_type": "code",
   "execution_count": 24,
   "id": "ed89fcc1",
   "metadata": {},
   "outputs": [
    {
     "data": {
      "text/plain": [
       "'Lab'"
      ]
     },
     "execution_count": 24,
     "metadata": {},
     "output_type": "execute_result"
    }
   ],
   "source": [
    "my_dog.breed"
   ]
  },
  {
   "cell_type": "markdown",
   "id": "c82c1d1a",
   "metadata": {},
   "source": [
    "### Methods\n",
    "\n",
    "Methods are functions inside Class objects, which act on any attribute \"self.attribute\" to perform some calculation."
   ]
  },
  {
   "cell_type": "code",
   "execution_count": 30,
   "id": "d5fd38d1",
   "metadata": {},
   "outputs": [],
   "source": [
    "class Dog():\n",
    "    \n",
    "    # CLASS OBJECT ATTRIBUTE\n",
    "    # THE SAME FOR ANY INSTANCE OF A CLASS\n",
    "    species = 'Canine'\n",
    "    \n",
    "    def __init__(self,breed,name):\n",
    "        self.breed = breed\n",
    "        self.name = name\n",
    "        \n",
    "    # OPERATIONS/ACTIONS = Methods\n",
    "    def bark(self):\n",
    "        print(\"WOOF!\")"
   ]
  },
  {
   "cell_type": "code",
   "execution_count": 31,
   "id": "011b67ae",
   "metadata": {},
   "outputs": [],
   "source": [
    "my_dog = Dog('Lab','Frankie')"
   ]
  },
  {
   "cell_type": "code",
   "execution_count": 32,
   "id": "21bd58b0",
   "metadata": {},
   "outputs": [
    {
     "data": {
      "text/plain": [
       "'Lab'"
      ]
     },
     "execution_count": 32,
     "metadata": {},
     "output_type": "execute_result"
    }
   ],
   "source": [
    "my_dog.breed"
   ]
  },
  {
   "cell_type": "code",
   "execution_count": 33,
   "id": "a27ace4b",
   "metadata": {},
   "outputs": [
    {
     "name": "stdout",
     "output_type": "stream",
     "text": [
      "WOOF!\n"
     ]
    }
   ],
   "source": [
    "# To execute the method under the class Dog, use open and closed parentheses\n",
    "my_dog.bark()"
   ]
  },
  {
   "cell_type": "code",
   "execution_count": 36,
   "id": "e59f0e30",
   "metadata": {},
   "outputs": [],
   "source": [
    "class Dog():\n",
    "    \n",
    "    # CLASS OBJECT ATTRIBUTE\n",
    "    # THE SAME FOR ANY INSTANCE OF A CLASS\n",
    "    species = 'Canine'\n",
    "    \n",
    "    def __init__(self,breed,name):\n",
    "        self.breed = breed\n",
    "        self.name = name\n",
    "        \n",
    "    # OPERATIONS/ACTIONS = Methods\n",
    "    def bark(self):\n",
    "        #Bark the dogs name\n",
    "        print(\"WOOF! My name is {}\".format(self.name))"
   ]
  },
  {
   "cell_type": "code",
   "execution_count": 38,
   "id": "c3b36afa",
   "metadata": {},
   "outputs": [],
   "source": [
    "my_dog = Dog('Lab','Frankie')"
   ]
  },
  {
   "cell_type": "code",
   "execution_count": 39,
   "id": "920d97bb",
   "metadata": {},
   "outputs": [
    {
     "name": "stdout",
     "output_type": "stream",
     "text": [
      "WOOF! My name is Frankie\n"
     ]
    }
   ],
   "source": [
    "my_dog.bark()"
   ]
  },
  {
   "cell_type": "code",
   "execution_count": 40,
   "id": "1b11c4cb",
   "metadata": {},
   "outputs": [],
   "source": [
    "class Dog():\n",
    "    \n",
    "    # CLASS OBJECT ATTRIBUTE\n",
    "    # THE SAME FOR ANY INSTANCE OF A CLASS\n",
    "    species = 'Canine'\n",
    "    \n",
    "    def __init__(self,breed,name):\n",
    "        self.breed = breed\n",
    "        self.name = name\n",
    "        \n",
    "    # OPERATIONS/ACTIONS = Methods\n",
    "    # Methods can also take in outside arguments, e.g., \n",
    "    def bark(self,number):\n",
    "        #Bark the dogs name\n",
    "        print(\"WOOF! My name is {} and the number is {}\".format(self.name,number))"
   ]
  },
  {
   "cell_type": "code",
   "execution_count": 41,
   "id": "f6b8158b",
   "metadata": {},
   "outputs": [],
   "source": [
    "my_dog = Dog('Lab','Frankie')"
   ]
  },
  {
   "cell_type": "code",
   "execution_count": 42,
   "id": "11ed444f",
   "metadata": {},
   "outputs": [
    {
     "name": "stdout",
     "output_type": "stream",
     "text": [
      "WOOF! My name is Frankie and the number is 9\n"
     ]
    }
   ],
   "source": [
    "my_dog.bark(9)"
   ]
  },
  {
   "cell_type": "markdown",
   "id": "3923e660",
   "metadata": {},
   "source": [
    "Note, in the last example, the call of self.name must be written this way in the print statement inside the Method \"def bark(self,number)\", because it comes from the object Class Dog(). The \"number\" comes from outside the Class and therefore it is expressed in the print statement without the \"self\" call."
   ]
  },
  {
   "cell_type": "code",
   "execution_count": 80,
   "id": "6c53b789",
   "metadata": {},
   "outputs": [],
   "source": [
    "# Let's do a new example\n",
    "class Circle():\n",
    "    # CLASS OBJECT ATTRIBUTE -- true for any attribute of the class\n",
    "    pi = 3.14159\n",
    "    #Note, the \"=1\" on the next line is a default value.\n",
    "    def __init__(self,radius=1):\n",
    "        self.radius = radius\n",
    "        #You can also define attributes of classes without using self, e.g.,\n",
    "        self.area = (radius**2)*Circle.pi #pi*r^2\n",
    "        #note in above line, Cirle.pi is a class object attribute (it is always the same)\n",
    "        \n",
    "    # METHOD\n",
    "    def get_circumference(self):\n",
    "        return self.radius * Circle.pi * 2 #2*pi*r"
   ]
  },
  {
   "cell_type": "code",
   "execution_count": 75,
   "id": "8a30b81c",
   "metadata": {},
   "outputs": [],
   "source": [
    "my_circle = Circle(3)"
   ]
  },
  {
   "cell_type": "code",
   "execution_count": 76,
   "id": "16d06de1",
   "metadata": {},
   "outputs": [
    {
     "data": {
      "text/plain": [
       "3.14159"
      ]
     },
     "execution_count": 76,
     "metadata": {},
     "output_type": "execute_result"
    }
   ],
   "source": [
    "my_circle.pi"
   ]
  },
  {
   "cell_type": "code",
   "execution_count": 77,
   "id": "10044329",
   "metadata": {},
   "outputs": [
    {
     "data": {
      "text/plain": [
       "3"
      ]
     },
     "execution_count": 77,
     "metadata": {},
     "output_type": "execute_result"
    }
   ],
   "source": [
    "my_circle.radius"
   ]
  },
  {
   "cell_type": "code",
   "execution_count": 78,
   "id": "fe180ebc",
   "metadata": {},
   "outputs": [
    {
     "data": {
      "text/plain": [
       "28.27431"
      ]
     },
     "execution_count": 78,
     "metadata": {},
     "output_type": "execute_result"
    }
   ],
   "source": [
    "my_circle.area"
   ]
  },
  {
   "cell_type": "code",
   "execution_count": 79,
   "id": "1b9fe212",
   "metadata": {},
   "outputs": [
    {
     "data": {
      "text/plain": [
       "18.849539999999998"
      ]
     },
     "execution_count": 79,
     "metadata": {},
     "output_type": "execute_result"
    }
   ],
   "source": [
    "my_circle.get_circumference()"
   ]
  },
  {
   "cell_type": "markdown",
   "id": "bfbc8a64",
   "metadata": {},
   "source": [
    "## Inheritence and Polymorphism"
   ]
  },
  {
   "cell_type": "markdown",
   "id": "405e89b2",
   "metadata": {},
   "source": [
    "A way to form new classes from formerly defined classes."
   ]
  },
  {
   "cell_type": "markdown",
   "id": "c43674a0",
   "metadata": {},
   "source": [
    "### Inheritence"
   ]
  },
  {
   "cell_type": "code",
   "execution_count": 84,
   "id": "9f1dd052",
   "metadata": {},
   "outputs": [],
   "source": [
    "#Lets create a base class\n",
    "class Animal():\n",
    "    def __init__(self):\n",
    "        print(\"Animal Created!\")\n",
    "    def who_am_i(self):\n",
    "        print(\"I am an animal.\")\n",
    "    def eat(self):\n",
    "        print(\"I am eating.\")"
   ]
  },
  {
   "cell_type": "code",
   "execution_count": 85,
   "id": "7b91214c",
   "metadata": {},
   "outputs": [
    {
     "name": "stdout",
     "output_type": "stream",
     "text": [
      "Animal Created!\n"
     ]
    }
   ],
   "source": [
    "my_animal = Animal()"
   ]
  },
  {
   "cell_type": "code",
   "execution_count": 87,
   "id": "57691ea8",
   "metadata": {},
   "outputs": [
    {
     "name": "stdout",
     "output_type": "stream",
     "text": [
      "I am eating.\n"
     ]
    }
   ],
   "source": [
    "my_animal.eat()"
   ]
  },
  {
   "cell_type": "code",
   "execution_count": 105,
   "id": "7fd7c04b",
   "metadata": {},
   "outputs": [],
   "source": [
    "# Pass class Animal into a new Class Dog\n",
    "class Dog(Animal):\n",
    "    def __init__(self):\n",
    "        Animal.__init__(self) #run init method from Animal\n",
    "        print(\"Dog Created.\")\n",
    "        \n",
    "    def who_am_i(self): #overwrite method from old class\n",
    "        print(\"I am a dog!\")\n",
    "        \n",
    "    def bark(self): #add in method to new class\n",
    "        print(\"Woof!\")"
   ]
  },
  {
   "cell_type": "code",
   "execution_count": 100,
   "id": "c9023eaa",
   "metadata": {},
   "outputs": [
    {
     "name": "stdout",
     "output_type": "stream",
     "text": [
      "Animal Created!\n",
      "Dog Created.\n"
     ]
    }
   ],
   "source": [
    "my_dog = Dog()"
   ]
  },
  {
   "cell_type": "code",
   "execution_count": 101,
   "id": "3d28bf05",
   "metadata": {},
   "outputs": [
    {
     "name": "stdout",
     "output_type": "stream",
     "text": [
      "I am a dog!\n"
     ]
    }
   ],
   "source": [
    "#who_am_i and eat methods are available to my_dog because it is referenced in Dog class\n",
    "my_dog.who_am_i()\n"
   ]
  },
  {
   "cell_type": "code",
   "execution_count": 102,
   "id": "d59d2543",
   "metadata": {},
   "outputs": [
    {
     "name": "stdout",
     "output_type": "stream",
     "text": [
      "I am eating.\n"
     ]
    }
   ],
   "source": [
    "my_dog.eat()"
   ]
  },
  {
   "cell_type": "code",
   "execution_count": 103,
   "id": "79f0c3cd",
   "metadata": {},
   "outputs": [
    {
     "name": "stdout",
     "output_type": "stream",
     "text": [
      "Woof!\n"
     ]
    }
   ],
   "source": [
    "my_dog.bark()"
   ]
  },
  {
   "cell_type": "markdown",
   "id": "fef02f07",
   "metadata": {},
   "source": [
    "### Polymorphism"
   ]
  },
  {
   "cell_type": "code",
   "execution_count": 112,
   "id": "60e56fdb",
   "metadata": {},
   "outputs": [],
   "source": [
    "class Dog():\n",
    "    \n",
    "    def __init__(self,name):\n",
    "        self.name = name\n",
    "    \n",
    "    def speak(self):\n",
    "        return self.name + \" says WOOF!\""
   ]
  },
  {
   "cell_type": "code",
   "execution_count": 113,
   "id": "b5fda83d",
   "metadata": {},
   "outputs": [],
   "source": [
    "class Cat():\n",
    "    \n",
    "    def __init__(self,name):\n",
    "        self.name = name\n",
    "    \n",
    "    def speak(self):\n",
    "        return self.name + \" says Meow!\""
   ]
  },
  {
   "cell_type": "code",
   "execution_count": 114,
   "id": "9d2d4dec",
   "metadata": {},
   "outputs": [],
   "source": [
    "niko = Dog(\"Niko\")\n",
    "felix = Cat(\"Felix\")"
   ]
  },
  {
   "cell_type": "code",
   "execution_count": 115,
   "id": "bd55638d",
   "metadata": {},
   "outputs": [
    {
     "name": "stdout",
     "output_type": "stream",
     "text": [
      "Niko says WOOF!\n"
     ]
    }
   ],
   "source": [
    "print(niko.speak())"
   ]
  },
  {
   "cell_type": "code",
   "execution_count": 116,
   "id": "29551366",
   "metadata": {},
   "outputs": [
    {
     "name": "stdout",
     "output_type": "stream",
     "text": [
      "Felix says Meow!\n"
     ]
    }
   ],
   "source": [
    "print(felix.speak())"
   ]
  },
  {
   "cell_type": "code",
   "execution_count": 117,
   "id": "b0cf712b",
   "metadata": {},
   "outputs": [
    {
     "name": "stdout",
     "output_type": "stream",
     "text": [
      "<class '__main__.Dog'>\n",
      "<class 'str'>\n",
      "<class '__main__.Cat'>\n",
      "<class 'str'>\n"
     ]
    }
   ],
   "source": [
    "for pet in [niko,felix]:\n",
    "    print(type(pet))\n",
    "    print(type(pet.speak()))"
   ]
  },
  {
   "cell_type": "markdown",
   "id": "94d8f8ad",
   "metadata": {},
   "source": [
    "Note that Dog() and Cat() both have \"speak\" methods, but they are different classes. This (sharing the same method) is called Polymorphism."
   ]
  },
  {
   "cell_type": "code",
   "execution_count": 118,
   "id": "49fcbcfb",
   "metadata": {},
   "outputs": [],
   "source": [
    "def pet_speak(pet):\n",
    "    print(pet.speak())"
   ]
  },
  {
   "cell_type": "code",
   "execution_count": 119,
   "id": "787f9489",
   "metadata": {},
   "outputs": [
    {
     "name": "stdout",
     "output_type": "stream",
     "text": [
      "Niko says WOOF!\n"
     ]
    }
   ],
   "source": [
    "pet_speak(niko)"
   ]
  },
  {
   "cell_type": "code",
   "execution_count": 120,
   "id": "5c5efbed",
   "metadata": {},
   "outputs": [
    {
     "name": "stdout",
     "output_type": "stream",
     "text": [
      "Felix says Meow!\n"
     ]
    }
   ],
   "source": [
    "pet_speak(felix)"
   ]
  },
  {
   "cell_type": "code",
   "execution_count": 124,
   "id": "897c9e26",
   "metadata": {},
   "outputs": [],
   "source": [
    "# Sometimes you will want to make a base class that should not be made into an instance\n",
    "# To do this, you add an error in a method\n",
    "class Animal():\n",
    "    \n",
    "    def __init__(self,name):\n",
    "        self.name = name\n",
    "        \n",
    "    def speak(self):\n",
    "        raise NotImplementedError(\"Subclass must implement this abstract method\")"
   ]
  },
  {
   "cell_type": "code",
   "execution_count": 122,
   "id": "79cf0b59",
   "metadata": {},
   "outputs": [],
   "source": [
    "my_animal = Animal('Fred')"
   ]
  },
  {
   "cell_type": "code",
   "execution_count": 123,
   "id": "e124e52c",
   "metadata": {},
   "outputs": [
    {
     "ename": "NotImplementedError",
     "evalue": "Subclass must implement this abstract method",
     "output_type": "error",
     "traceback": [
      "\u001b[0;31m---------------------------------------------------------------------------\u001b[0m",
      "\u001b[0;31mNotImplementedError\u001b[0m                       Traceback (most recent call last)",
      "\u001b[0;32m/tmp/ipykernel_574/966730616.py\u001b[0m in \u001b[0;36m<module>\u001b[0;34m\u001b[0m\n\u001b[0;32m----> 1\u001b[0;31m \u001b[0mmy_animal\u001b[0m\u001b[0;34m.\u001b[0m\u001b[0mspeak\u001b[0m\u001b[0;34m(\u001b[0m\u001b[0;34m)\u001b[0m\u001b[0;34m\u001b[0m\u001b[0;34m\u001b[0m\u001b[0m\n\u001b[0m",
      "\u001b[0;32m/tmp/ipykernel_574/3367968120.py\u001b[0m in \u001b[0;36mspeak\u001b[0;34m(self)\u001b[0m\n\u001b[1;32m      5\u001b[0m \u001b[0;34m\u001b[0m\u001b[0m\n\u001b[1;32m      6\u001b[0m     \u001b[0;32mdef\u001b[0m \u001b[0mspeak\u001b[0m\u001b[0;34m(\u001b[0m\u001b[0mself\u001b[0m\u001b[0;34m)\u001b[0m\u001b[0;34m:\u001b[0m\u001b[0;34m\u001b[0m\u001b[0;34m\u001b[0m\u001b[0m\n\u001b[0;32m----> 7\u001b[0;31m         \u001b[0;32mraise\u001b[0m \u001b[0mNotImplementedError\u001b[0m\u001b[0;34m(\u001b[0m\u001b[0;34m\"Subclass must implement this abstract method\"\u001b[0m\u001b[0;34m)\u001b[0m\u001b[0;34m\u001b[0m\u001b[0;34m\u001b[0m\u001b[0m\n\u001b[0m",
      "\u001b[0;31mNotImplementedError\u001b[0m: Subclass must implement this abstract method"
     ]
    }
   ],
   "source": [
    "my_animal.speak()"
   ]
  },
  {
   "cell_type": "code",
   "execution_count": 132,
   "id": "3df5e3cf",
   "metadata": {},
   "outputs": [],
   "source": [
    "# use Animal() in a new class\n",
    "class Dog(Animal):\n",
    "    # Note that we don't need the init call here because it is \n",
    "    # referenced in the class \"Dog(Animal)\"\n",
    "    def speak(self):\n",
    "        return self.name + \" says Woof!\""
   ]
  },
  {
   "cell_type": "code",
   "execution_count": 133,
   "id": "21114bb9",
   "metadata": {},
   "outputs": [],
   "source": [
    "# use Animal() in a new class\n",
    "class Cat(Animal):\n",
    "    \n",
    "    def speak(self):\n",
    "        return self.name + \" says Meow!\""
   ]
  },
  {
   "cell_type": "code",
   "execution_count": 134,
   "id": "77e57d65",
   "metadata": {},
   "outputs": [],
   "source": [
    "fido = Dog(\"Fido\")\n",
    "isis = Cat(\"Isis\")"
   ]
  },
  {
   "cell_type": "code",
   "execution_count": 135,
   "id": "4713de3d",
   "metadata": {},
   "outputs": [
    {
     "name": "stdout",
     "output_type": "stream",
     "text": [
      "Fido says Woof!\n"
     ]
    }
   ],
   "source": [
    "print(fido.speak())"
   ]
  },
  {
   "cell_type": "markdown",
   "id": "9f436d2f",
   "metadata": {},
   "source": [
    "### Special (magic/dunder) methods"
   ]
  },
  {
   "cell_type": "code",
   "execution_count": 23,
   "id": "f357048b",
   "metadata": {},
   "outputs": [],
   "source": [
    "class Book():\n",
    "    \n",
    "    def __init__(self,title,author,pages):\n",
    "        \n",
    "        self.title = title\n",
    "        self.author = author\n",
    "        self.pages = pages\n",
    "    \n",
    "    #adding in the special method \"str\" allows something to be printed\n",
    "    def __str__(self):\n",
    "        return f\"{self.title} by {self.author}\"\n",
    "    \n",
    "    #to get length our of Book, use special method \"len\"\n",
    "    def __len__(self):\n",
    "        return self.pages\n",
    "    \n",
    "    #to report if something is deleted, use special method \"del\"\n",
    "    def __del__(self):\n",
    "        print(\"A book object has been deleted\")"
   ]
  },
  {
   "cell_type": "code",
   "execution_count": 25,
   "id": "92d6d2a2",
   "metadata": {},
   "outputs": [],
   "source": [
    "b = Book('Python is the best','Jose',300)"
   ]
  },
  {
   "cell_type": "code",
   "execution_count": 16,
   "id": "b4e00d8e",
   "metadata": {},
   "outputs": [
    {
     "name": "stdout",
     "output_type": "stream",
     "text": [
      "Python is the best by Jose\n"
     ]
    }
   ],
   "source": [
    "print(b)"
   ]
  },
  {
   "cell_type": "code",
   "execution_count": 20,
   "id": "77decfae",
   "metadata": {},
   "outputs": [
    {
     "data": {
      "text/plain": [
       "300"
      ]
     },
     "execution_count": 20,
     "metadata": {},
     "output_type": "execute_result"
    }
   ],
   "source": [
    "len(b)"
   ]
  },
  {
   "cell_type": "code",
   "execution_count": 26,
   "id": "2da4319b",
   "metadata": {},
   "outputs": [
    {
     "name": "stdout",
     "output_type": "stream",
     "text": [
      "A book object has been deleted\n"
     ]
    }
   ],
   "source": [
    "#remove something\n",
    "del b"
   ]
  },
  {
   "cell_type": "code",
   "execution_count": 27,
   "id": "5a1f1750",
   "metadata": {},
   "outputs": [
    {
     "ename": "NameError",
     "evalue": "name 'b' is not defined",
     "output_type": "error",
     "traceback": [
      "\u001b[0;31m---------------------------------------------------------------------------\u001b[0m",
      "\u001b[0;31mNameError\u001b[0m                                 Traceback (most recent call last)",
      "\u001b[0;32m/tmp/ipykernel_558/1685013873.py\u001b[0m in \u001b[0;36m<module>\u001b[0;34m\u001b[0m\n\u001b[0;32m----> 1\u001b[0;31m \u001b[0mb\u001b[0m\u001b[0;34m\u001b[0m\u001b[0;34m\u001b[0m\u001b[0m\n\u001b[0m",
      "\u001b[0;31mNameError\u001b[0m: name 'b' is not defined"
     ]
    }
   ],
   "source": [
    "b"
   ]
  },
  {
   "cell_type": "markdown",
   "id": "4407e9e3",
   "metadata": {},
   "source": [
    "#### This is just some testing!"
   ]
  },
  {
   "cell_type": "code",
   "execution_count": 28,
   "id": "086defb6",
   "metadata": {},
   "outputs": [],
   "source": [
    "t = (1,2)"
   ]
  },
  {
   "cell_type": "code",
   "execution_count": 30,
   "id": "b1fb31cb",
   "metadata": {},
   "outputs": [
    {
     "data": {
      "text/plain": [
       "1"
      ]
     },
     "execution_count": 30,
     "metadata": {},
     "output_type": "execute_result"
    }
   ],
   "source": [
    "t[0]"
   ]
  },
  {
   "cell_type": "code",
   "execution_count": 31,
   "id": "963fbf65",
   "metadata": {},
   "outputs": [
    {
     "ename": "NameError",
     "evalue": "name 'sqrt' is not defined",
     "output_type": "error",
     "traceback": [
      "\u001b[0;31m---------------------------------------------------------------------------\u001b[0m",
      "\u001b[0;31mNameError\u001b[0m                                 Traceback (most recent call last)",
      "\u001b[0;32m/tmp/ipykernel_558/2177306879.py\u001b[0m in \u001b[0;36m<module>\u001b[0;34m\u001b[0m\n\u001b[0;32m----> 1\u001b[0;31m \u001b[0msqrt\u001b[0m\u001b[0;34m(\u001b[0m\u001b[0;36m2\u001b[0m\u001b[0;34m)\u001b[0m\u001b[0;34m\u001b[0m\u001b[0;34m\u001b[0m\u001b[0m\n\u001b[0m",
      "\u001b[0;31mNameError\u001b[0m: name 'sqrt' is not defined"
     ]
    }
   ],
   "source": [
    "sqrt(2)"
   ]
  },
  {
   "cell_type": "code",
   "execution_count": 35,
   "id": "e91f2c3e",
   "metadata": {},
   "outputs": [
    {
     "data": {
      "text/plain": [
       "2.23606797749979"
      ]
     },
     "execution_count": 35,
     "metadata": {},
     "output_type": "execute_result"
    }
   ],
   "source": [
    "(((2-1)**2)+((3-1)**2))**0.5"
   ]
  },
  {
   "cell_type": "code",
   "execution_count": null,
   "id": "d20de8a8",
   "metadata": {},
   "outputs": [],
   "source": []
  }
 ],
 "metadata": {
  "kernelspec": {
   "display_name": "Python 3 (ipykernel)",
   "language": "python",
   "name": "python3"
  },
  "language_info": {
   "codemirror_mode": {
    "name": "ipython",
    "version": 3
   },
   "file_extension": ".py",
   "mimetype": "text/x-python",
   "name": "python",
   "nbconvert_exporter": "python",
   "pygments_lexer": "ipython3",
   "version": "3.8.10"
  }
 },
 "nbformat": 4,
 "nbformat_minor": 5
}
