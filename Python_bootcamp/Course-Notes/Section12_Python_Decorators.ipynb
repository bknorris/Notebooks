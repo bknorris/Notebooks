{
 "cells": [
  {
   "cell_type": "markdown",
   "id": "133edc05",
   "metadata": {},
   "source": [
    "## Python Decorators\n",
    "\n",
    "Decorators allow you to \"decorate\" a function.\n",
    "\n",
    "Imagine you created a function:\n",
    "\n",
    "<code>def simple_func():\n",
    "        # Do something\n",
    "        # Return something\n",
    "</code>\n",
    "\n",
    "Let's say you want to add something to the function. You could just re-write the function...\n",
    "\n",
    "<code>def simple_func():\n",
    "        # New piece of code\n",
    "        # Do something\n",
    "        # Return something\n",
    "</code>\n",
    "\n",
    "If at a later date you wanted to revert to the first state (without \"New piece of code\"), how would you do this? It seems like an on/off switch for functionality would be useful. This is what a <i>Decorator</i> is.\n",
    "\n",
    "<b>Decorators</b> are called using the \"@\" symbol, and are added to the line on top of the function, e.g.,\n",
    "\n",
    "<code>@new_piece_of_code\n",
    "def simple_func():\n",
    "        # Do something\n",
    "        # Return something\n",
    "</code>\n"
   ]
  },
  {
   "cell_type": "code",
   "execution_count": 1,
   "id": "b9c23a5f",
   "metadata": {},
   "outputs": [],
   "source": [
    "# Let's see an example:\n",
    "def func():\n",
    "    return 1"
   ]
  },
  {
   "cell_type": "code",
   "execution_count": 2,
   "id": "c601ab88",
   "metadata": {},
   "outputs": [
    {
     "data": {
      "text/plain": [
       "1"
      ]
     },
     "execution_count": 2,
     "metadata": {},
     "output_type": "execute_result"
    }
   ],
   "source": [
    "func()"
   ]
  },
  {
   "cell_type": "code",
   "execution_count": 4,
   "id": "4eb89450",
   "metadata": {},
   "outputs": [],
   "source": [
    "def hello():\n",
    "    return \"Hello!\""
   ]
  },
  {
   "cell_type": "code",
   "execution_count": 5,
   "id": "7584e8d7",
   "metadata": {},
   "outputs": [],
   "source": [
    "# Assigning functions\n",
    "greet = hello"
   ]
  },
  {
   "cell_type": "code",
   "execution_count": 6,
   "id": "4aa80875",
   "metadata": {},
   "outputs": [
    {
     "data": {
      "text/plain": [
       "'Hello!'"
      ]
     },
     "execution_count": 6,
     "metadata": {},
     "output_type": "execute_result"
    }
   ],
   "source": [
    "greet()"
   ]
  },
  {
   "cell_type": "code",
   "execution_count": 7,
   "id": "cfa5efea",
   "metadata": {},
   "outputs": [
    {
     "data": {
      "text/plain": [
       "'Hello!'"
      ]
     },
     "execution_count": 7,
     "metadata": {},
     "output_type": "execute_result"
    }
   ],
   "source": [
    "# So does assigning greet to hello copy the hello function? \n",
    "# We can test this by removing hello and calling greet()\n",
    "del hello\n",
    "greet()"
   ]
  },
  {
   "cell_type": "code",
   "execution_count": 19,
   "id": "756216e5",
   "metadata": {},
   "outputs": [],
   "source": [
    "#Let's recreate hello and create some subfunctions\n",
    "def hello(name=\"Jose\"):\n",
    "    print('The hello() function has been executed')\n",
    "    \n",
    "    def greet():\n",
    "        return '\\t This is the greet function inside of hello()'\n",
    "    \n",
    "    def welcome():\n",
    "        return '\\t This is the welcome function inside of hello()'\n",
    "    \n",
    "    print(greet())\n",
    "    print(welcome())"
   ]
  },
  {
   "cell_type": "code",
   "execution_count": 20,
   "id": "9de6bf8a",
   "metadata": {},
   "outputs": [
    {
     "name": "stdout",
     "output_type": "stream",
     "text": [
      "The hello() function has been executed\n",
      "\t This is the greet function inside of hello()\n",
      "\t This is the welcome function inside of hello()\n"
     ]
    }
   ],
   "source": [
    "hello()"
   ]
  },
  {
   "cell_type": "code",
   "execution_count": 22,
   "id": "e7f5cb00",
   "metadata": {},
   "outputs": [
    {
     "ename": "NameError",
     "evalue": "name 'welcome' is not defined",
     "output_type": "error",
     "traceback": [
      "\u001b[0;31m---------------------------------------------------------------------------\u001b[0m",
      "\u001b[0;31mNameError\u001b[0m                                 Traceback (most recent call last)",
      "\u001b[0;32m/tmp/ipykernel_1909/3327342148.py\u001b[0m in \u001b[0;36m<module>\u001b[0;34m\u001b[0m\n\u001b[1;32m      1\u001b[0m \u001b[0;31m# BUT! You can't execute greet() and welcome() outside of hello().\u001b[0m\u001b[0;34m\u001b[0m\u001b[0;34m\u001b[0m\u001b[0;34m\u001b[0m\u001b[0m\n\u001b[0;32m----> 2\u001b[0;31m \u001b[0mwelcome\u001b[0m\u001b[0;34m(\u001b[0m\u001b[0;34m)\u001b[0m\u001b[0;34m\u001b[0m\u001b[0;34m\u001b[0m\u001b[0m\n\u001b[0m",
      "\u001b[0;31mNameError\u001b[0m: name 'welcome' is not defined"
     ]
    }
   ],
   "source": [
    "# BUT! You can't execute greet() and welcome() outside of hello(). \n",
    "welcome()"
   ]
  },
  {
   "cell_type": "markdown",
   "id": "acebfa2f",
   "metadata": {},
   "source": [
    "So I think the message here is, the def calls inside of another function act only on the processes inside that function. Think of this like a subroutine to do something simple. "
   ]
  },
  {
   "cell_type": "code",
   "execution_count": 25,
   "id": "a2bf7d7a",
   "metadata": {},
   "outputs": [],
   "source": [
    "#You can return interior def calls \n",
    "def hello(name=\"Jose\"):\n",
    "    print('The hello() function has been executed')\n",
    "    \n",
    "    def greet():\n",
    "        return '\\t This is the greet function inside of hello()'\n",
    "    \n",
    "    def welcome():\n",
    "        return '\\t This is the welcome function inside of hello()'\n",
    "    \n",
    "    if name == \"Jose\":\n",
    "        return greet\n",
    "    else:\n",
    "        return welcome"
   ]
  },
  {
   "cell_type": "code",
   "execution_count": 26,
   "id": "2ac4a126",
   "metadata": {},
   "outputs": [
    {
     "name": "stdout",
     "output_type": "stream",
     "text": [
      "The hello() function has been executed\n"
     ]
    },
    {
     "data": {
      "text/plain": [
       "<function __main__.hello.<locals>.greet()>"
      ]
     },
     "execution_count": 26,
     "metadata": {},
     "output_type": "execute_result"
    }
   ],
   "source": [
    "hello(\"Jose\")"
   ]
  },
  {
   "cell_type": "code",
   "execution_count": 27,
   "id": "dd710b6a",
   "metadata": {},
   "outputs": [
    {
     "name": "stdout",
     "output_type": "stream",
     "text": [
      "The hello() function has been executed\n"
     ]
    }
   ],
   "source": [
    "#Like the example in [5], we can assign this output to another object, i.e.,\n",
    "my_new_func = hello(\"Jose\")"
   ]
  },
  {
   "cell_type": "code",
   "execution_count": 30,
   "id": "53d4f5f0",
   "metadata": {},
   "outputs": [
    {
     "name": "stdout",
     "output_type": "stream",
     "text": [
      "\t This is the greet function inside of hello()\n"
     ]
    }
   ],
   "source": [
    "print(my_new_func())"
   ]
  },
  {
   "cell_type": "code",
   "execution_count": 31,
   "id": "05f95f29",
   "metadata": {},
   "outputs": [],
   "source": [
    "# OK, now onto Decorators...\n",
    "\n",
    "def hello():\n",
    "    return \"Hi Jose!\""
   ]
  },
  {
   "cell_type": "code",
   "execution_count": 32,
   "id": "a3dd3b0e",
   "metadata": {},
   "outputs": [],
   "source": [
    "def other(some_def_func):\n",
    "    print(\"Other code runs here!\")\n",
    "    print(some_def_func())"
   ]
  },
  {
   "cell_type": "code",
   "execution_count": 34,
   "id": "e4d4dec7",
   "metadata": {},
   "outputs": [
    {
     "name": "stdout",
     "output_type": "stream",
     "text": [
      "Other code runs here!\n",
      "Hi Jose!\n"
     ]
    }
   ],
   "source": [
    "other(hello)"
   ]
  },
  {
   "cell_type": "code",
   "execution_count": 35,
   "id": "17a2c579",
   "metadata": {},
   "outputs": [],
   "source": [
    "def new_decorator(original_func):\n",
    "    \n",
    "    def wrap_func():\n",
    "        \n",
    "        print('Some extra code before original function')\n",
    "        original_func()\n",
    "        print('Some extra code, after original function')\n",
    "        \n",
    "    return wrap_func"
   ]
  },
  {
   "cell_type": "code",
   "execution_count": 36,
   "id": "c12a7a6c",
   "metadata": {},
   "outputs": [],
   "source": [
    "def func_needs_a_decorator():\n",
    "    print(\"I want to be decorated!\")"
   ]
  },
  {
   "cell_type": "code",
   "execution_count": 38,
   "id": "eb3c8006",
   "metadata": {},
   "outputs": [],
   "source": [
    "decorated_func = new_decorator(func_needs_a_decorator)"
   ]
  },
  {
   "cell_type": "code",
   "execution_count": 39,
   "id": "9c47945b",
   "metadata": {},
   "outputs": [
    {
     "name": "stdout",
     "output_type": "stream",
     "text": [
      "Some extra code before original function\n",
      "I want to be decorated!\n",
      "Some extra code, after original function\n"
     ]
    }
   ],
   "source": [
    "decorated_func()"
   ]
  },
  {
   "cell_type": "code",
   "execution_count": 40,
   "id": "4627ab9c",
   "metadata": {},
   "outputs": [],
   "source": [
    "# So Line [38] can be done more easily using special syntax, the \"@\" operator...\n",
    "# Instead of writing \"decorated_func = new_decorator(func_needs_a_decorator)\"\n",
    "# Use the \"@\" symbol...\n",
    "\n",
    "@new_decorator\n",
    "def func_needs_a_decorator():\n",
    "    print(\"I want to be decorated!\")"
   ]
  },
  {
   "cell_type": "code",
   "execution_count": 41,
   "id": "0e642aa8",
   "metadata": {},
   "outputs": [
    {
     "name": "stdout",
     "output_type": "stream",
     "text": [
      "Some extra code before original function\n",
      "I want to be decorated!\n",
      "Some extra code, after original function\n"
     ]
    }
   ],
   "source": [
    "func_needs_a_decorator()"
   ]
  },
  {
   "cell_type": "markdown",
   "id": "cf7da4a6",
   "metadata": {},
   "source": [
    "Ok, I think I get it. In this example, both <code>new_decorator</code> and <code>func_needs_a_decorator</code> are functions. You pass <code>func_needs_a_decorator</code> into <code>new_decorator</code> using the @ symbol. You can more easily remove the <code>@new_decorator</code> functionality by commenting one line, instead of editing the whole function. "
   ]
  },
  {
   "cell_type": "code",
   "execution_count": null,
   "id": "f3fd9495",
   "metadata": {},
   "outputs": [],
   "source": []
  }
 ],
 "metadata": {
  "kernelspec": {
   "display_name": "Python 3 (ipykernel)",
   "language": "python",
   "name": "python3"
  },
  "language_info": {
   "codemirror_mode": {
    "name": "ipython",
    "version": 3
   },
   "file_extension": ".py",
   "mimetype": "text/x-python",
   "name": "python",
   "nbconvert_exporter": "python",
   "pygments_lexer": "ipython3",
   "version": "3.8.10"
  }
 },
 "nbformat": 4,
 "nbformat_minor": 5
}
