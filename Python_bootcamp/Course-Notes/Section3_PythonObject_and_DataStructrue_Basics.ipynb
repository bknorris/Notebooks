{
 "cells": [
  {
   "cell_type": "code",
   "execution_count": 1,
   "id": "190a8d9e",
   "metadata": {},
   "outputs": [
    {
     "data": {
      "text/plain": [
       "3"
      ]
     },
     "execution_count": 1,
     "metadata": {},
     "output_type": "execute_result"
    }
   ],
   "source": [
    "2+1"
   ]
  },
  {
   "cell_type": "code",
   "execution_count": 10,
   "id": "5a2a86ab",
   "metadata": {},
   "outputs": [
    {
     "name": "stdout",
     "output_type": "stream",
     "text": [
      "no it is not\n"
     ]
    }
   ],
   "source": [
    "i = 2\n",
    "if i > 2:\n",
    "    print('yes it is')\n",
    "else :\n",
    "    print('no it is not')\n"
   ]
  },
  {
   "cell_type": "markdown",
   "id": "f2e1200e",
   "metadata": {},
   "source": [
    "I'm getting ahead of the course here but I just tried to write a simple if/then statement. It seems that python requires a colon \":\" after if/else statements. These statements do not need to be closed with an end statement. Let's try another one."
   ]
  },
  {
   "cell_type": "code",
   "execution_count": 11,
   "id": "d335579e",
   "metadata": {},
   "outputs": [
    {
     "ename": "SyntaxError",
     "evalue": "invalid syntax (300271012.py, line 2)",
     "output_type": "error",
     "traceback": [
      "\u001b[0;36m  File \u001b[0;32m\"/tmp/ipykernel_3564/300271012.py\"\u001b[0;36m, line \u001b[0;32m2\u001b[0m\n\u001b[0;31m    for j = 1:length(i)\u001b[0m\n\u001b[0m          ^\u001b[0m\n\u001b[0;31mSyntaxError\u001b[0m\u001b[0;31m:\u001b[0m invalid syntax\n"
     ]
    }
   ],
   "source": [
    "i = [1,2,3,4,5,6]\n",
    "for j = 1:length(i)\n",
    "    if i > 2:\n",
    "        print('yes')\n",
    "    else:\n",
    "        print('no')\n"
   ]
  },
  {
   "cell_type": "markdown",
   "id": "c2df1eee",
   "metadata": {},
   "source": [
    "See, obviously Matlab syntax doesn't work here. Apparently it should be \"for j in i:\""
   ]
  },
  {
   "cell_type": "code",
   "execution_count": 17,
   "id": "44944598",
   "metadata": {},
   "outputs": [
    {
     "name": "stdout",
     "output_type": "stream",
     "text": [
      "no\n",
      "no\n",
      "yes\n",
      "yes\n"
     ]
    }
   ],
   "source": [
    "i = (1,2,3,4)\n",
    "for j in i:\n",
    "    if j > 2:\n",
    "        print('yes')\n",
    "    else:\n",
    "        print('no')\n"
   ]
  },
  {
   "cell_type": "code",
   "execution_count": 18,
   "id": "3c13412e",
   "metadata": {},
   "outputs": [
    {
     "name": "stdout",
     "output_type": "stream",
     "text": [
      "no\n",
      "no\n",
      "yes\n",
      "yes\n"
     ]
    }
   ],
   "source": [
    "i = [1,2,3,4]\n",
    "for j in i:\n",
    "    if j > 2:\n",
    "        print('yes')\n",
    "    else:\n",
    "        print('no')"
   ]
  },
  {
   "cell_type": "markdown",
   "id": "b78c4c4e",
   "metadata": {},
   "source": [
    "Apparently, numbers can be grouped either with curved or square brackets. Note the use of \":\" after the for statement. Let's get back to the tutorial from the video:"
   ]
  },
  {
   "cell_type": "code",
   "execution_count": 19,
   "id": "54586798",
   "metadata": {},
   "outputs": [
    {
     "data": {
      "text/plain": [
       "3"
      ]
     },
     "execution_count": 19,
     "metadata": {},
     "output_type": "execute_result"
    }
   ],
   "source": [
    "7 % 4"
   ]
  },
  {
   "cell_type": "code",
   "execution_count": 20,
   "id": "c4b14747",
   "metadata": {},
   "outputs": [
    {
     "ename": "NameError",
     "evalue": "name 'mod' is not defined",
     "output_type": "error",
     "traceback": [
      "\u001b[0;31m---------------------------------------------------------------------------\u001b[0m",
      "\u001b[0;31mNameError\u001b[0m                                 Traceback (most recent call last)",
      "\u001b[0;32m/tmp/ipykernel_3564/891188313.py\u001b[0m in \u001b[0;36m<module>\u001b[0;34m\u001b[0m\n\u001b[0;32m----> 1\u001b[0;31m \u001b[0mmod\u001b[0m\u001b[0;34m(\u001b[0m\u001b[0;36m7\u001b[0m\u001b[0;34m)\u001b[0m\u001b[0;34m\u001b[0m\u001b[0;34m\u001b[0m\u001b[0m\n\u001b[0m",
      "\u001b[0;31mNameError\u001b[0m: name 'mod' is not defined"
     ]
    }
   ],
   "source": [
    "mod(7)"
   ]
  },
  {
   "cell_type": "code",
   "execution_count": 21,
   "id": "6dec92be",
   "metadata": {},
   "outputs": [
    {
     "data": {
      "text/plain": [
       "1"
      ]
     },
     "execution_count": 21,
     "metadata": {},
     "output_type": "execute_result"
    }
   ],
   "source": [
    "23 % 2"
   ]
  },
  {
   "cell_type": "code",
   "execution_count": 22,
   "id": "53abfb86",
   "metadata": {},
   "outputs": [
    {
     "data": {
      "text/plain": [
       "0"
      ]
     },
     "execution_count": 22,
     "metadata": {},
     "output_type": "execute_result"
    }
   ],
   "source": [
    "24 % 2"
   ]
  },
  {
   "cell_type": "markdown",
   "id": "af1d4ae6",
   "metadata": {},
   "source": [
    "The \"%\" symbol takes the place of the mod() command in MATLAB. It can be used to return the remainder after a division of two numbers."
   ]
  },
  {
   "cell_type": "code",
   "execution_count": 27,
   "id": "450e7fc8",
   "metadata": {},
   "outputs": [
    {
     "name": "stdout",
     "output_type": "stream",
     "text": [
      "the result is EVEN\n"
     ]
    }
   ],
   "source": [
    "#Mod can be used to check evenness or oddness\n",
    "i = 24\n",
    "if i % 2 == 1:\n",
    "    print('the result is ODD')\n",
    "else:\n",
    "    print('the result is EVEN')\n"
   ]
  },
  {
   "cell_type": "code",
   "execution_count": 28,
   "id": "7f00dbe2",
   "metadata": {},
   "outputs": [
    {
     "name": "stdout",
     "output_type": "stream",
     "text": [
      "the result is ODD\n"
     ]
    }
   ],
   "source": [
    "#Mod can be used to check evenness or oddness\n",
    "i = 23\n",
    "if i % 2 == 1:\n",
    "    print('the result is ODD')\n",
    "else:\n",
    "    print('the result is EVEN')"
   ]
  },
  {
   "cell_type": "code",
   "execution_count": 29,
   "id": "0f060057",
   "metadata": {},
   "outputs": [
    {
     "data": {
      "text/plain": [
       "10"
      ]
     },
     "execution_count": 29,
     "metadata": {},
     "output_type": "execute_result"
    }
   ],
   "source": [
    "#Powers\n",
    "2^8"
   ]
  },
  {
   "cell_type": "code",
   "execution_count": 30,
   "id": "27a555bf",
   "metadata": {},
   "outputs": [
    {
     "data": {
      "text/plain": [
       "16"
      ]
     },
     "execution_count": 30,
     "metadata": {},
     "output_type": "execute_result"
    }
   ],
   "source": [
    "#Powers\n",
    "2**4"
   ]
  },
  {
   "cell_type": "markdown",
   "id": "d8873d18",
   "metadata": {},
   "source": [
    "The carat \"^\" is a bitwise XOR (exclusive OR).\n",
    "\n",
    "It results to true if one (and only one) if the operands (evaluates to) true.\n",
    "\n",
    "To demonstrate:"
   ]
  },
  {
   "cell_type": "code",
   "execution_count": 31,
   "id": "248e9fd3",
   "metadata": {},
   "outputs": [
    {
     "data": {
      "text/plain": [
       "3"
      ]
     },
     "execution_count": 31,
     "metadata": {},
     "output_type": "execute_result"
    }
   ],
   "source": [
    "1^2"
   ]
  },
  {
   "cell_type": "code",
   "execution_count": 32,
   "id": "1cb2f581",
   "metadata": {},
   "outputs": [
    {
     "data": {
      "text/plain": [
       "8"
      ]
     },
     "execution_count": 32,
     "metadata": {},
     "output_type": "execute_result"
    }
   ],
   "source": [
    "9^1"
   ]
  },
  {
   "cell_type": "code",
   "execution_count": 33,
   "id": "45a20442",
   "metadata": {},
   "outputs": [
    {
     "data": {
      "text/plain": [
       "8"
      ]
     },
     "execution_count": 33,
     "metadata": {},
     "output_type": "execute_result"
    }
   ],
   "source": [
    "10^2"
   ]
  },
  {
   "cell_type": "code",
   "execution_count": 34,
   "id": "e33b07a6",
   "metadata": {},
   "outputs": [
    {
     "data": {
      "text/plain": [
       "7"
      ]
     },
     "execution_count": 34,
     "metadata": {},
     "output_type": "execute_result"
    }
   ],
   "source": [
    "100^99"
   ]
  },
  {
   "cell_type": "code",
   "execution_count": 35,
   "id": "925572a7",
   "metadata": {},
   "outputs": [
    {
     "data": {
      "text/plain": [
       "0"
      ]
     },
     "execution_count": 35,
     "metadata": {},
     "output_type": "execute_result"
    }
   ],
   "source": [
    "100^100"
   ]
  },
  {
   "cell_type": "raw",
   "id": "dab42757",
   "metadata": {},
   "source": [
    "#Think about it this way:\n",
    "\n",
    "1000  # 8 (binary)\n",
    "0011  # 3 (binary)\n",
    "----  # APPLY XOR ('vertically')\n",
    "1011  # result = 11 (binary)"
   ]
  },
  {
   "cell_type": "markdown",
   "id": "0571af64",
   "metadata": {},
   "source": [
    "Hmm... I'll stay away from the \"^\" for awhile. To raise one number to a power, use \"**\"."
   ]
  },
  {
   "cell_type": "code",
   "execution_count": 38,
   "id": "8bfcb8d6",
   "metadata": {},
   "outputs": [
    {
     "data": {
      "text/plain": [
       "123"
      ]
     },
     "execution_count": 38,
     "metadata": {},
     "output_type": "execute_result"
    }
   ],
   "source": [
    "(2+10)*10+(1+2)"
   ]
  },
  {
   "cell_type": "raw",
   "id": "8b73ac22",
   "metadata": {},
   "source": [
    "# Variable Names:\n",
    "    #Rules:\n",
    "        #Var names should be lowercase\n",
    "        #Avoid keywords in the software, e.g., \"list\", and \"str\"\n",
    "    #IDE's highlight keywords in a different color"
   ]
  },
  {
   "cell_type": "code",
   "execution_count": 41,
   "id": "a4f45525",
   "metadata": {},
   "outputs": [],
   "source": [
    "#Dynamic typing\n",
    "my_dogs = 2\n",
    "my_dogs = [\"sammy\",\"frankee\"]\n",
    "\n",
    "#this variable my_dogs can be assigned to multiple data types in a script (this is like MATLAB too). \n",
    "#In C++, integers are specified by 'int'. In a C++ code, the overlap of data types would result in an error."
   ]
  },
  {
   "cell_type": "markdown",
   "id": "11fa42ce",
   "metadata": {},
   "source": [
    "The type() command:"
   ]
  },
  {
   "cell_type": "code",
   "execution_count": 42,
   "id": "54d02623",
   "metadata": {},
   "outputs": [
    {
     "data": {
      "text/plain": [
       "int"
      ]
     },
     "execution_count": 42,
     "metadata": {},
     "output_type": "execute_result"
    }
   ],
   "source": [
    "a = 5\n",
    "type(a)"
   ]
  },
  {
   "cell_type": "code",
   "execution_count": 43,
   "id": "caadfa1c",
   "metadata": {},
   "outputs": [
    {
     "data": {
      "text/plain": [
       "str"
      ]
     },
     "execution_count": 43,
     "metadata": {},
     "output_type": "execute_result"
    }
   ],
   "source": [
    "a = \"frankee\"\n",
    "type(a)\n"
   ]
  },
  {
   "cell_type": "code",
   "execution_count": 44,
   "id": "b0dbdf75",
   "metadata": {},
   "outputs": [],
   "source": [
    "a = 5"
   ]
  },
  {
   "cell_type": "code",
   "execution_count": 45,
   "id": "4a4aa6b0",
   "metadata": {},
   "outputs": [
    {
     "data": {
      "text/plain": [
       "5"
      ]
     },
     "execution_count": 45,
     "metadata": {},
     "output_type": "execute_result"
    }
   ],
   "source": [
    "a"
   ]
  },
  {
   "cell_type": "code",
   "execution_count": 46,
   "id": "b59a4b56",
   "metadata": {},
   "outputs": [
    {
     "data": {
      "text/plain": [
       "10"
      ]
     },
     "execution_count": 46,
     "metadata": {},
     "output_type": "execute_result"
    }
   ],
   "source": [
    "a + a"
   ]
  },
  {
   "cell_type": "code",
   "execution_count": 47,
   "id": "b9b9c204",
   "metadata": {},
   "outputs": [],
   "source": [
    "a = a+a"
   ]
  },
  {
   "cell_type": "code",
   "execution_count": 48,
   "id": "3f22b88b",
   "metadata": {},
   "outputs": [
    {
     "data": {
      "text/plain": [
       "10"
      ]
     },
     "execution_count": 48,
     "metadata": {},
     "output_type": "execute_result"
    }
   ],
   "source": [
    "a"
   ]
  },
  {
   "cell_type": "code",
   "execution_count": 49,
   "id": "16e0a57a",
   "metadata": {},
   "outputs": [],
   "source": [
    "a = a+a"
   ]
  },
  {
   "cell_type": "code",
   "execution_count": 50,
   "id": "342a1b10",
   "metadata": {},
   "outputs": [
    {
     "data": {
      "text/plain": [
       "20"
      ]
     },
     "execution_count": 50,
     "metadata": {},
     "output_type": "execute_result"
    }
   ],
   "source": [
    "a"
   ]
  },
  {
   "cell_type": "markdown",
   "id": "7c4edf47",
   "metadata": {},
   "source": [
    "NB: variables can be recursively added to themselves (this behavior is also like MATLAB)"
   ]
  },
  {
   "cell_type": "markdown",
   "id": "7c5f35a4",
   "metadata": {},
   "source": [
    "Now, onto Strings:"
   ]
  },
  {
   "cell_type": "markdown",
   "id": "76a491e8",
   "metadata": {},
   "source": [
    "Strings are sequences of characters with either single or double quotes"
   ]
  },
  {
   "cell_type": "markdown",
   "id": "11ae2018",
   "metadata": {},
   "source": [
    "Strings are ordered sequences, so we can use indexing and slicing to grad sub-sections of the string. Indexing notation uses [] after the string. "
   ]
  },
  {
   "cell_type": "markdown",
   "id": "285dd827",
   "metadata": {},
   "source": [
    "Note, Python uses index 0 for the first index [0 1 2 3 4]. You can also use reverse indexing [0 -4 -3 -2 -1] from the end of the string"
   ]
  },
  {
   "cell_type": "raw",
   "id": "f3bed468",
   "metadata": {},
   "source": [
    "'Slicing' also allows you to grab a subsection of multiple characters, a \"slice\" of ther string, with the syntax: [start:stop:step]. \n",
    "\n",
    "Start: numerical index of the slice\n",
    "Stop: index you go up to but NOT INCLUDE\n",
    "Step: size of the step between Start and Stop."
   ]
  },
  {
   "cell_type": "code",
   "execution_count": 1,
   "id": "fb1d4dc9",
   "metadata": {},
   "outputs": [
    {
     "data": {
      "text/plain": [
       "'helloworld'"
      ]
     },
     "execution_count": 1,
     "metadata": {},
     "output_type": "execute_result"
    }
   ],
   "source": [
    "'hello' \"world\""
   ]
  },
  {
   "cell_type": "code",
   "execution_count": 2,
   "id": "be0c90ee",
   "metadata": {},
   "outputs": [
    {
     "data": {
      "text/plain": [
       "'helloworld'"
      ]
     },
     "execution_count": 2,
     "metadata": {},
     "output_type": "execute_result"
    }
   ],
   "source": [
    "'hello' + 'world'"
   ]
  },
  {
   "cell_type": "code",
   "execution_count": 3,
   "id": "59a37aeb",
   "metadata": {},
   "outputs": [
    {
     "data": {
      "text/plain": [
       "'hello world'"
      ]
     },
     "execution_count": 3,
     "metadata": {},
     "output_type": "execute_result"
    }
   ],
   "source": [
    "\"hello world\""
   ]
  },
  {
   "cell_type": "markdown",
   "id": "dd3c75c8",
   "metadata": {},
   "source": [
    "The \"len\" function allows you to check the length of a string"
   ]
  },
  {
   "cell_type": "code",
   "execution_count": 1,
   "id": "86e874aa",
   "metadata": {},
   "outputs": [
    {
     "data": {
      "text/plain": [
       "16"
      ]
     },
     "execution_count": 1,
     "metadata": {},
     "output_type": "execute_result"
    }
   ],
   "source": [
    "#eg\n",
    "string = 'this is a string'\n",
    "len(string)"
   ]
  },
  {
   "cell_type": "markdown",
   "id": "d3a86a6f",
   "metadata": {},
   "source": [
    "Note that len counts whitespace"
   ]
  },
  {
   "cell_type": "code",
   "execution_count": 2,
   "id": "e24f99d0",
   "metadata": {},
   "outputs": [],
   "source": [
    "#a couple more string concatenation test cases\n",
    "string = ['abc' 'def']"
   ]
  },
  {
   "cell_type": "code",
   "execution_count": 3,
   "id": "caa60a0b",
   "metadata": {},
   "outputs": [
    {
     "data": {
      "text/plain": [
       "['abcdef']"
      ]
     },
     "execution_count": 3,
     "metadata": {},
     "output_type": "execute_result"
    }
   ],
   "source": [
    "string"
   ]
  },
  {
   "cell_type": "code",
   "execution_count": 4,
   "id": "cd57dbee",
   "metadata": {},
   "outputs": [
    {
     "data": {
      "text/plain": [
       "1"
      ]
     },
     "execution_count": 4,
     "metadata": {},
     "output_type": "execute_result"
    }
   ],
   "source": [
    "len(string)"
   ]
  },
  {
   "cell_type": "code",
   "execution_count": 5,
   "id": "8c7793a9",
   "metadata": {},
   "outputs": [],
   "source": [
    "string = ('abc' 'def')"
   ]
  },
  {
   "cell_type": "code",
   "execution_count": 6,
   "id": "fdda9815",
   "metadata": {},
   "outputs": [
    {
     "data": {
      "text/plain": [
       "'abcdef'"
      ]
     },
     "execution_count": 6,
     "metadata": {},
     "output_type": "execute_result"
    }
   ],
   "source": [
    "string"
   ]
  },
  {
   "cell_type": "code",
   "execution_count": 7,
   "id": "0a8544f3",
   "metadata": {},
   "outputs": [],
   "source": [
    "string = {'abc' 'def'}"
   ]
  },
  {
   "cell_type": "code",
   "execution_count": 8,
   "id": "2c6a87b4",
   "metadata": {},
   "outputs": [
    {
     "data": {
      "text/plain": [
       "{'abcdef'}"
      ]
     },
     "execution_count": 8,
     "metadata": {},
     "output_type": "execute_result"
    }
   ],
   "source": [
    "string"
   ]
  },
  {
   "cell_type": "markdown",
   "id": "721fb2eb",
   "metadata": {},
   "source": [
    "Now moving onto string slicing and indexing!"
   ]
  },
  {
   "cell_type": "code",
   "execution_count": 9,
   "id": "9729f582",
   "metadata": {},
   "outputs": [],
   "source": [
    "string = \"hello world!\""
   ]
  },
  {
   "cell_type": "code",
   "execution_count": 11,
   "id": "4499ccae",
   "metadata": {},
   "outputs": [
    {
     "data": {
      "text/plain": [
       "'h'"
      ]
     },
     "execution_count": 11,
     "metadata": {},
     "output_type": "execute_result"
    }
   ],
   "source": [
    "#find index 0 of string\n",
    "string[0]"
   ]
  },
  {
   "cell_type": "code",
   "execution_count": 17,
   "id": "d077be71",
   "metadata": {},
   "outputs": [
    {
     "data": {
      "text/plain": [
       "'h'"
      ]
     },
     "execution_count": 17,
     "metadata": {},
     "output_type": "execute_result"
    }
   ],
   "source": [
    "string[-12]"
   ]
  },
  {
   "cell_type": "markdown",
   "id": "71ed2b5f",
   "metadata": {},
   "source": [
    "Slicing:"
   ]
  },
  {
   "cell_type": "code",
   "execution_count": 19,
   "id": "424c8543",
   "metadata": {},
   "outputs": [
    {
     "data": {
      "text/plain": [
       "'ello world'"
      ]
     },
     "execution_count": 19,
     "metadata": {},
     "output_type": "execute_result"
    }
   ],
   "source": [
    "string[1:11]"
   ]
  },
  {
   "cell_type": "code",
   "execution_count": 21,
   "id": "7cb9899f",
   "metadata": {},
   "outputs": [
    {
     "data": {
      "text/plain": [
       "'lo world!'"
      ]
     },
     "execution_count": 21,
     "metadata": {},
     "output_type": "execute_result"
    }
   ],
   "source": [
    "string[3:]"
   ]
  },
  {
   "cell_type": "code",
   "execution_count": 22,
   "id": "84f9f99b",
   "metadata": {},
   "outputs": [
    {
     "data": {
      "text/plain": [
       "'hel'"
      ]
     },
     "execution_count": 22,
     "metadata": {},
     "output_type": "execute_result"
    }
   ],
   "source": [
    "string[:3]"
   ]
  },
  {
   "cell_type": "markdown",
   "id": "3a54bd42",
   "metadata": {},
   "source": [
    "Slice notation is NON-INCLUSIVE!"
   ]
  },
  {
   "cell_type": "code",
   "execution_count": 27,
   "id": "f8d4e6c4",
   "metadata": {},
   "outputs": [
    {
     "data": {
      "text/plain": [
       "'hlowrd'"
      ]
     },
     "execution_count": 27,
     "metadata": {},
     "output_type": "execute_result"
    }
   ],
   "source": [
    "string[::2]"
   ]
  },
  {
   "cell_type": "markdown",
   "id": "72923d76",
   "metadata": {},
   "source": [
    "In the above example, the first two colons mean start and stop indices, and the last number \"2\" is the step size. This is different to MATLAB which is start:step:stop. Python is start:stop:step"
   ]
  },
  {
   "cell_type": "code",
   "execution_count": 28,
   "id": "03148a95",
   "metadata": {},
   "outputs": [
    {
     "data": {
      "text/plain": [
       "'!dlrow olleh'"
      ]
     },
     "execution_count": 28,
     "metadata": {},
     "output_type": "execute_result"
    }
   ],
   "source": [
    "string[::-1]"
   ]
  },
  {
   "cell_type": "markdown",
   "id": "b943b0c6",
   "metadata": {},
   "source": [
    "Strings can be reversed by adding the \"-1\" to the step size in the example above."
   ]
  },
  {
   "cell_type": "code",
   "execution_count": 32,
   "id": "7310c723",
   "metadata": {},
   "outputs": [
    {
     "data": {
      "text/plain": [
       "'r'"
      ]
     },
     "execution_count": 32,
     "metadata": {},
     "output_type": "execute_result"
    }
   ],
   "source": [
    "string = \"Hello World\"\n",
    "string[-3]"
   ]
  },
  {
   "cell_type": "markdown",
   "id": "b135c298",
   "metadata": {},
   "source": [
    "Immutability of strings"
   ]
  },
  {
   "cell_type": "code",
   "execution_count": 33,
   "id": "eb66e2b6",
   "metadata": {},
   "outputs": [
    {
     "ename": "TypeError",
     "evalue": "'str' object does not support item assignment",
     "output_type": "error",
     "traceback": [
      "\u001b[0;31m---------------------------------------------------------------------------\u001b[0m",
      "\u001b[0;31mTypeError\u001b[0m                                 Traceback (most recent call last)",
      "\u001b[0;32m/tmp/ipykernel_551/1815371856.py\u001b[0m in \u001b[0;36m<module>\u001b[0;34m\u001b[0m\n\u001b[1;32m      1\u001b[0m \u001b[0mname\u001b[0m \u001b[0;34m=\u001b[0m \u001b[0;34m\"Sam\"\u001b[0m\u001b[0;34m\u001b[0m\u001b[0;34m\u001b[0m\u001b[0m\n\u001b[0;32m----> 2\u001b[0;31m \u001b[0mname\u001b[0m\u001b[0;34m[\u001b[0m\u001b[0;36m0\u001b[0m\u001b[0;34m]\u001b[0m \u001b[0;34m=\u001b[0m \u001b[0;34m'P'\u001b[0m\u001b[0;34m\u001b[0m\u001b[0;34m\u001b[0m\u001b[0m\n\u001b[0m",
      "\u001b[0;31mTypeError\u001b[0m: 'str' object does not support item assignment"
     ]
    }
   ],
   "source": [
    "name = \"Sam\"\n",
    "name[0] = 'P'"
   ]
  },
  {
   "cell_type": "markdown",
   "id": "c4590b71",
   "metadata": {},
   "source": [
    "E.g., we cannot change characters in strings using indexes"
   ]
  },
  {
   "cell_type": "code",
   "execution_count": 35,
   "id": "80f8402e",
   "metadata": {},
   "outputs": [],
   "source": [
    "#Instead, use concatenation\n",
    "name2 = 'P' + name[1:]"
   ]
  },
  {
   "cell_type": "code",
   "execution_count": 36,
   "id": "8d0da5fe",
   "metadata": {},
   "outputs": [
    {
     "data": {
      "text/plain": [
       "'Pam'"
      ]
     },
     "execution_count": 36,
     "metadata": {},
     "output_type": "execute_result"
    }
   ],
   "source": [
    "name2"
   ]
  },
  {
   "cell_type": "code",
   "execution_count": 37,
   "id": "40c53c2e",
   "metadata": {},
   "outputs": [
    {
     "data": {
      "text/plain": [
       "'zzzzzzzzzz'"
      ]
     },
     "execution_count": 37,
     "metadata": {},
     "output_type": "execute_result"
    }
   ],
   "source": [
    "letter = 'z'\n",
    "letter*10"
   ]
  },
  {
   "cell_type": "code",
   "execution_count": 38,
   "id": "0bbbb72a",
   "metadata": {},
   "outputs": [
    {
     "data": {
      "text/plain": [
       "'5'"
      ]
     },
     "execution_count": 38,
     "metadata": {},
     "output_type": "execute_result"
    }
   ],
   "source": [
    "str(2+3)"
   ]
  },
  {
   "cell_type": "markdown",
   "id": "fa8fa15c",
   "metadata": {},
   "source": [
    "To quickly modify strings, type a \".\" after the string name and then press TAB. Options to transform the string are populated."
   ]
  },
  {
   "cell_type": "code",
   "execution_count": 39,
   "id": "a1a6fd3a",
   "metadata": {},
   "outputs": [
    {
     "data": {
      "text/plain": [
       "'HELLO WORLD'"
      ]
     },
     "execution_count": 39,
     "metadata": {},
     "output_type": "execute_result"
    }
   ],
   "source": [
    "#eg \n",
    "string = \"hello world\"\n",
    "string.upper()"
   ]
  },
  {
   "cell_type": "code",
   "execution_count": 45,
   "id": "bed1eb06",
   "metadata": {},
   "outputs": [
    {
     "data": {
      "text/plain": [
       "8"
      ]
     },
     "execution_count": 45,
     "metadata": {},
     "output_type": "execute_result"
    }
   ],
   "source": [
    "string.index('r')"
   ]
  },
  {
   "cell_type": "markdown",
   "id": "cfb808d4",
   "metadata": {},
   "source": [
    "Ok, now moving onto Print Formatting with Strings"
   ]
  },
  {
   "cell_type": "code",
   "execution_count": 46,
   "id": "837d7c2b",
   "metadata": {},
   "outputs": [
    {
     "data": {
      "text/plain": [
       "'variableName_2_3'"
      ]
     },
     "execution_count": 46,
     "metadata": {},
     "output_type": "execute_result"
    }
   ],
   "source": [
    "#Formatting with \".format\"\n",
    "string1 = 'variableName_{}_{}'\n",
    "string1.format('2','3')"
   ]
  },
  {
   "cell_type": "markdown",
   "id": "9508728a",
   "metadata": {},
   "source": [
    "So, using the curly brackets {} in a string can add (or \"interpolate\") strings with variables from the code. This behavior is a lot like the fprintf command in MATLAB."
   ]
  },
  {
   "cell_type": "code",
   "execution_count": 47,
   "id": "a0ca7c38",
   "metadata": {},
   "outputs": [
    {
     "name": "stdout",
     "output_type": "stream",
     "text": [
      "The fox quick brown\n"
     ]
    }
   ],
   "source": [
    "print('The {} {} {}'.format('fox','quick','brown'))"
   ]
  },
  {
   "cell_type": "code",
   "execution_count": 51,
   "id": "91535bab",
   "metadata": {},
   "outputs": [
    {
     "name": "stdout",
     "output_type": "stream",
     "text": [
      "The quick brown fox\n"
     ]
    }
   ],
   "source": [
    "#you can edit the positioning of the format strings using numbers in the curly brackets, e.g., \n",
    "#Remember, 0 is the first index!\n",
    "print('The {1} {2} {0}'.format('fox','quick','brown'))"
   ]
  },
  {
   "cell_type": "code",
   "execution_count": 54,
   "id": "45bbf09b",
   "metadata": {},
   "outputs": [
    {
     "name": "stdout",
     "output_type": "stream",
     "text": [
      "The quick brown fox\n"
     ]
    }
   ],
   "source": [
    "#Strings can also be added by assigning variable names, e.g.,\n",
    "print('The {q} {b} {f}'.format(f = 'fox',b = 'brown',q = 'quick'))"
   ]
  },
  {
   "cell_type": "code",
   "execution_count": 65,
   "id": "a5728a76",
   "metadata": {},
   "outputs": [
    {
     "name": "stdout",
     "output_type": "stream",
     "text": [
      "0.003003003003003003\n",
      "The result was 0.003\n"
     ]
    }
   ],
   "source": [
    "#For floating point numbers, we can change the precision in printing.\n",
    "#Floating point numbers follow \"{value:width:precision f}\"\n",
    "#Width describes how long you want the printed value to be. Precision is the amount of sig. figs. to print. \n",
    "result1 = 1/333\n",
    "print(result1)\n",
    "\n",
    "print('The result was {r:1.3f}'.format(r=result1))"
   ]
  },
  {
   "cell_type": "markdown",
   "id": "6fb8c001",
   "metadata": {},
   "source": [
    "Now formatting with \"f-strings\""
   ]
  },
  {
   "cell_type": "code",
   "execution_count": 66,
   "id": "24cd0541",
   "metadata": {},
   "outputs": [],
   "source": [
    "name = \"Jose\""
   ]
  },
  {
   "cell_type": "code",
   "execution_count": 67,
   "id": "d9b364fa",
   "metadata": {},
   "outputs": [
    {
     "name": "stdout",
     "output_type": "stream",
     "text": [
      "Hello, his name is Jose\n"
     ]
    }
   ],
   "source": [
    "print('Hello, his name is {}'.format(name))"
   ]
  },
  {
   "cell_type": "code",
   "execution_count": 68,
   "id": "d1b3dcd4",
   "metadata": {},
   "outputs": [
    {
     "name": "stdout",
     "output_type": "stream",
     "text": [
      "Hello, his name is Jose\n"
     ]
    }
   ],
   "source": [
    "print(f'Hello, his name is {name}')"
   ]
  },
  {
   "cell_type": "markdown",
   "id": "5ef48e8c",
   "metadata": {},
   "source": [
    "So this behavior, where you add an \"f\" in front of the string and then the variable name in the brackets, is like fprintf in MATLAB."
   ]
  },
  {
   "cell_type": "code",
   "execution_count": 70,
   "id": "59d10a9b",
   "metadata": {},
   "outputs": [
    {
     "name": "stdout",
     "output_type": "stream",
     "text": [
      "The quick brown fox\n"
     ]
    }
   ],
   "source": [
    "#trying out the quick brown fox again...\n",
    "f = 'fox'\n",
    "b = 'brown'\n",
    "q = 'quick'\n",
    "print(f'The {q} {b} {f}')"
   ]
  },
  {
   "cell_type": "markdown",
   "id": "3ac9be94",
   "metadata": {},
   "source": [
    "Remember, so you don't forget, a first go at a Python script might be to auto populate test cases for publication. The code will have to read in a text file containing the various model settings, and then auto change the needed variables, and save out the files into a directory. "
   ]
  },
  {
   "cell_type": "markdown",
   "id": "cfcb5f5d",
   "metadata": {},
   "source": [
    "Now moving onto LISTS in python"
   ]
  },
  {
   "cell_type": "code",
   "execution_count": 2,
   "id": "46fc56b8",
   "metadata": {},
   "outputs": [],
   "source": [
    "my_list = [1,2,3]"
   ]
  },
  {
   "cell_type": "code",
   "execution_count": 3,
   "id": "ae176be9",
   "metadata": {},
   "outputs": [],
   "source": [
    "my_list = ['string',3,2.33]"
   ]
  },
  {
   "cell_type": "markdown",
   "id": "fee071d4",
   "metadata": {},
   "source": [
    "python lists are data type flexible"
   ]
  },
  {
   "cell_type": "code",
   "execution_count": 4,
   "id": "d94dbdcd",
   "metadata": {},
   "outputs": [
    {
     "data": {
      "text/plain": [
       "3"
      ]
     },
     "execution_count": 4,
     "metadata": {},
     "output_type": "execute_result"
    }
   ],
   "source": [
    "len(my_list)"
   ]
  },
  {
   "cell_type": "code",
   "execution_count": 5,
   "id": "ac4c820b",
   "metadata": {},
   "outputs": [],
   "source": [
    "my_list = [1,'two','three']"
   ]
  },
  {
   "cell_type": "code",
   "execution_count": 7,
   "id": "d38bc16c",
   "metadata": {},
   "outputs": [
    {
     "data": {
      "text/plain": [
       "1"
      ]
     },
     "execution_count": 7,
     "metadata": {},
     "output_type": "execute_result"
    }
   ],
   "source": [
    "my_list[0]"
   ]
  },
  {
   "cell_type": "code",
   "execution_count": 8,
   "id": "dc0c008a",
   "metadata": {},
   "outputs": [
    {
     "data": {
      "text/plain": [
       "'two'"
      ]
     },
     "execution_count": 8,
     "metadata": {},
     "output_type": "execute_result"
    }
   ],
   "source": [
    "my_list[1]"
   ]
  },
  {
   "cell_type": "code",
   "execution_count": 9,
   "id": "92851481",
   "metadata": {},
   "outputs": [
    {
     "data": {
      "text/plain": [
       "['two', 'three']"
      ]
     },
     "execution_count": 9,
     "metadata": {},
     "output_type": "execute_result"
    }
   ],
   "source": [
    "my_list[1:]"
   ]
  },
  {
   "cell_type": "code",
   "execution_count": 10,
   "id": "f998ce31",
   "metadata": {},
   "outputs": [],
   "source": [
    "my_list2 = ['four','five']"
   ]
  },
  {
   "cell_type": "code",
   "execution_count": 11,
   "id": "1ab2347f",
   "metadata": {},
   "outputs": [
    {
     "data": {
      "text/plain": [
       "[1, 'two', 'three', 'four', 'five']"
      ]
     },
     "execution_count": 11,
     "metadata": {},
     "output_type": "execute_result"
    }
   ],
   "source": [
    "my_list + my_list2"
   ]
  },
  {
   "cell_type": "code",
   "execution_count": 12,
   "id": "f82e4be6",
   "metadata": {},
   "outputs": [],
   "source": [
    "another_list = my_list+my_list2"
   ]
  },
  {
   "cell_type": "code",
   "execution_count": 15,
   "id": "7c15685f",
   "metadata": {},
   "outputs": [],
   "source": [
    "another_list[1] = 'TWO'"
   ]
  },
  {
   "cell_type": "code",
   "execution_count": 16,
   "id": "2ce966fe",
   "metadata": {},
   "outputs": [
    {
     "data": {
      "text/plain": [
       "[1, 'TWO', 'three', 'four', 'five']"
      ]
     },
     "execution_count": 16,
     "metadata": {},
     "output_type": "execute_result"
    }
   ],
   "source": [
    "another_list"
   ]
  },
  {
   "cell_type": "code",
   "execution_count": 17,
   "id": "04aebd2b",
   "metadata": {},
   "outputs": [],
   "source": [
    "another_list.append('six')"
   ]
  },
  {
   "cell_type": "code",
   "execution_count": 18,
   "id": "7ed33414",
   "metadata": {},
   "outputs": [
    {
     "data": {
      "text/plain": [
       "[1, 'TWO', 'three', 'four', 'five', 'six']"
      ]
     },
     "execution_count": 18,
     "metadata": {},
     "output_type": "execute_result"
    }
   ],
   "source": [
    "another_list"
   ]
  },
  {
   "cell_type": "markdown",
   "id": "89293279",
   "metadata": {},
   "source": [
    ".append allows you to \"append\" items to the end of a list!"
   ]
  },
  {
   "cell_type": "code",
   "execution_count": 19,
   "id": "09e088d8",
   "metadata": {},
   "outputs": [
    {
     "name": "stdout",
     "output_type": "stream",
     "text": [
      "None\n"
     ]
    }
   ],
   "source": [
    "print(another_list.append('seven'))"
   ]
  },
  {
   "cell_type": "code",
   "execution_count": 20,
   "id": "c951ddcc",
   "metadata": {},
   "outputs": [
    {
     "name": "stdout",
     "output_type": "stream",
     "text": [
      "[1, 'TWO', 'three', 'four', 'five', 'six', 'seven']\n"
     ]
    }
   ],
   "source": [
    "print(another_list)"
   ]
  },
  {
   "cell_type": "markdown",
   "id": "7f316eb4",
   "metadata": {},
   "source": [
    "Hmm... it looks like you can't add commands into the same line, but it seems that the append command (add 'seven') to the list [19] was completed even though the reply from the command window was 'none'"
   ]
  },
  {
   "cell_type": "code",
   "execution_count": 21,
   "id": "6497eab0",
   "metadata": {},
   "outputs": [
    {
     "name": "stdout",
     "output_type": "stream",
     "text": [
      "[1, 'TWO', 'three', 'four', 'five', 'six']\n"
     ]
    }
   ],
   "source": [
    "#now let's remove items from a list\n",
    "another_list.pop()\n",
    "print(another_list)"
   ]
  },
  {
   "cell_type": "code",
   "execution_count": 22,
   "id": "fb19f1bc",
   "metadata": {},
   "outputs": [],
   "source": [
    "popped = another_list.pop()"
   ]
  },
  {
   "cell_type": "code",
   "execution_count": 23,
   "id": "7988a4c1",
   "metadata": {},
   "outputs": [
    {
     "data": {
      "text/plain": [
       "'six'"
      ]
     },
     "execution_count": 23,
     "metadata": {},
     "output_type": "execute_result"
    }
   ],
   "source": [
    "popped"
   ]
  },
  {
   "cell_type": "code",
   "execution_count": 24,
   "id": "e3dd1fe3",
   "metadata": {},
   "outputs": [
    {
     "data": {
      "text/plain": [
       "[1, 'TWO', 'three', 'four', 'five']"
      ]
     },
     "execution_count": 24,
     "metadata": {},
     "output_type": "execute_result"
    }
   ],
   "source": [
    "another_list"
   ]
  },
  {
   "cell_type": "code",
   "execution_count": 26,
   "id": "4a32b7e1",
   "metadata": {},
   "outputs": [
    {
     "data": {
      "text/plain": [
       "1"
      ]
     },
     "execution_count": 26,
     "metadata": {},
     "output_type": "execute_result"
    }
   ],
   "source": [
    "#now remove an item from a specific index\n",
    "another_list.pop(0)"
   ]
  },
  {
   "cell_type": "code",
   "execution_count": 27,
   "id": "d18adb51",
   "metadata": {},
   "outputs": [
    {
     "data": {
      "text/plain": [
       "['three', 'four', 'five']"
      ]
     },
     "execution_count": 27,
     "metadata": {},
     "output_type": "execute_result"
    }
   ],
   "source": [
    "another_list"
   ]
  },
  {
   "cell_type": "code",
   "execution_count": 28,
   "id": "9de3dda2",
   "metadata": {},
   "outputs": [],
   "source": [
    "#sorts and reverse\n",
    "newlist = ['a','c','b','e','d']\n",
    "numlist = [1,3,4,5,9,8]"
   ]
  },
  {
   "cell_type": "code",
   "execution_count": 29,
   "id": "da4acb41",
   "metadata": {},
   "outputs": [],
   "source": [
    "newlist.sort()"
   ]
  },
  {
   "cell_type": "code",
   "execution_count": 30,
   "id": "a2ce7b3a",
   "metadata": {},
   "outputs": [
    {
     "data": {
      "text/plain": [
       "['a', 'b', 'c', 'd', 'e']"
      ]
     },
     "execution_count": 30,
     "metadata": {},
     "output_type": "execute_result"
    }
   ],
   "source": [
    "newlist"
   ]
  },
  {
   "cell_type": "code",
   "execution_count": 31,
   "id": "761e9251",
   "metadata": {},
   "outputs": [],
   "source": [
    "#you can't assign a sorted list to a new variable\n",
    "sortedlist = newlist.sort()"
   ]
  },
  {
   "cell_type": "code",
   "execution_count": 32,
   "id": "cb81e391",
   "metadata": {},
   "outputs": [
    {
     "data": {
      "text/plain": [
       "NoneType"
      ]
     },
     "execution_count": 32,
     "metadata": {},
     "output_type": "execute_result"
    }
   ],
   "source": [
    "type(sortedlist)"
   ]
  },
  {
   "cell_type": "code",
   "execution_count": 34,
   "id": "8abe553d",
   "metadata": {},
   "outputs": [
    {
     "name": "stdout",
     "output_type": "stream",
     "text": [
      "['a', 'b', 'c', 'd', 'e']\n"
     ]
    }
   ],
   "source": [
    "#instead\n",
    "newlist.sort()\n",
    "sortedList = newlist\n",
    "print(sortedList)"
   ]
  },
  {
   "cell_type": "markdown",
   "id": "57fccc8b",
   "metadata": {},
   "source": [
    "Ah, so this is what happened in line [19] above. When I called the .append command, python didn't return anything, so I wasn't able to \"print\" the result. Instead, I'd have to write two lines (append and then print). "
   ]
  },
  {
   "cell_type": "code",
   "execution_count": 35,
   "id": "5e50c672",
   "metadata": {},
   "outputs": [
    {
     "name": "stdout",
     "output_type": "stream",
     "text": [
      "[1, 3, 4, 5, 8, 9]\n"
     ]
    }
   ],
   "source": [
    "#e.g., \n",
    "numlist.sort()\n",
    "print(numlist)"
   ]
  },
  {
   "cell_type": "code",
   "execution_count": 36,
   "id": "15a8f828",
   "metadata": {},
   "outputs": [
    {
     "name": "stdout",
     "output_type": "stream",
     "text": [
      "[9, 8, 5, 4, 3, 1]\n"
     ]
    }
   ],
   "source": [
    "numlist.reverse()\n",
    "print(numlist)"
   ]
  },
  {
   "cell_type": "code",
   "execution_count": 38,
   "id": "ad9a889b",
   "metadata": {},
   "outputs": [
    {
     "data": {
      "text/plain": [
       "[1, 3, 4, 5, 8, 9]"
      ]
     },
     "execution_count": 38,
     "metadata": {},
     "output_type": "execute_result"
    }
   ],
   "source": [
    "#I think you can also do...\n",
    "numlist[::-1]"
   ]
  },
  {
   "cell_type": "markdown",
   "id": "2f154b51",
   "metadata": {},
   "source": [
    "Note that the numlist is back into increasing order because we reversed it in [36]"
   ]
  },
  {
   "cell_type": "markdown",
   "id": "ad1b9c21",
   "metadata": {},
   "source": [
    "Now we are moving onto DICTIONARIES"
   ]
  },
  {
   "cell_type": "markdown",
   "id": "360b453a",
   "metadata": {},
   "source": [
    "Dictionaries are UNORDERED mappings for storing objects. Lists store objects in an ordered sequence, but dictionaries use key-value pairing instead. This key-value pair allows users to quickly grab objects without needing to know the index location (dang that sounds useful)."
   ]
  },
  {
   "cell_type": "markdown",
   "id": "d620c8b4",
   "metadata": {},
   "source": [
    "Dictionaries use curly braces '{}' and colons to signify the keys and their associated values."
   ]
  },
  {
   "cell_type": "markdown",
   "id": "42f99a6e",
   "metadata": {},
   "source": [
    "When to use a list vs dictionary?\n",
    "LISTS can be sorted, indexed, and sliced. \n",
    "DICTIONARIES cannot be sorted"
   ]
  },
  {
   "cell_type": "code",
   "execution_count": 39,
   "id": "51126252",
   "metadata": {},
   "outputs": [],
   "source": [
    "mydict = {'var1':1,'var2':3}"
   ]
  },
  {
   "cell_type": "code",
   "execution_count": 40,
   "id": "8c21ceac",
   "metadata": {},
   "outputs": [
    {
     "data": {
      "text/plain": [
       "{'var1': 1, 'var2': 3}"
      ]
     },
     "execution_count": 40,
     "metadata": {},
     "output_type": "execute_result"
    }
   ],
   "source": [
    "mydict"
   ]
  },
  {
   "cell_type": "code",
   "execution_count": 43,
   "id": "4112be34",
   "metadata": {},
   "outputs": [
    {
     "data": {
      "text/plain": [
       "1"
      ]
     },
     "execution_count": 43,
     "metadata": {},
     "output_type": "execute_result"
    }
   ],
   "source": [
    "mydict['var1']"
   ]
  },
  {
   "cell_type": "code",
   "execution_count": 44,
   "id": "9e92f5a3",
   "metadata": {},
   "outputs": [],
   "source": [
    "priceLookup={'apple':2.99,'oranges':1.99,'chocolate':4.99}"
   ]
  },
  {
   "cell_type": "code",
   "execution_count": 45,
   "id": "e1b592f9",
   "metadata": {},
   "outputs": [
    {
     "data": {
      "text/plain": [
       "2.99"
      ]
     },
     "execution_count": 45,
     "metadata": {},
     "output_type": "execute_result"
    }
   ],
   "source": [
    "priceLookup['apple']"
   ]
  },
  {
   "cell_type": "code",
   "execution_count": 46,
   "id": "1789056a",
   "metadata": {},
   "outputs": [],
   "source": [
    "#Dictionaries can also hold lists or other dictionaries!\n",
    "d = {'k1':123,'k2':[1,2,3,4],'k3':{'inside':100}}"
   ]
  },
  {
   "cell_type": "code",
   "execution_count": 47,
   "id": "03da9597",
   "metadata": {},
   "outputs": [
    {
     "data": {
      "text/plain": [
       "[1, 2, 3, 4]"
      ]
     },
     "execution_count": 47,
     "metadata": {},
     "output_type": "execute_result"
    }
   ],
   "source": [
    "d['k2']"
   ]
  },
  {
   "cell_type": "code",
   "execution_count": 49,
   "id": "83ba05f0",
   "metadata": {},
   "outputs": [
    {
     "data": {
      "text/plain": [
       "100"
      ]
     },
     "execution_count": 49,
     "metadata": {},
     "output_type": "execute_result"
    }
   ],
   "source": [
    "d['k3']['inside']"
   ]
  },
  {
   "cell_type": "code",
   "execution_count": 50,
   "id": "bf76fecc",
   "metadata": {},
   "outputs": [
    {
     "data": {
      "text/plain": [
       "1"
      ]
     },
     "execution_count": 50,
     "metadata": {},
     "output_type": "execute_result"
    }
   ],
   "source": [
    "d['k2'][0]"
   ]
  },
  {
   "cell_type": "code",
   "execution_count": 51,
   "id": "3728ce97",
   "metadata": {},
   "outputs": [],
   "source": [
    "d = {'key1':['a','b','c']}"
   ]
  },
  {
   "cell_type": "code",
   "execution_count": 52,
   "id": "71804899",
   "metadata": {},
   "outputs": [
    {
     "data": {
      "text/plain": [
       "'b'"
      ]
     },
     "execution_count": 52,
     "metadata": {},
     "output_type": "execute_result"
    }
   ],
   "source": [
    "d['key1'][1]"
   ]
  },
  {
   "cell_type": "code",
   "execution_count": 53,
   "id": "88340bd0",
   "metadata": {},
   "outputs": [],
   "source": [
    "#or with variable assignment\n",
    "letter = d['key1'][2]"
   ]
  },
  {
   "cell_type": "code",
   "execution_count": 54,
   "id": "66774a0d",
   "metadata": {},
   "outputs": [
    {
     "name": "stdout",
     "output_type": "stream",
     "text": [
      "c\n"
     ]
    }
   ],
   "source": [
    "print(letter)"
   ]
  },
  {
   "cell_type": "code",
   "execution_count": 55,
   "id": "ad5354a0",
   "metadata": {},
   "outputs": [
    {
     "data": {
      "text/plain": [
       "'C'"
      ]
     },
     "execution_count": 55,
     "metadata": {},
     "output_type": "execute_result"
    }
   ],
   "source": [
    "letter.upper()"
   ]
  },
  {
   "cell_type": "code",
   "execution_count": 56,
   "id": "bf037768",
   "metadata": {},
   "outputs": [
    {
     "name": "stdout",
     "output_type": "stream",
     "text": [
      "C\n"
     ]
    }
   ],
   "source": [
    "#python is command-flexible so this can all be done in one line:\n",
    "print(d['key1'][2].upper())"
   ]
  },
  {
   "cell_type": "markdown",
   "id": "c615896d",
   "metadata": {},
   "source": [
    "Ok, I get it. A 'dictionary' is like a structure in MATLAB. A structure holds variable names with assigned values (LISTS), and each value has an ordered location inside it (an index). I wrote  a little script to load in a csv and display the data (check out the Python folder under Scripts). "
   ]
  },
  {
   "cell_type": "code",
   "execution_count": 57,
   "id": "976dca95",
   "metadata": {},
   "outputs": [],
   "source": [
    "d = {'k1':100,'k2':200,'k3':300}"
   ]
  },
  {
   "cell_type": "code",
   "execution_count": 59,
   "id": "799fae71",
   "metadata": {},
   "outputs": [
    {
     "data": {
      "text/plain": [
       "dict_keys(['k1', 'k2', 'k3'])"
      ]
     },
     "execution_count": 59,
     "metadata": {},
     "output_type": "execute_result"
    }
   ],
   "source": [
    "d.keys()"
   ]
  },
  {
   "cell_type": "code",
   "execution_count": 60,
   "id": "f7c3608f",
   "metadata": {},
   "outputs": [
    {
     "data": {
      "text/plain": [
       "dict_values([100, 200, 300])"
      ]
     },
     "execution_count": 60,
     "metadata": {},
     "output_type": "execute_result"
    }
   ],
   "source": [
    "d.values()"
   ]
  },
  {
   "cell_type": "code",
   "execution_count": 61,
   "id": "11b26764",
   "metadata": {},
   "outputs": [
    {
     "data": {
      "text/plain": [
       "dict_items([('k1', 100), ('k2', 200), ('k3', 300)])"
      ]
     },
     "execution_count": 61,
     "metadata": {},
     "output_type": "execute_result"
    }
   ],
   "source": [
    "d.items()"
   ]
  },
  {
   "cell_type": "markdown",
   "id": "282c5dd7",
   "metadata": {},
   "source": [
    "Now we're going to learn about TUPLES"
   ]
  },
  {
   "cell_type": "markdown",
   "id": "9337ef17",
   "metadata": {},
   "source": [
    "Tuples are similar to lists. However, their key difference is that they cannot be changed (they are immutable). Once an element is inside a tuple, they cannot be reassigned. Tuples are designated by curved brackets (). "
   ]
  },
  {
   "cell_type": "code",
   "execution_count": 62,
   "id": "0090454e",
   "metadata": {},
   "outputs": [],
   "source": [
    "t=(1,2,3,4)"
   ]
  },
  {
   "cell_type": "code",
   "execution_count": 63,
   "id": "e32fae94",
   "metadata": {},
   "outputs": [],
   "source": [
    "mylist = [1,2,3,4]"
   ]
  },
  {
   "cell_type": "code",
   "execution_count": 64,
   "id": "cab3aa31",
   "metadata": {},
   "outputs": [
    {
     "data": {
      "text/plain": [
       "tuple"
      ]
     },
     "execution_count": 64,
     "metadata": {},
     "output_type": "execute_result"
    }
   ],
   "source": [
    "type(t)"
   ]
  },
  {
   "cell_type": "code",
   "execution_count": 65,
   "id": "c93aaeef",
   "metadata": {},
   "outputs": [
    {
     "data": {
      "text/plain": [
       "list"
      ]
     },
     "execution_count": 65,
     "metadata": {},
     "output_type": "execute_result"
    }
   ],
   "source": [
    "type(mylist)"
   ]
  },
  {
   "cell_type": "code",
   "execution_count": 68,
   "id": "9c42fcfe",
   "metadata": {},
   "outputs": [
    {
     "data": {
      "text/plain": [
       "4"
      ]
     },
     "execution_count": 68,
     "metadata": {},
     "output_type": "execute_result"
    }
   ],
   "source": [
    "len(t)"
   ]
  },
  {
   "cell_type": "code",
   "execution_count": 69,
   "id": "8b642497",
   "metadata": {},
   "outputs": [
    {
     "data": {
      "text/plain": [
       "1"
      ]
     },
     "execution_count": 69,
     "metadata": {},
     "output_type": "execute_result"
    }
   ],
   "source": [
    "t[0]"
   ]
  },
  {
   "cell_type": "code",
   "execution_count": 70,
   "id": "85f32e79",
   "metadata": {},
   "outputs": [
    {
     "data": {
      "text/plain": [
       "4"
      ]
     },
     "execution_count": 70,
     "metadata": {},
     "output_type": "execute_result"
    }
   ],
   "source": [
    "t[-1]"
   ]
  },
  {
   "cell_type": "code",
   "execution_count": 71,
   "id": "3cd61c0f",
   "metadata": {},
   "outputs": [],
   "source": [
    "t=('a','a','b')"
   ]
  },
  {
   "cell_type": "code",
   "execution_count": 72,
   "id": "c8aa3977",
   "metadata": {},
   "outputs": [
    {
     "data": {
      "text/plain": [
       "2"
      ]
     },
     "execution_count": 72,
     "metadata": {},
     "output_type": "execute_result"
    }
   ],
   "source": [
    "t.count('a')"
   ]
  },
  {
   "cell_type": "code",
   "execution_count": 73,
   "id": "7cddef9c",
   "metadata": {},
   "outputs": [
    {
     "data": {
      "text/plain": [
       "2"
      ]
     },
     "execution_count": 73,
     "metadata": {},
     "output_type": "execute_result"
    }
   ],
   "source": [
    "t.index('b')"
   ]
  },
  {
   "cell_type": "markdown",
   "id": "ded52422",
   "metadata": {},
   "source": [
    "Note that the .index works like \"find\" in MATLAB. However, it only returns the first index."
   ]
  },
  {
   "cell_type": "code",
   "execution_count": 74,
   "id": "761fd88a",
   "metadata": {},
   "outputs": [
    {
     "data": {
      "text/plain": [
       "('a', 'a', 'b')"
      ]
     },
     "execution_count": 74,
     "metadata": {},
     "output_type": "execute_result"
    }
   ],
   "source": [
    "t"
   ]
  },
  {
   "cell_type": "code",
   "execution_count": 75,
   "id": "2cb05f80",
   "metadata": {},
   "outputs": [
    {
     "data": {
      "text/plain": [
       "[1, 2, 3, 4]"
      ]
     },
     "execution_count": 75,
     "metadata": {},
     "output_type": "execute_result"
    }
   ],
   "source": [
    "mylist"
   ]
  },
  {
   "cell_type": "code",
   "execution_count": 76,
   "id": "1172b82b",
   "metadata": {},
   "outputs": [],
   "source": [
    "mylist[0]='new'"
   ]
  },
  {
   "cell_type": "code",
   "execution_count": 77,
   "id": "ff169dce",
   "metadata": {},
   "outputs": [
    {
     "data": {
      "text/plain": [
       "['new', 2, 3, 4]"
      ]
     },
     "execution_count": 77,
     "metadata": {},
     "output_type": "execute_result"
    }
   ],
   "source": [
    "mylist"
   ]
  },
  {
   "cell_type": "code",
   "execution_count": 78,
   "id": "c9cd6426",
   "metadata": {},
   "outputs": [
    {
     "ename": "TypeError",
     "evalue": "'tuple' object does not support item assignment",
     "output_type": "error",
     "traceback": [
      "\u001b[0;31m---------------------------------------------------------------------------\u001b[0m",
      "\u001b[0;31mTypeError\u001b[0m                                 Traceback (most recent call last)",
      "\u001b[0;32m/tmp/ipykernel_590/756479830.py\u001b[0m in \u001b[0;36m<module>\u001b[0;34m\u001b[0m\n\u001b[0;32m----> 1\u001b[0;31m \u001b[0mt\u001b[0m\u001b[0;34m[\u001b[0m\u001b[0;36m0\u001b[0m\u001b[0;34m]\u001b[0m\u001b[0;34m=\u001b[0m\u001b[0;34m'new'\u001b[0m\u001b[0;34m\u001b[0m\u001b[0;34m\u001b[0m\u001b[0m\n\u001b[0m",
      "\u001b[0;31mTypeError\u001b[0m: 'tuple' object does not support item assignment"
     ]
    }
   ],
   "source": [
    "t[0]='new'"
   ]
  },
  {
   "cell_type": "markdown",
   "id": "f533f96f",
   "metadata": {},
   "source": [
    "So the main difference between tuples and lists is immutability. Tuples are useful data types if you don't want variables to get reassigned as your code runs. "
   ]
  },
  {
   "cell_type": "markdown",
   "id": "92d65570",
   "metadata": {},
   "source": [
    "Now we're moving on to SETS. Sets are unordered collections of UNIQUE elements."
   ]
  },
  {
   "cell_type": "code",
   "execution_count": 79,
   "id": "2467a383",
   "metadata": {},
   "outputs": [],
   "source": [
    "myset=set()"
   ]
  },
  {
   "cell_type": "code",
   "execution_count": 80,
   "id": "0ef3645d",
   "metadata": {},
   "outputs": [],
   "source": [
    "myset.add(1)"
   ]
  },
  {
   "cell_type": "code",
   "execution_count": 81,
   "id": "ae11891e",
   "metadata": {},
   "outputs": [
    {
     "data": {
      "text/plain": [
       "{1}"
      ]
     },
     "execution_count": 81,
     "metadata": {},
     "output_type": "execute_result"
    }
   ],
   "source": [
    "myset"
   ]
  },
  {
   "cell_type": "code",
   "execution_count": 82,
   "id": "19b49844",
   "metadata": {},
   "outputs": [
    {
     "data": {
      "text/plain": [
       "set"
      ]
     },
     "execution_count": 82,
     "metadata": {},
     "output_type": "execute_result"
    }
   ],
   "source": [
    "type(myset)"
   ]
  },
  {
   "cell_type": "code",
   "execution_count": 83,
   "id": "3f970223",
   "metadata": {},
   "outputs": [],
   "source": [
    "myset.add(2)"
   ]
  },
  {
   "cell_type": "code",
   "execution_count": 84,
   "id": "11600a4f",
   "metadata": {},
   "outputs": [
    {
     "data": {
      "text/plain": [
       "{1, 2}"
      ]
     },
     "execution_count": 84,
     "metadata": {},
     "output_type": "execute_result"
    }
   ],
   "source": [
    "myset"
   ]
  },
  {
   "cell_type": "code",
   "execution_count": 85,
   "id": "aad4d181",
   "metadata": {},
   "outputs": [],
   "source": [
    "myset.add(2)"
   ]
  },
  {
   "cell_type": "code",
   "execution_count": 86,
   "id": "e3a8284c",
   "metadata": {},
   "outputs": [
    {
     "data": {
      "text/plain": [
       "{1, 2}"
      ]
     },
     "execution_count": 86,
     "metadata": {},
     "output_type": "execute_result"
    }
   ],
   "source": [
    "myset"
   ]
  },
  {
   "cell_type": "code",
   "execution_count": 87,
   "id": "5bd322ed",
   "metadata": {},
   "outputs": [
    {
     "name": "stdout",
     "output_type": "stream",
     "text": [
      "{1, 2, 3, 4, 5, 6, 7, 8, 10}\n"
     ]
    }
   ],
   "source": [
    "#let's try something...\n",
    "data=[1,2,3,4,5,5,5,6,7,8,10,10]\n",
    "myset=set(data)\n",
    "print(myset)"
   ]
  },
  {
   "cell_type": "code",
   "execution_count": 88,
   "id": "6046b268",
   "metadata": {},
   "outputs": [
    {
     "ename": "NameError",
     "evalue": "name 'unique' is not defined",
     "output_type": "error",
     "traceback": [
      "\u001b[0;31m---------------------------------------------------------------------------\u001b[0m",
      "\u001b[0;31mNameError\u001b[0m                                 Traceback (most recent call last)",
      "\u001b[0;32m/tmp/ipykernel_590/4227412160.py\u001b[0m in \u001b[0;36m<module>\u001b[0;34m\u001b[0m\n\u001b[0;32m----> 1\u001b[0;31m \u001b[0munique\u001b[0m\u001b[0;34m(\u001b[0m\u001b[0mdata\u001b[0m\u001b[0;34m)\u001b[0m\u001b[0;34m\u001b[0m\u001b[0;34m\u001b[0m\u001b[0m\n\u001b[0m",
      "\u001b[0;31mNameError\u001b[0m: name 'unique' is not defined"
     ]
    }
   ],
   "source": [
    "unique(data)"
   ]
  },
  {
   "cell_type": "markdown",
   "id": "32bc565f",
   "metadata": {},
   "source": [
    "Ah ok, so \"unique\" isn't a command in python. Looks like the way to do \"unique\" in python is to make a list a set!"
   ]
  },
  {
   "cell_type": "code",
   "execution_count": 89,
   "id": "b5483c17",
   "metadata": {},
   "outputs": [
    {
     "ename": "TypeError",
     "evalue": "'set' object is not subscriptable",
     "output_type": "error",
     "traceback": [
      "\u001b[0;31m---------------------------------------------------------------------------\u001b[0m",
      "\u001b[0;31mTypeError\u001b[0m                                 Traceback (most recent call last)",
      "\u001b[0;32m/tmp/ipykernel_590/1341556305.py\u001b[0m in \u001b[0;36m<module>\u001b[0;34m\u001b[0m\n\u001b[0;32m----> 1\u001b[0;31m \u001b[0mmyset\u001b[0m\u001b[0;34m[\u001b[0m\u001b[0;36m1\u001b[0m\u001b[0;34m]\u001b[0m\u001b[0;34m\u001b[0m\u001b[0;34m\u001b[0m\u001b[0m\n\u001b[0m",
      "\u001b[0;31mTypeError\u001b[0m: 'set' object is not subscriptable"
     ]
    }
   ],
   "source": [
    "myset[1]"
   ]
  },
  {
   "cell_type": "markdown",
   "id": "8758a76d",
   "metadata": {},
   "source": [
    "Annoyingly, sets can't be indexed. Apparently they will be useful later in the course."
   ]
  },
  {
   "cell_type": "markdown",
   "id": "74c95fe3",
   "metadata": {},
   "source": [
    "Now we will discuss BOOLEANS"
   ]
  },
  {
   "cell_type": "code",
   "execution_count": 90,
   "id": "e6927d02",
   "metadata": {},
   "outputs": [
    {
     "data": {
      "text/plain": [
       "True"
      ]
     },
     "execution_count": 90,
     "metadata": {},
     "output_type": "execute_result"
    }
   ],
   "source": [
    "True"
   ]
  },
  {
   "cell_type": "code",
   "execution_count": 91,
   "id": "b5730fac",
   "metadata": {},
   "outputs": [
    {
     "ename": "NameError",
     "evalue": "name 'true' is not defined",
     "output_type": "error",
     "traceback": [
      "\u001b[0;31m---------------------------------------------------------------------------\u001b[0m",
      "\u001b[0;31mNameError\u001b[0m                                 Traceback (most recent call last)",
      "\u001b[0;32m/tmp/ipykernel_590/592217714.py\u001b[0m in \u001b[0;36m<module>\u001b[0;34m\u001b[0m\n\u001b[0;32m----> 1\u001b[0;31m \u001b[0mtrue\u001b[0m\u001b[0;34m\u001b[0m\u001b[0;34m\u001b[0m\u001b[0m\n\u001b[0m",
      "\u001b[0;31mNameError\u001b[0m: name 'true' is not defined"
     ]
    }
   ],
   "source": [
    "true"
   ]
  },
  {
   "cell_type": "code",
   "execution_count": 92,
   "id": "15a53ce3",
   "metadata": {},
   "outputs": [
    {
     "data": {
      "text/plain": [
       "bool"
      ]
     },
     "execution_count": 92,
     "metadata": {},
     "output_type": "execute_result"
    }
   ],
   "source": [
    "type(False)"
   ]
  },
  {
   "cell_type": "code",
   "execution_count": 93,
   "id": "3906b501",
   "metadata": {},
   "outputs": [
    {
     "data": {
      "text/plain": [
       "False"
      ]
     },
     "execution_count": 93,
     "metadata": {},
     "output_type": "execute_result"
    }
   ],
   "source": [
    "1 > 2"
   ]
  },
  {
   "cell_type": "code",
   "execution_count": 94,
   "id": "aff3f402",
   "metadata": {},
   "outputs": [],
   "source": [
    "b = None"
   ]
  },
  {
   "cell_type": "code",
   "execution_count": 95,
   "id": "74bbdce2",
   "metadata": {},
   "outputs": [],
   "source": [
    "b"
   ]
  },
  {
   "cell_type": "code",
   "execution_count": 96,
   "id": "001b431a",
   "metadata": {},
   "outputs": [
    {
     "data": {
      "text/plain": [
       "NoneType"
      ]
     },
     "execution_count": 96,
     "metadata": {},
     "output_type": "execute_result"
    }
   ],
   "source": [
    "type(b)"
   ]
  },
  {
   "cell_type": "markdown",
   "id": "a7778afa",
   "metadata": {},
   "source": [
    "Now we will discuss I/O with basic files in Python. "
   ]
  },
  {
   "cell_type": "code",
   "execution_count": 103,
   "id": "3cac463f",
   "metadata": {},
   "outputs": [
    {
     "name": "stdout",
     "output_type": "stream",
     "text": [
      "Writing myfile.txt\n"
     ]
    }
   ],
   "source": [
    "%%writefile myfile.txt\n",
    "this is a text file\n",
    "this is the second line\n",
    "this is the third line"
   ]
  },
  {
   "cell_type": "code",
   "execution_count": 104,
   "id": "f40ae98b",
   "metadata": {},
   "outputs": [],
   "source": [
    "myfile = open('myfile.txt')"
   ]
  },
  {
   "cell_type": "code",
   "execution_count": 107,
   "id": "a78fb042",
   "metadata": {},
   "outputs": [
    {
     "data": {
      "text/plain": [
       "'/mnt/c/Users/bknorris/Documents/Scripts/Python/Python_bootcamp/Course-Notes'"
      ]
     },
     "execution_count": 107,
     "metadata": {},
     "output_type": "execute_result"
    }
   ],
   "source": [
    "pwd"
   ]
  },
  {
   "cell_type": "code",
   "execution_count": 108,
   "id": "b605b3a4",
   "metadata": {},
   "outputs": [
    {
     "name": "stdout",
     "output_type": "stream",
     "text": [
      "\u001b[0m\u001b[01;32mSection3_PythonObject_and_DataStructrue_Basics.ipynb\u001b[0m*  \u001b[01;32mmyfile.txt\u001b[0m*\r\n",
      "\u001b[01;32mmy_first_notebook.ipynb\u001b[0m*\r\n"
     ]
    }
   ],
   "source": [
    "ls"
   ]
  },
  {
   "cell_type": "code",
   "execution_count": 110,
   "id": "e55d2023",
   "metadata": {},
   "outputs": [
    {
     "data": {
      "text/plain": [
       "'this is a text file\\nthis is the second line\\nthis is the third line\\n'"
      ]
     },
     "execution_count": 110,
     "metadata": {},
     "output_type": "execute_result"
    }
   ],
   "source": [
    "myfile.read()"
   ]
  },
  {
   "cell_type": "code",
   "execution_count": 111,
   "id": "cb4133cb",
   "metadata": {},
   "outputs": [
    {
     "data": {
      "text/plain": [
       "0"
      ]
     },
     "execution_count": 111,
     "metadata": {},
     "output_type": "execute_result"
    }
   ],
   "source": [
    "myfile.seek(0) #returns read to initial state"
   ]
  },
  {
   "cell_type": "code",
   "execution_count": 112,
   "id": "d6d9ff46",
   "metadata": {},
   "outputs": [
    {
     "data": {
      "text/plain": [
       "'this is a text file\\nthis is the second line\\nthis is the third line\\n'"
      ]
     },
     "execution_count": 112,
     "metadata": {},
     "output_type": "execute_result"
    }
   ],
   "source": [
    "myfile.read()"
   ]
  },
  {
   "cell_type": "code",
   "execution_count": 113,
   "id": "dc7d51a7",
   "metadata": {},
   "outputs": [
    {
     "data": {
      "text/plain": [
       "['this is a text file\\n',\n",
       " 'this is the second line\\n',\n",
       " 'this is the third line\\n']"
      ]
     },
     "execution_count": 113,
     "metadata": {},
     "output_type": "execute_result"
    }
   ],
   "source": [
    "myfile.seek(0)\n",
    "myfile.readlines()"
   ]
  },
  {
   "cell_type": "code",
   "execution_count": 114,
   "id": "6346ea41",
   "metadata": {},
   "outputs": [],
   "source": [
    "myfile.close()"
   ]
  },
  {
   "cell_type": "markdown",
   "id": "af176c6d",
   "metadata": {},
   "source": [
    "You need to close files after opening them"
   ]
  },
  {
   "cell_type": "code",
   "execution_count": 117,
   "id": "d8083819",
   "metadata": {},
   "outputs": [],
   "source": [
    "with open('myfile.txt') as mynewfile:\n",
    "    contents = mynewfile.read()"
   ]
  },
  {
   "cell_type": "code",
   "execution_count": 120,
   "id": "713c29f3",
   "metadata": {},
   "outputs": [
    {
     "data": {
      "text/plain": [
       "'this is a text file\\nthis is the second line\\nthis is the third line\\n'"
      ]
     },
     "execution_count": 120,
     "metadata": {},
     "output_type": "execute_result"
    }
   ],
   "source": [
    "#This series of commands eliminates the need for opening and closing the text file. \n",
    "#It simply writes the contents of myfile.txt into the variable \"contents\"\n",
    "contents"
   ]
  },
  {
   "cell_type": "markdown",
   "id": "699ac759",
   "metadata": {},
   "source": [
    "Now we'll talk about writing to files"
   ]
  },
  {
   "cell_type": "code",
   "execution_count": 122,
   "id": "5997c04e",
   "metadata": {},
   "outputs": [],
   "source": [
    "with open('myfile.txt',mode='r') as myfile:\n",
    "    contents = myfile.read()"
   ]
  },
  {
   "cell_type": "markdown",
   "id": "64200abe",
   "metadata": {},
   "source": [
    "mode \"r\" is reading file. \"w\" is writing files, and \"a\" is appending to files. \"r+\" is reading and writing, and \"w+\" is writing and reading"
   ]
  },
  {
   "cell_type": "code",
   "execution_count": 124,
   "id": "00da36a4",
   "metadata": {},
   "outputs": [
    {
     "name": "stdout",
     "output_type": "stream",
     "text": [
      "Writing mynewfile.txt\n"
     ]
    }
   ],
   "source": [
    "%%writefile mynewfile.txt\n",
    "ONE ON FIRST\n",
    "TWO ON SECOND\n",
    "THREE ON THIRD"
   ]
  },
  {
   "cell_type": "code",
   "execution_count": 125,
   "id": "7df527c8",
   "metadata": {},
   "outputs": [
    {
     "name": "stdout",
     "output_type": "stream",
     "text": [
      "ONE ON FIRST\n",
      "TWO ON SECOND\n",
      "THREE ON THIRD\n",
      "\n"
     ]
    }
   ],
   "source": [
    "with open('mynewfile.txt',mode='r') as f:\n",
    "    print(f.read())"
   ]
  },
  {
   "cell_type": "code",
   "execution_count": 129,
   "id": "9d48d938",
   "metadata": {},
   "outputs": [],
   "source": [
    "with open('mynewfile.txt',mode='a') as f:\n",
    "    f.write('\\nFOUR ON FOURTH')"
   ]
  },
  {
   "cell_type": "code",
   "execution_count": 130,
   "id": "7923d69b",
   "metadata": {},
   "outputs": [
    {
     "name": "stdout",
     "output_type": "stream",
     "text": [
      "ONE ON FIRST\n",
      "TWO ON SECOND\n",
      "THREE ON THIRD\n",
      "FOUR ON FOURTH\n",
      "FOUR ON FOURTH\n"
     ]
    }
   ],
   "source": [
    "with open('mynewfile.txt',mode='r') as f:\n",
    "    print(f.read())"
   ]
  },
  {
   "cell_type": "code",
   "execution_count": 131,
   "id": "a42a0c61",
   "metadata": {},
   "outputs": [],
   "source": [
    "with open('dfghdgf.txt',mode='w') as f:\n",
    "    f.write('I CREATED THIS FILE!')"
   ]
  },
  {
   "cell_type": "code",
   "execution_count": 132,
   "id": "b027a8eb",
   "metadata": {},
   "outputs": [
    {
     "name": "stdout",
     "output_type": "stream",
     "text": [
      "\u001b[0m\u001b[01;32mSection3_PythonObject_and_DataStructrue_Basics.ipynb\u001b[0m*  \u001b[01;32mmyfile.txt\u001b[0m*\r\n",
      "\u001b[01;32mdfghdgf.txt\u001b[0m*                                           \u001b[01;32mmynewfile.txt\u001b[0m*\r\n",
      "\u001b[01;32mmy_first_notebook.ipynb\u001b[0m*\r\n"
     ]
    }
   ],
   "source": [
    "ls"
   ]
  },
  {
   "cell_type": "code",
   "execution_count": 133,
   "id": "e993471d",
   "metadata": {},
   "outputs": [
    {
     "name": "stdout",
     "output_type": "stream",
     "text": [
      "I CREATED THIS FILE!\n"
     ]
    }
   ],
   "source": [
    "with open('dfghdgf.txt',mode='r') as f:\n",
    "    print(f.read())"
   ]
  },
  {
   "cell_type": "code",
   "execution_count": null,
   "id": "bb01752b",
   "metadata": {},
   "outputs": [],
   "source": []
  }
 ],
 "metadata": {
  "kernelspec": {
   "display_name": "Python 3 (ipykernel)",
   "language": "python",
   "name": "python3"
  },
  "language_info": {
   "codemirror_mode": {
    "name": "ipython",
    "version": 3
   },
   "file_extension": ".py",
   "mimetype": "text/x-python",
   "name": "python",
   "nbconvert_exporter": "python",
   "pygments_lexer": "ipython3",
   "version": "3.8.10"
  }
 },
 "nbformat": 4,
 "nbformat_minor": 5
}
