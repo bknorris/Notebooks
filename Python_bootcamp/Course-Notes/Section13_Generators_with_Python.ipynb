{
 "cells": [
  {
   "cell_type": "markdown",
   "id": "fa18506c",
   "metadata": {},
   "source": [
    "## Generators in Python\n",
    "\n",
    "* We've learned how to create functions with the <code>def</code> and the <code>return</code> statement.\n",
    "* Generator functions allow us to write a function that can send back a value and then later resume to pick up where it left off.\n",
    "* Generators allow us to generate a sequence of values in time, rather than generating the values first and holding them in memory. \n",
    "* Generators are denoted in Python using <code>yield</code> statements.\n",
    "* Generators will automatically suspend and resume their execution and state around the last point of value generation. \n",
    "* For example, the <code>range()</code> function is a generator. When called, it generates values between a low and high point at a given step size for each iteration of a loop. Users can assign a range by creating a list with it, e.g., <code>list(range(0,10))</code>"
   ]
  },
  {
   "cell_type": "code",
   "execution_count": 4,
   "id": "8e971300",
   "metadata": {},
   "outputs": [],
   "source": [
    "def create_cubes(n):\n",
    "    # Create a list of cubes (^3) from 0 to n\n",
    "    result = []\n",
    "    for x in range(n):\n",
    "        result.append(x**3)\n",
    "    return result"
   ]
  },
  {
   "cell_type": "code",
   "execution_count": 5,
   "id": "253c0728",
   "metadata": {},
   "outputs": [
    {
     "data": {
      "text/plain": [
       "[0, 1, 8, 27, 64, 125, 216, 343, 512, 729]"
      ]
     },
     "execution_count": 5,
     "metadata": {},
     "output_type": "execute_result"
    }
   ],
   "source": [
    "create_cubes(10)"
   ]
  },
  {
   "cell_type": "code",
   "execution_count": 6,
   "id": "d92d3dba",
   "metadata": {},
   "outputs": [
    {
     "name": "stdout",
     "output_type": "stream",
     "text": [
      "0\n",
      "1\n",
      "8\n",
      "27\n",
      "64\n",
      "125\n",
      "216\n",
      "343\n",
      "512\n",
      "729\n"
     ]
    }
   ],
   "source": [
    "# If we print the cubes in a for loop instead, we get one value per loop iteration, e.g.,\n",
    "\n",
    "for x in create_cubes(10):\n",
    "    print(x)"
   ]
  },
  {
   "cell_type": "markdown",
   "id": "53549f8c",
   "metadata": {},
   "source": [
    "This latter example is how a generator works. It is less efficient in terms of memory to create a list of values. Instead we can just create one value per iteration.\n",
    "\n"
   ]
  },
  {
   "cell_type": "code",
   "execution_count": 7,
   "id": "9537d214",
   "metadata": {},
   "outputs": [],
   "source": [
    "#Let's turn the example above into a generator\n",
    "\n",
    "def create_cubes(n):\n",
    "\n",
    "    for x in range(n):\n",
    "        yield x**3 # The yield keyword designates a generator. "
   ]
  },
  {
   "cell_type": "code",
   "execution_count": 8,
   "id": "701ec1a8",
   "metadata": {},
   "outputs": [
    {
     "name": "stdout",
     "output_type": "stream",
     "text": [
      "0\n",
      "1\n",
      "8\n",
      "27\n",
      "64\n",
      "125\n",
      "216\n",
      "343\n",
      "512\n",
      "729\n"
     ]
    }
   ],
   "source": [
    "for x in create_cubes(10):\n",
    "    print(x)"
   ]
  },
  {
   "cell_type": "markdown",
   "id": "cbd55747",
   "metadata": {},
   "source": [
    "This method could be useful for individual processing steps, where data is manipulated on a step-by-step basis and then is collected (in a list, dictionary, etc) at the end of the processing."
   ]
  },
  {
   "cell_type": "code",
   "execution_count": 9,
   "id": "1f972bc3",
   "metadata": {},
   "outputs": [],
   "source": [
    "# Here's a Fibonacci sequence generator\n",
    "def gen_fibon(n):\n",
    "    a = 1 \n",
    "    b = 1\n",
    "    \n",
    "    for i in range(n):\n",
    "        yield a\n",
    "        a,b = b,a+b #this tuple match allows us to easily reassign values of a and b into the generator function"
   ]
  },
  {
   "cell_type": "code",
   "execution_count": 10,
   "id": "9bdea066",
   "metadata": {},
   "outputs": [
    {
     "name": "stdout",
     "output_type": "stream",
     "text": [
      "1\n",
      "1\n",
      "2\n",
      "3\n",
      "5\n",
      "8\n",
      "13\n",
      "21\n",
      "34\n",
      "55\n"
     ]
    }
   ],
   "source": [
    "for x in gen_fibon(10):\n",
    "    print(x)"
   ]
  },
  {
   "cell_type": "markdown",
   "id": "4c761850",
   "metadata": {},
   "source": [
    "Now we will explore the <code>next</code> function and the <code>iter</code> function."
   ]
  },
  {
   "cell_type": "code",
   "execution_count": 11,
   "id": "4f3426c4",
   "metadata": {},
   "outputs": [],
   "source": [
    "def simple_generator():\n",
    "    for x in range(3):\n",
    "        yield x"
   ]
  },
  {
   "cell_type": "code",
   "execution_count": 12,
   "id": "714a7ec7",
   "metadata": {},
   "outputs": [
    {
     "name": "stdout",
     "output_type": "stream",
     "text": [
      "0\n",
      "1\n",
      "2\n"
     ]
    }
   ],
   "source": [
    "for n in simple_generator():\n",
    "    print(n)"
   ]
  },
  {
   "cell_type": "code",
   "execution_count": 13,
   "id": "d97bd4eb",
   "metadata": {},
   "outputs": [],
   "source": [
    "g = simple_generator()"
   ]
  },
  {
   "cell_type": "code",
   "execution_count": 14,
   "id": "3e5464d0",
   "metadata": {},
   "outputs": [
    {
     "data": {
      "text/plain": [
       "<generator object simple_generator at 0x7f5e7385c5f0>"
      ]
     },
     "execution_count": 14,
     "metadata": {},
     "output_type": "execute_result"
    }
   ],
   "source": [
    "g"
   ]
  },
  {
   "cell_type": "code",
   "execution_count": 15,
   "id": "3979f683",
   "metadata": {},
   "outputs": [
    {
     "name": "stdout",
     "output_type": "stream",
     "text": [
      "0\n"
     ]
    }
   ],
   "source": [
    "print(next(g))"
   ]
  },
  {
   "cell_type": "code",
   "execution_count": 16,
   "id": "0cd65f46",
   "metadata": {},
   "outputs": [
    {
     "name": "stdout",
     "output_type": "stream",
     "text": [
      "1\n"
     ]
    }
   ],
   "source": [
    "print(next(g))"
   ]
  },
  {
   "cell_type": "markdown",
   "id": "f7404b9d",
   "metadata": {},
   "source": [
    "Here, <code>next</code> looks at a generator and returns the \"next\" value if we assign the generator to a variable. A for loop automatically runs \"next\" and then catches the end of the sequence before it runs out of numbers. Now we'll look at the <code>iter</code> function."
   ]
  },
  {
   "cell_type": "code",
   "execution_count": 17,
   "id": "14e135bb",
   "metadata": {},
   "outputs": [],
   "source": [
    "string = 'hello'"
   ]
  },
  {
   "cell_type": "code",
   "execution_count": 18,
   "id": "b1e5bf78",
   "metadata": {},
   "outputs": [
    {
     "name": "stdout",
     "output_type": "stream",
     "text": [
      "h\n",
      "e\n",
      "l\n",
      "l\n",
      "o\n"
     ]
    }
   ],
   "source": [
    "# This is one way to iterate the string\n",
    "for letter in string:\n",
    "    print(letter)"
   ]
  },
  {
   "cell_type": "code",
   "execution_count": 19,
   "id": "a6d0205a",
   "metadata": {},
   "outputs": [
    {
     "data": {
      "text/plain": [
       "<str_iterator at 0x7f5e737790a0>"
      ]
     },
     "execution_count": 19,
     "metadata": {},
     "output_type": "execute_result"
    }
   ],
   "source": [
    "iter(string)"
   ]
  },
  {
   "cell_type": "code",
   "execution_count": 20,
   "id": "230b9cae",
   "metadata": {},
   "outputs": [],
   "source": [
    "s_iter = iter(string)"
   ]
  },
  {
   "cell_type": "code",
   "execution_count": 21,
   "id": "03eab0ba",
   "metadata": {},
   "outputs": [
    {
     "data": {
      "text/plain": [
       "'h'"
      ]
     },
     "execution_count": 21,
     "metadata": {},
     "output_type": "execute_result"
    }
   ],
   "source": [
    "next(s_iter)"
   ]
  },
  {
   "cell_type": "code",
   "execution_count": 22,
   "id": "94188b91",
   "metadata": {},
   "outputs": [
    {
     "data": {
      "text/plain": [
       "'e'"
      ]
     },
     "execution_count": 22,
     "metadata": {},
     "output_type": "execute_result"
    }
   ],
   "source": [
    "next(s_iter)"
   ]
  },
  {
   "cell_type": "code",
   "execution_count": 24,
   "id": "5f1db013",
   "metadata": {},
   "outputs": [
    {
     "data": {
      "text/plain": [
       "'l'"
      ]
     },
     "execution_count": 24,
     "metadata": {},
     "output_type": "execute_result"
    }
   ],
   "source": [
    "#etc\n",
    "next(s_iter)"
   ]
  },
  {
   "cell_type": "markdown",
   "id": "993abfac",
   "metadata": {},
   "source": [
    "Ok, so <code>next</code> and <code>iter</code> are generally ran in the background. However, the <code>yield</code> keyword is really the valuable takeaway from this lesson. Again, it is useful in creating just one instance of a function at a time, so the result of the function can get passed through a chain of processing commands."
   ]
  },
  {
   "cell_type": "code",
   "execution_count": null,
   "id": "ce23b1b9",
   "metadata": {},
   "outputs": [],
   "source": []
  }
 ],
 "metadata": {
  "kernelspec": {
   "display_name": "Python 3 (ipykernel)",
   "language": "python",
   "name": "python3"
  },
  "language_info": {
   "codemirror_mode": {
    "name": "ipython",
    "version": 3
   },
   "file_extension": ".py",
   "mimetype": "text/x-python",
   "name": "python",
   "nbconvert_exporter": "python",
   "pygments_lexer": "ipython3",
   "version": "3.8.10"
  }
 },
 "nbformat": 4,
 "nbformat_minor": 5
}
