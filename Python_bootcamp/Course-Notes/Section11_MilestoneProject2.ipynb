{
 "cells": [
  {
   "cell_type": "markdown",
   "id": "60dfb3a7",
   "metadata": {},
   "source": [
    "## Milestone Project 2"
   ]
  },
  {
   "cell_type": "markdown",
   "id": "5551dd0e",
   "metadata": {},
   "source": [
    "* The second milestone project deals with object oriented programming. \n",
    "* For the sake of time, I am going to simply follow along with the coding routine and then skip ahead to the next note sections. \n",
    "* This game simulates the card game \"War\". The coding routine creates several classes for the card, deck, and player, as well as the game's logic. "
   ]
  },
  {
   "cell_type": "markdown",
   "id": "0d4a44ca",
   "metadata": {},
   "source": [
    "### Card Class"
   ]
  },
  {
   "cell_type": "code",
   "execution_count": 1,
   "id": "ca330290",
   "metadata": {},
   "outputs": [],
   "source": [
    "# Card\n",
    "# Suit, rank, value (probably with a dictionary?)\n",
    "class Card:\n",
    "    \n",
    "    def __init__(self,suit,rank):\n",
    "        #both suit and rank need to be strings\n",
    "        self.suit = str(suit)\n",
    "        self.rank = str(rank)\n",
    "\n",
    "    def __str__(self):\n",
    "        return self.rank + \" of \" + self.suit #e.g., 4 of clubs"
   ]
  },
  {
   "cell_type": "code",
   "execution_count": 2,
   "id": "3855abf2",
   "metadata": {},
   "outputs": [],
   "source": [
    "two_hearts = Card(\"Hearts\",2)"
   ]
  },
  {
   "cell_type": "code",
   "execution_count": 3,
   "id": "c380146b",
   "metadata": {},
   "outputs": [
    {
     "name": "stdout",
     "output_type": "stream",
     "text": [
      "2 of Hearts\n"
     ]
    }
   ],
   "source": [
    "print(two_hearts)"
   ]
  },
  {
   "cell_type": "code",
   "execution_count": 4,
   "id": "67062333",
   "metadata": {},
   "outputs": [
    {
     "data": {
      "text/plain": [
       "'Hearts'"
      ]
     },
     "execution_count": 4,
     "metadata": {},
     "output_type": "execute_result"
    }
   ],
   "source": [
    "two_hearts.suit"
   ]
  },
  {
   "cell_type": "code",
   "execution_count": 5,
   "id": "09cc8e33",
   "metadata": {},
   "outputs": [
    {
     "data": {
      "text/plain": [
       "'2'"
      ]
     },
     "execution_count": 5,
     "metadata": {},
     "output_type": "execute_result"
    }
   ],
   "source": [
    "two_hearts.rank"
   ]
  },
  {
   "cell_type": "code",
   "execution_count": 6,
   "id": "3a6c34af",
   "metadata": {},
   "outputs": [],
   "source": [
    "#try with strings\n",
    "two_hearts = Card(\"Hearts\",\"Two\")"
   ]
  },
  {
   "cell_type": "code",
   "execution_count": 7,
   "id": "a5757418",
   "metadata": {},
   "outputs": [
    {
     "name": "stdout",
     "output_type": "stream",
     "text": [
      "Two of Hearts\n"
     ]
    }
   ],
   "source": [
    "print(two_hearts)"
   ]
  },
  {
   "cell_type": "code",
   "execution_count": 8,
   "id": "d1cfd1e3",
   "metadata": {},
   "outputs": [],
   "source": [
    "#Now create a dictionary of values for the different cards\n",
    "values = {'Two':2, 'Three':3, 'Four':4, 'Five':5, 'Six':6, 'Seven':7, 'Eight':8, 'Nine':9, 'Ten':10, 'Jack':10,\n",
    "         'Queen':10, 'King':10, 'Ace':11}"
   ]
  },
  {
   "cell_type": "code",
   "execution_count": 9,
   "id": "9779f9d4",
   "metadata": {},
   "outputs": [
    {
     "data": {
      "text/plain": [
       "2"
      ]
     },
     "execution_count": 9,
     "metadata": {},
     "output_type": "execute_result"
    }
   ],
   "source": [
    "values[two_hearts.rank]"
   ]
  },
  {
   "cell_type": "code",
   "execution_count": 10,
   "id": "c33c6b2e",
   "metadata": {},
   "outputs": [],
   "source": [
    "#redefine everything for readability\n",
    "values = {'Two':2, 'Three':3, 'Four':4, 'Five':5, 'Six':6, 'Seven':7, 'Eight':8, 'Nine':9, 'Ten':10, 'Jack':10,\n",
    "         'Queen':10, 'King':10, 'Ace':11}\n",
    "\n",
    "class Card:\n",
    "    \n",
    "    def __init__(self,suit,rank):\n",
    "        #make sure that rank matches the dictionary, i.e. input must be capitalized\n",
    "        rank = rank.capitalize()\n",
    "        \n",
    "        #both suit and rank need to be strings\n",
    "        self.suit = str(suit)\n",
    "        self.rank = str(rank)\n",
    "        self.value = values[rank]\n",
    "\n",
    "    def __str__(self):\n",
    "        return self.rank + \" of \" + self.suit #e.g., 4 of clubs"
   ]
  },
  {
   "cell_type": "code",
   "execution_count": 11,
   "id": "ede8ac9e",
   "metadata": {},
   "outputs": [],
   "source": [
    "two_hearts = Card(\"Hearts\",\"two\")"
   ]
  },
  {
   "cell_type": "code",
   "execution_count": 12,
   "id": "4539621f",
   "metadata": {},
   "outputs": [
    {
     "name": "stdout",
     "output_type": "stream",
     "text": [
      "Two of Hearts\n"
     ]
    }
   ],
   "source": [
    "print(two_hearts)"
   ]
  },
  {
   "cell_type": "code",
   "execution_count": 13,
   "id": "cd2428d5",
   "metadata": {},
   "outputs": [
    {
     "data": {
      "text/plain": [
       "2"
      ]
     },
     "execution_count": 13,
     "metadata": {},
     "output_type": "execute_result"
    }
   ],
   "source": [
    "two_hearts.value"
   ]
  },
  {
   "cell_type": "code",
   "execution_count": 14,
   "id": "b5f0ea1f",
   "metadata": {},
   "outputs": [],
   "source": [
    "three_clubs = Card(\"Clubs\",\"Three\")"
   ]
  },
  {
   "cell_type": "code",
   "execution_count": 15,
   "id": "2ad1a7fd",
   "metadata": {},
   "outputs": [
    {
     "data": {
      "text/plain": [
       "True"
      ]
     },
     "execution_count": 15,
     "metadata": {},
     "output_type": "execute_result"
    }
   ],
   "source": [
    "two_hearts.value < three_clubs.value"
   ]
  },
  {
   "cell_type": "markdown",
   "id": "90fbd6ff",
   "metadata": {},
   "source": [
    "Ok, but now we need data for suits and ranks as well. Let's copy these values from the solutions notebook and redefine everything once again. We will also need a random number generator to play the game."
   ]
  },
  {
   "cell_type": "code",
   "execution_count": 16,
   "id": "e98acaf7",
   "metadata": {},
   "outputs": [],
   "source": [
    "import random\n",
    "suits = ('Hearts', 'Diamonds', 'Spades', 'Clubs')\n",
    "ranks = ('Two', 'Three', 'Four', 'Five', 'Six', 'Seven', 'Eight', 'Nine', 'Ten', 'Jack', 'Queen', 'King', 'Ace')\n",
    "values = {'Two':2, 'Three':3, 'Four':4, 'Five':5, 'Six':6, 'Seven':7, 'Eight':8, 'Nine':9, 'Ten':10, 'Jack':10,\n",
    "         'Queen':10, 'King':10, 'Ace':11}\n",
    "\n",
    "class Card:\n",
    "    \n",
    "    def __init__(self,suit,rank):\n",
    "        #make sure that inputs matches the dictionaries, i.e. input must be capitalized\n",
    "        suit = suit.capitalize()\n",
    "        rank = rank.capitalize()\n",
    "        \n",
    "        #both suit and rank need to be strings\n",
    "        self.suit = str(suit)\n",
    "        self.rank = str(rank)\n",
    "        self.value = values[rank]\n",
    "\n",
    "    def __str__(self):\n",
    "        return self.rank + \" of \" + self.suit #e.g., 4 of clubs"
   ]
  },
  {
   "cell_type": "code",
   "execution_count": 17,
   "id": "f001dd0c",
   "metadata": {},
   "outputs": [],
   "source": [
    "# One more test\n",
    "three_of_clubs = Card(\"clubs\",\"three\")"
   ]
  },
  {
   "cell_type": "code",
   "execution_count": 18,
   "id": "36939124",
   "metadata": {},
   "outputs": [
    {
     "name": "stdout",
     "output_type": "stream",
     "text": [
      "Three of Clubs\n"
     ]
    }
   ],
   "source": [
    "print(three_of_clubs)"
   ]
  },
  {
   "cell_type": "markdown",
   "id": "f040a0ff",
   "metadata": {},
   "source": [
    "### Deck Class\n",
    "* Instantiates a new deck\n",
    "    * Create all 52 card objects\n",
    "    * Hold as a list of card objects\n",
    "* Shuffle a deck through a method call\n",
    "    * e.g., random library shuffle function\n",
    "* Deal cards from the deck object\n",
    "    * Pop method from cards list"
   ]
  },
  {
   "cell_type": "code",
   "execution_count": 19,
   "id": "98d21aea",
   "metadata": {},
   "outputs": [],
   "source": [
    "class Deck:\n",
    "    \n",
    "    def __init__(self):\n",
    "        #What does a deck consist of?\n",
    "        self.all_cards = []\n",
    "        \n",
    "        for suit in suits:\n",
    "            for rank in ranks:\n",
    "                # Create card objects\n",
    "                created_card = Card(suit,rank)                \n",
    "                self.all_cards.append(created_card)\n",
    "                "
   ]
  },
  {
   "cell_type": "code",
   "execution_count": 20,
   "id": "0c73405f",
   "metadata": {},
   "outputs": [],
   "source": [
    "new_deck = Deck()"
   ]
  },
  {
   "cell_type": "code",
   "execution_count": 21,
   "id": "b16f94e6",
   "metadata": {},
   "outputs": [],
   "source": [
    "first_card = new_deck.all_cards[0]"
   ]
  },
  {
   "cell_type": "code",
   "execution_count": 22,
   "id": "71e43e2b",
   "metadata": {},
   "outputs": [
    {
     "name": "stdout",
     "output_type": "stream",
     "text": [
      "Two\n"
     ]
    }
   ],
   "source": [
    "print(first_card.rank)"
   ]
  },
  {
   "cell_type": "code",
   "execution_count": 23,
   "id": "7fc4c6ae",
   "metadata": {},
   "outputs": [],
   "source": [
    "bottom_card = new_deck.all_cards[-1]"
   ]
  },
  {
   "cell_type": "code",
   "execution_count": 24,
   "id": "fda7d773",
   "metadata": {},
   "outputs": [
    {
     "name": "stdout",
     "output_type": "stream",
     "text": [
      "Ace\n",
      "Clubs\n"
     ]
    }
   ],
   "source": [
    "print(bottom_card.rank)\n",
    "print(bottom_card.suit)"
   ]
  },
  {
   "cell_type": "code",
   "execution_count": 25,
   "id": "49f82199",
   "metadata": {},
   "outputs": [
    {
     "name": "stdout",
     "output_type": "stream",
     "text": [
      "Two of Hearts\n",
      "Three of Hearts\n",
      "Four of Hearts\n",
      "Five of Hearts\n",
      "Six of Hearts\n",
      "Seven of Hearts\n",
      "Eight of Hearts\n",
      "Nine of Hearts\n",
      "Ten of Hearts\n",
      "Jack of Hearts\n",
      "Queen of Hearts\n",
      "King of Hearts\n",
      "Ace of Hearts\n",
      "Two of Diamonds\n",
      "Three of Diamonds\n",
      "Four of Diamonds\n",
      "Five of Diamonds\n",
      "Six of Diamonds\n",
      "Seven of Diamonds\n",
      "Eight of Diamonds\n",
      "Nine of Diamonds\n",
      "Ten of Diamonds\n",
      "Jack of Diamonds\n",
      "Queen of Diamonds\n",
      "King of Diamonds\n",
      "Ace of Diamonds\n",
      "Two of Spades\n",
      "Three of Spades\n",
      "Four of Spades\n",
      "Five of Spades\n",
      "Six of Spades\n",
      "Seven of Spades\n",
      "Eight of Spades\n",
      "Nine of Spades\n",
      "Ten of Spades\n",
      "Jack of Spades\n",
      "Queen of Spades\n",
      "King of Spades\n",
      "Ace of Spades\n",
      "Two of Clubs\n",
      "Three of Clubs\n",
      "Four of Clubs\n",
      "Five of Clubs\n",
      "Six of Clubs\n",
      "Seven of Clubs\n",
      "Eight of Clubs\n",
      "Nine of Clubs\n",
      "Ten of Clubs\n",
      "Jack of Clubs\n",
      "Queen of Clubs\n",
      "King of Clubs\n",
      "Ace of Clubs\n"
     ]
    }
   ],
   "source": [
    "for card_obj in new_deck.all_cards:\n",
    "    print(card_obj)"
   ]
  },
  {
   "cell_type": "code",
   "execution_count": 26,
   "id": "d0bf471a",
   "metadata": {},
   "outputs": [],
   "source": [
    "#redefining to add more methods to the Deck class\n",
    "class Deck:\n",
    "    \n",
    "    def __init__(self):\n",
    "        #What does a deck consist of?\n",
    "        self.all_cards = []\n",
    "        \n",
    "        for suit in suits:\n",
    "            for rank in ranks:\n",
    "                # Create card objects\n",
    "                created_card = Card(suit,rank)                \n",
    "                self.all_cards.append(created_card)\n",
    "                \n",
    "    def shuffle(self):\n",
    "        \n",
    "        random.shuffle(self.all_cards)"
   ]
  },
  {
   "cell_type": "code",
   "execution_count": 27,
   "id": "170f1c84",
   "metadata": {},
   "outputs": [],
   "source": [
    "#Create new deck\n",
    "new_deck = Deck()\n",
    "bottom_card = new_deck.all_cards[-1]"
   ]
  },
  {
   "cell_type": "code",
   "execution_count": 28,
   "id": "bcd44cfa",
   "metadata": {},
   "outputs": [
    {
     "name": "stdout",
     "output_type": "stream",
     "text": [
      "Ace of Clubs\n"
     ]
    }
   ],
   "source": [
    "print(bottom_card)"
   ]
  },
  {
   "cell_type": "code",
   "execution_count": 29,
   "id": "17f71f45",
   "metadata": {},
   "outputs": [],
   "source": [
    "#Now shuffle the deck\n",
    "new_deck.shuffle()\n",
    "bottom_card = new_deck.all_cards[-1]"
   ]
  },
  {
   "cell_type": "code",
   "execution_count": 30,
   "id": "c73b8e5c",
   "metadata": {},
   "outputs": [
    {
     "name": "stdout",
     "output_type": "stream",
     "text": [
      "Four of Hearts\n"
     ]
    }
   ],
   "source": [
    "print(bottom_card)"
   ]
  },
  {
   "cell_type": "code",
   "execution_count": 31,
   "id": "e315196e",
   "metadata": {},
   "outputs": [],
   "source": [
    "#redefine Deck to add another method to deal one card\n",
    "#redefining to add more methods to the Deck class\n",
    "class Deck:\n",
    "    \n",
    "    def __init__(self):\n",
    "        #What does a deck consist of?\n",
    "        self.all_cards = []\n",
    "        \n",
    "        for suit in suits:\n",
    "            for rank in ranks:\n",
    "                # Create card objects\n",
    "                created_card = Card(suit,rank)                \n",
    "                self.all_cards.append(created_card)\n",
    "                \n",
    "    def shuffle(self):\n",
    "        \n",
    "        random.shuffle(self.all_cards)\n",
    "        \n",
    "    def deal_one(self):\n",
    "        return self.all_cards.pop() #use pop to remove one card object "
   ]
  },
  {
   "cell_type": "code",
   "execution_count": 32,
   "id": "eb86dd57",
   "metadata": {},
   "outputs": [],
   "source": [
    "new_deck = Deck()\n",
    "new_card = new_deck.deal_one()"
   ]
  },
  {
   "cell_type": "code",
   "execution_count": 33,
   "id": "42b9bf29",
   "metadata": {},
   "outputs": [
    {
     "name": "stdout",
     "output_type": "stream",
     "text": [
      "Ace of Clubs\n"
     ]
    }
   ],
   "source": [
    "print(new_card)"
   ]
  },
  {
   "cell_type": "markdown",
   "id": "839c7456",
   "metadata": {},
   "source": [
    "Note that because I didn't shuffle the deck in [60], the <code>pop</code> method removes the <b>last</b> item from a list, so I got the Ace of Clubs. AH! The next video explains this behavior. <code>pop</code> can be used to specify which card using an index, like <code>pop(0)</code> for the first card. I guess <code>pop()</code> defaults to <code>pop(-1)</code> (i.e., the last index)?"
   ]
  },
  {
   "cell_type": "code",
   "execution_count": 34,
   "id": "8a2c1630",
   "metadata": {},
   "outputs": [
    {
     "data": {
      "text/plain": [
       "51"
      ]
     },
     "execution_count": 34,
     "metadata": {},
     "output_type": "execute_result"
    }
   ],
   "source": [
    "#note by dealing one card, we have reduced the length of \"all_cards\" by 1 (from 52 to 51)\n",
    "len(new_deck.all_cards)"
   ]
  },
  {
   "cell_type": "markdown",
   "id": "bca4aa94",
   "metadata": {},
   "source": [
    "### Player Class\n",
    "* Holds a player's current list of cards, \n",
    "* A player should be able to add or remove cards from their \"hand\" (list of card objects)\n",
    "* We want the player to be able to add either a single card or multiple cards to their list, and we will explore how to do this in one method call.\n",
    "* The last thing we'll want to consider is how to translate a deck/hand of cards with a top-to-bottom order, to a Python list. "
   ]
  },
  {
   "cell_type": "markdown",
   "id": "2cf46819",
   "metadata": {},
   "source": [
    "Like I mentioned in the Deck Class section, <code>pop(index)</code> can be used to remove cards at <code>index</code> from a list. To add multiple cards to a hand, we use the <code>extend(list)</code> to add the <code>list</code>. If we tried to use <code>append(list)</code> to add cards to the hand, we would get nested lists, and this would screw up the processing code later on!"
   ]
  },
  {
   "cell_type": "code",
   "execution_count": 35,
   "id": "13d9d0da",
   "metadata": {},
   "outputs": [],
   "source": [
    "class Player:\n",
    "    \n",
    "    def __init__(self,name):\n",
    "        \n",
    "        self.name = name\n",
    "        self.all_cards = [] #this is the player's hand\n",
    "        \n",
    "    def remove_one(self): #remove one card\n",
    "        return self.all_cards.pop(0) #remove top card!\n",
    "    \n",
    "    def add_cards(self,new_cards): #add cards to player's hand. Use extend if we have a list to add, otherwise append.\n",
    "        if type(new_cards) == type([]): #here, ([]) is an empty list\n",
    "            self.all_cards.extend(new_cards)\n",
    "        else:\n",
    "            self.all_cards.append(new_cards)\n",
    "        \n",
    "    def __str__(self):\n",
    "        \n",
    "        return f'Player {self.name} has {len(self.all_cards)} cards.'"
   ]
  },
  {
   "cell_type": "code",
   "execution_count": 36,
   "id": "e64516cd",
   "metadata": {},
   "outputs": [],
   "source": [
    "new_player = Player(\"Jose\")"
   ]
  },
  {
   "cell_type": "code",
   "execution_count": 37,
   "id": "cad9be77",
   "metadata": {},
   "outputs": [
    {
     "name": "stdout",
     "output_type": "stream",
     "text": [
      "Player Jose has 0 cards.\n"
     ]
    }
   ],
   "source": [
    "print(new_player)"
   ]
  },
  {
   "cell_type": "code",
   "execution_count": 38,
   "id": "cdc07722",
   "metadata": {},
   "outputs": [],
   "source": [
    "new_player.add_cards(new_card)"
   ]
  },
  {
   "cell_type": "code",
   "execution_count": 39,
   "id": "389ab898",
   "metadata": {},
   "outputs": [
    {
     "name": "stdout",
     "output_type": "stream",
     "text": [
      "Ace of Clubs\n"
     ]
    }
   ],
   "source": [
    "print(new_player.all_cards[0])"
   ]
  },
  {
   "cell_type": "code",
   "execution_count": 40,
   "id": "880f2730",
   "metadata": {},
   "outputs": [],
   "source": [
    "#just testing to make sure it works...\n",
    "new_player.add_cards([new_card,new_card,new_card])"
   ]
  },
  {
   "cell_type": "code",
   "execution_count": 41,
   "id": "e36a580e",
   "metadata": {},
   "outputs": [
    {
     "name": "stdout",
     "output_type": "stream",
     "text": [
      "Player Jose has 4 cards.\n"
     ]
    }
   ],
   "source": [
    "print(new_player)"
   ]
  },
  {
   "cell_type": "markdown",
   "id": "db8d7fc7",
   "metadata": {},
   "source": [
    "### Game Logic"
   ]
  },
  {
   "cell_type": "markdown",
   "id": "af0ff2cc",
   "metadata": {},
   "source": [
    "* Creating logic is the hardest part of coding with OOP.\n",
    "* In the real world, we would develop the logic AND the classes at the same time. "
   ]
  },
  {
   "cell_type": "code",
   "execution_count": 42,
   "id": "a4ec5ac0",
   "metadata": {},
   "outputs": [],
   "source": [
    "# Game setup\n",
    "player_one = Player(\"One\")\n",
    "player_two = Player(\"Two\")\n",
    "\n",
    "new_deck = Deck()\n",
    "new_deck.shuffle()\n",
    "\n",
    "# Split the deck\n",
    "for x in range(26):\n",
    "    player_one.add_cards(new_deck.deal_one())\n",
    "    player_two.add_cards(new_deck.deal_one())\n",
    "    \n",
    "# while game_on\n",
    "\n",
    "    #while at_war"
   ]
  },
  {
   "cell_type": "code",
   "execution_count": 43,
   "id": "8dbaf9d7",
   "metadata": {},
   "outputs": [
    {
     "data": {
      "text/plain": [
       "26"
      ]
     },
     "execution_count": 43,
     "metadata": {},
     "output_type": "execute_result"
    }
   ],
   "source": [
    "#check to make sure player_one has half the deck\n",
    "len(player_one.all_cards)"
   ]
  },
  {
   "cell_type": "code",
   "execution_count": 47,
   "id": "b3665277",
   "metadata": {},
   "outputs": [
    {
     "name": "stdout",
     "output_type": "stream",
     "text": [
      "Round 1\n",
      "Round 2\n",
      "Round 3\n",
      "Round 4\n",
      "Round 5\n",
      "Round 6\n",
      "Round 7\n",
      "Round 8\n",
      "Round 9\n",
      "Round 10\n",
      "War were declared!\n",
      "Round 11\n",
      "Round 12\n",
      "Round 13\n",
      "Round 14\n",
      "Round 15\n",
      "Round 16\n",
      "Round 17\n",
      "Round 18\n",
      "Round 19\n",
      "Round 20\n",
      "War were declared!\n",
      "Round 21\n",
      "Round 22\n",
      "War were declared!\n",
      "Round 23\n",
      "Round 24\n",
      "Round 25\n",
      "Round 26\n",
      "Round 27\n",
      "War were declared!\n",
      "Round 28\n",
      "Round 29\n",
      "Round 30\n",
      "Round 31\n",
      "Round 32\n",
      "Round 33\n",
      "Round 34\n",
      "Round 35\n",
      "Round 36\n",
      "Round 37\n",
      "Round 38\n",
      "Round 39\n",
      "Round 40\n",
      "Round 41\n",
      "Round 42\n",
      "War were declared!\n",
      "War were declared!\n",
      "Round 43\n",
      "Round 44\n",
      "War were declared!\n",
      "Round 45\n",
      "Round 46\n",
      "Round 47\n",
      "Round 48\n",
      "Round 49\n",
      "Round 50\n",
      "Round 51\n",
      "Round 52\n",
      "Round 53\n",
      "Round 54\n",
      "Round 55\n",
      "Round 56\n",
      "Round 57\n",
      "Round 58\n",
      "War were declared!\n",
      "Round 59\n",
      "Round 60\n",
      "Round 61\n",
      "Round 62\n",
      "Round 63\n",
      "Round 64\n",
      "Round 65\n",
      "Round 66\n",
      "Round 67\n",
      "Round 68\n",
      "Round 69\n",
      "Round 70\n",
      "Round 71\n",
      "Round 72\n",
      "Round 73\n",
      "Round 74\n",
      "Round 75\n",
      "Round 76\n",
      "Round 77\n",
      "Round 78\n",
      "Round 79\n",
      "Round 80\n",
      "Round 81\n",
      "War were declared!\n",
      "War were declared!\n",
      "Round 82\n",
      "Round 83\n",
      "Round 84\n",
      "Round 85\n",
      "Round 86\n",
      "Round 87\n",
      "Round 88\n",
      "Round 89\n",
      "Round 90\n",
      "Round 91\n",
      "Round 92\n",
      "Round 93\n",
      "Round 94\n",
      "War were declared!\n",
      "Round 95\n",
      "Round 96\n",
      "Round 97\n",
      "Round 98\n",
      "Round 99\n",
      "Round 100\n",
      "War were declared!\n",
      "Round 101\n",
      "Round 102\n",
      "Round 103\n",
      "Round 104\n",
      "Round 105\n",
      "Round 106\n",
      "Round 107\n",
      "Round 108\n",
      "Round 109\n",
      "Round 110\n",
      "Round 111\n",
      "Round 112\n",
      "Round 113\n",
      "Round 114\n",
      "Round 115\n",
      "Round 116\n",
      "Round 117\n",
      "Round 118\n",
      "Round 119\n",
      "Round 120\n",
      "Round 121\n",
      "Round 122\n",
      "Round 123\n",
      "Round 124\n",
      "Round 125\n",
      "Round 126\n",
      "Round 127\n",
      "Round 128\n",
      "Round 129\n",
      "War were declared!\n",
      "Round 130\n",
      "Round 131\n",
      "Round 132\n",
      "Round 133\n",
      "Round 134\n",
      "Round 135\n",
      "Round 136\n",
      "Round 137\n",
      "Round 138\n",
      "Round 139\n",
      "Round 140\n",
      "Round 141\n",
      "Round 142\n",
      "Round 143\n",
      "Round 144\n",
      "Round 145\n",
      "Round 146\n",
      "Round 147\n",
      "Round 148\n",
      "Round 149\n",
      "Round 150\n",
      "Round 151\n",
      "Round 152\n",
      "Round 153\n",
      "Round 154\n",
      "Round 155\n",
      "Round 156\n",
      "Round 157\n",
      "Round 158\n",
      "Round 159\n",
      "Round 160\n",
      "Round 161\n",
      "Round 162\n",
      "Round 163\n",
      "Round 164\n",
      "Round 165\n",
      "War were declared!\n",
      "Round 166\n",
      "Round 167\n",
      "Player two loses!\n",
      "Player one wins!\n"
     ]
    }
   ],
   "source": [
    "# Game setup\n",
    "player_one = Player(\"One\")\n",
    "player_two = Player(\"Two\")\n",
    "\n",
    "new_deck = Deck()\n",
    "new_deck.shuffle()\n",
    "\n",
    "# Split the deck\n",
    "for x in range(26):\n",
    "    player_one.add_cards(new_deck.deal_one())\n",
    "    player_two.add_cards(new_deck.deal_one())\n",
    "\n",
    "# Start the game\n",
    "game_on = True\n",
    "round_num = 0\n",
    "\n",
    "while game_on:\n",
    "    round_num += 1\n",
    "    print(f\"Round {round_num}\")\n",
    "    \n",
    "    #check to see if a player is out of cards\n",
    "    if len(player_one.all_cards) == 0:\n",
    "        print('Player one loses!')\n",
    "        print('Player two wins!')\n",
    "        game_on = False\n",
    "        break\n",
    "        \n",
    "    if len(player_two.all_cards) == 0:\n",
    "        print('Player two loses!')\n",
    "        print('Player one wins!')\n",
    "        game_on = False\n",
    "        break\n",
    "\n",
    "\n",
    "    # Start a new round\n",
    "    player_one_cards = [] #cards player_one leaves on the table\n",
    "    player_one_cards.append(player_one.remove_one()) #player_one leaves a single card on the table\n",
    "    \n",
    "    player_two_cards = []\n",
    "    player_two_cards.append(player_two.remove_one())\n",
    "    \n",
    "    # Check to see if war were declared\n",
    "    at_war = True\n",
    "    while at_war:\n",
    "        if player_one_cards[-1].value > player_two_cards[-1].value: #player_one wins\n",
    "            player_one.add_cards(player_one_cards)\n",
    "            player_one.add_cards(player_two_cards)\n",
    "            at_war = False\n",
    "            \n",
    "        elif player_one_cards[-1].value < player_two_cards[-1].value: #player_two wins\n",
    "            player_two.add_cards(player_one_cards)\n",
    "            player_two.add_cards(player_two_cards)\n",
    "            at_war = False\n",
    "            \n",
    "        else: #war were declared\n",
    "            print(\"War were declared!\")\n",
    "            \n",
    "            # Note the < 3 and 'num in range(3)'. This sets the number of cards a player must draw when war were delcared.\n",
    "            if len(player_one.all_cards) < 3:\n",
    "                print(\"Player One unable to play WAR\")\n",
    "                print(\"Player Two wins!\")\n",
    "                game_on = False\n",
    "                break\n",
    "                \n",
    "            elif len(player_two.all_cards) < 3:\n",
    "                print(\"Player Two unable to play WAR\")\n",
    "                print(\"Player One wins!\")\n",
    "                game_on = False\n",
    "                break\n",
    "                \n",
    "            else:\n",
    "                for num in range(3): \n",
    "                    player_one_cards.append(player_one.remove_one())\n",
    "                    player_two_cards.append(player_two.remove_one())\n",
    "    "
   ]
  },
  {
   "cell_type": "code",
   "execution_count": null,
   "id": "ffc6eda9",
   "metadata": {},
   "outputs": [],
   "source": []
  }
 ],
 "metadata": {
  "kernelspec": {
   "display_name": "Python 3 (ipykernel)",
   "language": "python",
   "name": "python3"
  },
  "language_info": {
   "codemirror_mode": {
    "name": "ipython",
    "version": 3
   },
   "file_extension": ".py",
   "mimetype": "text/x-python",
   "name": "python",
   "nbconvert_exporter": "python",
   "pygments_lexer": "ipython3",
   "version": "3.8.10"
  }
 },
 "nbformat": 4,
 "nbformat_minor": 5
}
