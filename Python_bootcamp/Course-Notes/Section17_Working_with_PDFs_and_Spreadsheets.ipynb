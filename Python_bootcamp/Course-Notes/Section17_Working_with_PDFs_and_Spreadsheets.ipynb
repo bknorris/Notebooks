{
 "cells": [
  {
   "cell_type": "markdown",
   "id": "f444b979",
   "metadata": {},
   "source": [
    "# Working with PDFs and Spreadsheets in Python\n",
    "\n",
    "* Python can handle PDFs and Spreadsheet files using specific libraries"
   ]
  },
  {
   "cell_type": "markdown",
   "id": "88284848",
   "metadata": {},
   "source": [
    "## Working with CSV files\n",
    "\n",
    "* Here we will use the built-in CSV module in Python. There are many other libraries that have been designed to work with other file types, so check out the Python package repo for other options.\n",
    "* Check out:\n",
    "    * pandas: a full data analysis library\n",
    "        * Runs visualizations and data analyses\n",
    "    * openpyxl: a full library to handle Excel files (incl. formulas). Check out python-excel.org for details on other Excel-based Python libraries.\n",
    "    * Google Sheets Python API"
   ]
  },
  {
   "cell_type": "code",
   "execution_count": 1,
   "id": "ce775e3a",
   "metadata": {},
   "outputs": [],
   "source": [
    "path = '/mnt/c/Users/bknorris/Documents/Scripts/Python/Python_bootcamp/Complete-Python-3-Bootcamp/15-PDFs-and-Spreadsheets/'"
   ]
  },
  {
   "cell_type": "code",
   "execution_count": 2,
   "id": "49518dd5",
   "metadata": {},
   "outputs": [],
   "source": [
    "# Read in a CSV file:\n",
    "\n",
    "# Steps: \n",
    "# 1. Open the file: csv.reader(path + filename)\n",
    "# 2. Convert the CSV into a Python object, typically a list of lists\n",
    "\n",
    "import csv\n",
    "data = open(path + 'example.csv','r', encoding='utf-8') # note the encoding call here tells Python which codec to use"
   ]
  },
  {
   "cell_type": "code",
   "execution_count": 3,
   "id": "c5209107",
   "metadata": {},
   "outputs": [],
   "source": [
    "csv_data = csv.reader(data)\n",
    "data_lines = list(csv_data)"
   ]
  },
  {
   "cell_type": "code",
   "execution_count": 4,
   "id": "61e3ff34",
   "metadata": {},
   "outputs": [
    {
     "data": {
      "text/plain": [
       "<_csv.reader at 0x7fdf2c2eff90>"
      ]
     },
     "execution_count": 4,
     "metadata": {},
     "output_type": "execute_result"
    }
   ],
   "source": [
    "csv_data"
   ]
  },
  {
   "cell_type": "code",
   "execution_count": 5,
   "id": "401be228",
   "metadata": {},
   "outputs": [
    {
     "data": {
      "text/plain": [
       "[]"
      ]
     },
     "execution_count": 5,
     "metadata": {},
     "output_type": "execute_result"
    }
   ],
   "source": [
    "list(csv_data)"
   ]
  },
  {
   "cell_type": "code",
   "execution_count": 6,
   "id": "b2451efd",
   "metadata": {},
   "outputs": [
    {
     "data": {
      "text/plain": [
       "'/mnt/c/Users/bknorris/Documents/Scripts/Python/Python_bootcamp/Complete-Python-3-Bootcamp/15-PDFs-and-Spreadsheets/example.csv'"
      ]
     },
     "execution_count": 6,
     "metadata": {},
     "output_type": "execute_result"
    }
   ],
   "source": [
    "path + 'example.csv'"
   ]
  },
  {
   "cell_type": "code",
   "execution_count": 8,
   "id": "52db09ef",
   "metadata": {},
   "outputs": [
    {
     "data": {
      "text/plain": [
       "1001"
      ]
     },
     "execution_count": 8,
     "metadata": {},
     "output_type": "execute_result"
    }
   ],
   "source": [
    "csv_data.line_num"
   ]
  },
  {
   "cell_type": "markdown",
   "id": "f3840cde",
   "metadata": {},
   "source": [
    "Not sure why this isn't working in Jupyter... it works in Spyder!"
   ]
  },
  {
   "cell_type": "markdown",
   "id": "d09c96aa",
   "metadata": {},
   "source": [
    "# Working with PDF Files\n",
    "\n",
    "Often you will have to deal with PDF files. There are [many libraries in Python for working with PDFs](https://www.binpress.com/tutorial/manipulating-pdfs-with-python/167), each with their pros and cons, the most common one being **PyPDF2**. You can install it with (note the case-sensitivity, you need to make sure your capitilization matches):\n",
    "\n",
    "    pip install PyPDF2\n",
    "    \n",
    "Keep in mind that not every PDF file can be read with this library. PDFs that are too blurry, have a special encoding, encrypted, or maybe just created with a particular program that doesn't work well with PyPDF2 won't be able to be read. If you find yourself in this situation, try using the libraries linked above, but keep in mind, these may also not work. The reason for this is because of the many different parameters for a PDF and how non-standard the settings can be, text could be shown as an image instead of a utf-8 encoding. There are many parameters to consider in this aspect.\n",
    "\n",
    "As far as PyPDF2 is concerned, it can only read the text from a PDF document, it won't be able to grab images or other media files from a PDF.\n",
    "___\n",
    "\n",
    "## Working with PyPDF2\n",
    "\n",
    "Let's being showing the basics of the PyPDF2 library. Since PyPDF2 is an external library, I will revert back to Spyder for the example..."
   ]
  }
 ],
 "metadata": {
  "kernelspec": {
   "display_name": "Python 3 (ipykernel)",
   "language": "python",
   "name": "python3"
  },
  "language_info": {
   "codemirror_mode": {
    "name": "ipython",
    "version": 3
   },
   "file_extension": ".py",
   "mimetype": "text/x-python",
   "name": "python",
   "nbconvert_exporter": "python",
   "pygments_lexer": "ipython3",
   "version": "3.8.10"
  }
 },
 "nbformat": 4,
 "nbformat_minor": 5
}
