{
 "cells": [
  {
   "cell_type": "markdown",
   "id": "3eb56df4",
   "metadata": {},
   "source": [
    "if elif, and else statements\n",
    "python control flow syntax makes use of colons and indendation. The idea is that python is easy to read with this syntax."
   ]
  },
  {
   "cell_type": "code",
   "execution_count": 14,
   "id": "4fbb418f",
   "metadata": {},
   "outputs": [
    {
     "name": "stdout",
     "output_type": "stream",
     "text": [
      "its true\n"
     ]
    }
   ],
   "source": [
    "#basic syntax:\n",
    "#if some_condition:\n",
    "    #execute some code\n",
    "#elif some_other_condition:\n",
    "    #do something different\n",
    "#else:\n",
    "    #do something else\n",
    "\n",
    "a = True\n",
    "if a:\n",
    "    print('its true')\n",
    "    \n",
    "b = False\n",
    "if b:\n",
    "    print('its true')"
   ]
  },
  {
   "cell_type": "code",
   "execution_count": 12,
   "id": "f5e9dfb3",
   "metadata": {},
   "outputs": [
    {
     "name": "stdout",
     "output_type": "stream",
     "text": [
      "yes\n"
     ]
    }
   ],
   "source": [
    "a = 1\n",
    "if a:\n",
    "    print('yes')\n",
    "else:\n",
    "    print('no')"
   ]
  },
  {
   "cell_type": "code",
   "execution_count": 13,
   "id": "385a4055",
   "metadata": {},
   "outputs": [
    {
     "name": "stdout",
     "output_type": "stream",
     "text": [
      "noo\n"
     ]
    }
   ],
   "source": [
    "#Note, you can't use multiple if statements in a row like MATLAB, they must be elif\n",
    "a = 1\n",
    "if a>1:\n",
    "    print('yes')\n",
    "elif a == 2:\n",
    "    print('boo')\n",
    "elif a == 3:\n",
    "    print('foo')\n",
    "else:\n",
    "    print('noo')\n",
    "    "
   ]
  },
  {
   "cell_type": "markdown",
   "id": "286fc08f",
   "metadata": {},
   "source": [
    "Now we're going to talk about for loops. Many objects in python are iterable, and for loops help us iterate over every object."
   ]
  },
  {
   "cell_type": "code",
   "execution_count": 17,
   "id": "f432a103",
   "metadata": {},
   "outputs": [
    {
     "name": "stdout",
     "output_type": "stream",
     "text": [
      "a\n",
      "b\n",
      "c\n",
      "d\n",
      "e\n",
      "f\n"
     ]
    }
   ],
   "source": [
    "string = 'abcdef'\n",
    "for k in string:\n",
    "    print(k)"
   ]
  },
  {
   "cell_type": "code",
   "execution_count": 19,
   "id": "4a3fe644",
   "metadata": {},
   "outputs": [
    {
     "name": "stdout",
     "output_type": "stream",
     "text": [
      "yes the letter is a\n",
      "no\n",
      "no\n",
      "no\n",
      "no\n",
      "no\n"
     ]
    }
   ],
   "source": [
    "#we can do this with if else statements too\n",
    "string = 'abcdef'\n",
    "for k in string:\n",
    "    if k == 'a':\n",
    "        print(f'yes the letter is {k}')\n",
    "    else:\n",
    "        print('no')"
   ]
  },
  {
   "cell_type": "code",
   "execution_count": 23,
   "id": "8d1ff472",
   "metadata": {},
   "outputs": [
    {
     "name": "stdout",
     "output_type": "stream",
     "text": [
      "COOL!\n",
      "COOL!\n",
      "COOL!\n",
      "COOL!\n",
      "COOL!\n",
      "COOL!\n",
      "COOL!\n",
      "COOL!\n",
      "COOL!\n",
      "COOL!\n",
      "COOL!\n",
      "COOL!\n"
     ]
    }
   ],
   "source": [
    "#if you want a repmat-like function, you can call a for loop with a set length using a dummy variable \"_\"\n",
    "string = 'hello world!'\n",
    "for _ in string:\n",
    "    print('COOL!')"
   ]
  },
  {
   "cell_type": "code",
   "execution_count": 24,
   "id": "750627c8",
   "metadata": {},
   "outputs": [
    {
     "data": {
      "text/plain": [
       "4"
      ]
     },
     "execution_count": 24,
     "metadata": {},
     "output_type": "execute_result"
    }
   ],
   "source": [
    "#for loops can also be used for tuple unpacking:\n",
    "mylist = [(1,2),(3,4),(5,6),(7,8)]\n",
    "len(mylist)"
   ]
  },
  {
   "cell_type": "code",
   "execution_count": 25,
   "id": "b4ea6ee7",
   "metadata": {},
   "outputs": [
    {
     "name": "stdout",
     "output_type": "stream",
     "text": [
      "(1, 2)\n",
      "(3, 4)\n",
      "(5, 6)\n",
      "(7, 8)\n"
     ]
    }
   ],
   "source": [
    "for i in mylist:\n",
    "    print(i)"
   ]
  },
  {
   "cell_type": "code",
   "execution_count": 27,
   "id": "53e80d1a",
   "metadata": {},
   "outputs": [
    {
     "name": "stdout",
     "output_type": "stream",
     "text": [
      "1\n",
      "3\n",
      "5\n",
      "7\n"
     ]
    }
   ],
   "source": [
    "#unpacking\n",
    "for a,b in mylist:\n",
    "    print(a)"
   ]
  },
  {
   "cell_type": "code",
   "execution_count": 28,
   "id": "7c4907c9",
   "metadata": {},
   "outputs": [
    {
     "name": "stdout",
     "output_type": "stream",
     "text": [
      "3\n",
      "6\n",
      "8\n"
     ]
    }
   ],
   "source": [
    "mylist = [(1,2,3),(4,5,6),(6,7,8)]\n",
    "for a,b,c in mylist:\n",
    "    print(c)"
   ]
  },
  {
   "cell_type": "markdown",
   "id": "f584fd2e",
   "metadata": {},
   "source": [
    "Now we'll talk about how to iterate through a dictionary"
   ]
  },
  {
   "cell_type": "code",
   "execution_count": 40,
   "id": "5ee4813c",
   "metadata": {},
   "outputs": [
    {
     "name": "stdout",
     "output_type": "stream",
     "text": [
      "1\n",
      "2\n",
      "3\n"
     ]
    }
   ],
   "source": [
    "d = {'k1':1,'K2':2,'k3':3}\n",
    "for value in d.values():\n",
    "    print(value)"
   ]
  },
  {
   "cell_type": "code",
   "execution_count": 41,
   "id": "e3ed0450",
   "metadata": {},
   "outputs": [
    {
     "name": "stdout",
     "output_type": "stream",
     "text": [
      "1\n",
      "2\n",
      "3\n"
     ]
    }
   ],
   "source": [
    "d = {'k1':1,'K2':2,'k3':3}\n",
    "for key,value in d.items():\n",
    "    print(value)"
   ]
  },
  {
   "cell_type": "markdown",
   "id": "b098899c",
   "metadata": {},
   "source": [
    "Now we're going to talk about While statements in Python <br>"
   ]
  },
  {
   "cell_type": "code",
   "execution_count": 46,
   "id": "b8bd7e8e",
   "metadata": {},
   "outputs": [
    {
     "name": "stdout",
     "output_type": "stream",
     "text": [
      "current value of x = 0\n",
      "current value of x = 1\n",
      "current value of x = 2\n",
      "current value of x = 3\n",
      "current value of x = 4\n",
      "x is not less than 5\n"
     ]
    }
   ],
   "source": [
    "#basic syntax\n",
    "#while some boolean condition:\n",
    "    #do something\n",
    "#else:\n",
    "    #do something else\n",
    "    \n",
    "x = 0\n",
    "while x < 5:\n",
    "    print(f'current value of x = {x}')\n",
    "    x=x+1\n",
    "else:\n",
    "    print('x is not less than 5')"
   ]
  },
  {
   "cell_type": "markdown",
   "id": "4734a51f",
   "metadata": {},
   "source": [
    "Keywords for loops:<br>\n",
    "\n",
    "break: breaks the current loop <br>\n",
    "continue: goes to the top of the current loop<br>\n",
    "pass: does nothing at all<br>"
   ]
  },
  {
   "cell_type": "code",
   "execution_count": 47,
   "id": "f943ce12",
   "metadata": {},
   "outputs": [],
   "source": [
    "x = [1,2,3]\n",
    "for item in x:\n",
    "    #comment\n",
    "    pass #a placeholder to avoid syntax error"
   ]
  },
  {
   "cell_type": "code",
   "execution_count": 51,
   "id": "d525be85",
   "metadata": {},
   "outputs": [
    {
     "name": "stdout",
     "output_type": "stream",
     "text": [
      "S\n",
      "m\n",
      "m\n"
     ]
    }
   ],
   "source": [
    "mystring = 'Sammy'\n",
    "for letter in mystring:\n",
    "    if letter == 'a':\n",
    "        continue\n",
    "    elif letter == 'y':\n",
    "        break\n",
    "    print(letter)"
   ]
  },
  {
   "cell_type": "code",
   "execution_count": 54,
   "id": "7ba49068",
   "metadata": {},
   "outputs": [
    {
     "name": "stdout",
     "output_type": "stream",
     "text": [
      "0\n",
      "1\n"
     ]
    }
   ],
   "source": [
    "x = 0\n",
    "while x < 5:\n",
    "    print(x)\n",
    "    x = x+1\n",
    "    if x == 2:     \n",
    "        break"
   ]
  },
  {
   "cell_type": "markdown",
   "id": "8c4516ed",
   "metadata": {},
   "source": [
    "Now we're going to cover useful operators in Python"
   ]
  },
  {
   "cell_type": "code",
   "execution_count": 60,
   "id": "76adecf8",
   "metadata": {},
   "outputs": [
    {
     "name": "stdout",
     "output_type": "stream",
     "text": [
      "1\n",
      "3\n",
      "5\n",
      "7\n",
      "9\n"
     ]
    }
   ],
   "source": [
    "#the command range works like linspace\n",
    "for num in range(1,10,2): #where 1 is the first, 10 is the last, and 2 is the step size\n",
    "    print(num)"
   ]
  },
  {
   "cell_type": "code",
   "execution_count": 61,
   "id": "f05ba766",
   "metadata": {},
   "outputs": [
    {
     "data": {
      "text/plain": [
       "[1, 3, 5, 7, 9]"
      ]
     },
     "execution_count": 61,
     "metadata": {},
     "output_type": "execute_result"
    }
   ],
   "source": [
    "#you can use range to create a list, e.g.,\n",
    "list(range(1,10,2))"
   ]
  },
  {
   "cell_type": "code",
   "execution_count": 67,
   "id": "ef0e48a2",
   "metadata": {},
   "outputs": [
    {
     "name": "stdout",
     "output_type": "stream",
     "text": [
      "1\n",
      "3\n",
      "5\n",
      "7\n"
     ]
    }
   ],
   "source": [
    "#Conveniently, the for loop example in [60] shows how you can iterate over even or odd indices\n",
    "data = [1,2,3,4,5,6,7,8,9,10]\n",
    "for idx in range(0,8,2):\n",
    "    print(data[idx])"
   ]
  },
  {
   "cell_type": "code",
   "execution_count": 71,
   "id": "542ffa73",
   "metadata": {},
   "outputs": [
    {
     "name": "stdout",
     "output_type": "stream",
     "text": [
      "a\n",
      "b\n",
      "c\n",
      "d\n",
      "e\n",
      "(0, 'a')\n",
      "(1, 'b')\n",
      "(2, 'c')\n",
      "(3, 'd')\n",
      "(4, 'e')\n"
     ]
    }
   ],
   "source": [
    "#the command enumerate is a counter in for loops\n",
    "index_count = 0\n",
    "word = 'abcde'\n",
    "for letter in word:\n",
    "    print(word[index_count])\n",
    "    index_count += 1 #same as index_count = index_count+1\n",
    "\n",
    "for item in enumerate(word):\n",
    "    print(item)"
   ]
  },
  {
   "cell_type": "code",
   "execution_count": 73,
   "id": "7cc5c9cd",
   "metadata": {},
   "outputs": [
    {
     "name": "stdout",
     "output_type": "stream",
     "text": [
      "(1, 'a')\n",
      "(2, 'b')\n",
      "(3, 'c')\n"
     ]
    }
   ],
   "source": [
    "#the zip function is like the opposite of enumerate\n",
    "mylist1 = [1,2,3]\n",
    "mylist2 = ['a','b','c']\n",
    "for item in zip(mylist1,mylist2):\n",
    "    print(item)\n"
   ]
  },
  {
   "cell_type": "code",
   "execution_count": 74,
   "id": "8e0ba768",
   "metadata": {},
   "outputs": [
    {
     "data": {
      "text/plain": [
       "[(1, 'a'), (2, 'b'), (3, 'c')]"
      ]
     },
     "execution_count": 74,
     "metadata": {},
     "output_type": "execute_result"
    }
   ],
   "source": [
    "list(zip(mylist1,mylist2))"
   ]
  },
  {
   "cell_type": "code",
   "execution_count": 75,
   "id": "e6c9baf9",
   "metadata": {},
   "outputs": [
    {
     "name": "stdout",
     "output_type": "stream",
     "text": [
      "1\n",
      "2\n",
      "3\n"
     ]
    }
   ],
   "source": [
    "#unpack\n",
    "for a,b in zip(mylist1,mylist2):\n",
    "    print(a)"
   ]
  },
  {
   "cell_type": "code",
   "execution_count": 76,
   "id": "746155b6",
   "metadata": {},
   "outputs": [
    {
     "data": {
      "text/plain": [
       "True"
      ]
     },
     "execution_count": 76,
     "metadata": {},
     "output_type": "execute_result"
    }
   ],
   "source": [
    "#the \"in\" keyword\n",
    "'x' in ['x','y','z']"
   ]
  },
  {
   "cell_type": "code",
   "execution_count": 79,
   "id": "e8094c71",
   "metadata": {},
   "outputs": [
    {
     "name": "stdout",
     "output_type": "stream",
     "text": [
      "0\n",
      "4\n"
     ]
    }
   ],
   "source": [
    "#to \"find\" the index of something,\n",
    "mylist = ['x','y','z']\n",
    "print(mylist.index('x'))\n",
    "\n",
    "mylist2 = [1,2,3,4,5,6,7,8,9,10]\n",
    "print(mylist2.index(5))"
   ]
  },
  {
   "cell_type": "code",
   "execution_count": 81,
   "id": "30d54cbd",
   "metadata": {},
   "outputs": [
    {
     "name": "stdout",
     "output_type": "stream",
     "text": [
      "1\n",
      "10\n"
     ]
    }
   ],
   "source": [
    "#minimum and maximum value\n",
    "mylist = [1,2,3,4,5,6,7,8,9,10]\n",
    "print(min(mylist))\n",
    "print(max(mylist))"
   ]
  },
  {
   "cell_type": "code",
   "execution_count": 90,
   "id": "c2c29a98",
   "metadata": {},
   "outputs": [
    {
     "data": {
      "text/plain": [
       "[4, 3, 2, 1]"
      ]
     },
     "execution_count": 90,
     "metadata": {},
     "output_type": "execute_result"
    }
   ],
   "source": [
    "#import functions from a library, here we'll use the random library and command shuffle\n",
    "from random import shuffle\n",
    "mylist = [1,2,3,4]\n",
    "shuffle(mylist)\n",
    "mylist"
   ]
  },
  {
   "cell_type": "code",
   "execution_count": 91,
   "id": "0e68c264",
   "metadata": {},
   "outputs": [
    {
     "data": {
      "text/plain": [
       "525"
      ]
     },
     "execution_count": 91,
     "metadata": {},
     "output_type": "execute_result"
    }
   ],
   "source": [
    "#grab a random integer\n",
    "from random import randint\n",
    "randint(0,1000)"
   ]
  },
  {
   "cell_type": "code",
   "execution_count": 94,
   "id": "2eb3272d",
   "metadata": {},
   "outputs": [
    {
     "name": "stdout",
     "output_type": "stream",
     "text": [
      "Press the any key: where is the any key?\n"
     ]
    }
   ],
   "source": [
    "#accept user input\n",
    "result = input('Press the any key: ')"
   ]
  },
  {
   "cell_type": "code",
   "execution_count": 95,
   "id": "a78fc2d4",
   "metadata": {},
   "outputs": [
    {
     "data": {
      "text/plain": [
       "'where is the any key?'"
      ]
     },
     "execution_count": 95,
     "metadata": {},
     "output_type": "execute_result"
    }
   ],
   "source": [
    "result"
   ]
  },
  {
   "cell_type": "code",
   "execution_count": 96,
   "id": "fb5f2c41",
   "metadata": {},
   "outputs": [
    {
     "name": "stdout",
     "output_type": "stream",
     "text": [
      "Favorite number: 13\n"
     ]
    }
   ],
   "source": [
    "#note that result using input is always a string, e.g.,\n",
    "result = input('Favorite number: ')"
   ]
  },
  {
   "cell_type": "code",
   "execution_count": 97,
   "id": "251a9711",
   "metadata": {},
   "outputs": [
    {
     "data": {
      "text/plain": [
       "'13'"
      ]
     },
     "execution_count": 97,
     "metadata": {},
     "output_type": "execute_result"
    }
   ],
   "source": [
    "result"
   ]
  },
  {
   "cell_type": "code",
   "execution_count": 98,
   "id": "6e5fd4fb",
   "metadata": {},
   "outputs": [
    {
     "data": {
      "text/plain": [
       "13.0"
      ]
     },
     "execution_count": 98,
     "metadata": {},
     "output_type": "execute_result"
    }
   ],
   "source": [
    "float(result) #floating point"
   ]
  },
  {
   "cell_type": "code",
   "execution_count": 99,
   "id": "77a70d59",
   "metadata": {},
   "outputs": [
    {
     "data": {
      "text/plain": [
       "13"
      ]
     },
     "execution_count": 99,
     "metadata": {},
     "output_type": "execute_result"
    }
   ],
   "source": [
    "int(result) #integer"
   ]
  },
  {
   "cell_type": "code",
   "execution_count": 100,
   "id": "06fa1d94",
   "metadata": {},
   "outputs": [
    {
     "name": "stdout",
     "output_type": "stream",
     "text": [
      "Favorite number: 13\n"
     ]
    }
   ],
   "source": [
    "result = int(input('Favorite number: '))"
   ]
  },
  {
   "cell_type": "code",
   "execution_count": 101,
   "id": "271586be",
   "metadata": {},
   "outputs": [
    {
     "data": {
      "text/plain": [
       "int"
      ]
     },
     "execution_count": 101,
     "metadata": {},
     "output_type": "execute_result"
    }
   ],
   "source": [
    "type(result)"
   ]
  },
  {
   "cell_type": "markdown",
   "id": "e61cd34e",
   "metadata": {},
   "source": [
    "Now we'll talk about list comprehensions.<br>\n",
    "If you are in a situation where you are looping something with an .append() statement to create a list, List Comprehensions are a good alternative!"
   ]
  },
  {
   "cell_type": "code",
   "execution_count": 102,
   "id": "3740bc44",
   "metadata": {},
   "outputs": [],
   "source": [
    "mystring = 'hello'\n",
    "mylist = []\n",
    "for letter in mystring:\n",
    "    mylist.append(letter)"
   ]
  },
  {
   "cell_type": "code",
   "execution_count": 103,
   "id": "36d6e151",
   "metadata": {},
   "outputs": [
    {
     "data": {
      "text/plain": [
       "['h', 'e', 'l', 'l', 'o']"
      ]
     },
     "execution_count": 103,
     "metadata": {},
     "output_type": "execute_result"
    }
   ],
   "source": [
    "mylist"
   ]
  },
  {
   "cell_type": "code",
   "execution_count": 104,
   "id": "da62ff80",
   "metadata": {},
   "outputs": [],
   "source": [
    "#here's a better way\n",
    "mystring = 'hello'\n",
    "mylist = [letter for letter in mystring]"
   ]
  },
  {
   "cell_type": "code",
   "execution_count": 105,
   "id": "d6352144",
   "metadata": {},
   "outputs": [
    {
     "data": {
      "text/plain": [
       "['h', 'e', 'l', 'l', 'o']"
      ]
     },
     "execution_count": 105,
     "metadata": {},
     "output_type": "execute_result"
    }
   ],
   "source": [
    "mylist"
   ]
  },
  {
   "cell_type": "code",
   "execution_count": 106,
   "id": "994f389a",
   "metadata": {},
   "outputs": [],
   "source": [
    "#another example\n",
    "mylist = [x for x in 'world']"
   ]
  },
  {
   "cell_type": "code",
   "execution_count": 107,
   "id": "fa6f91e8",
   "metadata": {},
   "outputs": [
    {
     "data": {
      "text/plain": [
       "['w', 'o', 'r', 'l', 'd']"
      ]
     },
     "execution_count": 107,
     "metadata": {},
     "output_type": "execute_result"
    }
   ],
   "source": [
    "mylist"
   ]
  },
  {
   "cell_type": "code",
   "execution_count": 109,
   "id": "80b5c050",
   "metadata": {},
   "outputs": [
    {
     "name": "stdout",
     "output_type": "stream",
     "text": [
      "[0, 1, 2, 3, 4, 5, 6, 7, 8, 9, 10]\n"
     ]
    }
   ],
   "source": [
    "mylist = [num for num in range(0,11)]\n",
    "print(mylist)"
   ]
  },
  {
   "cell_type": "code",
   "execution_count": 110,
   "id": "1cdd093b",
   "metadata": {},
   "outputs": [
    {
     "name": "stdout",
     "output_type": "stream",
     "text": [
      "[0, 1, 4, 9, 16, 25, 36, 49, 64, 81, 100]\n"
     ]
    }
   ],
   "source": [
    "mylist = [num**2 for num in range(0,11)] #with operations\n",
    "print(mylist)"
   ]
  },
  {
   "cell_type": "code",
   "execution_count": 113,
   "id": "c8687747",
   "metadata": {},
   "outputs": [
    {
     "name": "stdout",
     "output_type": "stream",
     "text": [
      "[0, 2, 4, 6, 8, 10]\n"
     ]
    }
   ],
   "source": [
    "mylist = [x for x in range(0,11) if x %2 == 0] #print just the even numbers\n",
    "print(mylist)"
   ]
  },
  {
   "cell_type": "code",
   "execution_count": 115,
   "id": "065f1ae0",
   "metadata": {},
   "outputs": [
    {
     "name": "stdout",
     "output_type": "stream",
     "text": [
      "[32.0, 50.0, 68.0, 95.0, 99.5]\n"
     ]
    }
   ],
   "source": [
    "#another example\n",
    "c = [0,10,20,35,37.5] #temp in celcius\n",
    "f = [((9/5)*temp+32) for temp in c] #conversion to fehrenheit\n",
    "print(f)"
   ]
  },
  {
   "cell_type": "markdown",
   "id": "82bbd4dd",
   "metadata": {},
   "source": [
    "Ok, so basically what this technique does is it applies a command over a single list to permute the result. This is a bit like the \"cellfun\" command in MATLAB. "
   ]
  },
  {
   "cell_type": "code",
   "execution_count": null,
   "id": "bcd554be",
   "metadata": {},
   "outputs": [],
   "source": [
    "\n"
   ]
  }
 ],
 "metadata": {
  "kernelspec": {
   "display_name": "Python 3 (ipykernel)",
   "language": "python",
   "name": "python3"
  },
  "language_info": {
   "codemirror_mode": {
    "name": "ipython",
    "version": 3
   },
   "file_extension": ".py",
   "mimetype": "text/x-python",
   "name": "python",
   "nbconvert_exporter": "python",
   "pygments_lexer": "ipython3",
   "version": "3.8.10"
  }
 },
 "nbformat": 4,
 "nbformat_minor": 5
}
