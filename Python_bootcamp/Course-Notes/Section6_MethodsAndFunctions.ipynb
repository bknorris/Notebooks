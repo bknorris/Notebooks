{
 "cells": [
  {
   "cell_type": "markdown",
   "id": "528bd812",
   "metadata": {},
   "source": [
    "# Methods and Functions"
   ]
  },
  {
   "cell_type": "markdown",
   "id": "09865944",
   "metadata": {},
   "source": [
    "### Python Documentation"
   ]
  },
  {
   "cell_type": "code",
   "execution_count": 1,
   "id": "e4059148",
   "metadata": {},
   "outputs": [
    {
     "name": "stdout",
     "output_type": "stream",
     "text": [
      "[1, 2, 3, 4]\n",
      "[1, 2, 3]\n"
     ]
    }
   ],
   "source": [
    "mylist = [1,2,3]\n",
    "mylist.append(4)\n",
    "print(mylist)\n",
    "mylist.pop()\n",
    "print(mylist)"
   ]
  },
  {
   "cell_type": "markdown",
   "id": "68219e2b",
   "metadata": {},
   "source": [
    "Get the list of methods for Python objects: hit the tab key after typing \".\" <br>\n",
    "Or, use the help function in the command console: the syntax is \"help(function)\""
   ]
  },
  {
   "cell_type": "code",
   "execution_count": 4,
   "id": "f9829f30",
   "metadata": {},
   "outputs": [
    {
     "name": "stdout",
     "output_type": "stream",
     "text": [
      "Help on built-in function append:\n",
      "\n",
      "append(object, /) method of builtins.list instance\n",
      "    Append object to the end of the list.\n",
      "\n"
     ]
    }
   ],
   "source": [
    "help(mylist.append)"
   ]
  },
  {
   "cell_type": "markdown",
   "id": "3af43796",
   "metadata": {},
   "source": [
    "Another option is to use the Python documentation online: <br>\n",
    "https://docs.python.org"
   ]
  },
  {
   "cell_type": "markdown",
   "id": "7f4c8b23",
   "metadata": {},
   "source": [
    "### Functions"
   ]
  },
  {
   "cell_type": "markdown",
   "id": "b7e28e29",
   "metadata": {},
   "source": [
    "Functions allow us to create blocks of code that can be easily executed many times without needing to constantly rewrite the entire block of code."
   ]
  },
  {
   "cell_type": "markdown",
   "id": "78d82bae",
   "metadata": {},
   "source": [
    "#### The 'def' keyword "
   ]
  },
  {
   "cell_type": "markdown",
   "id": "66c7da80",
   "metadata": {},
   "source": [
    "Creating functions in Python requires specific syntax, including the 'def' keyword, correct indentation, and proper structure. "
   ]
  },
  {
   "cell_type": "markdown",
   "id": "5a071d42",
   "metadata": {},
   "source": [
    "e.g. \"def name_of_function():\"<br>\n",
    "This example uses what is called \"snake casing\", where <i>functions</i> are all lowercase with underscores between words. Udemy recommends using this format for functions as it is standard practice. Functions are followed by parantheses and colons to indicate an upcoming indended code block."
   ]
  },
  {
   "cell_type": "code",
   "execution_count": 6,
   "id": "2864189c",
   "metadata": {},
   "outputs": [
    {
     "name": "stdout",
     "output_type": "stream",
     "text": [
      "Hello Jose\n"
     ]
    }
   ],
   "source": [
    "def name_of_function(name):\n",
    "    ''' #triple quotes define a multiline comment\n",
    "    Docstring explaining function\n",
    "    '''\n",
    "    #do something\n",
    "    print(\"Hello \" + name)\n",
    "\n",
    "#call the function\n",
    "name_of_function(\"Jose\")"
   ]
  },
  {
   "cell_type": "markdown",
   "id": "ff9eb28a",
   "metadata": {},
   "source": [
    "#### The 'return' keyword\n",
    "* Typically we use the return keyword to send back the result of the function instead of printing it out.\n",
    "* The return keyword allows us to assign the output of the function to a new variable. "
   ]
  },
  {
   "cell_type": "code",
   "execution_count": 9,
   "id": "9fe4681a",
   "metadata": {},
   "outputs": [
    {
     "name": "stdout",
     "output_type": "stream",
     "text": [
      "3\n"
     ]
    }
   ],
   "source": [
    "#Here is another example using the return keyword\n",
    "def add_function(num1,num2):\n",
    "    '''this function adds two numbers together'''\n",
    "    summation = num1+num2\n",
    "    return summation #note that this line could be combined with the former but I think it's better to do it like this.\n",
    "\n",
    "result = add_function(1,2) #allows you to assign the result of the function to a variable.\n",
    "print(result)"
   ]
  },
  {
   "cell_type": "markdown",
   "id": "fb464b88",
   "metadata": {},
   "source": [
    "#### Let's start creating basic functions"
   ]
  },
  {
   "cell_type": "code",
   "execution_count": 15,
   "id": "778a4f4a",
   "metadata": {},
   "outputs": [],
   "source": [
    "def say_hello(name):\n",
    "    print(f'Hello {name}')"
   ]
  },
  {
   "cell_type": "code",
   "execution_count": 16,
   "id": "39394449",
   "metadata": {},
   "outputs": [
    {
     "name": "stdout",
     "output_type": "stream",
     "text": [
      "Hello Ben\n"
     ]
    }
   ],
   "source": [
    "say_hello('Ben')"
   ]
  },
  {
   "cell_type": "code",
   "execution_count": 17,
   "id": "c5110cfa",
   "metadata": {},
   "outputs": [],
   "source": [
    "#Provide a default value\n",
    "def say_hello(name='Default'):\n",
    "    print(f'Hello {name}')"
   ]
  },
  {
   "cell_type": "code",
   "execution_count": 18,
   "id": "9c212fd2",
   "metadata": {},
   "outputs": [
    {
     "name": "stdout",
     "output_type": "stream",
     "text": [
      "Hello Default\n"
     ]
    }
   ],
   "source": [
    "say_hello()"
   ]
  },
  {
   "cell_type": "code",
   "execution_count": 19,
   "id": "6514cd61",
   "metadata": {},
   "outputs": [
    {
     "name": "stdout",
     "output_type": "stream",
     "text": [
      "Hello Ben\n"
     ]
    }
   ],
   "source": [
    "say_hello('Ben')"
   ]
  },
  {
   "cell_type": "markdown",
   "id": "7ad6d936",
   "metadata": {},
   "source": [
    "#### Logic with Python functions"
   ]
  },
  {
   "cell_type": "code",
   "execution_count": 21,
   "id": "8fb9dcfd",
   "metadata": {},
   "outputs": [
    {
     "data": {
      "text/plain": [
       "True"
      ]
     },
     "execution_count": 21,
     "metadata": {},
     "output_type": "execute_result"
    }
   ],
   "source": [
    "#Let's write a function to return whether a number is even or not\n",
    "def check_even(num):\n",
    "    result = num % 2 == 0\n",
    "    return result\n",
    "\n",
    "check_even(20)\n"
   ]
  },
  {
   "cell_type": "code",
   "execution_count": 33,
   "id": "f3848df5",
   "metadata": {},
   "outputs": [
    {
     "name": "stdout",
     "output_type": "stream",
     "text": [
      "data = [38, 98, 34, 35, 15, 80, 33, 7, 17, 4]\n"
     ]
    },
    {
     "data": {
      "text/plain": [
       "True"
      ]
     },
     "execution_count": 33,
     "metadata": {},
     "output_type": "execute_result"
    }
   ],
   "source": [
    "#return true if ANY number is even inside a list\n",
    "import random\n",
    "data = random.sample(range(1,100),10) #create 10 random numbers between 1 and 100\n",
    "def check_even(numList):\n",
    "    for num in numList:\n",
    "        if num % 2 == 0:\n",
    "            return True\n",
    "        else:\n",
    "            pass\n",
    "        \n",
    "    return False\n",
    "\n",
    "print('data = ' + str(data))\n",
    "check_even(data)"
   ]
  },
  {
   "cell_type": "code",
   "execution_count": 39,
   "id": "3dec7a36",
   "metadata": {},
   "outputs": [
    {
     "name": "stdout",
     "output_type": "stream",
     "text": [
      "data = [75, 22, 95, 76, 19, 33, 3, 92, 39, 93]\n",
      "data = [22, 76, 92]\n"
     ]
    }
   ],
   "source": [
    "#now return all of the even numbers in a list\n",
    "import random\n",
    "data = random.sample(range(1,100),10) #create 10 random numbers between 1 and 100\n",
    "def check_even(numList):\n",
    "    even_num_list = [] #initialize the value\n",
    "    for num in numList:\n",
    "        if num % 2 == 0:\n",
    "            even_num_list.append(num)\n",
    "        else:\n",
    "            pass\n",
    "        \n",
    "    return even_num_list\n",
    "\n",
    "print('data = ' + str(data))\n",
    "print('data = ' + str(check_even(data)))"
   ]
  },
  {
   "cell_type": "markdown",
   "id": "3efeeeb1",
   "metadata": {},
   "source": [
    "#### Functions and Tuple Unpacking"
   ]
  },
  {
   "cell_type": "code",
   "execution_count": 41,
   "id": "4959653a",
   "metadata": {},
   "outputs": [
    {
     "name": "stdout",
     "output_type": "stream",
     "text": [
      "APPL\n",
      "200\n",
      "GOOG\n",
      "400\n",
      "MSFT\n",
      "100\n"
     ]
    }
   ],
   "source": [
    "#reminder of tuple unpacking\n",
    "stock_prices = [('APPL',200),('GOOG',400),('MSFT',100)]\n",
    "for ticker,price in stock_prices:\n",
    "    print(ticker)\n",
    "    print(price)"
   ]
  },
  {
   "cell_type": "code",
   "execution_count": 2,
   "id": "70e68376",
   "metadata": {},
   "outputs": [],
   "source": [
    "#Use a function to return tuples and unpack\n",
    "data = [('Abby',100),('Billy',400),('Cassie',800)]\n",
    "def employee_check(work_hours):\n",
    "    current_max = 0\n",
    "    employee_of_month = ''\n",
    "    \n",
    "    for employee,hours in work_hours:\n",
    "        if hours > current_max:\n",
    "            current_max = hours\n",
    "            employee_of_month = employee\n",
    "        else:\n",
    "            pass\n",
    "    #return a tuple that says (employee_of_month,current_max)\n",
    "    return(employee_of_month,current_max)\n",
    "\n",
    "name,hours = employee_check(data) #you can assign value pairs if the result returns a tuple. \n",
    "                                #You need to have the same number of value pairs as the input data"
   ]
  },
  {
   "cell_type": "code",
   "execution_count": 3,
   "id": "f3f4d07c",
   "metadata": {},
   "outputs": [
    {
     "data": {
      "text/plain": [
       "'Cassie'"
      ]
     },
     "execution_count": 3,
     "metadata": {},
     "output_type": "execute_result"
    }
   ],
   "source": [
    "name"
   ]
  },
  {
   "cell_type": "code",
   "execution_count": 4,
   "id": "df54bddd",
   "metadata": {},
   "outputs": [
    {
     "data": {
      "text/plain": [
       "800"
      ]
     },
     "execution_count": 4,
     "metadata": {},
     "output_type": "execute_result"
    }
   ],
   "source": [
    "hours"
   ]
  },
  {
   "cell_type": "markdown",
   "id": "146014e8",
   "metadata": {},
   "source": [
    "#### Interactions between functions\n",
    "\n",
    "* Typically a Python script has several functions interacting with each other. Oftentimes the output of one function is used as the input of another. \n",
    "* Let's create a few functions to mimic the guessing game \"three cup monte\"\n",
    "* Our game will randomize a Python list\n",
    "* Our version will also not show the shuffle to the user, so the guess is completely random"
   ]
  },
  {
   "cell_type": "code",
   "execution_count": 9,
   "id": "025bf1e9",
   "metadata": {},
   "outputs": [
    {
     "name": "stdout",
     "output_type": "stream",
     "text": [
      "[5, 6, 3, 7, 10, 4, 8, 2, 9, 1]\n",
      "<class 'NoneType'>\n",
      "[8, 7, 4, 3, 1, 6, 9, 10, 2, 5]\n"
     ]
    }
   ],
   "source": [
    "#There is a randomizer called shuffle in Python already...\n",
    "from random import shuffle\n",
    "example = [1,2,3,4,5,6,7,8,9,10]\n",
    "shuffle(example)\n",
    "print(example)\n",
    "\n",
    "#BUT, the output of shuffle can't be assigned to a variable \n",
    "result = shuffle(example)\n",
    "print(type(result)) #results as \"NoneType\"\n",
    "\n",
    "#Just curious, I wonder if this has to do with the import command above...\n",
    "import random\n",
    "result = random.shuffle(example)\n",
    "print(example) #yup, that's right. The command shuffle becomes assignable by importing random first. "
   ]
  },
  {
   "cell_type": "code",
   "execution_count": 11,
   "id": "9faccf1c",
   "metadata": {},
   "outputs": [
    {
     "name": "stdout",
     "output_type": "stream",
     "text": [
      "[9, 8, 6, 7, 2, 10, 4, 5, 3, 1]\n"
     ]
    }
   ],
   "source": [
    "#Ok, but for the sake of learning, let's build our own randomizer as a function in Python\n",
    "from random import shuffle\n",
    "def shuffle_list(mylist):\n",
    "    shuffle(mylist)\n",
    "    return(mylist)\n",
    "\n",
    "results = shuffle_list(example)\n",
    "print(results)"
   ]
  },
  {
   "cell_type": "code",
   "execution_count": 25,
   "id": "dc5a6c4a",
   "metadata": {},
   "outputs": [
    {
     "data": {
      "text/plain": [
       "[' ', ' ', 'O']"
      ]
     },
     "execution_count": 25,
     "metadata": {},
     "output_type": "execute_result"
    }
   ],
   "source": [
    "#onto the game list\n",
    "mylist = [' ','O',' ']\n",
    "shuffle_list(mylist)"
   ]
  },
  {
   "cell_type": "code",
   "execution_count": 26,
   "id": "83a604a5",
   "metadata": {},
   "outputs": [],
   "source": [
    "def player_guess():\n",
    "    guess = ''\n",
    "    while guess not in ['0','1','2']:\n",
    "        guess = input(\"Pick a number: 0, 1, or 2: \")\n",
    "        \n",
    "    return int(guess)"
   ]
  },
  {
   "cell_type": "code",
   "execution_count": 27,
   "id": "a61ca487",
   "metadata": {},
   "outputs": [
    {
     "name": "stdout",
     "output_type": "stream",
     "text": [
      "Pick a number: 0, 1, or 2: 2\n"
     ]
    }
   ],
   "source": [
    "my_index = player_guess()"
   ]
  },
  {
   "cell_type": "code",
   "execution_count": 28,
   "id": "84655168",
   "metadata": {},
   "outputs": [],
   "source": [
    "#now combine the two functions\n",
    "def check_guess(mylist,guess):\n",
    "    if mylist[guess] == 'O':\n",
    "        print('Correct!')\n",
    "    else:\n",
    "        print('Wrong Guess :(')\n",
    "        print(mylist)    "
   ]
  },
  {
   "cell_type": "code",
   "execution_count": 30,
   "id": "8e2c0a3c",
   "metadata": {},
   "outputs": [
    {
     "name": "stdout",
     "output_type": "stream",
     "text": [
      "Pick a number: 0, 1, or 2: 0\n",
      "Wrong Guess :(\n",
      "[' ', ' ', 'O']\n"
     ]
    }
   ],
   "source": [
    "#NOW LET'S PLAY A GAME\n",
    "\n",
    "#INITIAL LIST\n",
    "mylist = [' ','O',' ']\n",
    "#SHUFFLE LIST\n",
    "mixed_list = shuffle_list(mylist)\n",
    "#USER GUESS\n",
    "guess = player_guess()\n",
    "#RESULT\n",
    "check_guess(mixed_list,guess)"
   ]
  },
  {
   "cell_type": "markdown",
   "id": "fb4a1bb6",
   "metadata": {},
   "source": [
    "#### *args and **kwargs\n",
    "\n",
    "Arguments and keyword arguments\n"
   ]
  },
  {
   "cell_type": "code",
   "execution_count": 31,
   "id": "076adba3",
   "metadata": {},
   "outputs": [],
   "source": [
    "def myfunc(a,b):\n",
    "    # Returns 5% of the sum of a and b\n",
    "    return sum((a,b))*0.05"
   ]
  },
  {
   "cell_type": "code",
   "execution_count": 32,
   "id": "22916b16",
   "metadata": {},
   "outputs": [
    {
     "data": {
      "text/plain": [
       "2.3000000000000003"
      ]
     },
     "execution_count": 32,
     "metadata": {},
     "output_type": "execute_result"
    }
   ],
   "source": [
    "myfunc(40,6)"
   ]
  },
  {
   "cell_type": "code",
   "execution_count": 33,
   "id": "6bd9531d",
   "metadata": {},
   "outputs": [],
   "source": [
    "#What happens if we want to pass more numbers into myfunc?\n",
    "# *args lets the user define an arbitrary number of arguments\n",
    "def myfunc(*args):\n",
    "    return sum(args)*0.05"
   ]
  },
  {
   "cell_type": "code",
   "execution_count": 34,
   "id": "e3375746",
   "metadata": {},
   "outputs": [
    {
     "data": {
      "text/plain": [
       "0.5"
      ]
     },
     "execution_count": 34,
     "metadata": {},
     "output_type": "execute_result"
    }
   ],
   "source": [
    "myfunc(4,3,2,1)"
   ]
  },
  {
   "cell_type": "code",
   "execution_count": 35,
   "id": "e1d35525",
   "metadata": {},
   "outputs": [],
   "source": [
    "#Similarly, *kwargs builds a dictionary of keywords...\n",
    "def myfunc(**kwargs):\n",
    "    if 'fruit' in kwargs:\n",
    "        print('My fruit of choice is {}'.format(kwargs['fruit']))\n",
    "    else:\n",
    "        print('No fruit for me')"
   ]
  },
  {
   "cell_type": "code",
   "execution_count": 36,
   "id": "22ca62cd",
   "metadata": {},
   "outputs": [
    {
     "name": "stdout",
     "output_type": "stream",
     "text": [
      "My fruit of choice is apple\n"
     ]
    }
   ],
   "source": [
    "myfunc(fruit='apple')"
   ]
  },
  {
   "cell_type": "code",
   "execution_count": 37,
   "id": "c69baed1",
   "metadata": {},
   "outputs": [
    {
     "name": "stdout",
     "output_type": "stream",
     "text": [
      "My fruit of choice is apple\n"
     ]
    }
   ],
   "source": [
    "myfunc(fruit='apple',veggie='lettuce')"
   ]
  },
  {
   "cell_type": "code",
   "execution_count": 38,
   "id": "72367720",
   "metadata": {},
   "outputs": [],
   "source": [
    "#NB: the word after * and ** are also arbitrary, but Python convention is to use *args for tuples (data)\n",
    "# and **kargs for keyword dictionaries. "
   ]
  },
  {
   "cell_type": "code",
   "execution_count": 41,
   "id": "83ef2916",
   "metadata": {},
   "outputs": [],
   "source": [
    "def myfunc(*args,**kwargs):\n",
    "    print('I would like {} {}'.format(args[0],kwargs['food']))\n",
    "    print(args)\n",
    "    print(kwargs)"
   ]
  },
  {
   "cell_type": "code",
   "execution_count": 42,
   "id": "a9c2820d",
   "metadata": {},
   "outputs": [
    {
     "name": "stdout",
     "output_type": "stream",
     "text": [
      "I would like 10 eggs\n",
      "(10, 20, 30)\n",
      "{'fruit': 'apple', 'food': 'eggs', 'animal': 'dog'}\n"
     ]
    }
   ],
   "source": [
    "myfunc(10,20,30,fruit='apple',food='eggs',animal='dog')"
   ]
  },
  {
   "cell_type": "code",
   "execution_count": 47,
   "id": "fa1c31da",
   "metadata": {},
   "outputs": [],
   "source": [
    "#this is from the coding exercise 18\n",
    "#Define a function myfunc that takes an arbitrary number of arguments and returns\n",
    "#a list containing only those arguments that are even\n",
    "def myfunc(*args):\n",
    "    data = [];\n",
    "    for num in args:\n",
    "        if num %2 == 0:\n",
    "            data.append(num)\n",
    "        else:\n",
    "            pass\n",
    "    return data"
   ]
  },
  {
   "cell_type": "code",
   "execution_count": 48,
   "id": "0488413b",
   "metadata": {},
   "outputs": [
    {
     "data": {
      "text/plain": [
       "[2]"
      ]
     },
     "execution_count": 48,
     "metadata": {},
     "output_type": "execute_result"
    }
   ],
   "source": [
    "myfunc(1,2,3)"
   ]
  },
  {
   "cell_type": "code",
   "execution_count": 165,
   "id": "fdd43e3c",
   "metadata": {},
   "outputs": [],
   "source": [
    "#this is from the coding exercise 19\n",
    "#Define a function myfunc that takes a string and returns a matching string\n",
    "#where every even letter is uppercase and every odd letter is lowercase\n",
    "def myfunc(data):\n",
    "    string = ''\n",
    "    for i,s in enumerate(data):\n",
    "        if not i % 2:\n",
    "            string = string+s.upper()\n",
    "        else:\n",
    "            string = string+s.lower()\n",
    "    return string"
   ]
  },
  {
   "cell_type": "code",
   "execution_count": 166,
   "id": "c2a6992e",
   "metadata": {},
   "outputs": [
    {
     "data": {
      "text/plain": [
       "'StRiNg'"
      ]
     },
     "execution_count": 166,
     "metadata": {},
     "output_type": "execute_result"
    }
   ],
   "source": [
    "myfunc('string')"
   ]
  },
  {
   "cell_type": "markdown",
   "id": "a6a6e376",
   "metadata": {},
   "source": [
    "#### Lambda expressions, Map and Filter\n",
    "\n",
    "filter(), as its name suggests, filters the original iterable and retents the items that returns True for the function provided to filter().\n",
    "\n",
    "map() on the other hand, apply the supplied function to each element of the iterable and return a list of results for each element.\n",
    "\n",
    "Let's look at an example:\n",
    "\n",
    "def f(x): return x % 2 != 0 and x % 3 != 0\n",
    "range(11)\n",
    "[0, 1, 2, 3, 4, 5, 6, 7, 8, 9, 10]\n",
    " \n",
    "map(f, range(11))      # Ones that returns TRUE are 1, 5 and 7\n",
    "[False, True, False, False, False, True, False, True, False, False, False]\n",
    " \n",
    "filter(f, range(11))   #So, filter returns 1, 5 and 7\n",
    "[1, 5, 7]"
   ]
  },
  {
   "cell_type": "markdown",
   "id": "48aede64",
   "metadata": {},
   "source": [
    "##### Map"
   ]
  },
  {
   "cell_type": "code",
   "execution_count": 167,
   "id": "174a0644",
   "metadata": {},
   "outputs": [],
   "source": [
    "def square(num):\n",
    "    return num**2"
   ]
  },
  {
   "cell_type": "code",
   "execution_count": 169,
   "id": "b3a69329",
   "metadata": {},
   "outputs": [],
   "source": [
    "my_nums = [1,2,3,4,5]"
   ]
  },
  {
   "cell_type": "code",
   "execution_count": 171,
   "id": "eb9ed3ca",
   "metadata": {},
   "outputs": [
    {
     "name": "stdout",
     "output_type": "stream",
     "text": [
      "1\n",
      "4\n",
      "9\n",
      "16\n",
      "25\n"
     ]
    }
   ],
   "source": [
    "for item in map(square,my_nums):\n",
    "    print(item)\n",
    "#this statement applies \"square\" to every item in a list \"my_nums\""
   ]
  },
  {
   "cell_type": "code",
   "execution_count": 172,
   "id": "181b328f",
   "metadata": {},
   "outputs": [
    {
     "data": {
      "text/plain": [
       "[1, 4, 9, 16, 25]"
      ]
     },
     "execution_count": 172,
     "metadata": {},
     "output_type": "execute_result"
    }
   ],
   "source": [
    "list(map(square,my_nums))"
   ]
  },
  {
   "cell_type": "code",
   "execution_count": 177,
   "id": "4374fd6f",
   "metadata": {},
   "outputs": [],
   "source": [
    "def stringsplicer(mystring):\n",
    "    if not len(mystring) % 2:\n",
    "        return 'EVEN'\n",
    "    else:\n",
    "        return 'ODD'"
   ]
  },
  {
   "cell_type": "code",
   "execution_count": 178,
   "id": "3d381552",
   "metadata": {},
   "outputs": [
    {
     "data": {
      "text/plain": [
       "['EVEN', 'ODD', 'ODD']"
      ]
     },
     "execution_count": 178,
     "metadata": {},
     "output_type": "execute_result"
    }
   ],
   "source": [
    "names = ['andy','sally','bob']\n",
    "list(map(stringsplicer,names))"
   ]
  },
  {
   "cell_type": "markdown",
   "id": "50f571bc",
   "metadata": {},
   "source": [
    "##### Filter"
   ]
  },
  {
   "cell_type": "code",
   "execution_count": 180,
   "id": "013784ad",
   "metadata": {},
   "outputs": [],
   "source": [
    "def check_even(num):\n",
    "    return not num % 2"
   ]
  },
  {
   "cell_type": "code",
   "execution_count": 181,
   "id": "de63c352",
   "metadata": {},
   "outputs": [],
   "source": [
    "mynums = [1,2,3,4,5,6,7]"
   ]
  },
  {
   "cell_type": "code",
   "execution_count": 186,
   "id": "35f27861",
   "metadata": {},
   "outputs": [
    {
     "name": "stdout",
     "output_type": "stream",
     "text": [
      "[False, True, False, True, False, True, False]\n",
      "[2, 4, 6]\n"
     ]
    }
   ],
   "source": [
    "print(list(map(check_even,mynums)))\n",
    "print(list(filter(check_even,mynums)))\n",
    "\n",
    "#This highlights the difference between map and filter. \n",
    "#Map runs the statement and returns the boolean value (which number is even)\n",
    "#Filter runs the statement and returns the true value from the list (which number is even)"
   ]
  },
  {
   "cell_type": "markdown",
   "id": "53fbbac7",
   "metadata": {},
   "source": [
    "##### Lambda"
   ]
  },
  {
   "cell_type": "code",
   "execution_count": 189,
   "id": "f303735f",
   "metadata": {},
   "outputs": [],
   "source": [
    "#a function you only use once\n",
    "square = lambda num: num**2"
   ]
  },
  {
   "cell_type": "code",
   "execution_count": 190,
   "id": "0253dab1",
   "metadata": {},
   "outputs": [
    {
     "data": {
      "text/plain": [
       "9"
      ]
     },
     "execution_count": 190,
     "metadata": {},
     "output_type": "execute_result"
    }
   ],
   "source": [
    "square(3)"
   ]
  },
  {
   "cell_type": "code",
   "execution_count": 191,
   "id": "a16ae85b",
   "metadata": {},
   "outputs": [
    {
     "data": {
      "text/plain": [
       "25"
      ]
     },
     "execution_count": 191,
     "metadata": {},
     "output_type": "execute_result"
    }
   ],
   "source": [
    "square(5)"
   ]
  },
  {
   "cell_type": "code",
   "execution_count": 193,
   "id": "a27cc3ec",
   "metadata": {},
   "outputs": [
    {
     "data": {
      "text/plain": [
       "[1, 4, 9, 16, 25, 36, 49]"
      ]
     },
     "execution_count": 193,
     "metadata": {},
     "output_type": "execute_result"
    }
   ],
   "source": [
    "#combining map and lambda\n",
    "list(map(lambda num:num**2,mynums))"
   ]
  },
  {
   "cell_type": "code",
   "execution_count": 194,
   "id": "5c02f9c2",
   "metadata": {},
   "outputs": [
    {
     "data": {
      "text/plain": [
       "[2, 4, 6]"
      ]
     },
     "execution_count": 194,
     "metadata": {},
     "output_type": "execute_result"
    }
   ],
   "source": [
    "#combining filter and lambda\n",
    "list(filter(lambda num:not num%2,mynums))"
   ]
  },
  {
   "cell_type": "code",
   "execution_count": 196,
   "id": "62affc0b",
   "metadata": {},
   "outputs": [
    {
     "data": {
      "text/plain": [
       "['a', 's', 'b']"
      ]
     },
     "execution_count": 196,
     "metadata": {},
     "output_type": "execute_result"
    }
   ],
   "source": [
    "#Grab the first character of a string\n",
    "list(map(lambda name:name[0],names))"
   ]
  },
  {
   "cell_type": "code",
   "execution_count": 200,
   "id": "de32608c",
   "metadata": {},
   "outputs": [
    {
     "ename": "TypeError",
     "evalue": "unsupported operand type(s) for ** or pow(): 'list' and 'int'",
     "output_type": "error",
     "traceback": [
      "\u001b[0;31m---------------------------------------------------------------------------\u001b[0m",
      "\u001b[0;31mTypeError\u001b[0m                                 Traceback (most recent call last)",
      "\u001b[0;32m/tmp/ipykernel_1222/1509570115.py\u001b[0m in \u001b[0;36m<module>\u001b[0;34m\u001b[0m\n\u001b[1;32m      1\u001b[0m \u001b[0;31m#testing case\u001b[0m\u001b[0;34m\u001b[0m\u001b[0;34m\u001b[0m\u001b[0;34m\u001b[0m\u001b[0m\n\u001b[1;32m      2\u001b[0m \u001b[0mdata\u001b[0m \u001b[0;34m=\u001b[0m \u001b[0;34m[\u001b[0m\u001b[0;36m1\u001b[0m\u001b[0;34m,\u001b[0m\u001b[0;36m2\u001b[0m\u001b[0;34m,\u001b[0m\u001b[0;36m3\u001b[0m\u001b[0;34m,\u001b[0m\u001b[0;36m4\u001b[0m\u001b[0;34m,\u001b[0m\u001b[0;36m5\u001b[0m\u001b[0;34m]\u001b[0m\u001b[0;34m\u001b[0m\u001b[0;34m\u001b[0m\u001b[0m\n\u001b[0;32m----> 3\u001b[0;31m \u001b[0mprint\u001b[0m\u001b[0;34m(\u001b[0m\u001b[0mdata\u001b[0m\u001b[0;34m**\u001b[0m\u001b[0;36m2\u001b[0m\u001b[0;34m)\u001b[0m\u001b[0;34m\u001b[0m\u001b[0;34m\u001b[0m\u001b[0m\n\u001b[0m",
      "\u001b[0;31mTypeError\u001b[0m: unsupported operand type(s) for ** or pow(): 'list' and 'int'"
     ]
    }
   ],
   "source": [
    "#testing case\n",
    "data = [1,2,3,4,5]\n",
    "print(data**2)"
   ]
  },
  {
   "cell_type": "markdown",
   "id": "85f1eabb",
   "metadata": {},
   "source": [
    "Ok, so I get lambda statements. Basically, Python doesn't allow you to do piecewise application of a function on an object without something like a lambda statement or a function (\"def\"). Hence the lambda statement (to do something simple once). "
   ]
  },
  {
   "cell_type": "markdown",
   "id": "e30200d2",
   "metadata": {},
   "source": [
    "#### Nested Statements and Scope"
   ]
  },
  {
   "cell_type": "code",
   "execution_count": 201,
   "id": "3512aebd",
   "metadata": {},
   "outputs": [],
   "source": [
    "x = 25\n",
    "def printer():\n",
    "    x = 50\n",
    "    return x"
   ]
  },
  {
   "cell_type": "code",
   "execution_count": 204,
   "id": "0915dd71",
   "metadata": {},
   "outputs": [
    {
     "name": "stdout",
     "output_type": "stream",
     "text": [
      "25\n"
     ]
    }
   ],
   "source": [
    "print(x)"
   ]
  },
  {
   "cell_type": "markdown",
   "id": "b3742a1b",
   "metadata": {},
   "source": [
    "**LEGB Rule:**\n",
    "\n",
    "L: Local — Names assigned in any way within a function (def or lambda), and not declared global in that function.\n",
    "\n",
    "E: Enclosing function locals — Names in the local scope of any and all enclosing functions (def or lambda), from inner to outer.\n",
    "\n",
    "G: Global (module) — Names assigned at the top-level of a module file, or declared global in a def within the file.\n",
    "\n",
    "B: Built-in (Python) — Names preassigned in the built-in names module : open, range, SyntaxError,..."
   ]
  }
 ],
 "metadata": {
  "kernelspec": {
   "display_name": "Python 3 (ipykernel)",
   "language": "python",
   "name": "python3"
  },
  "language_info": {
   "codemirror_mode": {
    "name": "ipython",
    "version": 3
   },
   "file_extension": ".py",
   "mimetype": "text/x-python",
   "name": "python",
   "nbconvert_exporter": "python",
   "pygments_lexer": "ipython3",
   "version": "3.8.10"
  }
 },
 "nbformat": 4,
 "nbformat_minor": 5
}
