{
 "cells": [
  {
   "cell_type": "code",
   "execution_count": 3,
   "id": "ad8dcb4a",
   "metadata": {},
   "outputs": [
    {
     "name": "stdout",
     "output_type": "stream",
     "text": [
      "True\n",
      "True\n",
      "True\n",
      "False\n",
      "True\n"
     ]
    }
   ],
   "source": [
    "#how to return boolean values from comparisons\n",
    "print(2 == 2)\n",
    "print(2 != 1)\n",
    "print(3 > 2)\n",
    "print(4 < 3)\n",
    "print('hello' != 'bye')"
   ]
  },
  {
   "cell_type": "code",
   "execution_count": 15,
   "id": "8918c5a2",
   "metadata": {},
   "outputs": [
    {
     "name": "stdout",
     "output_type": "stream",
     "text": [
      "no\n"
     ]
    }
   ],
   "source": [
    "#Let's make more than one comparison at a time using logical operators\n",
    "a = 1\n",
    "b = 0\n",
    "if a == 1 and b == 1:\n",
    "    print('yes')\n",
    "else: #dont forget the \":\" after if else statements!\n",
    "    print('no')"
   ]
  },
  {
   "cell_type": "code",
   "execution_count": 12,
   "id": "1b6de05d",
   "metadata": {},
   "outputs": [
    {
     "data": {
      "text/plain": [
       "False"
      ]
     },
     "execution_count": 12,
     "metadata": {},
     "output_type": "execute_result"
    }
   ],
   "source": [
    "1 < 2 and 2 > 3"
   ]
  },
  {
   "cell_type": "code",
   "execution_count": 13,
   "id": "11d341fe",
   "metadata": {},
   "outputs": [
    {
     "data": {
      "text/plain": [
       "True"
      ]
     },
     "execution_count": 13,
     "metadata": {},
     "output_type": "execute_result"
    }
   ],
   "source": [
    "1 < 2 or 2 > 3"
   ]
  },
  {
   "cell_type": "code",
   "execution_count": 14,
   "id": "9f152424",
   "metadata": {},
   "outputs": [
    {
     "data": {
      "text/plain": [
       "True"
      ]
     },
     "execution_count": 14,
     "metadata": {},
     "output_type": "execute_result"
    }
   ],
   "source": [
    "'h' == 'h' and 2 == 2"
   ]
  },
  {
   "cell_type": "code",
   "execution_count": 16,
   "id": "869991f8",
   "metadata": {},
   "outputs": [
    {
     "data": {
      "text/plain": [
       "False"
      ]
     },
     "execution_count": 16,
     "metadata": {},
     "output_type": "execute_result"
    }
   ],
   "source": [
    "not(1 == 1) #not returns the opposite boolean of a logical expression"
   ]
  },
  {
   "cell_type": "code",
   "execution_count": 18,
   "id": "0041f079",
   "metadata": {},
   "outputs": [
    {
     "data": {
      "text/plain": [
       "-2"
      ]
     },
     "execution_count": 18,
     "metadata": {},
     "output_type": "execute_result"
    }
   ],
   "source": [
    "~(1 == 1) #this is the MATLAB expression for \"not\", but it does something else"
   ]
  },
  {
   "cell_type": "markdown",
   "id": "fd4e8b6b",
   "metadata": {},
   "source": [
    "Python's Tilde ~n operator is the bitwise negation operator: it takes the number n as binary number and “flips” all bits 0 to 1 and 1 to 0 to obtain the complement binary number. For example, the tilde operation ~1 becomes 0 and ~0 becomes 1 and ~101 becomes 010 <br><br>"
   ]
  },
  {
   "cell_type": "markdown",
   "id": "a6937b6d",
   "metadata": {},
   "source": [
    "In the above example, the tilde \"~\" inverts the boolean True, which equals 1 (and False equals 0). The bitwise inverse of 1 is -2, e.g.,<br>\n",
    "\n",
    "i  ~i<br>\n",
    "-----<br>\n",
    "0  -1<br>\n",
    "1  -2<br>\n",
    "2  -3<br>\n",
    "3  -4<br>\n",
    "4  -5<br>\n",
    "5  -6<br>"
   ]
  },
  {
   "cell_type": "code",
   "execution_count": null,
   "id": "dd106dd2",
   "metadata": {},
   "outputs": [],
   "source": []
  }
 ],
 "metadata": {
  "kernelspec": {
   "display_name": "Python 3 (ipykernel)",
   "language": "python",
   "name": "python3"
  },
  "language_info": {
   "codemirror_mode": {
    "name": "ipython",
    "version": 3
   },
   "file_extension": ".py",
   "mimetype": "text/x-python",
   "name": "python",
   "nbconvert_exporter": "python",
   "pygments_lexer": "ipython3",
   "version": "3.8.10"
  }
 },
 "nbformat": 4,
 "nbformat_minor": 5
}
