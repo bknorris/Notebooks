{
 "cells": [
  {
   "cell_type": "code",
   "execution_count": 1,
   "id": "190a8d9e",
   "metadata": {},
   "outputs": [
    {
     "data": {
      "text/plain": [
       "3"
      ]
     },
     "execution_count": 1,
     "metadata": {},
     "output_type": "execute_result"
    }
   ],
   "source": [
    "2+1"
   ]
  },
  {
   "cell_type": "code",
   "execution_count": 10,
   "id": "5a2a86ab",
   "metadata": {},
   "outputs": [
    {
     "name": "stdout",
     "output_type": "stream",
     "text": [
      "no it is not\n"
     ]
    }
   ],
   "source": [
    "i = 2\n",
    "if i > 2:\n",
    "    print('yes it is')\n",
    "else :\n",
    "    print('no it is not')\n"
   ]
  },
  {
   "cell_type": "markdown",
   "id": "f2e1200e",
   "metadata": {},
   "source": [
    "I'm getting ahead of the course here but I just tried to write a simple if/then statement. It seems that python requires a colon \":\" after if/else statements. These statements do not need to be closed with an end statement. Let's try another one."
   ]
  },
  {
   "cell_type": "code",
   "execution_count": 11,
   "id": "d335579e",
   "metadata": {},
   "outputs": [
    {
     "ename": "SyntaxError",
     "evalue": "invalid syntax (300271012.py, line 2)",
     "output_type": "error",
     "traceback": [
      "\u001b[0;36m  File \u001b[0;32m\"/tmp/ipykernel_3564/300271012.py\"\u001b[0;36m, line \u001b[0;32m2\u001b[0m\n\u001b[0;31m    for j = 1:length(i)\u001b[0m\n\u001b[0m          ^\u001b[0m\n\u001b[0;31mSyntaxError\u001b[0m\u001b[0;31m:\u001b[0m invalid syntax\n"
     ]
    }
   ],
   "source": [
    "i = [1,2,3,4,5,6]\n",
    "for j = 1:length(i)\n",
    "    if i > 2:\n",
    "        print('yes')\n",
    "    else:\n",
    "        print('no')\n"
   ]
  },
  {
   "cell_type": "markdown",
   "id": "c2df1eee",
   "metadata": {},
   "source": [
    "See, obviously Matlab syntax doesn't work here. Apparently it should be \"for j in i:\""
   ]
  },
  {
   "cell_type": "code",
   "execution_count": 17,
   "id": "44944598",
   "metadata": {},
   "outputs": [
    {
     "name": "stdout",
     "output_type": "stream",
     "text": [
      "no\n",
      "no\n",
      "yes\n",
      "yes\n"
     ]
    }
   ],
   "source": [
    "i = (1,2,3,4)\n",
    "for j in i:\n",
    "    if j > 2:\n",
    "        print('yes')\n",
    "    else:\n",
    "        print('no')\n"
   ]
  },
  {
   "cell_type": "code",
   "execution_count": 18,
   "id": "3c13412e",
   "metadata": {},
   "outputs": [
    {
     "name": "stdout",
     "output_type": "stream",
     "text": [
      "no\n",
      "no\n",
      "yes\n",
      "yes\n"
     ]
    }
   ],
   "source": [
    "i = [1,2,3,4]\n",
    "for j in i:\n",
    "    if j > 2:\n",
    "        print('yes')\n",
    "    else:\n",
    "        print('no')"
   ]
  },
  {
   "cell_type": "markdown",
   "id": "b78c4c4e",
   "metadata": {},
   "source": [
    "Apparently, numbers can be grouped either with curved or square brackets. Note the use of \":\" after the for statement. Let's get back to the tutorial from the video:"
   ]
  },
  {
   "cell_type": "code",
   "execution_count": 19,
   "id": "54586798",
   "metadata": {},
   "outputs": [
    {
     "data": {
      "text/plain": [
       "3"
      ]
     },
     "execution_count": 19,
     "metadata": {},
     "output_type": "execute_result"
    }
   ],
   "source": [
    "7 % 4"
   ]
  },
  {
   "cell_type": "code",
   "execution_count": 20,
   "id": "c4b14747",
   "metadata": {},
   "outputs": [
    {
     "ename": "NameError",
     "evalue": "name 'mod' is not defined",
     "output_type": "error",
     "traceback": [
      "\u001b[0;31m---------------------------------------------------------------------------\u001b[0m",
      "\u001b[0;31mNameError\u001b[0m                                 Traceback (most recent call last)",
      "\u001b[0;32m/tmp/ipykernel_3564/891188313.py\u001b[0m in \u001b[0;36m<module>\u001b[0;34m\u001b[0m\n\u001b[0;32m----> 1\u001b[0;31m \u001b[0mmod\u001b[0m\u001b[0;34m(\u001b[0m\u001b[0;36m7\u001b[0m\u001b[0;34m)\u001b[0m\u001b[0;34m\u001b[0m\u001b[0;34m\u001b[0m\u001b[0m\n\u001b[0m",
      "\u001b[0;31mNameError\u001b[0m: name 'mod' is not defined"
     ]
    }
   ],
   "source": [
    "mod(7)"
   ]
  },
  {
   "cell_type": "code",
   "execution_count": 21,
   "id": "6dec92be",
   "metadata": {},
   "outputs": [
    {
     "data": {
      "text/plain": [
       "1"
      ]
     },
     "execution_count": 21,
     "metadata": {},
     "output_type": "execute_result"
    }
   ],
   "source": [
    "23 % 2"
   ]
  },
  {
   "cell_type": "code",
   "execution_count": 22,
   "id": "53abfb86",
   "metadata": {},
   "outputs": [
    {
     "data": {
      "text/plain": [
       "0"
      ]
     },
     "execution_count": 22,
     "metadata": {},
     "output_type": "execute_result"
    }
   ],
   "source": [
    "24 % 2"
   ]
  },
  {
   "cell_type": "markdown",
   "id": "af1d4ae6",
   "metadata": {},
   "source": [
    "The \"%\" symbol takes the place of the mod() command in MATLAB. It can be used to return the remainder after a division of two numbers."
   ]
  },
  {
   "cell_type": "code",
   "execution_count": 27,
   "id": "450e7fc8",
   "metadata": {},
   "outputs": [
    {
     "name": "stdout",
     "output_type": "stream",
     "text": [
      "the result is EVEN\n"
     ]
    }
   ],
   "source": [
    "#Mod can be used to check evenness or oddness\n",
    "i = 24\n",
    "if i % 2 == 1:\n",
    "    print('the result is ODD')\n",
    "else:\n",
    "    print('the result is EVEN')\n"
   ]
  },
  {
   "cell_type": "code",
   "execution_count": 28,
   "id": "7f00dbe2",
   "metadata": {},
   "outputs": [
    {
     "name": "stdout",
     "output_type": "stream",
     "text": [
      "the result is ODD\n"
     ]
    }
   ],
   "source": [
    "#Mod can be used to check evenness or oddness\n",
    "i = 23\n",
    "if i % 2 == 1:\n",
    "    print('the result is ODD')\n",
    "else:\n",
    "    print('the result is EVEN')"
   ]
  },
  {
   "cell_type": "code",
   "execution_count": 29,
   "id": "0f060057",
   "metadata": {},
   "outputs": [
    {
     "data": {
      "text/plain": [
       "10"
      ]
     },
     "execution_count": 29,
     "metadata": {},
     "output_type": "execute_result"
    }
   ],
   "source": [
    "#Powers\n",
    "2^8"
   ]
  },
  {
   "cell_type": "code",
   "execution_count": 30,
   "id": "27a555bf",
   "metadata": {},
   "outputs": [
    {
     "data": {
      "text/plain": [
       "16"
      ]
     },
     "execution_count": 30,
     "metadata": {},
     "output_type": "execute_result"
    }
   ],
   "source": [
    "#Powers\n",
    "2**4"
   ]
  },
  {
   "cell_type": "markdown",
   "id": "d8873d18",
   "metadata": {},
   "source": [
    "The carat \"^\" is a bitwise XOR (exclusive OR).\n",
    "\n",
    "It results to true if one (and only one) if the operands (evaluates to) true.\n",
    "\n",
    "To demonstrate:"
   ]
  },
  {
   "cell_type": "code",
   "execution_count": 31,
   "id": "248e9fd3",
   "metadata": {},
   "outputs": [
    {
     "data": {
      "text/plain": [
       "3"
      ]
     },
     "execution_count": 31,
     "metadata": {},
     "output_type": "execute_result"
    }
   ],
   "source": [
    "1^2"
   ]
  },
  {
   "cell_type": "code",
   "execution_count": 32,
   "id": "1cb2f581",
   "metadata": {},
   "outputs": [
    {
     "data": {
      "text/plain": [
       "8"
      ]
     },
     "execution_count": 32,
     "metadata": {},
     "output_type": "execute_result"
    }
   ],
   "source": [
    "9^1"
   ]
  },
  {
   "cell_type": "code",
   "execution_count": 33,
   "id": "45a20442",
   "metadata": {},
   "outputs": [
    {
     "data": {
      "text/plain": [
       "8"
      ]
     },
     "execution_count": 33,
     "metadata": {},
     "output_type": "execute_result"
    }
   ],
   "source": [
    "10^2"
   ]
  },
  {
   "cell_type": "code",
   "execution_count": 34,
   "id": "e33b07a6",
   "metadata": {},
   "outputs": [
    {
     "data": {
      "text/plain": [
       "7"
      ]
     },
     "execution_count": 34,
     "metadata": {},
     "output_type": "execute_result"
    }
   ],
   "source": [
    "100^99"
   ]
  },
  {
   "cell_type": "code",
   "execution_count": 35,
   "id": "925572a7",
   "metadata": {},
   "outputs": [
    {
     "data": {
      "text/plain": [
       "0"
      ]
     },
     "execution_count": 35,
     "metadata": {},
     "output_type": "execute_result"
    }
   ],
   "source": [
    "100^100"
   ]
  },
  {
   "cell_type": "raw",
   "id": "dab42757",
   "metadata": {},
   "source": [
    "#Think about it this way:\n",
    "\n",
    "1000  # 8 (binary)\n",
    "0011  # 3 (binary)\n",
    "----  # APPLY XOR ('vertically')\n",
    "1011  # result = 11 (binary)"
   ]
  },
  {
   "cell_type": "markdown",
   "id": "0571af64",
   "metadata": {},
   "source": [
    "Hmm... I'll stay away from the \"^\" for awhile. To raise one number to a power, use \"**\"."
   ]
  },
  {
   "cell_type": "code",
   "execution_count": 38,
   "id": "8bfcb8d6",
   "metadata": {},
   "outputs": [
    {
     "data": {
      "text/plain": [
       "123"
      ]
     },
     "execution_count": 38,
     "metadata": {},
     "output_type": "execute_result"
    }
   ],
   "source": [
    "(2+10)*10+(1+2)"
   ]
  },
  {
   "cell_type": "raw",
   "id": "8b73ac22",
   "metadata": {},
   "source": [
    "# Variable Names:\n",
    "    #Rules:\n",
    "        #Var names should be lowercase\n",
    "        #Avoid keywords in the software, e.g., \"list\", and \"str\"\n",
    "    #IDE's highlight keywords in a different color"
   ]
  },
  {
   "cell_type": "code",
   "execution_count": 41,
   "id": "a4f45525",
   "metadata": {},
   "outputs": [],
   "source": [
    "#Dynamic typing\n",
    "my_dogs = 2\n",
    "my_dogs = [\"sammy\",\"frankee\"]\n",
    "\n",
    "#this variable my_dogs can be assigned to multiple data types in a script (this is like MATLAB too). \n",
    "#In C++, integers are specified by 'int'. In a C++ code, the overlap of data types would result in an error."
   ]
  },
  {
   "cell_type": "markdown",
   "id": "11fa42ce",
   "metadata": {},
   "source": [
    "The type() command:"
   ]
  },
  {
   "cell_type": "code",
   "execution_count": 42,
   "id": "54d02623",
   "metadata": {},
   "outputs": [
    {
     "data": {
      "text/plain": [
       "int"
      ]
     },
     "execution_count": 42,
     "metadata": {},
     "output_type": "execute_result"
    }
   ],
   "source": [
    "a = 5\n",
    "type(a)"
   ]
  },
  {
   "cell_type": "code",
   "execution_count": 43,
   "id": "caadfa1c",
   "metadata": {},
   "outputs": [
    {
     "data": {
      "text/plain": [
       "str"
      ]
     },
     "execution_count": 43,
     "metadata": {},
     "output_type": "execute_result"
    }
   ],
   "source": [
    "a = \"frankee\"\n",
    "type(a)\n"
   ]
  },
  {
   "cell_type": "code",
   "execution_count": 44,
   "id": "b0dbdf75",
   "metadata": {},
   "outputs": [],
   "source": [
    "a = 5"
   ]
  },
  {
   "cell_type": "code",
   "execution_count": 45,
   "id": "4a4aa6b0",
   "metadata": {},
   "outputs": [
    {
     "data": {
      "text/plain": [
       "5"
      ]
     },
     "execution_count": 45,
     "metadata": {},
     "output_type": "execute_result"
    }
   ],
   "source": [
    "a"
   ]
  },
  {
   "cell_type": "code",
   "execution_count": 46,
   "id": "b59a4b56",
   "metadata": {},
   "outputs": [
    {
     "data": {
      "text/plain": [
       "10"
      ]
     },
     "execution_count": 46,
     "metadata": {},
     "output_type": "execute_result"
    }
   ],
   "source": [
    "a + a"
   ]
  },
  {
   "cell_type": "code",
   "execution_count": 47,
   "id": "b9b9c204",
   "metadata": {},
   "outputs": [],
   "source": [
    "a = a+a"
   ]
  },
  {
   "cell_type": "code",
   "execution_count": 48,
   "id": "3f22b88b",
   "metadata": {},
   "outputs": [
    {
     "data": {
      "text/plain": [
       "10"
      ]
     },
     "execution_count": 48,
     "metadata": {},
     "output_type": "execute_result"
    }
   ],
   "source": [
    "a"
   ]
  },
  {
   "cell_type": "code",
   "execution_count": 49,
   "id": "16e0a57a",
   "metadata": {},
   "outputs": [],
   "source": [
    "a = a+a"
   ]
  },
  {
   "cell_type": "code",
   "execution_count": 50,
   "id": "342a1b10",
   "metadata": {},
   "outputs": [
    {
     "data": {
      "text/plain": [
       "20"
      ]
     },
     "execution_count": 50,
     "metadata": {},
     "output_type": "execute_result"
    }
   ],
   "source": [
    "a"
   ]
  },
  {
   "cell_type": "markdown",
   "id": "7c4edf47",
   "metadata": {},
   "source": [
    "NB: variables can be recursively added to themselves (this behavior is also like MATLAB)"
   ]
  },
  {
   "cell_type": "markdown",
   "id": "7c5f35a4",
   "metadata": {},
   "source": [
    "Now, onto Strings:"
   ]
  },
  {
   "cell_type": "markdown",
   "id": "76a491e8",
   "metadata": {},
   "source": [
    "Strings are sequences of characters with either single or double quotes"
   ]
  },
  {
   "cell_type": "markdown",
   "id": "11ae2018",
   "metadata": {},
   "source": [
    "Strings are ordered sequences, so we can use indexing and slicing to grad sub-sections of the string. Indexing notation uses [] after the string. "
   ]
  },
  {
   "cell_type": "markdown",
   "id": "285dd827",
   "metadata": {},
   "source": [
    "Note, Python uses index 0 for the first index [0 1 2 3 4]. You can also use reverse indexing [0 -4 -3 -2 -1] from the end of the string"
   ]
  },
  {
   "cell_type": "raw",
   "id": "f3bed468",
   "metadata": {},
   "source": [
    "'Slicing' also allows you to grab a subsection of multiple characters, a \"slice\" of ther string, with the syntax: [start:stop:step]. \n",
    "\n",
    "Start: numerical index of the slice\n",
    "Stop: index you go up to but NOT INCLUDE\n",
    "Step: size of the step between Start and Stop."
   ]
  },
  {
   "cell_type": "code",
   "execution_count": 1,
   "id": "fb1d4dc9",
   "metadata": {},
   "outputs": [
    {
     "data": {
      "text/plain": [
       "'helloworld'"
      ]
     },
     "execution_count": 1,
     "metadata": {},
     "output_type": "execute_result"
    }
   ],
   "source": [
    "'hello' \"world\""
   ]
  },
  {
   "cell_type": "code",
   "execution_count": 2,
   "id": "be0c90ee",
   "metadata": {},
   "outputs": [
    {
     "data": {
      "text/plain": [
       "'helloworld'"
      ]
     },
     "execution_count": 2,
     "metadata": {},
     "output_type": "execute_result"
    }
   ],
   "source": [
    "'hello' + 'world'"
   ]
  },
  {
   "cell_type": "code",
   "execution_count": 3,
   "id": "59a37aeb",
   "metadata": {},
   "outputs": [
    {
     "data": {
      "text/plain": [
       "'hello world'"
      ]
     },
     "execution_count": 3,
     "metadata": {},
     "output_type": "execute_result"
    }
   ],
   "source": [
    "\"hello world\""
   ]
  },
  {
   "cell_type": "markdown",
   "id": "e86a2a31",
   "metadata": {},
   "source": [
    "The \"len\" function allows you to check the length of a string"
   ]
  },
  {
   "cell_type": "code",
   "execution_count": 1,
   "id": "c880c99f",
   "metadata": {},
   "outputs": [
    {
     "data": {
      "text/plain": [
       "16"
      ]
     },
     "execution_count": 1,
     "metadata": {},
     "output_type": "execute_result"
    }
   ],
   "source": [
    "#eg\n",
    "string = 'this is a string'\n",
    "len(string)"
   ]
  },
  {
   "cell_type": "markdown",
   "id": "68a7174a",
   "metadata": {},
   "source": [
    "Note that len counts whitespace"
   ]
  },
  {
   "cell_type": "code",
   "execution_count": 2,
   "id": "6cb6b834",
   "metadata": {},
   "outputs": [],
   "source": [
    "#a couple more string concatenation test cases\n",
    "string = ['abc' 'def']"
   ]
  },
  {
   "cell_type": "code",
   "execution_count": 3,
   "id": "fc42829b",
   "metadata": {},
   "outputs": [
    {
     "data": {
      "text/plain": [
       "['abcdef']"
      ]
     },
     "execution_count": 3,
     "metadata": {},
     "output_type": "execute_result"
    }
   ],
   "source": [
    "string"
   ]
  },
  {
   "cell_type": "code",
   "execution_count": 4,
   "id": "6f53b2a0",
   "metadata": {},
   "outputs": [
    {
     "data": {
      "text/plain": [
       "1"
      ]
     },
     "execution_count": 4,
     "metadata": {},
     "output_type": "execute_result"
    }
   ],
   "source": [
    "len(string)"
   ]
  },
  {
   "cell_type": "code",
   "execution_count": 5,
   "id": "8a5aba60",
   "metadata": {},
   "outputs": [],
   "source": [
    "string = ('abc' 'def')"
   ]
  },
  {
   "cell_type": "code",
   "execution_count": 6,
   "id": "dc4f7a80",
   "metadata": {},
   "outputs": [
    {
     "data": {
      "text/plain": [
       "'abcdef'"
      ]
     },
     "execution_count": 6,
     "metadata": {},
     "output_type": "execute_result"
    }
   ],
   "source": [
    "string"
   ]
  },
  {
   "cell_type": "code",
   "execution_count": 7,
   "id": "0fb01c82",
   "metadata": {},
   "outputs": [],
   "source": [
    "string = {'abc' 'def'}"
   ]
  },
  {
   "cell_type": "code",
   "execution_count": 8,
   "id": "f44515f6",
   "metadata": {},
   "outputs": [
    {
     "data": {
      "text/plain": [
       "{'abcdef'}"
      ]
     },
     "execution_count": 8,
     "metadata": {},
     "output_type": "execute_result"
    }
   ],
   "source": [
    "string"
   ]
  },
  {
   "cell_type": "markdown",
   "id": "8ba78049",
   "metadata": {},
   "source": [
    "Now moving onto string slicing and indexing!"
   ]
  },
  {
   "cell_type": "code",
   "execution_count": 9,
   "id": "51153f81",
   "metadata": {},
   "outputs": [],
   "source": [
    "string = \"hello world!\""
   ]
  },
  {
   "cell_type": "code",
   "execution_count": 11,
   "id": "f72f4ab8",
   "metadata": {},
   "outputs": [
    {
     "data": {
      "text/plain": [
       "'h'"
      ]
     },
     "execution_count": 11,
     "metadata": {},
     "output_type": "execute_result"
    }
   ],
   "source": [
    "#find index 0 of string\n",
    "string[0]"
   ]
  },
  {
   "cell_type": "code",
   "execution_count": 17,
   "id": "04c4fd3d",
   "metadata": {},
   "outputs": [
    {
     "data": {
      "text/plain": [
       "'h'"
      ]
     },
     "execution_count": 17,
     "metadata": {},
     "output_type": "execute_result"
    }
   ],
   "source": [
    "string[-12]"
   ]
  },
  {
   "cell_type": "markdown",
   "id": "359f25bb",
   "metadata": {},
   "source": [
    "Slicing:"
   ]
  },
  {
   "cell_type": "code",
   "execution_count": 19,
   "id": "c8bc1854",
   "metadata": {},
   "outputs": [
    {
     "data": {
      "text/plain": [
       "'ello world'"
      ]
     },
     "execution_count": 19,
     "metadata": {},
     "output_type": "execute_result"
    }
   ],
   "source": [
    "string[1:11]"
   ]
  },
  {
   "cell_type": "code",
   "execution_count": 21,
   "id": "33ab725a",
   "metadata": {},
   "outputs": [
    {
     "data": {
      "text/plain": [
       "'lo world!'"
      ]
     },
     "execution_count": 21,
     "metadata": {},
     "output_type": "execute_result"
    }
   ],
   "source": [
    "string[3:]"
   ]
  },
  {
   "cell_type": "code",
   "execution_count": 22,
   "id": "c99f693c",
   "metadata": {},
   "outputs": [
    {
     "data": {
      "text/plain": [
       "'hel'"
      ]
     },
     "execution_count": 22,
     "metadata": {},
     "output_type": "execute_result"
    }
   ],
   "source": [
    "string[:3]"
   ]
  },
  {
   "cell_type": "markdown",
   "id": "c11d1834",
   "metadata": {},
   "source": [
    "Slice notation is NON-INCLUSIVE!"
   ]
  },
  {
   "cell_type": "code",
   "execution_count": 27,
   "id": "037e90b8",
   "metadata": {},
   "outputs": [
    {
     "data": {
      "text/plain": [
       "'hlowrd'"
      ]
     },
     "execution_count": 27,
     "metadata": {},
     "output_type": "execute_result"
    }
   ],
   "source": [
    "string[::2]"
   ]
  },
  {
   "cell_type": "markdown",
   "id": "bb49e93c",
   "metadata": {},
   "source": [
    "In the above example, the first two colons mean start and stop indices, and the last number \"2\" is the step size. This is different to MATLAB which is start:step:stop. Python is start:stop:step"
   ]
  },
  {
   "cell_type": "code",
   "execution_count": 28,
   "id": "3c11fb91",
   "metadata": {},
   "outputs": [
    {
     "data": {
      "text/plain": [
       "'!dlrow olleh'"
      ]
     },
     "execution_count": 28,
     "metadata": {},
     "output_type": "execute_result"
    }
   ],
   "source": [
    "string[::-1]"
   ]
  },
  {
   "cell_type": "markdown",
   "id": "29826db7",
   "metadata": {},
   "source": [
    "Strings can be reversed by adding the \"-1\" to the step size in the example above."
   ]
  },
  {
   "cell_type": "code",
   "execution_count": 32,
   "id": "ecd47dca",
   "metadata": {},
   "outputs": [
    {
     "data": {
      "text/plain": [
       "'r'"
      ]
     },
     "execution_count": 32,
     "metadata": {},
     "output_type": "execute_result"
    }
   ],
   "source": [
    "string = \"Hello World\"\n",
    "string[-3]"
   ]
  },
  {
   "cell_type": "markdown",
   "id": "c88a83a3",
   "metadata": {},
   "source": [
    "Immutability of strings"
   ]
  },
  {
   "cell_type": "code",
   "execution_count": 33,
   "id": "6071391e",
   "metadata": {},
   "outputs": [
    {
     "ename": "TypeError",
     "evalue": "'str' object does not support item assignment",
     "output_type": "error",
     "traceback": [
      "\u001b[0;31m---------------------------------------------------------------------------\u001b[0m",
      "\u001b[0;31mTypeError\u001b[0m                                 Traceback (most recent call last)",
      "\u001b[0;32m/tmp/ipykernel_551/1815371856.py\u001b[0m in \u001b[0;36m<module>\u001b[0;34m\u001b[0m\n\u001b[1;32m      1\u001b[0m \u001b[0mname\u001b[0m \u001b[0;34m=\u001b[0m \u001b[0;34m\"Sam\"\u001b[0m\u001b[0;34m\u001b[0m\u001b[0;34m\u001b[0m\u001b[0m\n\u001b[0;32m----> 2\u001b[0;31m \u001b[0mname\u001b[0m\u001b[0;34m[\u001b[0m\u001b[0;36m0\u001b[0m\u001b[0;34m]\u001b[0m \u001b[0;34m=\u001b[0m \u001b[0;34m'P'\u001b[0m\u001b[0;34m\u001b[0m\u001b[0;34m\u001b[0m\u001b[0m\n\u001b[0m",
      "\u001b[0;31mTypeError\u001b[0m: 'str' object does not support item assignment"
     ]
    }
   ],
   "source": [
    "name = \"Sam\"\n",
    "name[0] = 'P'"
   ]
  },
  {
   "cell_type": "markdown",
   "id": "480d39a0",
   "metadata": {},
   "source": [
    "E.g., we cannot change characters in strings using indexes"
   ]
  },
  {
   "cell_type": "code",
   "execution_count": 35,
   "id": "bdd3e688",
   "metadata": {},
   "outputs": [],
   "source": [
    "#Instead, use concatenation\n",
    "name2 = 'P' + name[1:]"
   ]
  },
  {
   "cell_type": "code",
   "execution_count": 36,
   "id": "8d1abf9d",
   "metadata": {},
   "outputs": [
    {
     "data": {
      "text/plain": [
       "'Pam'"
      ]
     },
     "execution_count": 36,
     "metadata": {},
     "output_type": "execute_result"
    }
   ],
   "source": [
    "name2"
   ]
  },
  {
   "cell_type": "code",
   "execution_count": 37,
   "id": "d3175c63",
   "metadata": {},
   "outputs": [
    {
     "data": {
      "text/plain": [
       "'zzzzzzzzzz'"
      ]
     },
     "execution_count": 37,
     "metadata": {},
     "output_type": "execute_result"
    }
   ],
   "source": [
    "letter = 'z'\n",
    "letter*10"
   ]
  },
  {
   "cell_type": "code",
   "execution_count": 38,
   "id": "329eb292",
   "metadata": {},
   "outputs": [
    {
     "data": {
      "text/plain": [
       "'5'"
      ]
     },
     "execution_count": 38,
     "metadata": {},
     "output_type": "execute_result"
    }
   ],
   "source": [
    "str(2+3)"
   ]
  },
  {
   "cell_type": "markdown",
   "id": "cbb59b0a",
   "metadata": {},
   "source": [
    "To quickly modify strings, type a \".\" after the string name and then press TAB. Options to transform the string are populated."
   ]
  },
  {
   "cell_type": "code",
   "execution_count": 39,
   "id": "d928d55c",
   "metadata": {},
   "outputs": [
    {
     "data": {
      "text/plain": [
       "'HELLO WORLD'"
      ]
     },
     "execution_count": 39,
     "metadata": {},
     "output_type": "execute_result"
    }
   ],
   "source": [
    "#eg \n",
    "string = \"hello world\"\n",
    "string.upper()"
   ]
  },
  {
   "cell_type": "code",
   "execution_count": 45,
   "id": "c54189a2",
   "metadata": {},
   "outputs": [
    {
     "data": {
      "text/plain": [
       "8"
      ]
     },
     "execution_count": 45,
     "metadata": {},
     "output_type": "execute_result"
    }
   ],
   "source": [
    "string.index('r')"
   ]
  },
  {
   "cell_type": "markdown",
   "id": "0333921e",
   "metadata": {},
   "source": [
    "Ok, now moving onto Print Formatting with Strings"
   ]
  },
  {
   "cell_type": "code",
   "execution_count": 46,
   "id": "1d64765c",
   "metadata": {},
   "outputs": [
    {
     "data": {
      "text/plain": [
       "'variableName_2_3'"
      ]
     },
     "execution_count": 46,
     "metadata": {},
     "output_type": "execute_result"
    }
   ],
   "source": [
    "#Formatting with \".format\"\n",
    "string1 = 'variableName_{}_{}'\n",
    "string1.format('2','3')"
   ]
  },
  {
   "cell_type": "markdown",
   "id": "1aefaa70",
   "metadata": {},
   "source": [
    "So, using the curly brackets {} in a string can add (or \"interpolate\") strings with variables from the code. This behavior is a lot like the fprintf command in MATLAB."
   ]
  },
  {
   "cell_type": "code",
   "execution_count": 47,
   "id": "9e4591d7",
   "metadata": {},
   "outputs": [
    {
     "name": "stdout",
     "output_type": "stream",
     "text": [
      "The fox quick brown\n"
     ]
    }
   ],
   "source": [
    "print('The {} {} {}'.format('fox','quick','brown'))"
   ]
  },
  {
   "cell_type": "code",
   "execution_count": 51,
   "id": "c847bffa",
   "metadata": {},
   "outputs": [
    {
     "name": "stdout",
     "output_type": "stream",
     "text": [
      "The quick brown fox\n"
     ]
    }
   ],
   "source": [
    "#you can edit the positioning of the format strings using numbers in the curly brackets, e.g., \n",
    "#Remember, 0 is the first index!\n",
    "print('The {1} {2} {0}'.format('fox','quick','brown'))"
   ]
  },
  {
   "cell_type": "code",
   "execution_count": 54,
   "id": "48b42bf3",
   "metadata": {},
   "outputs": [
    {
     "name": "stdout",
     "output_type": "stream",
     "text": [
      "The quick brown fox\n"
     ]
    }
   ],
   "source": [
    "#Strings can also be added by assigning variable names, e.g.,\n",
    "print('The {q} {b} {f}'.format(f = 'fox',b = 'brown',q = 'quick'))"
   ]
  },
  {
   "cell_type": "code",
   "execution_count": 65,
   "id": "fd6a5151",
   "metadata": {},
   "outputs": [
    {
     "name": "stdout",
     "output_type": "stream",
     "text": [
      "0.003003003003003003\n",
      "The result was 0.003\n"
     ]
    }
   ],
   "source": [
    "#For floating point numbers, we can change the precision in printing.\n",
    "#Floating point numbers follow \"{value:width:precision f}\"\n",
    "#Width describes how long you want the printed value to be. Precision is the amount of sig. figs. to print. \n",
    "result1 = 1/333\n",
    "print(result1)\n",
    "\n",
    "print('The result was {r:1.3f}'.format(r=result1))"
   ]
  },
  {
   "cell_type": "code",
   "execution_count": null,
   "id": "027362a5",
   "metadata": {},
   "outputs": [],
   "source": []
  }
 ],
 "metadata": {
  "kernelspec": {
   "display_name": "Python 3 (ipykernel)",
   "language": "python",
   "name": "python3"
  },
  "language_info": {
   "codemirror_mode": {
    "name": "ipython",
    "version": 3
   },
   "file_extension": ".py",
   "mimetype": "text/x-python",
   "name": "python",
   "nbconvert_exporter": "python",
   "pygments_lexer": "ipython3",
   "version": "3.8.10"
  }
 },
 "nbformat": 4,
 "nbformat_minor": 5
}
