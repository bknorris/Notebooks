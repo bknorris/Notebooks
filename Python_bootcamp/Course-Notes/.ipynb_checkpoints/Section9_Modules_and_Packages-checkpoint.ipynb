{
 "cells": [
  {
   "cell_type": "markdown",
   "id": "e90896c7",
   "metadata": {},
   "source": [
    "# Modules and Packages"
   ]
  },
  {
   "cell_type": "markdown",
   "id": "aa6e21d4",
   "metadata": {},
   "source": [
    "### Pip install and pypi"
   ]
  },
  {
   "cell_type": "markdown",
   "id": "123a5229",
   "metadata": {},
   "source": [
    "* PyPi is a repo for open-source third-party Python packages\n",
    "* It's similar to RubyGems for Ruby, the File Exchange for MATLAB, and so on.\n",
    "* So far, we have only used libraries that come pre-installed with Python.\n",
    "* However, there are many other libraries available that are open-source and are shared on PyPi\n",
    "* We can use the command <b>pip install</b> at the command line to install these packages."
   ]
  },
  {
   "cell_type": "markdown",
   "id": "b79ff4ca",
   "metadata": {},
   "source": [
    "To download a package, type \"pip install [package name] into a command line (such as cmd)"
   ]
  },
  {
   "cell_type": "markdown",
   "id": "795c6b9e",
   "metadata": {},
   "source": [
    "### Googling to search for packages"
   ]
  },
  {
   "cell_type": "markdown",
   "id": "52bca911",
   "metadata": {},
   "source": [
    "e.g., Google \"python package for excel\""
   ]
  },
  {
   "cell_type": "markdown",
   "id": "40f2a877",
   "metadata": {},
   "source": [
    "* Type \"pip install openpyxl\"\n",
    "* Type \"python\"\n",
    "* Type \"import openpyxl\""
   ]
  },
  {
   "cell_type": "markdown",
   "id": "20a08014",
   "metadata": {},
   "source": [
    "### Creating unique modules and packages"
   ]
  },
  {
   "cell_type": "markdown",
   "id": "c031d156",
   "metadata": {},
   "source": [
    "* Modules are just .py scripts that you can call in another .py script\n",
    "* Packages are just a collection of modules"
   ]
  },
  {
   "cell_type": "markdown",
   "id": "900a830c",
   "metadata": {},
   "source": [
    "So, the next steps of the tutorial are in SublimeText (and the associated scripts can be found in the Modules and Packages section of the Bootcamp Jupyter Notebook). In essence, a user can create a series of scripts (save as .py) in Python and then a master script that <i>imports</i> these scripts as modules. "
   ]
  },
  {
   "cell_type": "code",
   "execution_count": 2,
   "id": "a17c2ed6",
   "metadata": {},
   "outputs": [
    {
     "ename": "ModuleNotFoundError",
     "evalue": "No module named 'mymodule'",
     "output_type": "error",
     "traceback": [
      "\u001b[0;31m---------------------------------------------------------------------------\u001b[0m",
      "\u001b[0;31mModuleNotFoundError\u001b[0m                       Traceback (most recent call last)",
      "\u001b[0;32m/tmp/ipykernel_593/1824778531.py\u001b[0m in \u001b[0;36m<module>\u001b[0;34m\u001b[0m\n\u001b[1;32m      1\u001b[0m \u001b[0;31m#I'm not going to run this, but say we create a script called \"myscript.py\" which contains a function my_func\u001b[0m\u001b[0;34m\u001b[0m\u001b[0;34m\u001b[0m\u001b[0;34m\u001b[0m\u001b[0m\n\u001b[0;32m----> 2\u001b[0;31m \u001b[0;32mfrom\u001b[0m \u001b[0mmymodule\u001b[0m \u001b[0;32mimport\u001b[0m \u001b[0mmy_func\u001b[0m\u001b[0;34m\u001b[0m\u001b[0;34m\u001b[0m\u001b[0m\n\u001b[0m\u001b[1;32m      3\u001b[0m \u001b[0;34m\u001b[0m\u001b[0m\n\u001b[1;32m      4\u001b[0m \u001b[0mmy_func\u001b[0m\u001b[0;34m(\u001b[0m\u001b[0;34m)\u001b[0m\u001b[0;34m\u001b[0m\u001b[0;34m\u001b[0m\u001b[0m\n",
      "\u001b[0;31mModuleNotFoundError\u001b[0m: No module named 'mymodule'"
     ]
    }
   ],
   "source": [
    "#I haven't done this, but say we create a script called \"myscript.py\" which contains a function my_func\n",
    "from mymodule import my_func\n",
    "\n",
    "my_func()"
   ]
  },
  {
   "cell_type": "markdown",
   "id": "d4cde876",
   "metadata": {},
   "source": [
    "Obviously, this failed to run because I can't create \"mymodule\" in Jupyter. But this is the general syntax for importing any module and contained function in Python."
   ]
  },
  {
   "cell_type": "code",
   "execution_count": 4,
   "id": "3ba12198",
   "metadata": {},
   "outputs": [],
   "source": [
    "#To create a Package, you first create a folder structure. \n",
    "#In each level of the structure, create an empty file called \"__init__.py\". \n",
    "#This file is KEY because it tells Python that the folder structure is a package. \n",
    "#Then, create modules in each level of the file structure. "
   ]
  },
  {
   "cell_type": "code",
   "execution_count": 7,
   "id": "b79bdfed",
   "metadata": {},
   "outputs": [
    {
     "ename": "ModuleNotFoundError",
     "evalue": "No module named 'MyMainPackage'",
     "output_type": "error",
     "traceback": [
      "\u001b[0;31m---------------------------------------------------------------------------\u001b[0m",
      "\u001b[0;31mModuleNotFoundError\u001b[0m                       Traceback (most recent call last)",
      "\u001b[0;32m/tmp/ipykernel_593/824428856.py\u001b[0m in \u001b[0;36m<module>\u001b[0;34m\u001b[0m\n\u001b[1;32m      1\u001b[0m \u001b[0;31m#To import from main and subdirectories, use the following syntax:\u001b[0m\u001b[0;34m\u001b[0m\u001b[0;34m\u001b[0m\u001b[0;34m\u001b[0m\u001b[0m\n\u001b[0;32m----> 2\u001b[0;31m \u001b[0;32mfrom\u001b[0m \u001b[0mMyMainPackage\u001b[0m \u001b[0;32mimport\u001b[0m \u001b[0msome_main_script\u001b[0m\u001b[0;34m\u001b[0m\u001b[0;34m\u001b[0m\u001b[0m\n\u001b[0m",
      "\u001b[0;31mModuleNotFoundError\u001b[0m: No module named 'MyMainPackage'"
     ]
    }
   ],
   "source": [
    "#To import from main and subdirectories, use the following syntax:\n",
    "from MyMainPackage import some_main_script\n",
    "from MyMainPackage.SubPackage import my_subscript"
   ]
  },
  {
   "cell_type": "markdown",
   "id": "e7fb4e0c",
   "metadata": {},
   "source": [
    "You can foresee creating a folder of, say, oceanographic processing scripts (such as, removing atmospheric pressure from a time series, computing sound speed in water, computing wave statistics) with subfolders for each type or application of each script. Then you would call the modules within the folders to run processing in a main script."
   ]
  },
  {
   "cell_type": "markdown",
   "id": "9f0cda1f",
   "metadata": {},
   "source": [
    "For what it's worth, I have been advised in the past not to create many nested scripts when doing data processing, because this gets very confusing to debug when something changes--a different data type or software update or something!"
   ]
  },
  {
   "cell_type": "markdown",
   "id": "5d0ccc00",
   "metadata": {},
   "source": [
    "### __name__ and \"__main__\""
   ]
  },
  {
   "cell_type": "markdown",
   "id": "7f688c8c",
   "metadata": {},
   "source": [
    "* Sometimes, when you are importing from a module, you want to know whether a module function is being used as an import, or if you are using the original .py file of that module\n",
    "    * Be sure to check the \"Explanation.txt\" in this section of the Bootcamp's Jupyter-Notebook!\n",
    "* In Python, all the script at indentation level 0 gets run automatically.\n",
    "* But, there is a built-in variable called __name__ which by default is equal to __main__, the level 0 indentation\n",
    "* So, scripts can be constructed with a bunch of def func(): calls, followed by an if statement relating name to main."
   ]
  },
  {
   "cell_type": "code",
   "execution_count": 8,
   "id": "58eef97d",
   "metadata": {},
   "outputs": [],
   "source": [
    "#For example\n",
    "def func():\n",
    "    print(\"func() in script.py\")\n",
    "\n",
    "print(\"This is level 0 indentation\")\n",
    "\n",
    "if __name__ == '__main__': #This checks to see if the script has been run directly or has been imported.\n",
    "    print(\"script.py is being run directly!\")\n",
    "else:\n",
    "    print(\"script.py has been imported!\")  "
   ]
  },
  {
   "cell_type": "code",
   "execution_count": null,
   "id": "0ab2a6c4",
   "metadata": {},
   "outputs": [],
   "source": []
  },
  {
   "cell_type": "code",
   "execution_count": null,
   "id": "978b166d",
   "metadata": {},
   "outputs": [],
   "source": []
  }
 ],
 "metadata": {
  "kernelspec": {
   "display_name": "Python 3 (ipykernel)",
   "language": "python",
   "name": "python3"
  },
  "language_info": {
   "codemirror_mode": {
    "name": "ipython",
    "version": 3
   },
   "file_extension": ".py",
   "mimetype": "text/x-python",
   "name": "python",
   "nbconvert_exporter": "python",
   "pygments_lexer": "ipython3",
   "version": "3.8.10"
  }
 },
 "nbformat": 4,
 "nbformat_minor": 5
}
