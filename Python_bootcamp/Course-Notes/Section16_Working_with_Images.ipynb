{
 "cells": [
  {
   "cell_type": "markdown",
   "id": "1a7bccbe",
   "metadata": {},
   "source": [
    "# Working with Images in Python\n",
    "\n",
    "* In this section we will focus on learning how to work with images with the Pillow library. \n",
    "* Using this library, we will show you how to open and save image files, and interact with images.\n",
    "* Since Pillow isn't a standard Python package. I'm going to install it in my Conda environment and code along in Spyder.\n"
   ]
  },
  {
   "cell_type": "markdown",
   "id": "2efaa49a",
   "metadata": {},
   "source": [
    "# Working with Pillow Library\n",
    "\n",
    "## Opening Images\n",
    "\n",
    "You can use Pillow to open image files. For a jupyter notebook, to show the file simply type the variable name holding the image. For other IDEs , the image variable will have a [.show() method.](https://stackoverflow.com/questions/28139637/how-can-i-display-an-image-using-pillow)"
   ]
  },
  {
   "cell_type": "markdown",
   "id": "f5a90d62",
   "metadata": {},
   "source": [
    "## Cropping Images\n",
    "\n",
    "To crop images (that is grab a sub section) you can use the crop() method on the image object. The crop() method returns a rectangular region from this image. The box is a 4-tuple defining the left, upper, right, and lower pixel coordinate.\n",
    "\n",
    "Note! If you take a look at the documentation string, it says the tuple you pass in is defined as (x,y,w,h). These variables can be a bit decieving. Its not really a height or width that is being passed, but instead the end coordinates of your width and height.\n",
    "\n",
    "\n",
    "All the coordinates of box (x, y, w, h) are measured from the top left corner of the image. Again, all 4 of these values are coordinates!"
   ]
  },
  {
   "cell_type": "markdown",
   "id": "25aa30cf",
   "metadata": {},
   "source": [
    "### Copying and Pasting Images\n",
    "\n",
    "We can create copies with the copy() method and paste images on top of others with the paste() method."
   ]
  },
  {
   "cell_type": "markdown",
   "id": "35f6f8b7",
   "metadata": {},
   "source": [
    "### Rotating Images\n",
    "\n",
    "You can rotate images by specifying the amount of degrees to rotate on the rotate() method. The original dimensions will be kept and \"filled\" in with black. You can optionally pass in the expand parameter to fill the new rotated image to the old dimensions."
   ]
  },
  {
   "cell_type": "markdown",
   "id": "c09fca2a",
   "metadata": {},
   "source": [
    "### Transparency\n",
    "We can add an alpha value (RGBA stands for RED,Green,Blue, Alpha) where values can go from 0 to 255. If Alpha is 0 the image is completely transparent, if it is 255 then its completely opaque.\n",
    "\n",
    "You can create your own color here to check for possible values: https://developer.mozilla.org/en-US/docs/Web/CSS/CSS_Colors/Color_picker_tool\n",
    "\n",
    "We can adjust image alpha values with the putalpha() method:\n"
   ]
  }
 ],
 "metadata": {
  "kernelspec": {
   "display_name": "Python 3 (ipykernel)",
   "language": "python",
   "name": "python3"
  },
  "language_info": {
   "codemirror_mode": {
    "name": "ipython",
    "version": 3
   },
   "file_extension": ".py",
   "mimetype": "text/x-python",
   "name": "python",
   "nbconvert_exporter": "python",
   "pygments_lexer": "ipython3",
   "version": "3.8.10"
  }
 },
 "nbformat": 4,
 "nbformat_minor": 5
}
