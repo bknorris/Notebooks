{
 "cells": [
  {
   "cell_type": "markdown",
   "id": "1a7bccbe",
   "metadata": {},
   "source": [
    "## Working with Images in Python\n",
    "\n",
    "* In this section we will focus on learning how to work with images with the Pillow library. \n",
    "* Using this library, we will show you how to open and save image files, and interact with images.\n",
    "* Since Pillow isn't a standard Python package. I'm going to install it in my Conda environment and code along in Spyder.\n"
   ]
  },
  {
   "cell_type": "code",
   "execution_count": null,
   "id": "2e523693",
   "metadata": {},
   "outputs": [],
   "source": []
  }
 ],
 "metadata": {
  "kernelspec": {
   "display_name": "Python 3 (ipykernel)",
   "language": "python",
   "name": "python3"
  },
  "language_info": {
   "codemirror_mode": {
    "name": "ipython",
    "version": 3
   },
   "file_extension": ".py",
   "mimetype": "text/x-python",
   "name": "python",
   "nbconvert_exporter": "python",
   "pygments_lexer": "ipython3",
   "version": "3.8.10"
  }
 },
 "nbformat": 4,
 "nbformat_minor": 5
}
