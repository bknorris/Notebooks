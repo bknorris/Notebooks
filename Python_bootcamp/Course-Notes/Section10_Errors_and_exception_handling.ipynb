{
 "cells": [
  {
   "cell_type": "markdown",
   "id": "61c509cf",
   "metadata": {},
   "source": [
    "# Errors and Exception Handling "
   ]
  },
  {
   "cell_type": "markdown",
   "id": "ab84d841",
   "metadata": {},
   "source": [
    "* We can use error handling to let the script continue with the other code, even if an error occurs\n",
    "* There are three keywords associated with error handling:\n",
    "    * try: block of code to be attempted\n",
    "    * except: block of code will execute in case there is an error in the try block\n",
    "    * finally: a final block of code to be executed, regardless of an error.\n",
    "* This is pretty much identical behavior to MATLAB's try/catch code."
   ]
  },
  {
   "cell_type": "code",
   "execution_count": 1,
   "id": "1953d493",
   "metadata": {},
   "outputs": [],
   "source": [
    "#Lets create an error\n",
    "def add(n1,n2):\n",
    "    print(n1+n2)"
   ]
  },
  {
   "cell_type": "code",
   "execution_count": 2,
   "id": "2818c081",
   "metadata": {},
   "outputs": [
    {
     "name": "stdout",
     "output_type": "stream",
     "text": [
      "30\n"
     ]
    }
   ],
   "source": [
    "add(10,20)"
   ]
  },
  {
   "cell_type": "code",
   "execution_count": 3,
   "id": "8d9e6f16",
   "metadata": {},
   "outputs": [],
   "source": [
    "number1 = 10"
   ]
  },
  {
   "cell_type": "code",
   "execution_count": 4,
   "id": "f379fdb9",
   "metadata": {},
   "outputs": [
    {
     "name": "stdout",
     "output_type": "stream",
     "text": [
      "please provide a number: 20\n"
     ]
    }
   ],
   "source": [
    "number2 = input(\"please provide a number: \")"
   ]
  },
  {
   "cell_type": "code",
   "execution_count": 5,
   "id": "bf4204e8",
   "metadata": {},
   "outputs": [
    {
     "ename": "TypeError",
     "evalue": "unsupported operand type(s) for +: 'int' and 'str'",
     "output_type": "error",
     "traceback": [
      "\u001b[0;31m---------------------------------------------------------------------------\u001b[0m",
      "\u001b[0;31mTypeError\u001b[0m                                 Traceback (most recent call last)",
      "\u001b[0;32m/tmp/ipykernel_709/3945644112.py\u001b[0m in \u001b[0;36m<module>\u001b[0;34m\u001b[0m\n\u001b[0;32m----> 1\u001b[0;31m \u001b[0madd\u001b[0m\u001b[0;34m(\u001b[0m\u001b[0mnumber1\u001b[0m\u001b[0;34m,\u001b[0m\u001b[0mnumber2\u001b[0m\u001b[0;34m)\u001b[0m \u001b[0;31m#this is adding an integer to a string (input creates a string)\u001b[0m\u001b[0;34m\u001b[0m\u001b[0;34m\u001b[0m\u001b[0m\n\u001b[0m",
      "\u001b[0;32m/tmp/ipykernel_709/528814088.py\u001b[0m in \u001b[0;36madd\u001b[0;34m(n1, n2)\u001b[0m\n\u001b[1;32m      1\u001b[0m \u001b[0;31m#Lets create an error\u001b[0m\u001b[0;34m\u001b[0m\u001b[0;34m\u001b[0m\u001b[0;34m\u001b[0m\u001b[0m\n\u001b[1;32m      2\u001b[0m \u001b[0;32mdef\u001b[0m \u001b[0madd\u001b[0m\u001b[0;34m(\u001b[0m\u001b[0mn1\u001b[0m\u001b[0;34m,\u001b[0m\u001b[0mn2\u001b[0m\u001b[0;34m)\u001b[0m\u001b[0;34m:\u001b[0m\u001b[0;34m\u001b[0m\u001b[0;34m\u001b[0m\u001b[0m\n\u001b[0;32m----> 3\u001b[0;31m     \u001b[0mprint\u001b[0m\u001b[0;34m(\u001b[0m\u001b[0mn1\u001b[0m\u001b[0;34m+\u001b[0m\u001b[0mn2\u001b[0m\u001b[0;34m)\u001b[0m\u001b[0;34m\u001b[0m\u001b[0;34m\u001b[0m\u001b[0m\n\u001b[0m",
      "\u001b[0;31mTypeError\u001b[0m: unsupported operand type(s) for +: 'int' and 'str'"
     ]
    }
   ],
   "source": [
    "add(number1,number2) #this is adding an integer to a string (input creates a string)"
   ]
  },
  {
   "cell_type": "code",
   "execution_count": 6,
   "id": "74194d0f",
   "metadata": {},
   "outputs": [
    {
     "name": "stdout",
     "output_type": "stream",
     "text": [
      "you cant add integers and strings!\n",
      "20\n"
     ]
    }
   ],
   "source": [
    "#let's try and except this error\n",
    "try: \n",
    "    add(number1,number2)   \n",
    "except: \n",
    "    print(\"you cant add integers and strings!\")\n",
    "finally:\n",
    "    add(10,10)\n",
    "        "
   ]
  },
  {
   "cell_type": "code",
   "execution_count": 7,
   "id": "e4772afb",
   "metadata": {},
   "outputs": [
    {
     "name": "stdout",
     "output_type": "stream",
     "text": [
      "20\n",
      "Adding went ok\n"
     ]
    }
   ],
   "source": [
    "#let's try and except this error with an else statement\n",
    "try: \n",
    "    add(number1,10)   \n",
    "except: \n",
    "    print(\"you cant add integers and strings!\")\n",
    "else:\n",
    "    print(\"Adding went ok\")"
   ]
  },
  {
   "cell_type": "code",
   "execution_count": 8,
   "id": "b409afe7",
   "metadata": {},
   "outputs": [
    {
     "name": "stdout",
     "output_type": "stream",
     "text": [
      "I always run at the end of code\n"
     ]
    }
   ],
   "source": [
    "#A new example\n",
    "try:\n",
    "    f = open('testfile','w')\n",
    "    f.write(\"Write a test line to file\")\n",
    "except TypeError:\n",
    "    print(\"There was a file type error!\")\n",
    "except OSError:\n",
    "    print('Improper write permissions!')\n",
    "finally:\n",
    "    print('I always run at the end of code')"
   ]
  },
  {
   "cell_type": "code",
   "execution_count": 9,
   "id": "189e0dfe",
   "metadata": {},
   "outputs": [
    {
     "name": "stdout",
     "output_type": "stream",
     "text": [
      "Improper write permissions!\n",
      "I always run at the end of code\n"
     ]
    }
   ],
   "source": [
    "#A new example by trying to write to a file that we've only used read ('r') permissions to open!\n",
    "try:\n",
    "    f = open('testfile','r')\n",
    "    f.write(\"Write a test line to file\")\n",
    "except TypeError:\n",
    "    print(\"There was a file type error!\")\n",
    "except OSError:\n",
    "    print('Improper write permissions!')\n",
    "finally:\n",
    "    print('I always run at the end of code')"
   ]
  },
  {
   "cell_type": "code",
   "execution_count": 10,
   "id": "a63a5a2c",
   "metadata": {},
   "outputs": [],
   "source": [
    "#Another example, try to get input from a user\n",
    "def ask_for_int(): #get an integer\n",
    "    try:\n",
    "        result = int(input(\"please provide a number: \"))\n",
    "    except:\n",
    "        print(\"Whoops, that is not a number!\")\n",
    "    finally:\n",
    "        print(\"end of try/except\")"
   ]
  },
  {
   "cell_type": "code",
   "execution_count": 11,
   "id": "89bc43e5",
   "metadata": {},
   "outputs": [
    {
     "name": "stdout",
     "output_type": "stream",
     "text": [
      "please provide a number: 20\n",
      "end of try/except\n"
     ]
    }
   ],
   "source": [
    "ask_for_int()"
   ]
  },
  {
   "cell_type": "code",
   "execution_count": 12,
   "id": "f12e8041",
   "metadata": {},
   "outputs": [
    {
     "name": "stdout",
     "output_type": "stream",
     "text": [
      "please provide a number: twenty\n",
      "Whoops, that is not a number!\n",
      "end of try/except\n"
     ]
    }
   ],
   "source": [
    "ask_for_int()"
   ]
  },
  {
   "cell_type": "code",
   "execution_count": 6,
   "id": "772d4671",
   "metadata": {},
   "outputs": [],
   "source": [
    "#Another example, try to get input from a user\n",
    "#Now we've added a while statement that continually loops the try/except block until the correct type is provided\n",
    "def ask_for_int(): #get an integer\n",
    "    result = []\n",
    "    while result != type(int):\n",
    "        try:\n",
    "            result = int(input(\"please provide a number: \"))\n",
    "        except:\n",
    "            print(\"Whoops, that is not a integer!\")\n",
    "            continue\n",
    "        else:\n",
    "            break\n",
    "        finally:\n",
    "            print(\"end of try/except\")"
   ]
  },
  {
   "cell_type": "code",
   "execution_count": 7,
   "id": "3192f2c1",
   "metadata": {
    "scrolled": true
   },
   "outputs": [
    {
     "name": "stdout",
     "output_type": "stream",
     "text": [
      "please provide a number: twenty\n",
      "Whoops, that is not a integer!\n",
      "end of try/except\n",
      "please provide a number: 20\n",
      "end of try/except\n"
     ]
    }
   ],
   "source": [
    "ask_for_int()"
   ]
  },
  {
   "cell_type": "markdown",
   "id": "13c4c30d",
   "metadata": {},
   "source": [
    "## Unit Testing\n",
    "* As you begin to expand into larger multi-file projects it becomes important to have tests in place.\n",
    "* This way as you make changes or update your code, you can run your test files to make sure previous code still runs as expected.\n",
    "    * <b>pylint</b>: a library that looks at your code and reports back possible issues;\n",
    "    * <b>unittest</b>: a built-in library will allow you to test your own programs and check that you are still getting desired outputs.\n",
    "* I'm pretty sure Spyder has linting built in."
   ]
  },
  {
   "cell_type": "markdown",
   "id": "829cdbe8",
   "metadata": {},
   "source": [
    "I installed a linter called 'flake8' in WSL which works similarly as <i>pylint</i>.\n",
    "Call it from WSL on the test script <i>linter_test.py</i> with:<br>\n",
    "<code>python3 -m flake8 linter_test.py</code>"
   ]
  },
  {
   "cell_type": "markdown",
   "id": "e33d7072",
   "metadata": {},
   "source": [
    "Also note that Spyder has it's own built-in linter called <i>pyflakes E</i>. I was able to enable PEP 8 linting in Spyder through the user prefs (and recommendation from Stack Overflow 🙏)"
   ]
  },
  {
   "cell_type": "markdown",
   "id": "3dfdf4e7",
   "metadata": {},
   "source": [
    "For notes on unittest, check out the test scripts I've written in Spyder, <i>cap_test.py</i> and <i>cap_text.py</i>. I've copied these scripts here for easy reference:\n",
    "<br><br>\n",
    "<b>cap_text.py</b>\n",
    "<pre>\n",
    "    <code>\n",
    "        def cap_text(text):\n",
    "            '''\n",
    "            Input a string\n",
    "            Output capitalized string\n",
    "\n",
    "            NOTE: the original code used 'capitalize'\n",
    "            which only capitalizes the first letter of an input string.\n",
    "            'title' capitalizes all first letters after whitespace in an input string.\n",
    "\n",
    "            '''\n",
    "            #return text.capitalize()\n",
    "            return text.title()\n",
    "  </code>\n",
    "</pre>\n",
    "<br>\n",
    "<b>cap_test.py</b>\n",
    "<pre>\n",
    "    <code>\n",
    "        import unittest\n",
    "        import cap_text\n",
    "\n",
    "        class TestCap(unittest.TestCase):\n",
    "\n",
    "            def test_one_word(self):\n",
    "                text = 'python'\n",
    "                result = cap_text.cap_text(text)\n",
    "                self.assertEqual(result, 'Python')\n",
    "            def test_two_word(self):\n",
    "                text = 'monty python'\n",
    "                result = cap_text.cap_text(text)\n",
    "                self.assertEqual(result, 'Monty Python')\n",
    "\n",
    "        if __name__=='__main__':\n",
    "            unittest.main()\n",
    "\n",
    "        '''\n",
    "        Create class, create function \"test_one\" and \"test_two\"\n",
    "        Call functions that you want to test and make\n",
    "        sure the output of the test equals some value.\n",
    "        '''  \n",
    "  </code>\n",
    "</pre>"
   ]
  },
  {
   "cell_type": "markdown",
   "id": "ed113f42",
   "metadata": {},
   "source": [
    "The syntax of the <code>def</code> calls in the <i>cap_test.py</i> script above is key. I could envision running a MATLAB script to produce some data, then saving a segment of the data as CSV or whatever, and then writing a new script in Python, and testing the output of that script to match the output of the MATLAB script. "
   ]
  },
  {
   "cell_type": "code",
   "execution_count": null,
   "id": "e583ff3d",
   "metadata": {},
   "outputs": [],
   "source": []
  }
 ],
 "metadata": {
  "kernelspec": {
   "display_name": "Python 3 (ipykernel)",
   "language": "python",
   "name": "python3"
  },
  "language_info": {
   "codemirror_mode": {
    "name": "ipython",
    "version": 3
   },
   "file_extension": ".py",
   "mimetype": "text/x-python",
   "name": "python",
   "nbconvert_exporter": "python",
   "pygments_lexer": "ipython3",
   "version": "3.8.10"
  }
 },
 "nbformat": 4,
 "nbformat_minor": 5
}
