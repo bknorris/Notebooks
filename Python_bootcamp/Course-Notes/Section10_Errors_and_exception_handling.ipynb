{
 "cells": [
  {
   "cell_type": "markdown",
   "id": "61c509cf",
   "metadata": {},
   "source": [
    "# Errors and Exception Handling "
   ]
  },
  {
   "cell_type": "code",
   "execution_count": null,
   "id": "e7d26355",
   "metadata": {},
   "outputs": [],
   "source": []
  }
 ],
 "metadata": {
  "kernelspec": {
   "display_name": "Python 3 (ipykernel)",
   "language": "python",
   "name": "python3"
  },
  "language_info": {
   "codemirror_mode": {
    "name": "ipython",
    "version": 3
   },
   "file_extension": ".py",
   "mimetype": "text/x-python",
   "name": "python",
   "nbconvert_exporter": "python",
   "pygments_lexer": "ipython3",
   "version": "3.8.10"
  }
 },
 "nbformat": 4,
 "nbformat_minor": 5
}
