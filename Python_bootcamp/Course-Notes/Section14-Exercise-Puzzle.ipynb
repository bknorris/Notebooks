{
 "cells": [
  {
   "cell_type": "markdown",
   "metadata": {},
   "source": [
    "___\n",
    "\n",
    "<a href='https://www.udemy.com/user/joseportilla/'><img src='../../Pierian_Data_Logo.png'/></a>\n",
    "___\n",
    "<center><em>Content Copyright by Pierian Data</em></center>"
   ]
  },
  {
   "cell_type": "markdown",
   "metadata": {},
   "source": [
    "# Advanced Modules Exercise Puzzle\n",
    "\n",
    "It's time to test your new skills, this puzzle project will combine multiple skills sets, including unzipping files with Python, using os module to automatically search through lots of files.\n",
    "\n",
    "## Your Goal\n",
    "\n",
    "This is a puzzle, so we don't want to give you too much guidance and instead have you figure out things on your own.\n",
    "\n",
    "There is a .zip file called 'unzip_me_for_instructions.zip', unzip it, open the .txt file with Python, read the instructions and see if you can figure out what you need to do!\n",
    "\n",
    "**If you get stuck or don't know where to start, here is a [guide/hints](https://docs.google.com/document/d/1JxydUr4n4fSR0EwwuwT-aHia-yPK6r-oTBuVT2sqheo/edit?usp=sharing)**"
   ]
  },
  {
   "cell_type": "code",
   "execution_count": 1,
   "metadata": {},
   "outputs": [
    {
     "name": "stdout",
     "output_type": "stream",
     "text": [
      "\u001b[0m\u001b[01;32m07-Advanced-Modules-Exercise-Puzzle.ipynb\u001b[0m*     \u001b[34;42mextracted_content\u001b[0m/\r\n",
      "\u001b[01;32m08-Advanced-Modules-Exercise-Solutions.ipynb\u001b[0m*  \u001b[01;32munzip_me_for_instructions.zip\u001b[0m*\r\n"
     ]
    }
   ],
   "source": [
    "ls"
   ]
  },
  {
   "cell_type": "code",
   "execution_count": 2,
   "metadata": {},
   "outputs": [],
   "source": [
    "import shutil\n",
    "\n",
    "shutil.unpack_archive('unzip_me_for_instructions.zip','unzip_me_for_instructions','zip')"
   ]
  },
  {
   "cell_type": "code",
   "execution_count": 3,
   "metadata": {},
   "outputs": [
    {
     "name": "stdout",
     "output_type": "stream",
     "text": [
      "\u001b[0m\u001b[01;32m07-Advanced-Modules-Exercise-Puzzle.ipynb\u001b[0m*     \u001b[34;42munzip_me_for_instructions\u001b[0m/\r\n",
      "\u001b[01;32m08-Advanced-Modules-Exercise-Solutions.ipynb\u001b[0m*  \u001b[01;32munzip_me_for_instructions.zip\u001b[0m*\r\n",
      "\u001b[34;42mextracted_content\u001b[0m/\r\n"
     ]
    }
   ],
   "source": [
    "ls"
   ]
  },
  {
   "cell_type": "code",
   "execution_count": 5,
   "metadata": {},
   "outputs": [],
   "source": [
    "with open('unzip_me_for_instructions/extracted_content/Instructions.txt') as f:\n",
    "    lines = f.readlines()"
   ]
  },
  {
   "cell_type": "code",
   "execution_count": 19,
   "metadata": {},
   "outputs": [
    {
     "name": "stdout",
     "output_type": "stream",
     "text": [
      "['Good work on unzipping the file!\\n', 'You should now see 5 folders, each with a lot of random .txt files.\\n', 'Within one of these text files is a telephone number formated ###-###-#### \\n', 'Use the Python os module and regular expressions to iterate through each file, open it, and search for a telephone number.\\n', 'Good luck!']\n"
     ]
    }
   ],
   "source": [
    "print(lines)"
   ]
  },
  {
   "cell_type": "code",
   "execution_count": 9,
   "metadata": {},
   "outputs": [
    {
     "name": "stdout",
     "output_type": "stream",
     "text": [
      "\u001b[0m\u001b[01;32mAEITMYIRQLP.txt\u001b[0m*  \u001b[01;32mBTYWAHLHKBM.txt\u001b[0m*  \u001b[01;32mCXBVCTRBBIE.txt\u001b[0m*  \u001b[01;32mEIPWXMQZJKU.txt\u001b[0m*\r\n",
      "\u001b[01;32mAPJKSRITGGX.txt\u001b[0m*  \u001b[01;32mBUGKBZWRRVI.txt\u001b[0m*  \u001b[01;32mDDLASODUVPX.txt\u001b[0m*  \u001b[01;32mESIZWBHMGDP.txt\u001b[0m*\r\n",
      "\u001b[01;32mAQKATDFGXTS.txt\u001b[0m*  \u001b[01;32mBVBURZZCAPR.txt\u001b[0m*  \u001b[01;32mDHZBAAYEADM.txt\u001b[0m*  \u001b[01;32mETCUEXWNBCF.txt\u001b[0m*\r\n",
      "\u001b[01;32mARLKFCWIAJE.txt\u001b[0m*  \u001b[01;32mCAHBEVSVDDN.txt\u001b[0m*  \u001b[01;32mDQPZQLBCJYP.txt\u001b[0m*  \u001b[01;32mEYTCGIOYWIW.txt\u001b[0m*\r\n",
      "\u001b[01;32mAXJGVPVEFAS.txt\u001b[0m*  \u001b[01;32mCOMGMZBJAYE.txt\u001b[0m*  \u001b[01;32mDYOPIIVMZOO.txt\u001b[0m*\r\n",
      "\u001b[01;32mBNUQEHCFRTG.txt\u001b[0m*  \u001b[01;32mCRFSDGYFSHA.txt\u001b[0m*  \u001b[01;32mDZUWWXYIAEL.txt\u001b[0m*\r\n",
      "\u001b[01;32mBSKJDRNEZQM.txt\u001b[0m*  \u001b[01;32mCSCLFZCDYYC.txt\u001b[0m*  \u001b[01;32mEAAOEPSAWMQ.txt\u001b[0m*\r\n"
     ]
    }
   ],
   "source": [
    "ls 'unzip_me_for_instructions/extracted_content/five'"
   ]
  },
  {
   "cell_type": "code",
   "execution_count": 30,
   "metadata": {},
   "outputs": [
    {
     "name": "stdout",
     "output_type": "stream",
     "text": [
      "Folder: unzip_me_for_instructions/extracted_content/\n",
      "Subfolder: unzip_me_for_instructions/extracted_content/\n",
      "File: Instructions.txt\n",
      "Folder: unzip_me_for_instructions/extracted_content/Five\n",
      "Subfolder: unzip_me_for_instructions/extracted_content/Five\n",
      "File: AEITMYIRQLP.txt\n",
      "File: APJKSRITGGX.txt\n",
      "File: AQKATDFGXTS.txt\n",
      "File: ARLKFCWIAJE.txt\n",
      "File: AXJGVPVEFAS.txt\n",
      "File: BNUQEHCFRTG.txt\n",
      "File: BSKJDRNEZQM.txt\n",
      "File: BTYWAHLHKBM.txt\n",
      "File: BUGKBZWRRVI.txt\n",
      "File: BVBURZZCAPR.txt\n",
      "File: CAHBEVSVDDN.txt\n",
      "File: COMGMZBJAYE.txt\n",
      "File: CRFSDGYFSHA.txt\n",
      "File: CSCLFZCDYYC.txt\n",
      "File: CXBVCTRBBIE.txt\n",
      "File: DDLASODUVPX.txt\n",
      "File: DHZBAAYEADM.txt\n",
      "File: DQPZQLBCJYP.txt\n",
      "File: DYOPIIVMZOO.txt\n",
      "File: DZUWWXYIAEL.txt\n",
      "File: EAAOEPSAWMQ.txt\n",
      "File: EIPWXMQZJKU.txt\n",
      "File: ESIZWBHMGDP.txt\n",
      "File: ETCUEXWNBCF.txt\n",
      "File: EYTCGIOYWIW.txt\n",
      "Folder: unzip_me_for_instructions/extracted_content/Four\n",
      "Subfolder: unzip_me_for_instructions/extracted_content/Four\n",
      "File: ECIOBYCDVFI.txt\n",
      "File: EMTGPSXQEJX.txt\n",
      "File: EPRNUHRSESC.txt\n",
      "File: ESDIZXHYCVY.txt\n",
      "File: EXVQSVBQQQH.txt\n",
      "File: QCTCKDIBBVG.txt\n",
      "File: QCWCFLKNZMN.txt\n",
      "File: QDDETWBHJYC.txt\n",
      "File: QTDYYIFPHAU.txt\n",
      "File: QVNJULGXNUM.txt\n",
      "File: REAXWSOIQDY.txt\n",
      "File: ROICPTWKXDX.txt\n",
      "File: RSXOTNGKBML.txt\n",
      "File: RXDARIDGKBF.txt\n",
      "File: RYNXFYXMKHG.txt\n",
      "File: TAKNAVDMZKV.txt\n",
      "File: THPNEGKTJWI.txt\n",
      "File: TJFMLJODVAD.txt\n",
      "File: TKCZSFQNJTX.txt\n",
      "File: TWUOYFCCYBQ.txt\n",
      "File: WFSKPTXPFCH.txt\n",
      "File: WHTOHQUWXIN.txt\n",
      "File: WNJISWPEBRS.txt\n",
      "File: WXDJDOGZEHN.txt\n",
      "File: WYDLGSGGXKV.txt\n",
      "Folder: unzip_me_for_instructions/extracted_content/One\n",
      "Subfolder: unzip_me_for_instructions/extracted_content/One\n",
      "File: HDOHZHFSTTK.txt\n",
      "File: HFUTPPAXDIS.txt\n",
      "File: HMNZTLIFGPD.txt\n",
      "File: HRQFTHKVJTL.txt\n",
      "File: HVUTZEVMSBW.txt\n",
      "File: JDLRVFCXYLU.txt\n",
      "File: JEHBLZPUPSP.txt\n",
      "File: JLTXKIGCWDL.txt\n",
      "File: JQUOBKFUACN.txt\n",
      "File: JTHSNBNPQSE.txt\n",
      "File: KCXGNQCZBLO.txt\n",
      "File: KFIUZFERLET.txt\n",
      "File: KMMLGJOWLGI.txt\n",
      "File: KNBSKDREHQU.txt\n",
      "File: KTXDHIOKAUI.txt\n",
      "File: LDGOCUQJNNS.txt\n",
      "File: LFEATJAAYDC.txt\n",
      "File: LHODFIKVTQA.txt\n",
      "File: LIFDHOFKWOI.txt\n",
      "File: LPNDVDXPZIG.txt\n",
      "File: PDJMSMNKIRM.txt\n",
      "File: PHWAVPEKAER.txt\n",
      "File: PLYCGPVEAWO.txt\n",
      "File: PQNVCVJINAR.txt\n",
      "File: PTOBBCJYURJ.txt\n",
      "Folder: unzip_me_for_instructions/extracted_content/Three\n",
      "Subfolder: unzip_me_for_instructions/extracted_content/Three\n",
      "File: VAQIJTDOFUJ.txt\n",
      "File: VCFJCGJFBIH.txt\n",
      "File: VSXFSTABZDY.txt\n",
      "File: VVHFVZUNLOO.txt\n",
      "File: VVKGWLRMHLU.txt\n",
      "File: XAJMCPEWFNI.txt\n",
      "File: XFHJOTNPEJG.txt\n",
      "File: XHZPVUQTXIO.txt\n",
      "File: XJCWENFFGHB.txt\n",
      "File: XVMPVSVYKFR.txt\n",
      "File: YCESZHJDBXH.txt\n",
      "File: YDQFMWXOUMW.txt\n",
      "File: YQBIUHSUEVW.txt\n",
      "File: YQRNCMNFFHW.txt\n",
      "File: YYIZGBTQHZP.txt\n",
      "File: ZEZKKRBIZEB.txt\n",
      "File: ZKQJXAYKPVD.txt\n",
      "File: ZOWVXWPOGWP.txt\n",
      "File: ZXEZRQXZNPG.txt\n",
      "File: ZXIBJMPROKW.txt\n",
      "Folder: unzip_me_for_instructions/extracted_content/Two\n",
      "Subfolder: unzip_me_for_instructions/extracted_content/Two\n",
      "File: GKQBQRCTNNK.txt\n",
      "File: GMMQQUBMJNR.txt\n",
      "File: GQTJJORZBXY.txt\n",
      "File: GTOTCIWMDBY.txt\n",
      "File: GXYSEPAFRTP.txt\n",
      "File: HARDNJGDRBC.txt\n",
      "File: HEORIXOTANT.txt\n",
      "File: HMUTDOVNYTV.txt\n",
      "File: HMZXPBOPRAE.txt\n",
      "File: HTOHSTYXTCO.txt\n",
      "File: LCJZYDHBFRM.txt\n",
      "File: LSQSTGPIGIY.txt\n",
      "File: LULTNYAQEJG.txt\n",
      "File: LVMBINRBJXL.txt\n",
      "File: LYZEQCVYNEZ.txt\n",
      "File: OHZOUOSFJQC.txt\n",
      "File: OIHMLGMWTHL.txt\n",
      "File: OKWFOOYTXFU.txt\n",
      "File: OMWIMVRCMYM.txt\n",
      "File: OYMAGXAGWHJ.txt\n",
      "File: SIKFPPLCJDN.txt\n",
      "File: SJMJLDGPBSJ.txt\n",
      "File: SOFUJYXTIMK.txt\n",
      "File: SPDZYGDHEWO.txt\n",
      "File: SWOFXREEHWA.txt\n"
     ]
    }
   ],
   "source": [
    "import os\n",
    "import re\n",
    "\n",
    "phone_num = []\n",
    "for folder, subfolders, files in os.walk('unzip_me_for_instructions/extracted_content/'):\n",
    "    print(f'Folder: {folder}')\n",
    "    print(f'Subfolder: {folder}')\n",
    "    for f in files:\n",
    "        print(f\"File: {f}\")\n",
    "        with open(os.path.join(folder, f)) as text:\n",
    "            lines = text.readlines()\n",
    "\n",
    "            # get the phone numbers\n",
    "            pattern = r'\\d{3}-\\d{3}-\\d{4}'\n",
    "            matches = re.search(pattern,str(lines))\n",
    "            \n",
    "            # get the phone numbers in the loop\n",
    "            # I used a try block here because matches.group() throws an error if it's empty!\n",
    "            try:\n",
    "                phone_num.append(matches.group())\n",
    "            except:\n",
    "                continue"
   ]
  },
  {
   "cell_type": "code",
   "execution_count": 29,
   "metadata": {},
   "outputs": [
    {
     "name": "stdout",
     "output_type": "stream",
     "text": [
      "['719-266-2837']\n"
     ]
    }
   ],
   "source": [
    "print(phone_num)"
   ]
  },
  {
   "cell_type": "code",
   "execution_count": 39,
   "metadata": {},
   "outputs": [
    {
     "name": "stdout",
     "output_type": "stream",
     "text": [
      "Folder: unzip_me_for_instructions/extracted_content/\n",
      "Subfolder: unzip_me_for_instructions/extracted_content/\n",
      "File: Instructions.txt\n"
     ]
    },
    {
     "ename": "AttributeError",
     "evalue": "'str' object has no attribute 'group'",
     "output_type": "error",
     "traceback": [
      "\u001b[0;31m---------------------------------------------------------------------------\u001b[0m",
      "\u001b[0;31mAttributeError\u001b[0m                            Traceback (most recent call last)",
      "\u001b[0;32m/tmp/ipykernel_530/1499250855.py\u001b[0m in \u001b[0;36m<module>\u001b[0;34m\u001b[0m\n\u001b[1;32m     21\u001b[0m         \u001b[0mprint\u001b[0m\u001b[0;34m(\u001b[0m\u001b[0;34mf\"File: {f}\"\u001b[0m\u001b[0;34m)\u001b[0m\u001b[0;34m\u001b[0m\u001b[0;34m\u001b[0m\u001b[0m\n\u001b[1;32m     22\u001b[0m         \u001b[0mmatches\u001b[0m \u001b[0;34m=\u001b[0m \u001b[0mfind_phone_numbers\u001b[0m\u001b[0;34m(\u001b[0m\u001b[0mos\u001b[0m\u001b[0;34m.\u001b[0m\u001b[0mpath\u001b[0m\u001b[0;34m.\u001b[0m\u001b[0mjoin\u001b[0m\u001b[0;34m(\u001b[0m\u001b[0mfolder\u001b[0m\u001b[0;34m,\u001b[0m \u001b[0mf\u001b[0m\u001b[0;34m)\u001b[0m\u001b[0;34m)\u001b[0m\u001b[0;34m\u001b[0m\u001b[0;34m\u001b[0m\u001b[0m\n\u001b[0;32m---> 23\u001b[0;31m         \u001b[0mphone_num\u001b[0m\u001b[0;34m.\u001b[0m\u001b[0mappend\u001b[0m\u001b[0;34m(\u001b[0m\u001b[0mmatches\u001b[0m\u001b[0;34m.\u001b[0m\u001b[0mgroup\u001b[0m\u001b[0;34m(\u001b[0m\u001b[0;34m)\u001b[0m\u001b[0;34m)\u001b[0m\u001b[0;34m\u001b[0m\u001b[0;34m\u001b[0m\u001b[0m\n\u001b[0m",
      "\u001b[0;31mAttributeError\u001b[0m: 'str' object has no attribute 'group'"
     ]
    }
   ],
   "source": [
    "# OK, I forgot about creating functions! Here is another solution.\n",
    "\n",
    "import os\n",
    "import shutil\n",
    "import re\n",
    "\n",
    "def find_phone_numbers(file,pattern=r'\\d{3}-\\d{3}-\\d{4}'):\n",
    "    f = open(file,'r')\n",
    "    lines = f.read()\n",
    "    \n",
    "    if re.search(pattern,lines):\n",
    "        return re.search(pattern,lines)\n",
    "    else:\n",
    "        return ''\n",
    "    \n",
    "phone_num = []\n",
    "for folder, subfolders, files in os.walk('unzip_me_for_instructions/extracted_content/'):\n",
    "    print(f'Folder: {folder}')\n",
    "    print(f'Subfolder: {folder}')\n",
    "    for f in files:\n",
    "        print(f\"File: {f}\")\n",
    "        matches = find_phone_numbers(os.path.join(folder, f))\n",
    "        phone_num.append(matches.group())"
   ]
  },
  {
   "cell_type": "code",
   "execution_count": 37,
   "metadata": {},
   "outputs": [
    {
     "name": "stdout",
     "output_type": "stream",
     "text": [
      "['', '', '', '', '', '', '', '', '', '', '', '', '', '', '', '', '', '', '', '', '', '', '', '', '', '', '', <re.Match object; span=(1062, 1074), match='719-266-2837'>, '', '', '', '', '', '', '', '', '', '', '', '', '', '', '', '', '', '', '', '', '', '', '', '', '', '', '', '', '', '', '', '', '', '', '', '', '', '', '', '', '', '', '', '', '', '', '', '', '', '', '', '', '', '', '', '', '', '', '', '', '', '', '', '', '', '', '', '', '', '', '', '', '', '', '', '', '', '', '', '', '', '', '', '', '', '', '', '', '', '', '', '', '']\n"
     ]
    }
   ],
   "source": [
    "print(phone_num)"
   ]
  },
  {
   "cell_type": "code",
   "execution_count": null,
   "metadata": {},
   "outputs": [],
   "source": []
  }
 ],
 "metadata": {
  "anaconda-cloud": {},
  "kernelspec": {
   "display_name": "Python 3 (ipykernel)",
   "language": "python",
   "name": "python3"
  },
  "language_info": {
   "codemirror_mode": {
    "name": "ipython",
    "version": 3
   },
   "file_extension": ".py",
   "mimetype": "text/x-python",
   "name": "python",
   "nbconvert_exporter": "python",
   "pygments_lexer": "ipython3",
   "version": "3.8.10"
  }
 },
 "nbformat": 4,
 "nbformat_minor": 2
}
