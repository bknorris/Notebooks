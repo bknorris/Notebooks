{
 "cells": [
  {
   "cell_type": "markdown",
   "id": "7ea7ea00",
   "metadata": {},
   "source": [
    "# Webinar: Python for MATLAB Users\n",
    "\n",
    "Notes from the webinar on <a href=\"https://www.youtube.com/watch?v=YkCegjtoHFQ\">YouTube</a>"
   ]
  }
 ],
 "metadata": {
  "kernelspec": {
   "display_name": "Python 3 (ipykernel)",
   "language": "python",
   "name": "python3"
  },
  "language_info": {
   "codemirror_mode": {
    "name": "ipython",
    "version": 3
   },
   "file_extension": ".py",
   "mimetype": "text/x-python",
   "name": "python",
   "nbconvert_exporter": "python",
   "pygments_lexer": "ipython3",
   "version": "3.8.10"
  }
 },
 "nbformat": 4,
 "nbformat_minor": 5
}
