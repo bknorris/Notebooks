{
 "cells": [
  {
   "cell_type": "markdown",
   "id": "1566b34d",
   "metadata": {},
   "source": [
    "# Numpy"
   ]
  },
  {
   "cell_type": "markdown",
   "id": "ee86c97b",
   "metadata": {},
   "source": [
    "* Numpy arrays come in either vectors (1D) or matrices (2D).\n",
    "* Since this is my work computer, I have a conda application installed on Windows, and Python application installed on Ubuntu.\n",
    "* Note that for both distributions to work, I will need to either 'conda install...' or 'pip install...' packages in both places (conda=Windows, or python=Ubuntu)!"
   ]
  },
  {
   "cell_type": "markdown",
   "id": "fca45d68",
   "metadata": {},
   "source": [
    "## numpy arrays"
   ]
  },
  {
   "cell_type": "code",
   "execution_count": 3,
   "id": "f4baa981",
   "metadata": {},
   "outputs": [],
   "source": [
    "import numpy as np"
   ]
  },
  {
   "cell_type": "code",
   "execution_count": 4,
   "id": "a320362f",
   "metadata": {},
   "outputs": [],
   "source": [
    "# numpy arrays. Turn a list into an array object\n",
    "my_list = [1,2,3]\n",
    "array = np.array(my_list)"
   ]
  },
  {
   "cell_type": "code",
   "execution_count": 5,
   "id": "08e97c71",
   "metadata": {},
   "outputs": [],
   "source": [
    "# Create a 3x3 matrix\n",
    "my_mat = [[1,2,3],[4,5,6],[7,8,9]]\n",
    "mat = np.array(my_mat)"
   ]
  },
  {
   "cell_type": "code",
   "execution_count": 6,
   "id": "26465914",
   "metadata": {},
   "outputs": [],
   "source": [
    "# You can also just create arrays directly in numpy...\n",
    "array = np.arange(0,10,2) #0 to 10 non-inclusive and just even numbers"
   ]
  },
  {
   "cell_type": "code",
   "execution_count": 7,
   "id": "ab0a890f",
   "metadata": {},
   "outputs": [],
   "source": [
    "# Generate zeros\n",
    "zz = np.zeros((3,3)) #must insert a tuple. This is a 3x3 matrix of zeros."
   ]
  },
  {
   "cell_type": "code",
   "execution_count": 8,
   "id": "d9a719fd",
   "metadata": {},
   "outputs": [],
   "source": [
    "# Generate ones\n",
    "ones = np.ones((3,3))"
   ]
  },
  {
   "cell_type": "code",
   "execution_count": 9,
   "id": "afe9e7ef",
   "metadata": {},
   "outputs": [],
   "source": [
    "# linspace\n",
    "lin = np.linspace(0,2.5,10)"
   ]
  },
  {
   "cell_type": "code",
   "execution_count": 10,
   "id": "d082a542",
   "metadata": {},
   "outputs": [],
   "source": [
    "# Let's create an identity matrix\n",
    "iden = np.eye(3)"
   ]
  },
  {
   "cell_type": "code",
   "execution_count": 21,
   "id": "81f24837",
   "metadata": {},
   "outputs": [],
   "source": [
    "# Random number generators\n",
    "rand1d = np.random.rand(5) # 5x1 output\n",
    "rand2d = np.random.rand(5,5) # 5x5 output\n",
    "gauss = np.random.randn(2) #two numbers from a gauss dist.\n",
    "randint = np.random.randint(0,11,3) #3 random numbers from 0 to 10"
   ]
  },
  {
   "cell_type": "code",
   "execution_count": 23,
   "id": "7ec51e1c",
   "metadata": {},
   "outputs": [],
   "source": [
    "# Note, you can also import a function from numpy, e.g.,\n",
    "from numpy.random import randint"
   ]
  },
  {
   "cell_type": "code",
   "execution_count": 20,
   "id": "539c7522",
   "metadata": {},
   "outputs": [],
   "source": [
    "# Useful attributes of arrays\n",
    "arr = np.arange(25) # 1D array from 0 to 24\n",
    "randarr = np.random.randint(0,50,10)\n",
    "new_arr = arr.reshape(5,5) # reshape\n",
    "maximum = randarr.max() # returns max of array\n",
    "minimum = randarr.min() # returns min of array\n",
    "maxid = randarr.argmax() # returns index of maximum\n",
    "minid = randarr.argmin() # returns index of minimum"
   ]
  },
  {
   "cell_type": "code",
   "execution_count": 14,
   "id": "7f20fbdf",
   "metadata": {},
   "outputs": [
    {
     "data": {
      "text/plain": [
       "4"
      ]
     },
     "execution_count": 14,
     "metadata": {},
     "output_type": "execute_result"
    }
   ],
   "source": [
    "randarr[minid] # grab that value"
   ]
  },
  {
   "cell_type": "code",
   "execution_count": 15,
   "id": "7668f962",
   "metadata": {},
   "outputs": [
    {
     "data": {
      "text/plain": [
       "(25,)"
      ]
     },
     "execution_count": 15,
     "metadata": {},
     "output_type": "execute_result"
    }
   ],
   "source": [
    "# shape--note that it returns a tuple without another dim because it's 1D\n",
    "arr.shape"
   ]
  },
  {
   "cell_type": "code",
   "execution_count": 18,
   "id": "136cf7ca",
   "metadata": {},
   "outputs": [
    {
     "data": {
      "text/plain": [
       "(5, 5)"
      ]
     },
     "execution_count": 18,
     "metadata": {},
     "output_type": "execute_result"
    }
   ],
   "source": [
    "new_arr.shape"
   ]
  },
  {
   "cell_type": "code",
   "execution_count": 19,
   "id": "a58a2437",
   "metadata": {},
   "outputs": [
    {
     "data": {
      "text/plain": [
       "dtype('int64')"
      ]
     },
     "execution_count": 19,
     "metadata": {},
     "output_type": "execute_result"
    }
   ],
   "source": [
    "# Check array data types! Note Spyder also shows this information. \n",
    "arr.dtype"
   ]
  },
  {
   "cell_type": "markdown",
   "id": "73c7cafd",
   "metadata": {},
   "source": [
    "## numpy array indexing"
   ]
  },
  {
   "cell_type": "code",
   "execution_count": 24,
   "id": "40581669",
   "metadata": {},
   "outputs": [],
   "source": [
    "arr = np.arange(0,11) # lets make a new array"
   ]
  },
  {
   "cell_type": "code",
   "execution_count": 25,
   "id": "2ea68b13",
   "metadata": {},
   "outputs": [
    {
     "data": {
      "text/plain": [
       "1"
      ]
     },
     "execution_count": 25,
     "metadata": {},
     "output_type": "execute_result"
    }
   ],
   "source": [
    "# grab an element\n",
    "arr[1]"
   ]
  },
  {
   "cell_type": "code",
   "execution_count": 26,
   "id": "e6f74a5e",
   "metadata": {},
   "outputs": [
    {
     "data": {
      "text/plain": [
       "array([1, 2])"
      ]
     },
     "execution_count": 26,
     "metadata": {},
     "output_type": "execute_result"
    }
   ],
   "source": [
    "# you can slice too\n",
    "arr[1:3]"
   ]
  },
  {
   "cell_type": "code",
   "execution_count": 28,
   "id": "21b2cf82",
   "metadata": {},
   "outputs": [
    {
     "name": "stdout",
     "output_type": "stream",
     "text": [
      "[  0   1   2   3 100 100   6   7   8   9  10]\n"
     ]
    }
   ],
   "source": [
    "# reassign values\n",
    "arr[4:6] = 100\n",
    "print(arr)"
   ]
  },
  {
   "cell_type": "code",
   "execution_count": 29,
   "id": "c318a02e",
   "metadata": {},
   "outputs": [],
   "source": [
    "# copy an array to a new variable... you need to use the copy method!\n",
    "arr_copy = arr.copy()"
   ]
  },
  {
   "cell_type": "code",
   "execution_count": 30,
   "id": "afc3f2fa",
   "metadata": {},
   "outputs": [
    {
     "data": {
      "text/plain": [
       "array([  0,   1,   2,   3, 100, 100,   6,   7,   8,   9,  10])"
      ]
     },
     "execution_count": 30,
     "metadata": {},
     "output_type": "execute_result"
    }
   ],
   "source": [
    "arr_copy[:]"
   ]
  },
  {
   "cell_type": "markdown",
   "id": "df326264",
   "metadata": {},
   "source": [
    "The basic premise is that if you slice an array without specifying the <code>copy</code> method, then numpy will just reference the old array and make changes to it. If you want to reassign an array to a new value, you must use <code>copy</code>."
   ]
  },
  {
   "cell_type": "code",
   "execution_count": 32,
   "id": "e347ddcd",
   "metadata": {},
   "outputs": [
    {
     "name": "stdout",
     "output_type": "stream",
     "text": [
      "[99 99 99]\n",
      "[  0  99  99  99 100 100   6   7   8   9  10]\n"
     ]
    }
   ],
   "source": [
    "#e.g, \n",
    "arr_slice = arr[1:4]\n",
    "arr_slice[:] = 99\n",
    "print(arr_slice)\n",
    "print(arr)"
   ]
  },
  {
   "cell_type": "code",
   "execution_count": 34,
   "id": "1f10cd0a",
   "metadata": {},
   "outputs": [],
   "source": [
    "arr_2d = np.array([[3,4,5],[1,2,3],[6,7,8]])"
   ]
  },
  {
   "cell_type": "code",
   "execution_count": 35,
   "id": "bbe8cd20",
   "metadata": {},
   "outputs": [
    {
     "data": {
      "text/plain": [
       "5"
      ]
     },
     "execution_count": 35,
     "metadata": {},
     "output_type": "execute_result"
    }
   ],
   "source": [
    "# get some values by indexing\n",
    "arr_2d[0,2]"
   ]
  },
  {
   "cell_type": "code",
   "execution_count": 37,
   "id": "54f19ec0",
   "metadata": {},
   "outputs": [
    {
     "data": {
      "text/plain": [
       "array([[4, 5],\n",
       "       [2, 3]])"
      ]
     },
     "execution_count": 37,
     "metadata": {},
     "output_type": "execute_result"
    }
   ],
   "source": [
    "arr_2d[0:2,1:3]"
   ]
  },
  {
   "cell_type": "code",
   "execution_count": 38,
   "id": "e5ae7f6f",
   "metadata": {},
   "outputs": [
    {
     "data": {
      "text/plain": [
       "array([False, False, False, False, False, False,  True,  True,  True,\n",
       "        True])"
      ]
     },
     "execution_count": 38,
     "metadata": {},
     "output_type": "execute_result"
    }
   ],
   "source": [
    "# You can also index by booleans, e.g, \n",
    "arr = np.arange(0,10)\n",
    "arr > 5"
   ]
  },
  {
   "cell_type": "code",
   "execution_count": 39,
   "id": "45db3327",
   "metadata": {},
   "outputs": [
    {
     "data": {
      "text/plain": [
       "array([6, 7, 8, 9])"
      ]
     },
     "execution_count": 39,
     "metadata": {},
     "output_type": "execute_result"
    }
   ],
   "source": [
    "# and return those values, e.g.\n",
    "arr[arr > 5]"
   ]
  },
  {
   "cell_type": "markdown",
   "id": "245d8f22",
   "metadata": {},
   "source": [
    "## numpy operations"
   ]
  },
  {
   "cell_type": "code",
   "execution_count": null,
   "id": "913ba289",
   "metadata": {},
   "outputs": [],
   "source": []
  }
 ],
 "metadata": {
  "kernelspec": {
   "display_name": "Python 3 (ipykernel)",
   "language": "python",
   "name": "python3"
  },
  "language_info": {
   "codemirror_mode": {
    "name": "ipython",
    "version": 3
   },
   "file_extension": ".py",
   "mimetype": "text/x-python",
   "name": "python",
   "nbconvert_exporter": "python",
   "pygments_lexer": "ipython3",
   "version": "3.8.10"
  }
 },
 "nbformat": 4,
 "nbformat_minor": 5
}
