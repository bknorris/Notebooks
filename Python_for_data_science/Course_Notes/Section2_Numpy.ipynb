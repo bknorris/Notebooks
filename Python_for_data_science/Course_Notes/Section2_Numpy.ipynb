{
 "cells": [
  {
   "cell_type": "markdown",
   "id": "b7a07a04",
   "metadata": {},
   "source": [
    "# Numpy"
   ]
  },
  {
   "cell_type": "markdown",
   "id": "2f8b90f0",
   "metadata": {},
   "source": [
    "* Numpy arrays come in either vectors (1D) or matrices (2D).\n",
    "* Since this is my work computer, I have a conda application installed on Windows, and Python application installed on Ubuntu.\n",
    "* Note that for both distributions to work, I will need to either 'conda install...' or 'pip install...' packages in both places (conda=Windows, or python=Ubuntu)!"
   ]
  },
  {
   "cell_type": "markdown",
   "id": "3c0eca09",
   "metadata": {},
   "source": [
    "## numpy arrays"
   ]
  },
  {
   "cell_type": "code",
   "execution_count": 3,
   "id": "1360364a",
   "metadata": {},
   "outputs": [],
   "source": [
    "import numpy as np"
   ]
  },
  {
   "cell_type": "code",
   "execution_count": 4,
   "id": "e7c14e87",
   "metadata": {},
   "outputs": [],
   "source": [
    "# numpy arrays. Turn a list into an array object\n",
    "my_list = [1,2,3]\n",
    "array = np.array(my_list)"
   ]
  },
  {
   "cell_type": "code",
   "execution_count": 5,
   "id": "ffa0392a",
   "metadata": {},
   "outputs": [],
   "source": [
    "# Create a 3x3 matrix\n",
    "my_mat = [[1,2,3],[4,5,6],[7,8,9]]\n",
    "mat = np.array(my_mat)"
   ]
  },
  {
   "cell_type": "code",
   "execution_count": 6,
   "id": "b849f545",
   "metadata": {},
   "outputs": [],
   "source": [
    "# You can also just create arrays directly in numpy...\n",
    "array = np.arange(0,10,2) #0 to 10 non-inclusive and just even numbers"
   ]
  },
  {
   "cell_type": "code",
   "execution_count": 7,
   "id": "ae7db968",
   "metadata": {},
   "outputs": [],
   "source": [
    "# Generate zeros\n",
    "zz = np.zeros((3,3)) #must insert a tuple. This is a 3x3 matrix of zeros."
   ]
  },
  {
   "cell_type": "code",
   "execution_count": 8,
   "id": "54187833",
   "metadata": {},
   "outputs": [],
   "source": [
    "# Generate ones\n",
    "ones = np.ones((3,3))"
   ]
  },
  {
   "cell_type": "code",
   "execution_count": 9,
   "id": "b97ad342",
   "metadata": {},
   "outputs": [],
   "source": [
    "# linspace\n",
    "lin = np.linspace(0,2.5,10)"
   ]
  },
  {
   "cell_type": "code",
   "execution_count": 10,
   "id": "82337709",
   "metadata": {},
   "outputs": [],
   "source": [
    "# Let's create an identity matrix\n",
    "iden = np.eye(3)"
   ]
  },
  {
   "cell_type": "code",
   "execution_count": 21,
   "id": "660de76b",
   "metadata": {},
   "outputs": [],
   "source": [
    "# Random number generators\n",
    "rand1d = np.random.rand(5) # 5x1 output\n",
    "rand2d = np.random.rand(5,5) # 5x5 output\n",
    "gauss = np.random.randn(2) #two numbers from a gauss dist.\n",
    "randint = np.random.randint(0,11,3) #3 random numbers from 0 to 10"
   ]
  },
  {
   "cell_type": "code",
   "execution_count": 23,
   "id": "1682de37",
   "metadata": {},
   "outputs": [],
   "source": [
    "# Note, you can also import a function from numpy, e.g.,\n",
    "from numpy.random import randint"
   ]
  },
  {
   "cell_type": "code",
   "execution_count": 20,
   "id": "3ac6238e",
   "metadata": {},
   "outputs": [],
   "source": [
    "# Useful attributes of arrays\n",
    "arr = np.arange(25) # 1D array from 0 to 24\n",
    "randarr = np.random.randint(0,50,10)\n",
    "new_arr = arr.reshape(5,5) # reshape\n",
    "maximum = randarr.max() # returns max of array\n",
    "minimum = randarr.min() # returns min of array\n",
    "maxid = randarr.argmax() # returns index of maximum\n",
    "minid = randarr.argmin() # returns index of minimum"
   ]
  },
  {
   "cell_type": "code",
   "execution_count": 14,
   "id": "59b6abee",
   "metadata": {},
   "outputs": [
    {
     "data": {
      "text/plain": [
       "4"
      ]
     },
     "execution_count": 14,
     "metadata": {},
     "output_type": "execute_result"
    }
   ],
   "source": [
    "randarr[minid] # grab that value"
   ]
  },
  {
   "cell_type": "code",
   "execution_count": 15,
   "id": "c9c0bd2b",
   "metadata": {},
   "outputs": [
    {
     "data": {
      "text/plain": [
       "(25,)"
      ]
     },
     "execution_count": 15,
     "metadata": {},
     "output_type": "execute_result"
    }
   ],
   "source": [
    "# shape--note that it returns a tuple without another dim because it's 1D\n",
    "arr.shape"
   ]
  },
  {
   "cell_type": "code",
   "execution_count": 18,
   "id": "dd1fe577",
   "metadata": {},
   "outputs": [
    {
     "data": {
      "text/plain": [
       "(5, 5)"
      ]
     },
     "execution_count": 18,
     "metadata": {},
     "output_type": "execute_result"
    }
   ],
   "source": [
    "new_arr.shape"
   ]
  },
  {
   "cell_type": "code",
   "execution_count": 19,
   "id": "83754dce",
   "metadata": {},
   "outputs": [
    {
     "data": {
      "text/plain": [
       "dtype('int64')"
      ]
     },
     "execution_count": 19,
     "metadata": {},
     "output_type": "execute_result"
    }
   ],
   "source": [
    "# Check array data types! Note Spyder also shows this information. \n",
    "arr.dtype"
   ]
  },
  {
   "cell_type": "markdown",
   "id": "24cc84e9",
   "metadata": {},
   "source": [
    "## numpy array indexing"
   ]
  },
  {
   "cell_type": "code",
   "execution_count": 24,
   "id": "37ba7c86",
   "metadata": {},
   "outputs": [],
   "source": [
    "arr = np.arange(0,11) # lets make a new array"
   ]
  },
  {
   "cell_type": "code",
   "execution_count": 25,
   "id": "bec4b127",
   "metadata": {},
   "outputs": [
    {
     "data": {
      "text/plain": [
       "1"
      ]
     },
     "execution_count": 25,
     "metadata": {},
     "output_type": "execute_result"
    }
   ],
   "source": [
    "# grab an element\n",
    "arr[1]"
   ]
  },
  {
   "cell_type": "code",
   "execution_count": 26,
   "id": "70dd3734",
   "metadata": {},
   "outputs": [
    {
     "data": {
      "text/plain": [
       "array([1, 2])"
      ]
     },
     "execution_count": 26,
     "metadata": {},
     "output_type": "execute_result"
    }
   ],
   "source": [
    "# you can slice too\n",
    "arr[1:3]"
   ]
  },
  {
   "cell_type": "code",
   "execution_count": 28,
   "id": "226a209a",
   "metadata": {},
   "outputs": [
    {
     "name": "stdout",
     "output_type": "stream",
     "text": [
      "[  0   1   2   3 100 100   6   7   8   9  10]\n"
     ]
    }
   ],
   "source": [
    "# reassign values\n",
    "arr[4:6] = 100\n",
    "print(arr)"
   ]
  },
  {
   "cell_type": "code",
   "execution_count": 29,
   "id": "352e57cf",
   "metadata": {},
   "outputs": [],
   "source": [
    "# copy an array to a new variable... you need to use the copy method!\n",
    "arr_copy = arr.copy()"
   ]
  },
  {
   "cell_type": "code",
   "execution_count": 30,
   "id": "89e86bab",
   "metadata": {},
   "outputs": [
    {
     "data": {
      "text/plain": [
       "array([  0,   1,   2,   3, 100, 100,   6,   7,   8,   9,  10])"
      ]
     },
     "execution_count": 30,
     "metadata": {},
     "output_type": "execute_result"
    }
   ],
   "source": [
    "arr_copy[:]"
   ]
  },
  {
   "cell_type": "markdown",
   "id": "5a4f7dae",
   "metadata": {},
   "source": [
    "The basic premise is that if you slice an array without specifying the <code>copy</code> method, then numpy will just reference the old array and make changes to it. If you want to reassign an array to a new value, you must use <code>copy</code>."
   ]
  },
  {
   "cell_type": "code",
   "execution_count": 32,
   "id": "c4f3f192",
   "metadata": {},
   "outputs": [
    {
     "name": "stdout",
     "output_type": "stream",
     "text": [
      "[99 99 99]\n",
      "[  0  99  99  99 100 100   6   7   8   9  10]\n"
     ]
    }
   ],
   "source": [
    "#e.g, \n",
    "arr_slice = arr[1:4]\n",
    "arr_slice[:] = 99\n",
    "print(arr_slice)\n",
    "print(arr)"
   ]
  },
  {
   "cell_type": "code",
   "execution_count": 34,
   "id": "581f0d0e",
   "metadata": {},
   "outputs": [],
   "source": [
    "arr_2d = np.array([[3,4,5],[1,2,3],[6,7,8]])"
   ]
  },
  {
   "cell_type": "code",
   "execution_count": 35,
   "id": "fc495ea8",
   "metadata": {},
   "outputs": [
    {
     "data": {
      "text/plain": [
       "5"
      ]
     },
     "execution_count": 35,
     "metadata": {},
     "output_type": "execute_result"
    }
   ],
   "source": [
    "# get some values by indexing\n",
    "arr_2d[0,2]"
   ]
  },
  {
   "cell_type": "code",
   "execution_count": 37,
   "id": "340aeb4c",
   "metadata": {},
   "outputs": [
    {
     "data": {
      "text/plain": [
       "array([[4, 5],\n",
       "       [2, 3]])"
      ]
     },
     "execution_count": 37,
     "metadata": {},
     "output_type": "execute_result"
    }
   ],
   "source": [
    "arr_2d[0:2,1:3]"
   ]
  },
  {
   "cell_type": "code",
   "execution_count": 38,
   "id": "94fd56cb",
   "metadata": {},
   "outputs": [
    {
     "data": {
      "text/plain": [
       "array([False, False, False, False, False, False,  True,  True,  True,\n",
       "        True])"
      ]
     },
     "execution_count": 38,
     "metadata": {},
     "output_type": "execute_result"
    }
   ],
   "source": [
    "# You can also index by booleans, e.g, \n",
    "arr = np.arange(0,10)\n",
    "arr > 5"
   ]
  },
  {
   "cell_type": "code",
   "execution_count": 39,
   "id": "3a6053f7",
   "metadata": {},
   "outputs": [
    {
     "data": {
      "text/plain": [
       "array([6, 7, 8, 9])"
      ]
     },
     "execution_count": 39,
     "metadata": {},
     "output_type": "execute_result"
    }
   ],
   "source": [
    "# and return those values, e.g.\n",
    "arr[arr > 5]"
   ]
  },
  {
   "cell_type": "markdown",
   "id": "4512a069",
   "metadata": {},
   "source": [
    "## numpy operations\n",
    "\n",
    "Numpy comes with many universal array functions, which are essentially just mathematical operations you can use to perform the operation across the array. Let's show some common ones:"
   ]
  },
  {
   "cell_type": "code",
   "execution_count": 41,
   "id": "8b2e4840",
   "metadata": {},
   "outputs": [],
   "source": [
    "arr = np.arange(0,11)"
   ]
  },
  {
   "cell_type": "code",
   "execution_count": 42,
   "id": "49bb45c1",
   "metadata": {},
   "outputs": [
    {
     "data": {
      "text/plain": [
       "array([ 0,  2,  4,  6,  8, 10, 12, 14, 16, 18, 20])"
      ]
     },
     "execution_count": 42,
     "metadata": {},
     "output_type": "execute_result"
    }
   ],
   "source": [
    "# element to element addition\n",
    "arr + arr"
   ]
  },
  {
   "cell_type": "code",
   "execution_count": 44,
   "id": "7aaa3621",
   "metadata": {},
   "outputs": [
    {
     "data": {
      "text/plain": [
       "array([ 0,  4,  8, 12, 16, 20, 24, 28, 32, 36, 40])"
      ]
     },
     "execution_count": 44,
     "metadata": {},
     "output_type": "execute_result"
    }
   ],
   "source": [
    "# array with scalar operation\n",
    "arr*4"
   ]
  },
  {
   "cell_type": "code",
   "execution_count": 46,
   "id": "6003a4ed",
   "metadata": {},
   "outputs": [
    {
     "name": "stderr",
     "output_type": "stream",
     "text": [
      "/tmp/ipykernel_572/70759604.py:3: RuntimeWarning: invalid value encountered in true_divide\n",
      "  arr / arr\n"
     ]
    },
    {
     "data": {
      "text/plain": [
       "array([nan,  1.,  1.,  1.,  1.,  1.,  1.,  1.,  1.,  1.,  1.])"
      ]
     },
     "execution_count": 46,
     "metadata": {},
     "output_type": "execute_result"
    }
   ],
   "source": [
    "# note numpy doens't throw an error if you try to divide by zero...\n",
    "# it throws a nan when num/0\n",
    "arr / arr"
   ]
  },
  {
   "cell_type": "code",
   "execution_count": 48,
   "id": "aabb1502",
   "metadata": {},
   "outputs": [
    {
     "data": {
      "text/plain": [
       "array([0.        , 1.        , 1.41421356, 1.73205081, 2.        ,\n",
       "       2.23606798, 2.44948974, 2.64575131, 2.82842712, 3.        ,\n",
       "       3.16227766])"
      ]
     },
     "execution_count": 48,
     "metadata": {},
     "output_type": "execute_result"
    }
   ],
   "source": [
    "# Universal array functions\n",
    "np.sqrt(arr)"
   ]
  },
  {
   "cell_type": "code",
   "execution_count": 49,
   "id": "9cfd38a8",
   "metadata": {},
   "outputs": [
    {
     "data": {
      "text/plain": [
       "array([1.00000000e+00, 2.71828183e+00, 7.38905610e+00, 2.00855369e+01,\n",
       "       5.45981500e+01, 1.48413159e+02, 4.03428793e+02, 1.09663316e+03,\n",
       "       2.98095799e+03, 8.10308393e+03, 2.20264658e+04])"
      ]
     },
     "execution_count": 49,
     "metadata": {},
     "output_type": "execute_result"
    }
   ],
   "source": [
    "np.exp(arr)"
   ]
  },
  {
   "cell_type": "code",
   "execution_count": 51,
   "id": "bd34058c",
   "metadata": {},
   "outputs": [
    {
     "data": {
      "text/plain": [
       "10"
      ]
     },
     "execution_count": 51,
     "metadata": {},
     "output_type": "execute_result"
    }
   ],
   "source": [
    "np.max(arr)\n",
    "arr.max()"
   ]
  },
  {
   "cell_type": "markdown",
   "id": "ae75b640",
   "metadata": {},
   "source": [
    "Check out http://docs.scipy.org/doc/numpy/reference/ufuncs.html for more details."
   ]
  }
 ],
 "metadata": {
  "kernelspec": {
   "display_name": "Python 3 (ipykernel)",
   "language": "python",
   "name": "python3"
  },
  "language_info": {
   "codemirror_mode": {
    "name": "ipython",
    "version": 3
   },
   "file_extension": ".py",
   "mimetype": "text/x-python",
   "name": "python",
   "nbconvert_exporter": "python",
   "pygments_lexer": "ipython3",
   "version": "3.8.10"
  }
 },
 "nbformat": 4,
 "nbformat_minor": 5
}
